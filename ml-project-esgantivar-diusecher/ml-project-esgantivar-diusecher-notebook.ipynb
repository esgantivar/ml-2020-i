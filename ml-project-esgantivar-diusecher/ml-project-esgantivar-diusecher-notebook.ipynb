{
  "nbformat": 4,
  "nbformat_minor": 0,
  "metadata": {
    "colab": {
      "name": "ml-finalproject-esgantivar-diusecher.ipynb",
      "provenance": [],
      "collapsed_sections": [
        "HLDxC1MjEFeb",
        "HJ3_t9bTEOaC",
        "HD0-SfuPPDmu",
        "4Bx9jtq1rO9E",
        "OyIlRVDmEtwk",
        "kt6kFcFLTYDA",
        "LE7DNTzgUyaQ"
      ],
      "toc_visible": true
    },
    "kernelspec": {
      "name": "python3",
      "display_name": "Python 3"
    }
  },
  "cells": [
    {
      "cell_type": "markdown",
      "metadata": {
        "id": "8FHRS9Xtj5En",
        "colab_type": "text"
      },
      "source": [
        "# **Final Project, Machine Learning 2020**\n",
        "\n",
        "> Diego Useche Reyes, diusecher@unal.edu.co\n",
        "\n",
        "> Sneyder Gantiva, esgantivar@unal.edu.co\n",
        "\n",
        "Advisor, PhD Fabio A. Gonzalez\n",
        "\n"
      ]
    },
    {
      "cell_type": "markdown",
      "metadata": {
        "id": "q-D_ce-rSBwb",
        "colab_type": "text"
      },
      "source": [
        "## Abstract\n",
        "\n",
        "There is an increasing need for more robust, efficient and with less complexity algorithms in Machine Learning. In the following  work  we  present  a  modern  approach  to  ML  based  on Tensor Networks, which have been historically applied to physics and  more  recently  to  machine  learning.  The  aim  of  the  present article  is  to  show  how  to  do  supervised  learning  of  images  and texts  with  the  MPS  Tensor  Network,  we  apply  this  network  to three data sets of images and texts; the MNIST data set, a dataset  of  Spanish  and  English  words,  and  the  Multimodal  IMDb(MM-IMDb)  dataset."
      ]
    },
    {
      "cell_type": "markdown",
      "metadata": {
        "id": "MdptOYz9AveI",
        "colab_type": "text"
      },
      "source": [
        "## References\n",
        "\n",
        "[TensorNetwork for Machine Learning](https://arxiv.org/pdf/1906.06329.pdf)\n",
        "\n",
        "[Supervised Learning With Quantum-Inspired Tensor Networks](https://arxiv.org/pdf/1605.05775.pdf)\n",
        "\n",
        "[Mobilenet Feature Extraction](https://www.kaggle.com/gopalrahulrg/mobilenet-feature-extraction)\n",
        "\n",
        "[Gated multimodal units for information fusion](https://arxiv.org/pdf/1702.01992.pdf)"
      ]
    },
    {
      "cell_type": "markdown",
      "metadata": {
        "id": "ejfjvjMyr7y3",
        "colab_type": "text"
      },
      "source": [
        ""
      ]
    },
    {
      "cell_type": "markdown",
      "metadata": {
        "colab_type": "text",
        "id": "6GaMMRDbHDs1"
      },
      "source": [
        "## Link Video poster\n",
        "\n",
        "* [Link Youtube](https://youtu.be/inJ0S1eHGPU)\n",
        "\n",
        "* [Link Google Drive](https://drive.google.com/file/d/1dC-A_hgwZRw5HMGiwDYfSHVL_kX29U4E/view?usp=sharing)"
      ]
    },
    {
      "cell_type": "code",
      "metadata": {
        "colab_type": "code",
        "id": "dAOtFtqfF8ba",
        "colab": {
          "base_uri": "https://localhost:8080/",
          "height": 51
        },
        "outputId": "f1d08f14-af3d-48d1-e4b3-5d4218244231"
      },
      "source": [
        "# Setup the GPU\n",
        "!nvidia-smi"
      ],
      "execution_count": null,
      "outputs": [
        {
          "output_type": "stream",
          "text": [
            "NVIDIA-SMI has failed because it couldn't communicate with the NVIDIA driver. Make sure that the latest NVIDIA driver is installed and running.\n",
            "\n"
          ],
          "name": "stdout"
        }
      ]
    },
    {
      "cell_type": "markdown",
      "metadata": {
        "id": "4yl1bBNQYzOu",
        "colab_type": "text"
      },
      "source": [
        "## Mount Google Drive"
      ]
    },
    {
      "cell_type": "markdown",
      "metadata": {
        "id": "qcAR83y7UopN",
        "colab_type": "text"
      },
      "source": [
        "Mount Google Drive"
      ]
    },
    {
      "cell_type": "code",
      "metadata": {
        "id": "6wJYWE1nUlre",
        "colab_type": "code",
        "colab": {
          "base_uri": "https://localhost:8080/",
          "height": 122
        },
        "outputId": "14dc67f4-f0bf-444c-803d-c6ced9053fa5"
      },
      "source": [
        "from google.colab import drive\n",
        "drive.mount('/content/drive')"
      ],
      "execution_count": null,
      "outputs": [
        {
          "output_type": "stream",
          "text": [
            "Go to this URL in a browser: https://accounts.google.com/o/oauth2/auth?client_id=947318989803-6bn6qk8qdgf4n4g3pfee6491hc0brc4i.apps.googleusercontent.com&redirect_uri=urn%3aietf%3awg%3aoauth%3a2.0%3aoob&response_type=code&scope=email%20https%3a%2f%2fwww.googleapis.com%2fauth%2fdocs.test%20https%3a%2f%2fwww.googleapis.com%2fauth%2fdrive%20https%3a%2f%2fwww.googleapis.com%2fauth%2fdrive.photos.readonly%20https%3a%2f%2fwww.googleapis.com%2fauth%2fpeopleapi.readonly\n",
            "\n",
            "Enter your authorization code:\n",
            "··········\n",
            "Mounted at /content/drive\n"
          ],
          "name": "stdout"
        }
      ]
    },
    {
      "cell_type": "code",
      "metadata": {
        "id": "6wFNzsPi7ZFn",
        "colab_type": "code",
        "colab": {}
      },
      "source": [
        "!cp \"/content/drive/My Drive/ml/mmimdb_mps_vgg16_128_128_3.hdf5\" ."
      ],
      "execution_count": null,
      "outputs": []
    },
    {
      "cell_type": "markdown",
      "metadata": {
        "id": "4pTYuG6NAloX",
        "colab_type": "text"
      },
      "source": [
        "## Libraries"
      ]
    },
    {
      "cell_type": "code",
      "metadata": {
        "id": "fOtjwFHVSA26",
        "colab_type": "code",
        "colab": {}
      },
      "source": [
        "import pandas as pd\n",
        "import numpy as np\n",
        "from sklearn.model_selection import train_test_split\n",
        "from sklearn.feature_extraction.text import CountVectorizer\n",
        "from sklearn import svm\n",
        "import matplotlib.pyplot as plt\n",
        "import h5py\n",
        "from tensorflow.keras.layers import Dense\n",
        "from sklearn.metrics import f1_score\n",
        "from time import time"
      ],
      "execution_count": null,
      "outputs": []
    },
    {
      "cell_type": "code",
      "metadata": {
        "id": "vQuDFOCtkv0e",
        "colab_type": "code",
        "colab": {
          "base_uri": "https://localhost:8080/",
          "height": 85
        },
        "outputId": "14fe25be-c7f2-4cbc-cdc8-7d26ea0e2c55"
      },
      "source": [
        "%%time\n",
        "import numpy as np\n",
        "import tensorflow as tf\n",
        "from tensorflow.keras import layers\n",
        "from tensorflow.keras import activations\n",
        "from tensorflow.keras.models import Sequential\n",
        "\n",
        "print(tf.__version__)\n",
        "print(tf.config.list_logical_devices())"
      ],
      "execution_count": null,
      "outputs": [
        {
          "output_type": "stream",
          "text": [
            "2.2.0\n",
            "[LogicalDevice(name='/device:CPU:0', device_type='CPU'), LogicalDevice(name='/device:XLA_CPU:0', device_type='XLA_CPU')]\n",
            "CPU times: user 15 ms, sys: 9.73 ms, total: 24.7 ms\n",
            "Wall time: 151 ms\n"
          ],
          "name": "stdout"
        }
      ]
    },
    {
      "cell_type": "code",
      "metadata": {
        "id": "v4BaM1yLqRgw",
        "colab_type": "code",
        "colab": {
          "base_uri": "https://localhost:8080/",
          "height": 564
        },
        "outputId": "9848136d-23da-4f0e-afee-c9abc77fb42e"
      },
      "source": [
        "# from fuel.datasets import H5PYDataset\n",
        "!pip install git+git://github.com/mila-udem/fuel.git\n",
        "from fuel.datasets.hdf5 import H5PYDataset"
      ],
      "execution_count": null,
      "outputs": [
        {
          "output_type": "stream",
          "text": [
            "Collecting git+git://github.com/mila-udem/fuel.git\n",
            "  Cloning git://github.com/mila-udem/fuel.git to /tmp/pip-req-build-7buy4sa6\n",
            "  Running command git clone -q git://github.com/mila-udem/fuel.git /tmp/pip-req-build-7buy4sa6\n",
            "Requirement already satisfied: numpy in /usr/local/lib/python3.6/dist-packages (from fuel==0.2.0) (1.18.5)\n",
            "Requirement already satisfied: six in /usr/local/lib/python3.6/dist-packages (from fuel==0.2.0) (1.12.0)\n",
            "Collecting picklable_itertools\n",
            "  Downloading https://files.pythonhosted.org/packages/75/bc/cda9191f0c92960ede6aa95e364443965246385faf62775cc30749931c2c/picklable-itertools-0.1.1.tar.gz\n",
            "Requirement already satisfied: pyyaml in /usr/local/lib/python3.6/dist-packages (from fuel==0.2.0) (3.13)\n",
            "Requirement already satisfied: h5py in /usr/local/lib/python3.6/dist-packages (from fuel==0.2.0) (2.10.0)\n",
            "Requirement already satisfied: tables in /usr/local/lib/python3.6/dist-packages (from fuel==0.2.0) (3.4.4)\n",
            "Requirement already satisfied: progressbar2 in /usr/local/lib/python3.6/dist-packages (from fuel==0.2.0) (3.38.0)\n",
            "Requirement already satisfied: pyzmq in /usr/local/lib/python3.6/dist-packages (from fuel==0.2.0) (19.0.1)\n",
            "Requirement already satisfied: scipy in /usr/local/lib/python3.6/dist-packages (from fuel==0.2.0) (1.4.1)\n",
            "Requirement already satisfied: pillow>=3.3.2 in /usr/local/lib/python3.6/dist-packages (from fuel==0.2.0) (7.0.0)\n",
            "Requirement already satisfied: requests in /usr/local/lib/python3.6/dist-packages (from fuel==0.2.0) (2.23.0)\n",
            "Requirement already satisfied: numexpr>=2.5.2 in /usr/local/lib/python3.6/dist-packages (from tables->fuel==0.2.0) (2.7.1)\n",
            "Requirement already satisfied: python-utils>=2.3.0 in /usr/local/lib/python3.6/dist-packages (from progressbar2->fuel==0.2.0) (2.4.0)\n",
            "Requirement already satisfied: chardet<4,>=3.0.2 in /usr/local/lib/python3.6/dist-packages (from requests->fuel==0.2.0) (3.0.4)\n",
            "Requirement already satisfied: urllib3!=1.25.0,!=1.25.1,<1.26,>=1.21.1 in /usr/local/lib/python3.6/dist-packages (from requests->fuel==0.2.0) (1.24.3)\n",
            "Requirement already satisfied: certifi>=2017.4.17 in /usr/local/lib/python3.6/dist-packages (from requests->fuel==0.2.0) (2020.6.20)\n",
            "Requirement already satisfied: idna<3,>=2.5 in /usr/local/lib/python3.6/dist-packages (from requests->fuel==0.2.0) (2.10)\n",
            "Building wheels for collected packages: fuel, picklable-itertools\n",
            "  Building wheel for fuel (setup.py) ... \u001b[?25l\u001b[?25hdone\n",
            "  Created wheel for fuel: filename=fuel-0.2.0-cp36-cp36m-linux_x86_64.whl size=388256 sha256=dc89f159a10a06dd26bb83d7e3f17a72a2cb856202c958bd432a1c6df1b78ed9\n",
            "  Stored in directory: /tmp/pip-ephem-wheel-cache-y2lpi85y/wheels/f4/82/90/806cc19722961b5dce092732e97da11e470732a707ad263f9c\n",
            "  Building wheel for picklable-itertools (setup.py) ... \u001b[?25l\u001b[?25hdone\n",
            "  Created wheel for picklable-itertools: filename=picklable_itertools-0.1.1-cp36-none-any.whl size=15591 sha256=1cd7acf8482da6002900c76890ccc8582bde02b53623f7c7e5319fd2ff0affb3\n",
            "  Stored in directory: /root/.cache/pip/wheels/36/dd/e2/ec30ef7c475e1d9fb966735984ba05f8710c67d7de5358c326\n",
            "Successfully built fuel picklable-itertools\n",
            "Installing collected packages: picklable-itertools, fuel\n",
            "Successfully installed fuel-0.2.0 picklable-itertools-0.1.1\n"
          ],
          "name": "stdout"
        }
      ]
    },
    {
      "cell_type": "markdown",
      "metadata": {
        "id": "bix63WxkNiae",
        "colab_type": "text"
      },
      "source": [
        "## Utils Functions"
      ]
    },
    {
      "cell_type": "code",
      "metadata": {
        "id": "mp2AdqPlNlmo",
        "colab_type": "code",
        "colab": {}
      },
      "source": [
        "def plot_and_save_loss(history, title, name = 'model_loss', save = False):\n",
        "    '''\n",
        "    history: dict,\n",
        "    title: title of plot,\n",
        "    name: name of file\n",
        "    '''\n",
        "    plt.plot(history['loss'], label='loss')\n",
        "    plt.title(title)\n",
        "    plt.plot(history['val_loss'], label='val_loss')\n",
        "    plt.legend()\n",
        "    plt.xlabel('Epoch')\n",
        "    plt.ylabel('Loss')\n",
        "    if save == True:\n",
        "      plt.savefig(f\"/notebooks/storage/histories/plots/{name}.pdf\")"
      ],
      "execution_count": null,
      "outputs": []
    },
    {
      "cell_type": "code",
      "metadata": {
        "id": "Bwju9pCqPKZF",
        "colab_type": "code",
        "colab": {}
      },
      "source": [
        "def plot_and_save_accuracy(history, title, name = 'model_acc', save = False):\n",
        "    '''\n",
        "    history: dict,\n",
        "    title: title of plot,\n",
        "    name: name of file\n",
        "    '''\n",
        "    plt.plot(history['accuracy'], label='accuracy')\n",
        "    plt.title(title)\n",
        "    plt.plot(history['val_accuracy'], label='val_accuracy')\n",
        "    plt.legend()\n",
        "    plt.xlabel('Epoch')\n",
        "    plt.ylabel('Accuracy')\n",
        "    if save == True:\n",
        "      plt.savefig(f\"/notebooks/storage/histories/plots/{name}.pdf\")"
      ],
      "execution_count": null,
      "outputs": []
    },
    {
      "cell_type": "code",
      "metadata": {
        "colab_type": "code",
        "id": "m3W9WnigQ4dT",
        "colab": {}
      },
      "source": [
        "# evaluates the multilabel model over a data set returning the 4 types of f-scores\n",
        "def evaluate_model(X_p, y_p, model_p = model):\n",
        "  # compute the prediction of the model\n",
        "  y_pred = model_p.predict(X_p)\n",
        "  y_pred[y_pred>=0.5] = 1\n",
        "  y_pred[y_pred<0.5] = 0\n",
        "\n",
        "  # compute the 4 types of f scores\n",
        "  f_macro = f1_score(y_p, y_pred, average='macro').round(3)\n",
        "  f_micro = f1_score(y_p, y_pred, average='micro').round(3)\n",
        "  f_weighted = f1_score(y_p, y_pred, average='weighted').round(3)\n",
        "  f_samples = f1_score(y_p, y_pred, average='samples').round(3)\n",
        "\n",
        "  return (f_macro, f_micro, f_weighted, f_samples)"
      ],
      "execution_count": null,
      "outputs": []
    },
    {
      "cell_type": "markdown",
      "metadata": {
        "id": "4LjkR1Mcnl0D",
        "colab_type": "text"
      },
      "source": [
        "## CreateDatset class\n",
        "\n",
        "The following class are used to pre process poster data of MM-IMDb"
      ]
    },
    {
      "cell_type": "code",
      "metadata": {
        "id": "dybVYHGinxMe",
        "colab_type": "code",
        "colab": {}
      },
      "source": [
        "class CreateDataset:\n",
        "    _from = None\n",
        "    _to = None\n",
        "    \n",
        "    _train_names = None\n",
        "    _dev_names = None\n",
        "    _validation_names = None\n",
        "    \n",
        "    \n",
        "    _target_size = (128, 128)\n",
        "    BASE_PATH = None\n",
        "    \n",
        "    def __init__(self, from_path='multimodal_imdb', to_path='mmimdb_mps_mnet_128', BASE_PATH='/notebooks/storage/mmimdb'):\n",
        "        self.from_path = f\"/notebooks/storage/{from_path}.hdf5\"\n",
        "        self.to_path = f\"/notebooks/storage/mps/{to_path}.hdf5\"\n",
        "        self.BASE_PATH = BASE_PATH\n",
        "        \n",
        "    def open_from(self, mode='r'):\n",
        "        self._from = h5py.File(self.from_path, mode=mode)\n",
        "        \n",
        "    def open_to(self, mode='r'):\n",
        "        print(self.to_path)\n",
        "        self._to = h5py.File(self.to_path, mode=mode)\n",
        "    \n",
        "    def close_to(self):\n",
        "        self._to.flush()\n",
        "        self._to.close()\n",
        "        \n",
        "    def get_path(self, path):\n",
        "        return f'{self.BASE_PATH}/dataset/{path}'\n",
        "    \n",
        "    def preprocess(self):\n",
        "        sets = [\n",
        "            {\n",
        "                'key': 'dev',\n",
        "                'X': 'dev_images',\n",
        "                'Y': 'dev_target'\n",
        "            },\n",
        "            {\n",
        "                'key': 'test',\n",
        "                'X': 'test_images',\n",
        "                'Y': 'test_target'\n",
        "            },            \n",
        "            {\n",
        "                'key': 'train',\n",
        "                'X': 'train_images',\n",
        "                'Y': 'train_target'\n",
        "            }\n",
        "        ]\n",
        "        self.open_to(mode='w')\n",
        "        try:\n",
        "            for item in sets:\n",
        "                names = H5PYDataset(self.from_path, which_sets=(item['key'],), sources = ['imdb_ids'], load_in_memory=True)\n",
        "                X = np.empty((names.num_examples,self._target_size[0], self._target_size[1],3))\n",
        "                num_examples = names.num_examples\n",
        "                #X = np.empty((num_examples,self._target_size[0], self._target_size[1],3))\n",
        "                print(f\"init {item['key']}: {names.num_examples}\")\n",
        "                for i in range(names.num_examples): \n",
        "                    name = names.data_sources[0][i].decode('utf-8')\n",
        "                    X[i] = self._prepare_image(name)\n",
        "                    if i % 1000 == 0:\n",
        "                        print(i)\n",
        "                print(X.shape)\n",
        "                self._to.create_dataset(item['X'], data=X)\n",
        "                self._to.flush()\n",
        "                self._to.create_dataset(item['Y'], data=H5PYDataset(self.from_path, which_sets=(item['key'],), sources = ['genres'], load_in_memory=True).data_sources[0])\n",
        "                self._to.flush()\n",
        "                print(f\"end {item['key']}\")\n",
        "\n",
        "            self._to.close()\n",
        "        except ValueError:\n",
        "            print(e)\n",
        "            self._to.close()\n",
        "            print('error')\n",
        "    \n",
        "    def _prepare_image(self, name):\n",
        "        try:\n",
        "            image_path = self.get_path(f\"{name}.jpeg\")\n",
        "            img = load_img(image_path, target_size=self._target_size)\n",
        "            img_array = img_to_array(img)\n",
        "            return preprocess_input(img_array)\n",
        "        except ValueError:\n",
        "            print(name)\n",
        "            return None"
      ],
      "execution_count": null,
      "outputs": []
    },
    {
      "cell_type": "markdown",
      "metadata": {
        "id": "ZOX4CTQPCOmH",
        "colab_type": "text"
      },
      "source": [
        "## MPS Class\n",
        "\n",
        "Taken from the notebook mps_mnist.ipynb from Stavros Efthymiou and https://arxiv.org/pdf/1906.06329.pdf"
      ]
    },
    {
      "cell_type": "code",
      "metadata": {
        "id": "LzbvKF1HB8Xc",
        "colab_type": "code",
        "colab": {}
      },
      "source": [
        "'''\n",
        "Taken from the notebook mps_mnist.ipynb from Stavros Efthymiou and https://arxiv.org/pdf/1906.06329.pdf\n",
        "'''\n",
        "class MPSLayer(layers.Layer):\n",
        "\n",
        "    def __init__(self, n_sites, d_bond, n_output, dim=2, dtype=tf.float32):\n",
        "        super(MPSLayer, self).__init__()\n",
        "        if n_sites % 2:\n",
        "            raise NotImplementedError(\"Number of sites should be even but is \"\n",
        "                                      \"{}.\".format(n_sites))\n",
        "\n",
        "        self.n_half = n_sites // 2\n",
        "        self.dim = dim\n",
        "        self.left = tf.Variable(self._initializer(self.n_half, self.dim, d_bond),\n",
        "                                dtype=dtype, trainable=True)\n",
        "        self.right = tf.Variable(self._initializer(self.n_half, self.dim, d_bond),\n",
        "                                 dtype=dtype, trainable=True)\n",
        "        self.middle = tf.Variable(self._initializer(n_output, 1, d_bond)[0],\n",
        "                                  dtype=dtype, trainable=True)\n",
        "\n",
        "    @staticmethod\n",
        "    def _initializer(n_sites, d_phys, d_bond):\n",
        "        w = np.stack(d_phys * n_sites * [np.eye(d_bond)])\n",
        "        w = w.reshape((d_phys, n_sites, d_bond, d_bond))\n",
        "        return w + np.random.normal(0, 1e-2, size=w.shape)\n",
        "\n",
        "    def call(self, inputs):\n",
        "        with tf.name_scope('call'):\n",
        "            left = tf.einsum(\"slij,bls->lbij\", self.left, inputs[:, :self.n_half])\n",
        "            right = tf.einsum(\"slij,bls->lbij\", self.right, inputs[:, self.n_half:])\n",
        "            left = self.reduction(left)\n",
        "            right = self.reduction(right)\n",
        "            aux = tf.einsum(\"bij,cjk,bki->bc\", left, self.middle, right)\n",
        "        return aux\n",
        "\n",
        "    @staticmethod\n",
        "    def reduction(tensor):\n",
        "        with tf.name_scope('reduction'):\n",
        "            size = int(tensor.shape[0])\n",
        "            while size > 1:\n",
        "                half_size = size // 2\n",
        "                nice_size = 2 * half_size\n",
        "                leftover = tensor[nice_size:]\n",
        "                tensor = tf.matmul(tensor[0:nice_size:2], tensor[1:nice_size:2])\n",
        "                tensor = tf.concat([tensor, leftover], axis=0)\n",
        "                size = half_size + int(size % 2 == 1)\n",
        "        return tensor[0]\n",
        "    \n",
        "    def get_config(self):\n",
        "        return super().get_config()\n",
        "    \n",
        "    @classmethod\n",
        "    def from_config(cls, config):\n",
        "        return cls(**config)"
      ],
      "execution_count": null,
      "outputs": []
    },
    {
      "cell_type": "markdown",
      "metadata": {
        "id": "FdAcihQWc069",
        "colab_type": "text"
      },
      "source": [
        "## Quantum Feature Maps"
      ]
    },
    {
      "cell_type": "markdown",
      "metadata": {
        "id": "2PWySTMSc62S",
        "colab_type": "text"
      },
      "source": [
        "Binary Pixel Feature Map"
      ]
    },
    {
      "cell_type": "code",
      "metadata": {
        "colab_type": "code",
        "id": "hLP8XBKl0yO5",
        "colab": {}
      },
      "source": [
        "'''\n",
        "Taken from the notebook mps_mnist.ipynb from Stavros Efthymiou and https://arxiv.org/pdf/1906.06329.pdf\n",
        "'''\n",
        "# Preprocess data function\n",
        "def preprocess_images(x):\n",
        "  n_data, dim0, dim1 = tuple(x.shape)\n",
        "  n_sites = dim0 * dim1\n",
        "  x = x.reshape((n_data, n_sites)) / 255\n",
        "  x = tf.cast(tf.math.greater(x, 0.5), dtype=tf.int32)\n",
        "  return tf.keras.utils.to_categorical(x, 2)"
      ],
      "execution_count": null,
      "outputs": []
    },
    {
      "cell_type": "markdown",
      "metadata": {
        "id": "eC6LaJCJdPCV",
        "colab_type": "text"
      },
      "source": [
        "Stoudenmire Feature Map"
      ]
    },
    {
      "cell_type": "code",
      "metadata": {
        "colab_type": "code",
        "id": "MW1jLhHDEX4g",
        "colab": {}
      },
      "source": [
        "'''\n",
        "Based on the notebook mps_mnist.ipynb from Stavros Efthymiou and https://arxiv.org/pdf/1906.06329.pdf\n",
        "'''\n",
        "def preprocess_stoudenmire(x):\n",
        "  n_data, dim0, dim1 = tuple(x.shape)\n",
        "  n_sites = dim0 * dim1\n",
        "  x = (x.reshape((n_data, n_sites)) / 255) * (np.pi/2)\n",
        "  sin = tf.math.sin(x)\n",
        "  cos = tf.math.cos(x)\n",
        "  #return tf.cast(tf.stack([cos, sin], axis=2), dtype=tf.float32).numpy()\n",
        "  return tf.cast(tf.stack([cos, sin], axis=2), dtype=tf.float32)"
      ],
      "execution_count": null,
      "outputs": []
    },
    {
      "cell_type": "markdown",
      "metadata": {
        "id": "BtSeMGNP9wEU",
        "colab_type": "text"
      },
      "source": [
        "N-gram Feature Map"
      ]
    },
    {
      "cell_type": "code",
      "metadata": {
        "colab_type": "code",
        "id": "L9o5flJ7-DGY",
        "colab": {}
      },
      "source": [
        "'''\n",
        "Based on the notebook mps_mnist.ipynb from Stavros Efthymiou and https://arxiv.org/pdf/1906.06329.pdf\n",
        "'''\n",
        "# given a matrix of n-grams vectors , convert to a quantum feature map \n",
        "def preprocess_words(x):\n",
        "  n_data, n_sites = tuple(x.shape)\n",
        "  x = x.todense()\n",
        "  x = tf.convert_to_tensor(x, dtype=tf.float32)\n",
        "  x = tf.cast(tf.math.greater(x, 0.5), dtype=tf.int32)\n",
        "  return tf.keras.utils.to_categorical(x, 2)"
      ],
      "execution_count": null,
      "outputs": []
    },
    {
      "cell_type": "markdown",
      "metadata": {
        "id": "Sw_7WINY-Xyq",
        "colab_type": "text"
      },
      "source": [
        "Tfidf Feature Map"
      ]
    },
    {
      "cell_type": "code",
      "metadata": {
        "colab_type": "code",
        "id": "cHYNdPb1-hZN",
        "colab": {}
      },
      "source": [
        "'''\n",
        "Based on the notebook mps_mnist.ipynb from Stavros Efthymiou and https://arxiv.org/pdf/1906.06329.pdf\n",
        "'''\n",
        "# Find the average value of non zero values of the Tifdf vector, choose ket(0)\n",
        "# for values below the average ket(1) for n-grams above the average\n",
        "def preprocess_words(X_p):\n",
        "  n_data, n_sites = tuple(X_p.shape)\n",
        "  #x = x.todense()\n",
        "  average = X_p.sum(axis=1)/np.count_nonzero(X_p, axis=1)\n",
        "  average = tf.convert_to_tensor(average, dtype=tf.float32)\n",
        "  average = tf.keras.backend.reshape(average, shape=(-1, 1))\n",
        "  X_p = tf.convert_to_tensor(X_p, dtype=tf.float32)\n",
        "  X_p = tf.cast(tf.math.greater(X_p, average), dtype=tf.int32)\n",
        "  return tf.keras.utils.to_categorical(X_p, 2)"
      ],
      "execution_count": null,
      "outputs": []
    },
    {
      "cell_type": "markdown",
      "metadata": {
        "id": "HSaptI-TDF6o",
        "colab_type": "text"
      },
      "source": [
        "## MPS for Visual Classification"
      ]
    },
    {
      "cell_type": "markdown",
      "metadata": {
        "id": "HLDxC1MjEFeb",
        "colab_type": "text"
      },
      "source": [
        "### MNIST Classification"
      ]
    },
    {
      "cell_type": "code",
      "metadata": {
        "id": "jJPD2IaCD23w",
        "colab_type": "code",
        "colab": {
          "base_uri": "https://localhost:8080/",
          "height": 72
        },
        "outputId": "264d0732-4d7f-4319-9e16-a44f06bc1b4e"
      },
      "source": [
        "'''\n",
        "Taken from the notebook mps_mnist.ipynb from Stavros Efthymiou and https://arxiv.org/pdf/1906.06329.pdf\n",
        "'''\n",
        "#Extract the MNIST Images and preprocess\n",
        "(x_train, y_train), (x_test, y_test) = tf.keras.datasets.mnist.load_data()\n",
        "# convert class vectors to binary class matrices\n",
        "y_train = tf.keras.utils.to_categorical(y_train, 10)\n",
        "y_test = tf.keras.utils.to_categorical(y_test, 10)\n",
        "# convert images to supported format\n",
        "x_train = preprocess_images(x_train)\n",
        "x_test = preprocess_images(x_test)\n",
        "\n",
        "x_train.shape, y_train.shape, x_test.shape, y_test.shape"
      ],
      "execution_count": null,
      "outputs": [
        {
          "output_type": "stream",
          "text": [
            "Downloading data from https://storage.googleapis.com/tensorflow/tf-keras-datasets/mnist.npz\n",
            "11493376/11490434 [==============================] - 0s 0us/step\n"
          ],
          "name": "stdout"
        },
        {
          "output_type": "execute_result",
          "data": {
            "text/plain": [
              "((60000, 784, 2), (60000, 10), (10000, 784, 2), (10000, 10))"
            ]
          },
          "metadata": {
            "tags": []
          },
          "execution_count": 9
        }
      ]
    },
    {
      "cell_type": "markdown",
      "metadata": {
        "id": "HJ3_t9bTEOaC",
        "colab_type": "text"
      },
      "source": [
        "#### Binary Pixel Feature Map"
      ]
    },
    {
      "cell_type": "code",
      "metadata": {
        "colab_type": "code",
        "id": "SsQH3FOrmjRl",
        "colab": {}
      },
      "source": [
        "# Model Parameters\n",
        "batch_size = 64\n",
        "num_classes = 10\n",
        "epochs = 100\n",
        "d_bond = 10 # for MPS\n",
        "num_exps = 30 "
      ],
      "execution_count": null,
      "outputs": []
    },
    {
      "cell_type": "code",
      "metadata": {
        "id": "z2s2f3pmESY_",
        "colab_type": "code",
        "colab": {}
      },
      "source": [
        "'''\n",
        "Taken from the notebook mps_mnist.ipynb from Stavros Efthymiou and https://arxiv.org/pdf/1906.06329.pdf\n",
        "'''\n",
        "# Define model\n",
        "n_sites = x_train.shape[1]\n",
        "model = Sequential()\n",
        "model.add(MPSLayer(n_sites=n_sites, d_bond=d_bond, n_output=num_classes))\n",
        "model.add(layers.Softmax())\n",
        "\n",
        "\n",
        "# Compile and run\n",
        "model.compile(loss=tf.keras.losses.categorical_crossentropy,\n",
        "              optimizer=tf.keras.optimizers.Adadelta(),\n",
        "              metrics=['accuracy'])\n",
        "\n",
        "history = model.fit(x_train, y_train,\n",
        "                    batch_size=batch_size,\n",
        "                    epochs=epochs,\n",
        "                    verbose=1,\n",
        "                    validation_data=(x_test, y_test))\n",
        "score = model.evaluate(x_test, y_test, verbose=0)\n",
        "\n",
        "print('Test loss:', score[0])\n",
        "print('Test accuracy:', score[1])"
      ],
      "execution_count": null,
      "outputs": []
    },
    {
      "cell_type": "code",
      "metadata": {
        "colab_type": "code",
        "id": "5pZK1DWjpQGN",
        "colab": {
          "base_uri": "https://localhost:8080/",
          "height": 295
        },
        "outputId": "34c5d272-1d95-423e-89f2-76b321b52bc3"
      },
      "source": [
        "plot_and_save_accuracy(history.history, 'MNIST - BiPixel QFM - χ=10')"
      ],
      "execution_count": null,
      "outputs": [
        {
          "output_type": "display_data",
          "data": {
            "image/png": "[encoded data removed]",
            "text/plain": [
              "<Figure size 432x288 with 1 Axes>"
            ]
          },
          "metadata": {
            "tags": [],
            "needs_background": "light"
          }
        }
      ]
    },
    {
      "cell_type": "code",
      "metadata": {
        "colab_type": "code",
        "id": "34A4PGP5pQGR",
        "colab": {
          "base_uri": "https://localhost:8080/",
          "height": 295
        },
        "outputId": "08b81d1d-4d87-4677-8e8a-ed60b49fe3f6"
      },
      "source": [
        "plot_and_save_loss(history.history, 'MNIST - BiPixel QFM - χ=10')"
      ],
      "execution_count": null,
      "outputs": [
        {
          "output_type": "display_data",
          "data": {
            "image/png": "[encoded data removed]",
            "text/plain": [
              "<Figure size 432x288 with 1 Axes>"
            ]
          },
          "metadata": {
            "tags": [],
            "needs_background": "light"
          }
        }
      ]
    },
    {
      "cell_type": "code",
      "metadata": {
        "id": "jvlYoW3lrxt4",
        "colab_type": "code",
        "colab": {
          "base_uri": "https://localhost:8080/",
          "height": 35
        },
        "outputId": "9ce6f70f-6636-4307-d6d0-ecddc895b92e"
      },
      "source": [
        "score_train = model.evaluate(x_train, y_train, verbose=0)\n",
        "\n",
        "score_train[1]"
      ],
      "execution_count": null,
      "outputs": [
        {
          "output_type": "execute_result",
          "data": {
            "text/plain": [
              "0.962149977684021"
            ]
          },
          "metadata": {
            "tags": []
          },
          "execution_count": 20
        }
      ]
    },
    {
      "cell_type": "markdown",
      "metadata": {
        "id": "HD0-SfuPPDmu",
        "colab_type": "text"
      },
      "source": [
        "#### Bond Parameter Tunning"
      ]
    },
    {
      "cell_type": "code",
      "metadata": {
        "colab_type": "code",
        "id": "QwECLimOPAIW",
        "colab": {}
      },
      "source": [
        "# Model Parameters\n",
        "batch_size = 64\n",
        "num_classes = 10\n",
        "epochs = 100\n",
        "d_bond = 10 # for MPS\n",
        "num_exps = 30 "
      ],
      "execution_count": null,
      "outputs": []
    },
    {
      "cell_type": "code",
      "metadata": {
        "colab_type": "code",
        "id": "3kdMrqbqPAJf",
        "colab": {}
      },
      "source": [
        "'''\n",
        "Taken from the notebook mps_mnist.ipynb from Stavros Efthymiou and https://arxiv.org/pdf/1906.06329.pdf\n",
        "'''\n",
        "bonds = [60]\n",
        "train_acc = []\n",
        "test_acc = []\n",
        "for d_bond in bonds:\n",
        "  init_time = time()\n",
        "  # Define model\n",
        "  n_sites = x_train.shape[1]\n",
        "  model = Sequential()\n",
        "  model.add(MPSLayer(n_sites=n_sites, d_bond=d_bond, n_output=num_classes))\n",
        "  model.add(layers.Softmax())\n",
        "\n",
        "\n",
        "  # Compile and run\n",
        "  model.compile(loss=tf.keras.losses.categorical_crossentropy,\n",
        "                optimizer=tf.keras.optimizers.Adadelta(),\n",
        "                metrics=['accuracy'])\n",
        "\n",
        "  history = model.fit(x_train, y_train,\n",
        "                      batch_size=batch_size,\n",
        "                      epochs=epochs,\n",
        "                      verbose=1,\n",
        "                      validation_data=(x_test, y_test))\n",
        "  score_train = model.evaluate(x_train, y_train, verbose=0)\n",
        "  score_test = model.evaluate(x_test, y_test, verbose=0)\n",
        "\n",
        "  print('Bond:', d_bond)\n",
        "  print('Train accuracy:', score_train[1])\n",
        "  train_acc.append(score_train[1])\n",
        "  print('Test accuracy:', score_test[1])\n",
        "  test_acc.append(score_test[1])\n",
        "  print(time()-init_time)"
      ],
      "execution_count": null,
      "outputs": []
    },
    {
      "cell_type": "code",
      "metadata": {
        "id": "eMZXZQY6BL9h",
        "colab_type": "code",
        "colab": {
          "base_uri": "https://localhost:8080/",
          "height": 34
        },
        "outputId": "1be1c93d-9a1e-47b6-c8aa-a51ac3d3e6b1"
      },
      "source": [
        "train_acc, test_acc"
      ],
      "execution_count": null,
      "outputs": [
        {
          "output_type": "execute_result",
          "data": {
            "text/plain": [
              "([1.0], [0.9645000100135803])"
            ]
          },
          "metadata": {
            "tags": []
          },
          "execution_count": 42
        }
      ]
    },
    {
      "cell_type": "markdown",
      "metadata": {
        "id": "uBQrCcm66XZH",
        "colab_type": "text"
      },
      "source": [
        "Summary of the results of the Bond Parameter tunning in MNIST"
      ]
    },
    {
      "cell_type": "code",
      "metadata": {
        "id": "1m1sdQwlsBFl",
        "colab_type": "code",
        "colab": {
          "base_uri": "https://localhost:8080/",
          "height": 221
        },
        "outputId": "f4df0e8e-7c77-4929-d1c8-07b3ba6a20d7"
      },
      "source": [
        "# summary of the results of bond parameter tunning\n",
        "bonds = [10, 20, 30, 40, 50, 60]\n",
        "train_acc_results = [0.962149977684021, 0.9840166568756104, 0.9963499903678894, 0.9999833106994629, 1.0, 1.0]\n",
        "test_acc_results = [0.9567000269889832, 0.9661999940872192, 0.9682999849319458, 0.9666000008583069, 0.96670001745224, 0.9645000100135803]\n",
        "\n",
        "train_acc_results, test_acc_results"
      ],
      "execution_count": null,
      "outputs": [
        {
          "output_type": "execute_result",
          "data": {
            "text/plain": [
              "([0.962149977684021,\n",
              "  0.9840166568756104,\n",
              "  0.9963499903678894,\n",
              "  0.9999833106994629,\n",
              "  1.0,\n",
              "  1.0],\n",
              " [0.9567000269889832,\n",
              "  0.9661999940872192,\n",
              "  0.9682999849319458,\n",
              "  0.9666000008583069,\n",
              "  0.96670001745224,\n",
              "  0.9645000100135803])"
            ]
          },
          "metadata": {
            "tags": []
          },
          "execution_count": 22
        }
      ]
    },
    {
      "cell_type": "code",
      "metadata": {
        "id": "6ZTQmpFDBrIU",
        "colab_type": "code",
        "colab": {
          "base_uri": "https://localhost:8080/",
          "height": 295
        },
        "outputId": "74c12e3b-3150-4b06-b500-27cedfd3a0cd"
      },
      "source": [
        "# plot of the results of bond parameter tuning\n",
        "plt.plot( bonds, train_acc_results, label='train_accuracy', marker = 's')\n",
        "plt.title('MNIST - BiPixel QFM')\n",
        "plt.plot( bonds, test_acc_results, label='val_accuracy', color='red', marker='s')\n",
        "plt.legend()\n",
        "plt.ylim(0.94, 1.005)\n",
        "plt.xlabel('χ')\n",
        "plt.ylabel('Final Accuracy')"
      ],
      "execution_count": null,
      "outputs": [
        {
          "output_type": "display_data",
          "data": {
            "image/png": "[encoded data removed]",
            "text/plain": [
              "<Figure size 432x288 with 1 Axes>"
            ]
          },
          "metadata": {
            "tags": [],
            "needs_background": "light"
          }
        }
      ]
    },
    {
      "cell_type": "markdown",
      "metadata": {
        "id": "5MHeCiViiUpu",
        "colab_type": "text"
      },
      "source": [
        "### MM-IMDb Poster Classification"
      ]
    },
    {
      "cell_type": "markdown",
      "metadata": {
        "id": "Bxv1s2o8il8n",
        "colab_type": "text"
      },
      "source": [
        "#### Feature Extraction\n",
        "\n",
        "In practice, very few people train an entire Convolutional Network from scratch because this task need an huge train dataset and involve have big computational resources.\n",
        "\n",
        "The idea of feature extraction is use a pre trained CNN to extract some features that we have not explicit in the data.\n",
        "\n",
        "We propose use VGG16 CNN to process the raw data, the images are pre processed to (128,128,3) dimension. After feature extraction we apply a modification of **Binary Pixel Feature Map**, on this variation we use a sigmoid function to normalize the input data"
      ]
    },
    {
      "cell_type": "markdown",
      "metadata": {
        "id": "f7Uz1gjCm_9i",
        "colab_type": "text"
      },
      "source": [
        "**Feature Extraction**"
      ]
    },
    {
      "cell_type": "code",
      "metadata": {
        "id": "dwaAGVS-oE0U",
        "colab_type": "code",
        "colab": {}
      },
      "source": [
        "# Open pre processed images\n",
        "hf = h5py.File('/notebooks/storage/mps/mmimdb_mps_mnet_128.hdf5','r')\n",
        "dataset_names = list(hf.keys())\n",
        "dataset_names"
      ],
      "execution_count": null,
      "outputs": []
    },
    {
      "cell_type": "code",
      "metadata": {
        "id": "pDOoLeAvieA2",
        "colab_type": "code",
        "colab": {}
      },
      "source": [
        "# Load CNN without top layer\n",
        "pre_model = VGG16(weights='imagenet', include_top=False, input_shape=(128, 128, 3))\n",
        "for layer in pre_model.layers:\n",
        "    layer.trainable = False\n",
        "pre_model.summary()"
      ],
      "execution_count": null,
      "outputs": []
    },
    {
      "cell_type": "markdown",
      "metadata": {
        "id": "1yXuv6AgoU85",
        "colab_type": "text"
      },
      "source": [
        "Using pre-model, apply predict over pre processed images. The result of prediction are flatten for create a site of MPS.\n",
        "\n",
        "The result of this are saved on h5py dataset"
      ]
    },
    {
      "cell_type": "code",
      "metadata": {
        "id": "amSzCqg1nVxP",
        "colab_type": "code",
        "colab": {}
      },
      "source": [
        "features_mnet = h5py.File('storage/mps/features/vg16.h5py', mode='w')\n",
        "for key in ['dev', 'train', 'test']:\n",
        "    features = model.predict(hf[f'{key}_images'], batch_size=64)\n",
        "    flatten = features.reshape((features.shape[0], features.shape[1] * features.shape[2] * features.shape[3]))\n",
        "    features_mnet.create_dataset(f'{key}_images', data=flatten)\n",
        "    features_mnet.flush()\n",
        "    features_mnet.create_dataset(f'{key}_target', data=hf[f'{key}_target'][()])\n",
        "    features_mnet.flush()\n",
        "features_mnet.close()"
      ],
      "execution_count": null,
      "outputs": []
    },
    {
      "cell_type": "markdown",
      "metadata": {
        "id": "Pye8fuH5pDib",
        "colab_type": "text"
      },
      "source": [
        "> **Feature Map**"
      ]
    },
    {
      "cell_type": "code",
      "metadata": {
        "id": "Glf3jlWQpFyj",
        "colab_type": "code",
        "colab": {}
      },
      "source": [
        "def sigmoid(x):\n",
        "    return 1 / (1 + np.exp(-x))"
      ],
      "execution_count": null,
      "outputs": []
    },
    {
      "cell_type": "code",
      "metadata": {
        "id": "AaB2rGuNpJwH",
        "colab_type": "code",
        "colab": {}
      },
      "source": [
        "def binary_feature_map(X):\n",
        "    x = sigmoid(X)\n",
        "    x = tf.cast(tf.math.greater(X, 0.5), dtype=tf.int32)\n",
        "    return tf.keras.utils.to_categorical(x,2)"
      ],
      "execution_count": null,
      "outputs": []
    },
    {
      "cell_type": "markdown",
      "metadata": {
        "id": "qwdT-DuPpQMu",
        "colab_type": "text"
      },
      "source": [
        "Open dataset with extracted features"
      ]
    },
    {
      "cell_type": "code",
      "metadata": {
        "id": "haLFh1EzpNOg",
        "colab_type": "code",
        "colab": {}
      },
      "source": [
        "hf = h5py.File('/notebooks/storage/mps/features/vg16.h5py','r')\n",
        "dataset_names = list(hf.keys())\n",
        "dataset_names"
      ],
      "execution_count": null,
      "outputs": []
    },
    {
      "cell_type": "code",
      "metadata": {
        "id": "_JcZHr6PpVPi",
        "colab_type": "code",
        "colab": {}
      },
      "source": [
        "X_dev = binary_feature_map(hf['dev_images'][()])\n",
        "X_test = binary_feature_map(hf['test_images'][()])\n",
        "X_train = binary_feature_map(hf['train_images'][()])\n",
        "\n",
        "X_train.shape, X_dev.shape, X_test.shape"
      ],
      "execution_count": null,
      "outputs": []
    },
    {
      "cell_type": "code",
      "metadata": {
        "id": "1Qt2R_TSpbk0",
        "colab_type": "code",
        "colab": {}
      },
      "source": [
        "Y_dev = hf['dev_target'][()]\n",
        "Y_test = hf['test_target'][()]\n",
        "Y_train = hf['train_target'][()]\n",
        "\n",
        "Y_train.shape, Y_dev.shape, Y_test.shape"
      ],
      "execution_count": null,
      "outputs": []
    },
    {
      "cell_type": "markdown",
      "metadata": {
        "id": "VjaVqGS6ppuC",
        "colab_type": "text"
      },
      "source": [
        "> **Experiments**"
      ]
    },
    {
      "cell_type": "code",
      "metadata": {
        "id": "iMExM6ppphnr",
        "colab_type": "code",
        "colab": {}
      },
      "source": [
        "batch_size = 64\n",
        "num_classes = 23\n",
        "epochs = 100"
      ],
      "execution_count": null,
      "outputs": []
    },
    {
      "cell_type": "markdown",
      "metadata": {
        "id": "uOw6EON6purd",
        "colab_type": "text"
      },
      "source": [
        "Create a model"
      ]
    },
    {
      "cell_type": "code",
      "metadata": {
        "id": "kTRoAE62pv2d",
        "colab_type": "code",
        "colab": {}
      },
      "source": [
        "for d_bond in [5, 10, 15, 20, 25, 30]:\n",
        "    print(f'init d_bond: {d_bond}')\n",
        "    n_sites = X_train.shape[1]\n",
        "    model = Sequential()\n",
        "    model.add(MPSLayer(n_sites=n_sites, d_bond=d_bond, n_output=num_classes))\n",
        "    model.add(layers.Activation(activations.sigmoid))\n",
        "\n",
        "\n",
        "    # Compile and run\n",
        "    model.compile(loss=tf.keras.losses.binary_crossentropy,\n",
        "                  optimizer=tf.keras.optimizers.Adadelta(),\n",
        "                  metrics=['accuracy'])\n",
        "\n",
        "    history = model.fit(X_train, Y_train,\n",
        "                        batch_size=batch_size,\n",
        "                        epochs=epochs,\n",
        "                        verbose=1,\n",
        "                        validation_data=(X_dev, Y_dev))\n",
        "    model.save(f'storage/mps_pixel_vgg16_{d_bond}')\n",
        "    save_history(history, name=f'history_vgg16_mps_{d_bond}')\n",
        "    print(f'end d_bond: {d_bond}')"
      ],
      "execution_count": null,
      "outputs": []
    },
    {
      "cell_type": "markdown",
      "metadata": {
        "id": "371cwyLOc4JR",
        "colab_type": "text"
      },
      "source": [
        "> **Loss value behavior on training proccess for diferents bond dimensions using Feature extraction from pre trained model VGG16** "
      ]
    },
    {
      "cell_type": "code",
      "metadata": {
        "id": "DZXWTmRRbWH0",
        "colab_type": "code",
        "colab": {}
      },
      "source": [
        "h_5 = pd.read_json('/content/history_vgg16_mps_5.json')\n",
        "h_10 = pd.read_json('/content/history_vgg16_mps_10.json')\n",
        "h_15 = pd.read_json('/content/history_vgg16_mps_15.json')\n",
        "h_20 = pd.read_json('/content/history_vgg16_mps_20.json')\n",
        "h_25 = pd.read_json('/content/history_vgg16_mps_25.json')\n",
        "h_30 = pd.read_json('/content/history_vgg16_mps_30.json')"
      ],
      "execution_count": null,
      "outputs": []
    },
    {
      "cell_type": "code",
      "metadata": {
        "id": "QP6PzQ8Bbt6u",
        "colab_type": "code",
        "colab": {
          "base_uri": "https://localhost:8080/",
          "height": 312
        },
        "outputId": "da888d3b-fc5d-47cf-e079-54a742dc99bf"
      },
      "source": [
        "interval = [ i for i in range(5)]\n",
        "h_5 = h_5.drop(interval, axis=0)\n",
        "plt.plot(h_5['loss'], label='loss')\n",
        "plt.title('MM - IMDb Posters - Feature Extraction VGG16 χ=5')\n",
        "plt.plot(h_5['val_loss'], label='val_loss')\n",
        "plt.legend()\n",
        "plt.xlabel('Epoch')\n",
        "plt.ylabel('Loss')"
      ],
      "execution_count": null,
      "outputs": [
        {
          "output_type": "execute_result",
          "data": {
            "text/plain": [
              "Text(0, 0.5, 'Loss')"
            ]
          },
          "metadata": {
            "tags": []
          },
          "execution_count": 16
        },
        {
          "output_type": "display_data",
          "data": {
            "image/png": "[encoded data removed]",
            "text/plain": [
              "<Figure size 432x288 with 1 Axes>"
            ]
          },
          "metadata": {
            "tags": [],
            "needs_background": "light"
          }
        }
      ]
    },
    {
      "cell_type": "code",
      "metadata": {
        "id": "jvF5KVQUb98b",
        "colab_type": "code",
        "colab": {
          "base_uri": "https://localhost:8080/",
          "height": 312
        },
        "outputId": "dc7b56b5-442f-4cbe-b6c5-ab2651ced343"
      },
      "source": [
        "interval = [ i for i in range(8)]\n",
        "h_10 = h_10.drop(interval, axis=0)\n",
        "plt.plot(h_10['loss'], label='loss')\n",
        "plt.title('MM - IMDb Posters - Feature Extraction VGG16 χ=10')\n",
        "plt.plot(h_10['val_loss'], label='val_loss')\n",
        "plt.legend()\n",
        "plt.xlabel('Epoch')\n",
        "plt.ylabel('Loss')"
      ],
      "execution_count": null,
      "outputs": [
        {
          "output_type": "execute_result",
          "data": {
            "text/plain": [
              "Text(0, 0.5, 'Loss')"
            ]
          },
          "metadata": {
            "tags": []
          },
          "execution_count": 15
        },
        {
          "output_type": "display_data",
          "data": {
            "image/png": "[encoded data removed]",
            "text/plain": [
              "<Figure size 432x288 with 1 Axes>"
            ]
          },
          "metadata": {
            "tags": [],
            "needs_background": "light"
          }
        }
      ]
    },
    {
      "cell_type": "code",
      "metadata": {
        "id": "2SCetyNzcCGv",
        "colab_type": "code",
        "colab": {
          "base_uri": "https://localhost:8080/",
          "height": 312
        },
        "outputId": "7a3dcac2-bff1-48e0-be40-9a9197063b5a"
      },
      "source": [
        "interval = [ i for i in range(8)]\n",
        "h_15 = h_15.drop(interval, axis=0)\n",
        "plt.plot(h_15['loss'], label='loss')\n",
        "plt.title('MM - IMDb Posters - Feature Extraction VGG16 χ=15')\n",
        "plt.plot(h_15['val_loss'], label='val_loss')\n",
        "plt.legend()\n",
        "plt.xlabel('Epoch')\n",
        "plt.ylabel('Loss')"
      ],
      "execution_count": null,
      "outputs": [
        {
          "output_type": "execute_result",
          "data": {
            "text/plain": [
              "Text(0, 0.5, 'Loss')"
            ]
          },
          "metadata": {
            "tags": []
          },
          "execution_count": 14
        },
        {
          "output_type": "display_data",
          "data": {
            "image/png": "[encoded data removed]",
            "text/plain": [
              "<Figure size 432x288 with 1 Axes>"
            ]
          },
          "metadata": {
            "tags": [],
            "needs_background": "light"
          }
        }
      ]
    },
    {
      "cell_type": "code",
      "metadata": {
        "id": "C5Be1q_-cFoY",
        "colab_type": "code",
        "colab": {
          "base_uri": "https://localhost:8080/",
          "height": 312
        },
        "outputId": "da32dc60-865c-4900-ada6-4402a4fc3bb6"
      },
      "source": [
        "interval = [ i for i in range(12)]\n",
        "h_20 = h_20.drop(interval, axis=0)\n",
        "plt.plot(h_20['loss'], label='loss')\n",
        "plt.title('MM - IMDb Posters - Feature Extraction VGG16 χ=20')\n",
        "plt.plot(h_20['val_loss'], label='val_loss')\n",
        "plt.legend()\n",
        "plt.xlabel('Epoch')\n",
        "plt.ylabel('Loss')"
      ],
      "execution_count": null,
      "outputs": [
        {
          "output_type": "execute_result",
          "data": {
            "text/plain": [
              "Text(0, 0.5, 'Loss')"
            ]
          },
          "metadata": {
            "tags": []
          },
          "execution_count": 13
        },
        {
          "output_type": "display_data",
          "data": {
            "image/png": "[encoded data removed]",
            "text/plain": [
              "<Figure size 432x288 with 1 Axes>"
            ]
          },
          "metadata": {
            "tags": [],
            "needs_background": "light"
          }
        }
      ]
    },
    {
      "cell_type": "code",
      "metadata": {
        "id": "E48VVvbqcm6S",
        "colab_type": "code",
        "colab": {
          "base_uri": "https://localhost:8080/",
          "height": 312
        },
        "outputId": "cb5ef097-b89a-413d-c1b8-d90dfd89cf91"
      },
      "source": [
        "interval = [ i for i in range(10)]\n",
        "h_25 = h_25.drop(interval, axis=0)\n",
        "plt.plot(h_25['loss'], label='loss')\n",
        "plt.title('MM - IMDb Posters - Feature Extraction VGG16 χ=25')\n",
        "plt.plot(h_25['val_loss'], label='val_loss')\n",
        "plt.legend()\n",
        "plt.xlabel('Epoch')\n",
        "plt.ylabel('Loss')"
      ],
      "execution_count": null,
      "outputs": [
        {
          "output_type": "execute_result",
          "data": {
            "text/plain": [
              "Text(0, 0.5, 'Loss')"
            ]
          },
          "metadata": {
            "tags": []
          },
          "execution_count": 18
        },
        {
          "output_type": "display_data",
          "data": {
            "image/png": "[encoded data removed]",
            "text/plain": [
              "<Figure size 432x288 with 1 Axes>"
            ]
          },
          "metadata": {
            "tags": [],
            "needs_background": "light"
          }
        }
      ]
    },
    {
      "cell_type": "code",
      "metadata": {
        "id": "JMcUVCj8cnad",
        "colab_type": "code",
        "colab": {
          "base_uri": "https://localhost:8080/",
          "height": 312
        },
        "outputId": "51c58a91-8675-400c-c6c4-02ccee7b6665"
      },
      "source": [
        "interval = [ i for i in range(12)]\n",
        "h_30 = h_30.drop(interval, axis=0)\n",
        "plt.plot(h_30['loss'], label='loss')\n",
        "plt.title('MM - IMDb Posters - Feature Extraction VGG16 χ=30')\n",
        "plt.plot(h_30['val_loss'], label='val_loss')\n",
        "plt.legend()\n",
        "plt.xlabel('Epoch')\n",
        "plt.ylabel('Loss')"
      ],
      "execution_count": null,
      "outputs": [
        {
          "output_type": "execute_result",
          "data": {
            "text/plain": [
              "Text(0, 0.5, 'Loss')"
            ]
          },
          "metadata": {
            "tags": []
          },
          "execution_count": 20
        },
        {
          "output_type": "display_data",
          "data": {
            "image/png": "[encoded data removed]",
            "text/plain": [
              "<Figure size 432x288 with 1 Axes>"
            ]
          },
          "metadata": {
            "tags": [],
            "needs_background": "light"
          }
        }
      ]
    },
    {
      "cell_type": "markdown",
      "metadata": {
        "id": "bScc7aH8vVGD",
        "colab_type": "text"
      },
      "source": [
        "> **Results**\n",
        "\n",
        "The following table show f-score of experiments with hyperparameter *d_bond* variations. All experiments was runned with 100 epochs"
      ]
    },
    {
      "cell_type": "markdown",
      "metadata": {
        "id": "kDdgEJSYOfgv",
        "colab_type": "text"
      },
      "source": [
        "<table>\n",
        "    <thead>\n",
        "    <tr>\n",
        "        <th colspan=\"5\">F-Score</th>\n",
        "    </tr>\n",
        "    <tr>\n",
        "        <th>dataset</th>\n",
        "        <th>macro</th>\n",
        "        <th>micro</th>\n",
        "        <th>weighted</th>\n",
        "        <th>samples</th>\n",
        "    </tr>\n",
        "    </thead>\n",
        "    <thead>\n",
        "    <tr>\n",
        "        <th colspan=\"5\">χ=5</th>\n",
        "    </tr>\n",
        "    </thead>\n",
        "    <tbody>\n",
        "    <tr>\n",
        "        <td>train</td>\n",
        "        <td>0.0325</td>\n",
        "        <td>0.2499</td>\n",
        "        <td>0.1548</td>\n",
        "        <td>0.2375</td>\n",
        "    </tr>\n",
        "    <tr>\n",
        "        <td>dev</td>\n",
        "        <td>0.0294</td>\n",
        "        <td>0.2243</td>\n",
        "        <td>0.1398</td>\n",
        "        <td>0.2123</td>\n",
        "    </tr>\n",
        "    <tr>\n",
        "        <td>test</td>\n",
        "        <td>0.0311</td>\n",
        "        <td>0.2354</td>\n",
        "        <td>0.1448</td>\n",
        "        <td>0.2248</td>\n",
        "    </tr>\n",
        "    <thead>\n",
        "    <tr>\n",
        "        <th colspan=\"5\">χ=10</th>\n",
        "    </tr>\n",
        "    </thead>\n",
        "    <tbody>\n",
        "    <tr>\n",
        "        <td>train</td>\n",
        "        <td>0.0385</td>\n",
        "        <td>0.2673</td>\n",
        "        <td>0.1743</td>\n",
        "        <td>0.2446</td>\n",
        "    </tr>\n",
        "    <tr>\n",
        "        <td>dev</td>\n",
        "        <td>0.0346</td>\n",
        "        <td>0.2299</td>\n",
        "        <td>0.1534</td>\n",
        "        <td>0.2116</td>\n",
        "    </tr>\n",
        "    <tr>\n",
        "        <td>test</td>\n",
        "        <td>0.0362</td>\n",
        "        <td>0.2323</td>\n",
        "        <td>0.1536</td>\n",
        "        <td>0.2146</td>\n",
        "    </tr>\n",
        "    </tbody>\n",
        "    <thead>\n",
        "    <tr>\n",
        "        <th colspan=\"5\">χ=15</th>\n",
        "    </tr>\n",
        "    </thead>\n",
        "    <tbody>\n",
        "    <tr>\n",
        "        <td>train</td>\n",
        "        <td>0.033</td>\n",
        "        <td>0.2485</td>\n",
        "        <td>0.1548</td>\n",
        "        <td>0.2334</td>\n",
        "    </tr>\n",
        "    <tr>\n",
        "        <td>dev</td>\n",
        "        <td>0.0313</td>\n",
        "        <td>0.2279</td>\n",
        "        <td>0.1438</td>\n",
        "        <td>0.2153</td>\n",
        "    </tr>\n",
        "    <tr>\n",
        "        <td>test</td>\n",
        "        <td>0.0329</td>\n",
        "        <td>0.2364</td>\n",
        "        <td>0.1495</td>\n",
        "        <td>0.225</td>\n",
        "    </tr>\n",
        "    </tbody>\n",
        "    <thead>\n",
        "    <tr>\n",
        "        <th colspan=\"5\">χ=20</th>\n",
        "    </tr>\n",
        "    </thead>\n",
        "    <tbody>\n",
        "    <tr>\n",
        "        <td>train</td>\n",
        "        <td>0.0922</td>\n",
        "        <td>0.3783</td>\n",
        "        <td>0.2846</td>\n",
        "        <td>0.3222</td>\n",
        "    </tr>\n",
        "    <tr>\n",
        "        <td>dev</td>\n",
        "        <td>0.1097</td>\n",
        "        <td>0.2553</td>\n",
        "        <td>0.2368</td>\n",
        "        <td>0.226</td>\n",
        "    </tr>\n",
        "    <tr>\n",
        "        <td>test</td>\n",
        "        <td>0.1106</td>\n",
        "        <td>0.2547</td>\n",
        "        <td>0.2424</td>\n",
        "        <td>0.2275</td>\n",
        "    </tr>\n",
        "    </tbody>\n",
        "    <thead>\n",
        "    <tr>\n",
        "        <th colspan=\"5\">χ=25</th>\n",
        "    </tr>\n",
        "    </thead>\n",
        "    <tbody>\n",
        "    <tr>\n",
        "        <td>train</td>\n",
        "        <td>0.1217</td>\n",
        "        <td>0.4005</td>\n",
        "        <td>0.3146</td>\n",
        "        <td>0.335</td>\n",
        "    </tr>\n",
        "    <tr>\n",
        "        <td>dev</td>\n",
        "        <td>0.1349</td>\n",
        "        <td>0.2516</td>\n",
        "        <td>0.2646</td>\n",
        "        <td>0.22</td>\n",
        "    </tr>\n",
        "    <tr>\n",
        "        <td>test</td>\n",
        "        <td>0.1309</td>\n",
        "        <td>0.2465</td>\n",
        "        <td>0.2628</td>\n",
        "        <td>0.2153</td>\n",
        "    </tr>\n",
        "    </tbody>\n",
        "    <thead>\n",
        "    <tr>\n",
        "        <th colspan=\"5\">χ=30</th>\n",
        "    </tr>\n",
        "    </thead>\n",
        "    <tbody>\n",
        "    <tr>\n",
        "        <td>train</td>\n",
        "        <td>0.1185</td>\n",
        "        <td>0.3806</td>\n",
        "        <td>0.2936</td>\n",
        "        <td>0.3181</td>\n",
        "    </tr>\n",
        "    <tr>\n",
        "        <td>dev</td>\n",
        "        <td>0.1347</td>\n",
        "        <td>0.236</td>\n",
        "        <td>0.262</td>\n",
        "        <td>0.2157</td>\n",
        "    </tr>\n",
        "    <tr>\n",
        "        <td>test</td>\n",
        "        <td>0.1328</td>\n",
        "        <td>0.2354</td>\n",
        "        <td>0.2612</td>\n",
        "        <td>0.2168</td>\n",
        "    </tr>\n",
        "    </tbody>\n",
        "</table>\n"
      ]
    },
    {
      "cell_type": "markdown",
      "metadata": {
        "id": "fJFHpRtzvqBb",
        "colab_type": "text"
      },
      "source": [
        "We can see that a increase of bound dimensions improve the f-scores, however when we se the behavior of the loss function on the training process a increase on bound dimension also increase the loss value on validation dataset."
      ]
    },
    {
      "cell_type": "markdown",
      "metadata": {
        "id": "iVvwUvqRirt1",
        "colab_type": "text"
      },
      "source": [
        "#### RGB to Grayscale Feature Map\n",
        "\n",
        "The following feature map make a fusion of 3 channels (Red, Green and Blue) based on lightness. The weights of each channel are usually used in visual computation to generate grayscale images based on 3 channels. \n",
        "\n",
        "After fusion we apply **Binary Pixel feature Map** to generated grayscale image"
      ]
    },
    {
      "cell_type": "code",
      "metadata": {
        "id": "V6EADahJivzm",
        "colab_type": "code",
        "colab": {}
      },
      "source": [
        "def preprocess_image_rgb(x):\n",
        "    n_data, dim0, dim1, channels = tuple(x.shape)\n",
        "    n_sites = dim0 * dim1\n",
        "    r = x[:,:,:,0].reshape((n_data, n_sites)) * 0.21\n",
        "    g = x[:,:,:,1].reshape((n_data, n_sites)) * 0.72\n",
        "    b = x[:,:,:,2].reshape((n_data, n_sites)) * 0.07\n",
        "    x = (r + g + b) / 255\n",
        "    x = tf.keras.utils.to_categorical(tf.cast(tf.math.greater(x, 0.5), dtype=tf.int32), 2)\n",
        "    return tf.cast(x, dtype=tf.float32).numpy()"
      ],
      "execution_count": null,
      "outputs": []
    },
    {
      "cell_type": "code",
      "metadata": {
        "id": "GNj_CQJ6R0nx",
        "colab_type": "code",
        "colab": {}
      },
      "source": [
        "hf = h5py.File('storage/mps/mmimdb_mps_96.hdf5','r')\n",
        "dataset_names = list(hf.keys())\n",
        "dataset_names"
      ],
      "execution_count": null,
      "outputs": []
    },
    {
      "cell_type": "code",
      "metadata": {
        "id": "DYTGfgLdR094",
        "colab_type": "code",
        "colab": {}
      },
      "source": [
        "X_train = preprocess_image_rgb(hf['train_images'][()])\n",
        "X_dev = preprocess_image_rgb(hf['dev_images'][()])\n",
        "X_test = preprocess_image_rgb(hf['test_images'][()])\n",
        "\n",
        "X_train.shape, X_dev.shape, X_test.shape"
      ],
      "execution_count": null,
      "outputs": []
    },
    {
      "cell_type": "code",
      "metadata": {
        "id": "fMtVaUQbR4IW",
        "colab_type": "code",
        "colab": {}
      },
      "source": [
        "Y_train = hf['train_target'][()]\n",
        "Y_dev = hf['dev_target'][()]\n",
        "Y_test = hf['test_target'][()]\n",
        "\n",
        "Y_train.shape, Y_dev.shape, Y_test.shape"
      ],
      "execution_count": null,
      "outputs": []
    },
    {
      "cell_type": "code",
      "metadata": {
        "id": "WGhrBeCDRnV5",
        "colab_type": "code",
        "colab": {}
      },
      "source": [
        "batch_size = 64\n",
        "num_classes = 23\n",
        "epochs = 100"
      ],
      "execution_count": null,
      "outputs": []
    },
    {
      "cell_type": "code",
      "metadata": {
        "id": "3bAE6XNCRZmg",
        "colab_type": "code",
        "colab": {}
      },
      "source": [
        "for d_bond in [5, 10, 15, 20]:\n",
        "    print(f'init d_bond: {d_bond}')\n",
        "    n_sites = X_train.shape[1]\n",
        "    model = Sequential()\n",
        "    model.add(MPSLayer(n_sites=n_sites, d_bond=d_bond, n_output=num_classes))\n",
        "    model.add(layers.Activation(activations.sigmoid))\n",
        "\n",
        "\n",
        "    # Compile and run\n",
        "    model.compile(loss=tf.keras.losses.binary_crossentropy,\n",
        "                  optimizer=tf.keras.optimizers.Adadelta(),\n",
        "                  metrics=['accuracy'])\n",
        "\n",
        "    history = model.fit(X_train, Y_train,\n",
        "                        batch_size=batch_size,\n",
        "                        epochs=epochs,\n",
        "                        verbose=1,\n",
        "                        validation_data=(X_dev, Y_dev))\n",
        "    model.save(f'storage/mps_pixel_96_activation_{d_bond}')\n",
        "    save_history(history, name=f'history_pixel_96_mps_{d_bond}')\n",
        "    print(f'end d_bond: {d_bond}')"
      ],
      "execution_count": null,
      "outputs": []
    },
    {
      "cell_type": "code",
      "metadata": {
        "id": "k67lxl5azMxD",
        "colab_type": "code",
        "colab": {}
      },
      "source": [
        "h_5 = pd.read_json('/content/history_pixel_96_mps_5.json')\n",
        "h_10 = pd.read_json('/content/history_pixel_96_mps_10.json')\n",
        "h_15 = pd.read_json('/content/history_pixel_96_mps_15.json')\n",
        "h_20 = pd.read_json('/content/history_pixel_96_mps_20.json')"
      ],
      "execution_count": null,
      "outputs": []
    },
    {
      "cell_type": "code",
      "metadata": {
        "id": "AYZhhtvVziCD",
        "colab_type": "code",
        "colab": {
          "base_uri": "https://localhost:8080/",
          "height": 312
        },
        "outputId": "c0046e99-816b-43f9-85fd-5fda3ad6c0e6"
      },
      "source": [
        "interval = [ i for i in range(5)]\n",
        "h_5 = h_5.drop(interval, axis=0)\n",
        "plt.plot(h_5['loss'], label='loss')\n",
        "plt.title('MM-IMDb Posters - RGB Fusion - QFM χ=5')\n",
        "plt.plot(h_5['val_loss'], label='val_loss')\n",
        "plt.legend()\n",
        "plt.xlabel('Epoch')\n",
        "plt.ylabel('Loss')"
      ],
      "execution_count": null,
      "outputs": [
        {
          "output_type": "execute_result",
          "data": {
            "text/plain": [
              "Text(0, 0.5, 'Loss')"
            ]
          },
          "metadata": {
            "tags": []
          },
          "execution_count": 26
        },
        {
          "output_type": "display_data",
          "data": {
            "image/png": "[encoded data removed]",
            "text/plain": [
              "<Figure size 432x288 with 1 Axes>"
            ]
          },
          "metadata": {
            "tags": [],
            "needs_background": "light"
          }
        }
      ]
    },
    {
      "cell_type": "code",
      "metadata": {
        "id": "MMhlp8atzsvZ",
        "colab_type": "code",
        "colab": {
          "base_uri": "https://localhost:8080/",
          "height": 312
        },
        "outputId": "0deddc6b-7ddb-46e1-997f-c3be91bd9d4c"
      },
      "source": [
        "interval = [ i for i in range(5)]\n",
        "h_10 = h_10.drop(interval, axis=0)\n",
        "plt.plot(h_10['loss'], label='loss')\n",
        "plt.title('MM-IMDb Posters - RGB Fusion - QFM χ=10')\n",
        "plt.plot(h_10['val_loss'], label='val_loss')\n",
        "plt.legend()\n",
        "plt.xlabel('Epoch')\n",
        "plt.ylabel('Loss')"
      ],
      "execution_count": null,
      "outputs": [
        {
          "output_type": "execute_result",
          "data": {
            "text/plain": [
              "Text(0, 0.5, 'Loss')"
            ]
          },
          "metadata": {
            "tags": []
          },
          "execution_count": 28
        },
        {
          "output_type": "display_data",
          "data": {
            "image/png": "[encoded data removed]",
            "text/plain": [
              "<Figure size 432x288 with 1 Axes>"
            ]
          },
          "metadata": {
            "tags": [],
            "needs_background": "light"
          }
        }
      ]
    },
    {
      "cell_type": "code",
      "metadata": {
        "id": "eghttZfKztS6",
        "colab_type": "code",
        "colab": {
          "base_uri": "https://localhost:8080/",
          "height": 312
        },
        "outputId": "61671552-26d3-4ebd-aa82-5c6a979ad8cd"
      },
      "source": [
        "interval = [ i for i in range(5)]\n",
        "h_15 = h_15.drop(interval, axis=0)\n",
        "plt.plot(h_15['loss'], label='loss')\n",
        "plt.title('MM-IMDb Posters - RGB Fusion - QFM χ=15')\n",
        "plt.plot(h_15['val_loss'], label='val_loss')\n",
        "plt.legend()\n",
        "plt.xlabel('Epoch')\n",
        "plt.ylabel('Loss')"
      ],
      "execution_count": null,
      "outputs": [
        {
          "output_type": "execute_result",
          "data": {
            "text/plain": [
              "Text(0, 0.5, 'Loss')"
            ]
          },
          "metadata": {
            "tags": []
          },
          "execution_count": 30
        },
        {
          "output_type": "display_data",
          "data": {
            "image/png": "[encoded data removed]",
            "text/plain": [
              "<Figure size 432x288 with 1 Axes>"
            ]
          },
          "metadata": {
            "tags": [],
            "needs_background": "light"
          }
        }
      ]
    },
    {
      "cell_type": "code",
      "metadata": {
        "id": "Szwd35yuzuVk",
        "colab_type": "code",
        "colab": {
          "base_uri": "https://localhost:8080/",
          "height": 312
        },
        "outputId": "5bebb59d-f28d-4c2d-99c2-43878a3dda7d"
      },
      "source": [
        "interval = [ i for i in range(8)]\n",
        "h_20 = h_20.drop(interval, axis=0)\n",
        "plt.plot(h_20['loss'], label='loss')\n",
        "plt.title('MM-IMDb Posters - RGB Fusion - QFM χ=20')\n",
        "plt.plot(h_20['val_loss'], label='val_loss')\n",
        "plt.legend()\n",
        "plt.xlabel('Epoch')\n",
        "plt.ylabel('Loss')"
      ],
      "execution_count": null,
      "outputs": [
        {
          "output_type": "execute_result",
          "data": {
            "text/plain": [
              "Text(0, 0.5, 'Loss')"
            ]
          },
          "metadata": {
            "tags": []
          },
          "execution_count": 34
        },
        {
          "output_type": "display_data",
          "data": {
            "image/png": "[encoded data removed]",
            "text/plain": [
              "<Figure size 432x288 with 1 Axes>"
            ]
          },
          "metadata": {
            "tags": [],
            "needs_background": "light"
          }
        }
      ]
    },
    {
      "cell_type": "markdown",
      "metadata": {
        "id": "k2bi0AZsR9yu",
        "colab_type": "text"
      },
      "source": [
        "> **Results**"
      ]
    },
    {
      "cell_type": "markdown",
      "metadata": {
        "id": "d3e8Qcy7SAtF",
        "colab_type": "text"
      },
      "source": [
        "<table>\n",
        "    <thead>\n",
        "    <tr>\n",
        "        <th colspan=\"5\">F-Score</th>\n",
        "    </tr>\n",
        "    <tr>\n",
        "        <th>dataset</th>\n",
        "        <th>macro</th>\n",
        "        <th>micro</th>\n",
        "        <th>weighted</th>\n",
        "        <th>samples</th>\n",
        "    </tr>\n",
        "    </thead>\n",
        "    <thead>\n",
        "    <tr>\n",
        "        <th colspan=\"5\">χ=5</th>\n",
        "    </tr>\n",
        "    </thead>\n",
        "    <tbody>\n",
        "    <tr>\n",
        "        <td>train</td>\n",
        "        <td>0.0288</td>\n",
        "        <td>0.2433</td>\n",
        "        <td>0.1407</td>\n",
        "        <td>0.2381</td>\n",
        "    </tr>\n",
        "    <tr>\n",
        "        <td>dev</td>\n",
        "        <td>0.029</td>\n",
        "        <td>0.2333</td>\n",
        "        <td>0.1375</td>\n",
        "        <td>0.2282</td>\n",
        "    </tr>\n",
        "    <tr>\n",
        "        <td>test</td>\n",
        "        <td>0.0285</td>\n",
        "        <td>0.233</td>\n",
        "        <td>0.1356</td>\n",
        "        <td>0.2288</td>\n",
        "    </tr>\n",
        "    </tbody>\n",
        "    <thead>\n",
        "    <tr>\n",
        "        <th colspan=\"5\">χ=10</th>\n",
        "    </tr>\n",
        "    </thead>\n",
        "    <tbody>\n",
        "    <tr>\n",
        "        <td>train</td>\n",
        "        <td>0.0398</td>\n",
        "        <td>0.2524</td>\n",
        "        <td>0.1718</td>\n",
        "        <td>0.2156</td>\n",
        "    </tr>\n",
        "    <tr>\n",
        "        <td>dev</td>\n",
        "        <td>0.0531</td>\n",
        "        <td>0.2183</td>\n",
        "        <td>0.1666</td>\n",
        "        <td>0.1895</td>\n",
        "    </tr>\n",
        "    <tr>\n",
        "        <td>test</td>\n",
        "        <td>0.0507</td>\n",
        "        <td>0.2144</td>\n",
        "        <td>0.1629</td>\n",
        "        <td>0.1862</td>\n",
        "    </tr>\n",
        "    </tbody>\n",
        "    <thead>\n",
        "    <tr>\n",
        "        <th colspan=\"5\">χ=15</th>\n",
        "    </tr>\n",
        "    </thead>\n",
        "    <tbody>\n",
        "    <tr>\n",
        "        <td>train</td>\n",
        "        <td>0.0662</td>\n",
        "        <td>0.3318</td>\n",
        "        <td>0.2394</td>\n",
        "        <td>0.2786</td>\n",
        "    </tr>\n",
        "    <tr>\n",
        "        <td>dev</td>\n",
        "        <td>0.1048</td>\n",
        "        <td>0.2305</td>\n",
        "        <td>0.2262</td>\n",
        "        <td>0.2069</td>\n",
        "    </tr>\n",
        "    <tr>\n",
        "        <td>test</td>\n",
        "        <td>0.097</td>\n",
        "        <td>0.2255</td>\n",
        "        <td>0.2188</td>\n",
        "        <td>0.2</td>\n",
        "    </tr>\n",
        "    </tbody>\n",
        "    <thead>\n",
        "    <tr>\n",
        "        <th colspan=\"5\">χ=20</th>\n",
        "    </tr>\n",
        "    </thead>\n",
        "    <tbody>\n",
        "    <tr>\n",
        "        <td>train</td>\n",
        "        <td>0.055</td>\n",
        "        <td>0.2523</td>\n",
        "        <td>0.1908</td>\n",
        "        <td>0.195</td>\n",
        "    </tr>\n",
        "    <tr>\n",
        "        <td>dev</td>\n",
        "        <td>0.1362</td>\n",
        "        <td>0.2061</td>\n",
        "        <td>0.2645</td>\n",
        "        <td>0.1677</td>\n",
        "    </tr>\n",
        "    <tr>\n",
        "        <td>test</td>\n",
        "        <td>0.1387</td>\n",
        "        <td>0.2023</td>\n",
        "        <td>0.262</td>\n",
        "        <td>0.1641</td>\n",
        "    </tr>\n",
        "    </tbody>\n",
        "</table>"
      ]
    },
    {
      "cell_type": "markdown",
      "metadata": {
        "id": "YBpy2NLSDgBC",
        "colab_type": "text"
      },
      "source": [
        "## MPS for Textual Classification"
      ]
    },
    {
      "cell_type": "markdown",
      "metadata": {
        "id": "OyIlRVDmEtwk",
        "colab_type": "text"
      },
      "source": [
        "### English/Spanish Word Classification"
      ]
    },
    {
      "cell_type": "markdown",
      "metadata": {
        "id": "48Xvjs61_JTm",
        "colab_type": "text"
      },
      "source": [
        "#### Data Preprocessing"
      ]
    },
    {
      "cell_type": "markdown",
      "metadata": {
        "id": "sbDHLkoSFN3i",
        "colab_type": "text"
      },
      "source": [
        "The data set:\n",
        "\n",
        "English: The initial data set comes from the 10000 most common words in English data set, from the [Gutenberg project 2006](https://en.wiktionary.org/wiki/Wiktionary:Frequency_lists/PG/2006/04/1-10000)\n",
        "\n",
        "Spanish: The initial data set comes from the 10000 most common words from the  [RAE](http://corpus.rae.es/frec/10000_formas.TXT)\n",
        "\n",
        "We deleted special characters in both spanish and english and words with less three characters.\n",
        "\n",
        "After doing the cleaning and deleting the words we have a data set of 19001 words on both spanish and english, 9454 in english and 9547 in spanish\n",
        "\n",
        "In total we have a training data set of 12730 words, and a testing data set of 6271"
      ]
    },
    {
      "cell_type": "code",
      "metadata": {
        "colab_type": "code",
        "id": "EBVsLZur_qE2",
        "colab": {
          "base_uri": "https://localhost:8080/",
          "height": 216
        },
        "outputId": "7af9b914-2306-4f22-ced3-6e84f32b148d"
      },
      "source": [
        "# Data Upload as pandas\n",
        "git_raw_url_dataset = \"https://raw.githubusercontent.com/diegour1/Machine-Learning-2020/master/languages_words_19000.csv\"\n",
        "words_df = pd.read_csv(git_raw_url_dataset)\n",
        "\n",
        "# Lower case the language column\n",
        "words_df['Language'] = words_df['Language'].str.lower()\n",
        "words_df['Language'] = words_df['Language'].str.strip()\n",
        "\n",
        "print(words_df.shape) #(768, 9)\n",
        "words_df.head()"
      ],
      "execution_count": null,
      "outputs": [
        {
          "output_type": "stream",
          "text": [
            "(19001, 4)\n"
          ],
          "name": "stdout"
        },
        {
          "output_type": "execute_result",
          "data": {
            "text/html": [
              "<div>\n",
              "<style scoped>\n",
              "    .dataframe tbody tr th:only-of-type {\n",
              "        vertical-align: middle;\n",
              "    }\n",
              "\n",
              "    .dataframe tbody tr th {\n",
              "        vertical-align: top;\n",
              "    }\n",
              "\n",
              "    .dataframe thead th {\n",
              "        text-align: right;\n",
              "    }\n",
              "</style>\n",
              "<table border=\"1\" class=\"dataframe\">\n",
              "  <thead>\n",
              "    <tr style=\"text-align: right;\">\n",
              "      <th></th>\n",
              "      <th>Index</th>\n",
              "      <th>Word</th>\n",
              "      <th>Length</th>\n",
              "      <th>Language</th>\n",
              "    </tr>\n",
              "  </thead>\n",
              "  <tbody>\n",
              "    <tr>\n",
              "      <th>0</th>\n",
              "      <td>1</td>\n",
              "      <td>that</td>\n",
              "      <td>4</td>\n",
              "      <td>english</td>\n",
              "    </tr>\n",
              "    <tr>\n",
              "      <th>1</th>\n",
              "      <td>2</td>\n",
              "      <td>with</td>\n",
              "      <td>4</td>\n",
              "      <td>english</td>\n",
              "    </tr>\n",
              "    <tr>\n",
              "      <th>2</th>\n",
              "      <td>3</td>\n",
              "      <td>which</td>\n",
              "      <td>5</td>\n",
              "      <td>english</td>\n",
              "    </tr>\n",
              "    <tr>\n",
              "      <th>3</th>\n",
              "      <td>4</td>\n",
              "      <td>have</td>\n",
              "      <td>4</td>\n",
              "      <td>english</td>\n",
              "    </tr>\n",
              "    <tr>\n",
              "      <th>4</th>\n",
              "      <td>5</td>\n",
              "      <td>from</td>\n",
              "      <td>4</td>\n",
              "      <td>english</td>\n",
              "    </tr>\n",
              "  </tbody>\n",
              "</table>\n",
              "</div>"
            ],
            "text/plain": [
              "   Index   Word  Length Language\n",
              "0      1   that       4  english\n",
              "1      2   with       4  english\n",
              "2      3  which       5  english\n",
              "3      4   have       4  english\n",
              "4      5   from       4  english"
            ]
          },
          "metadata": {
            "tags": []
          },
          "execution_count": 41
        }
      ]
    },
    {
      "cell_type": "code",
      "metadata": {
        "colab_type": "code",
        "id": "7OSbG_dK_qFQ",
        "colab": {
          "base_uri": "https://localhost:8080/",
          "height": 35
        },
        "outputId": "fe300146-ed96-4968-9594-f4686e91abdc"
      },
      "source": [
        "# Split the Data as pandas\n",
        "X = words_df['Word']\n",
        "y = words_df['Language']\n",
        "\n",
        "# One hot encode the language\n",
        "Y = list(y)\n",
        "Y = np.array([1 if y == 'english' else 0 for y in Y])\n",
        "\n",
        "# split the data with training and testing\n",
        "data_train, data_validation, target_train, target_validation = train_test_split(X, Y, test_size=0.33, random_state=42)\n",
        "\n",
        "data_train.shape , data_validation.shape , target_train.shape , target_validation.shape"
      ],
      "execution_count": null,
      "outputs": [
        {
          "output_type": "execute_result",
          "data": {
            "text/plain": [
              "((12730,), (6271,), (12730,), (6271,))"
            ]
          },
          "metadata": {
            "tags": []
          },
          "execution_count": 42
        }
      ]
    },
    {
      "cell_type": "code",
      "metadata": {
        "colab_type": "code",
        "id": "Alzb6F-l_qFZ",
        "colab": {
          "base_uri": "https://localhost:8080/",
          "height": 34
        },
        "outputId": "c294da8d-770b-405d-ff6c-0c1f70764ef2"
      },
      "source": [
        "# Apply vectorizer function with diferent ngrams\n",
        "ngram_min = 2\n",
        "ngram_max = 2\n",
        "vectorizer = CountVectorizer(ngram_range = (ngram_min, ngram_max), analyzer = 'char')\n",
        "\n",
        "# Vectorice the data\n",
        "X1_train = vectorizer.fit_transform(data_train)\n",
        "X1_test = vectorizer.transform(data_validation)\n",
        "\n",
        "X1_train.shape, X1_test.shape"
      ],
      "execution_count": null,
      "outputs": [
        {
          "output_type": "execute_result",
          "data": {
            "text/plain": [
              "((12730, 464), (6271, 464))"
            ]
          },
          "metadata": {
            "tags": []
          },
          "execution_count": 6
        }
      ]
    },
    {
      "cell_type": "markdown",
      "metadata": {
        "id": "xlon6i1S_5to",
        "colab_type": "text"
      },
      "source": [
        "#### N-grams orderings\n",
        "\n",
        "Here we show various functions to change the ordering of the n-gram"
      ]
    },
    {
      "cell_type": "markdown",
      "metadata": {
        "id": "39_g8vcRBK3w",
        "colab_type": "text"
      },
      "source": [
        "Random ordering"
      ]
    },
    {
      "cell_type": "code",
      "metadata": {
        "id": "mJJzP5G3BXFq",
        "colab_type": "code",
        "colab": {}
      },
      "source": [
        "# Shuffle randomly the columns of X_train\n",
        "indices = np.arange(X1_train.shape[1])\n",
        "np.random.shuffle(indices)\n",
        "\n",
        "X1_train = X1_train[:,indices]\n",
        "X1_test = X1_test[:,indices]\n",
        "\n",
        "X1_train.shape, X1_test.shape"
      ],
      "execution_count": null,
      "outputs": []
    },
    {
      "cell_type": "markdown",
      "metadata": {
        "colab_type": "text",
        "id": "ulCALa8nAizF"
      },
      "source": [
        "Custom order 1"
      ]
    },
    {
      "cell_type": "code",
      "metadata": {
        "colab_type": "code",
        "id": "XsMIOblTAizK",
        "colab": {
          "base_uri": "https://localhost:8080/",
          "height": 35
        },
        "outputId": "ee58f50a-683e-474b-a5a7-657f4bed2689"
      },
      "source": [
        "# Create a list of indices which saves the first type of order of n_grams\n",
        "features_names = vectorizer.get_feature_names()\n",
        "letters = ['a', 'b','c','d','e','f','g','h','i','j','k','l','m',\n",
        "           'n','o','p','q','r','s','t','u','v','w','x','y','z',]\n",
        "\n",
        "# Create a list of indices which saves an special order of n_grams\n",
        "indices = []\n",
        "for i in range(26):\n",
        "  for j in range(i,26):\n",
        "    word_ij = ''.join([letters[i], letters[j]])\n",
        "    word_ji = ''.join([letters[j], letters[i]])\n",
        "    try:\n",
        "      indices.append(features_names.index(word_ij))\n",
        "    except: \n",
        "      pass\n",
        "    if word_ij != word_ji:\n",
        "      try:\n",
        "        indices.append(features_names.index(word_ji))\n",
        "      except:\n",
        "        pass\n",
        "\n",
        "len(indices), len(features_names)"
      ],
      "execution_count": null,
      "outputs": [
        {
          "output_type": "execute_result",
          "data": {
            "text/plain": [
              "(402, 402)"
            ]
          },
          "metadata": {
            "tags": []
          },
          "execution_count": 12
        }
      ]
    },
    {
      "cell_type": "code",
      "metadata": {
        "id": "llvBIqINBsuT",
        "colab_type": "code",
        "colab": {}
      },
      "source": [
        "# Order the n_grams based on the special order of n_grams\n",
        "X1_train = X1_train[:,indices]\n",
        "X1_test = X1_test[:,indices]\n",
        "\n",
        "X1_train.shape, X1_test.shape"
      ],
      "execution_count": null,
      "outputs": []
    },
    {
      "cell_type": "markdown",
      "metadata": {
        "id": "mVkJYjVBBycH",
        "colab_type": "text"
      },
      "source": [
        "Custom Order 2"
      ]
    },
    {
      "cell_type": "code",
      "metadata": {
        "colab_type": "code",
        "id": "YVeL0vd3B9_3",
        "colab": {}
      },
      "source": [
        "# Create a ordering based on the frequency of consecutive n-grams\n",
        "def generate_order(X, n_gram_range):\n",
        "  '''\n",
        "  The following function calc the order of n grams based on frequency\n",
        "  '''\n",
        "  vectorizer = CountVectorizer(ngram_range = (n_gram_range, n_gram_range), analyzer = 'char')\n",
        "  X1 = vectorizer.fit_transform(X)\n",
        "  vocab = vectorizer.vocabulary_\n",
        "  n_grams = []\n",
        "  for key in vocab:\n",
        "    n_grams.append(key)\n",
        "  n_grams.sort()\n",
        "  indexes = {}\n",
        "  for index, value in enumerate(n_grams):\n",
        "    indexes[value] = index\n",
        "  size = len(vocab)\n",
        "  freqs = np.zeros((size, size))\n",
        "  \n",
        "  for word in X:\n",
        "    for i in range(len(word) - (n_gram_range)):\n",
        "      current = word[i: i + n_gram_range].lower()\n",
        "      next = word[i + 1:i + 1 + n_gram_range].lower()\n",
        "      freqs[indexes[current]][indexes[next]] += 1\n",
        "  df = pd.DataFrame(freqs, columns=n_grams)\n",
        "  order = []\n",
        "\n",
        "  # selecciona el indice con frecuencia mas alta como inicio de ordenamiento\n",
        "  idx = np.argmax(df.sum(axis=1))\n",
        "  #idx = 0\n",
        "  #idx = np.argmin(df.sum(axis=1))\n",
        "  order.append(df.columns[idx])\n",
        "  df = df.drop(columns=[df.columns[idx]], axis=1)\n",
        "  length = df.shape[0]\n",
        "  while len(order) < length:\n",
        "    next = np.argmax(df.iloc[idx,:])\n",
        "    item = df.columns[next] \n",
        "    df = df.drop(columns=[item], axis=1)    \n",
        "    idx = indexes[item]\n",
        "    order.append(item)\n",
        "  return order"
      ],
      "execution_count": null,
      "outputs": []
    },
    {
      "cell_type": "code",
      "metadata": {
        "colab_type": "code",
        "id": "4XGftsLzB-AX",
        "colab": {
          "base_uri": "https://localhost:8080/",
          "height": 34
        },
        "outputId": "edcede0e-15a4-4a35-e836-6eaf61f13704"
      },
      "source": [
        "generate_order(['carro', 'perra', 'cierto'], 2)"
      ],
      "execution_count": null,
      "outputs": [
        {
          "output_type": "execute_result",
          "data": {
            "text/plain": [
              "['er', 'rr', 'ra', 'ar', 'ca', 'ci', 'ie', 'pe', 'ro', 'rt', 'to']"
            ]
          },
          "metadata": {
            "tags": []
          },
          "execution_count": 8
        }
      ]
    },
    {
      "cell_type": "code",
      "metadata": {
        "colab_type": "code",
        "id": "gPz4MBLADp1M",
        "colab": {}
      },
      "source": [
        "order_by_freq = generate_order(data_train, 2)"
      ],
      "execution_count": null,
      "outputs": []
    },
    {
      "cell_type": "code",
      "metadata": {
        "colab_type": "code",
        "id": "-cH_NMe8Dp1W",
        "colab": {}
      },
      "source": [
        "custom_vocabulary = {}\n",
        "for key, value in enumerate(order_by_freq):\n",
        "  custom_vocabulary[value] = key\n",
        "\n",
        "indices = []\n",
        "for key in vectorizer.vocabulary_:\n",
        "  indices.append(custom_vocabulary[key])"
      ],
      "execution_count": null,
      "outputs": []
    },
    {
      "cell_type": "code",
      "metadata": {
        "colab_type": "code",
        "id": "UdD_raAZDp1d",
        "colab": {
          "base_uri": "https://localhost:8080/",
          "height": 34
        },
        "outputId": "bdd6003b-316b-4eaf-b074-cb60d4c7d315"
      },
      "source": [
        "# order by custom indexes\n",
        "X1_train = X1_train[:,indices]\n",
        "X1_test = X1_test[:,indices]\n",
        "\n",
        "X1_train.shape, X1_test.shape"
      ],
      "execution_count": null,
      "outputs": [
        {
          "output_type": "execute_result",
          "data": {
            "text/plain": [
              "((12730, 464), (6271, 464))"
            ]
          },
          "metadata": {
            "tags": []
          },
          "execution_count": 14
        }
      ]
    },
    {
      "cell_type": "markdown",
      "metadata": {
        "id": "O36-tE6yCmwa",
        "colab_type": "text"
      },
      "source": [
        "Function for chosing three types of ordering (random, custom 2, or alphabetical)"
      ]
    },
    {
      "cell_type": "code",
      "metadata": {
        "colab_type": "code",
        "id": "mrkPhzlRDO19",
        "colab": {}
      },
      "source": [
        "def order(order_type, X_train_p = X1_train, X_test_p = X1_test):\n",
        "  \n",
        "  # Create the custom2 ordering\n",
        "  if order_type == 'custom1':   \n",
        "    order_by_freq = generate_order(data_train, 2)\n",
        "\n",
        "    # create a list of indices of the ordering\n",
        "    custom_vocabulary = {}\n",
        "    for key, value in enumerate(order_by_freq):\n",
        "      custom_vocabulary[value] = key\n",
        "    indices = []\n",
        "    for key in vectorizer.vocabulary_:\n",
        "      indices.append(custom_vocabulary[key])\n",
        "    # order by custom indexes\n",
        "    X_train_p = X_train_p[:,indices]\n",
        "    X_test_p = X_test_p[:,indices]\n",
        "\n",
        "  # Shuffle randomly the columns of X_train\n",
        "  elif order_type == 'random':    \n",
        "    indices = np.arange(X1_train.shape[1])\n",
        "    np.random.seed(4)\n",
        "    np.random.shuffle(indices)\n",
        "    X_train_p = X_train_p[:,indices]\n",
        "    X_test_p = X_test_p[:,indices]\n",
        "\n",
        "  # Shuffle in alphabetical order which is the default\n",
        "  elif order_type == 'alpha':\n",
        "    pass\n",
        "\n",
        "  return X_train_p, X_test_p"
      ],
      "execution_count": null,
      "outputs": []
    },
    {
      "cell_type": "code",
      "metadata": {
        "colab_type": "code",
        "id": "OvHW443xDO2N",
        "colab": {
          "base_uri": "https://localhost:8080/",
          "height": 34
        },
        "outputId": "f56a3fe1-0fd3-4eea-b202-c4396457ef59"
      },
      "source": [
        "# call the ordering of n_grams\n",
        "X_train, X_test = order('random')\n",
        "\n",
        "X_train.shape, X_test.shape, X_train[0].sum(), X_train.T[0].sum()"
      ],
      "execution_count": null,
      "outputs": [
        {
          "output_type": "execute_result",
          "data": {
            "text/plain": [
              "((12730, 464), (6271, 464), 8, 407)"
            ]
          },
          "metadata": {
            "tags": []
          },
          "execution_count": 9
        }
      ]
    },
    {
      "cell_type": "markdown",
      "metadata": {
        "colab_type": "text",
        "id": "e32ZK-YDDO2f"
      },
      "source": [
        "#### Textual feature Map"
      ]
    },
    {
      "cell_type": "markdown",
      "metadata": {
        "id": "rTNUDFHuG5Tq",
        "colab_type": "text"
      },
      "source": [
        "Preprocess the data with a suitable feature map, a 0 in the n_gram is mapped to $\\left|0\\right\\rangle$ and a 1 in the n_gram to $\\left|1\\right\\rangle$. For example (0,1,1) is mapped to ((1,0),(0,1),(0,1))"
      ]
    },
    {
      "cell_type": "code",
      "metadata": {
        "colab_type": "code",
        "id": "CPyDpcMlEhEF",
        "colab": {}
      },
      "source": [
        "'''\n",
        "Based on the notebook mps_mnist.ipynb from Stavros Efthymiou and https://arxiv.org/pdf/1906.06329.pdf\n",
        "'''\n",
        "def preprocess_words(x):\n",
        "  n_data, n_sites = tuple(x.shape)\n",
        "  x = x.todense()\n",
        "  x = tf.convert_to_tensor(x, dtype=tf.float32)\n",
        "  x = tf.cast(tf.math.greater(x, 0.5), dtype=tf.int32)\n",
        "  return tf.keras.utils.to_categorical(x, 2)"
      ],
      "execution_count": null,
      "outputs": []
    },
    {
      "cell_type": "code",
      "metadata": {
        "colab_type": "code",
        "id": "Dhjt9ey_EhES",
        "colab": {
          "base_uri": "https://localhost:8080/",
          "height": 34
        },
        "outputId": "29f89ac3-c8f2-4631-f28a-9e4391572f53"
      },
      "source": [
        "# Preprocess words and apply the quantum feature map\n",
        "X_train = preprocess_words(X_train)\n",
        "X_test = preprocess_words(X_test)\n",
        "\n",
        "# convert class vectors to binary class matrices\n",
        "y_train = tf.keras.utils.to_categorical(target_train, 2)\n",
        "y_test = tf.keras.utils.to_categorical(target_validation, 2)\n",
        "\n",
        "X_train.shape, X_test.shape, y_train.shape, y_test.shape"
      ],
      "execution_count": null,
      "outputs": [
        {
          "output_type": "execute_result",
          "data": {
            "text/plain": [
              "((12730, 464, 2), (6271, 464, 2), (12730, 2), (6271, 2))"
            ]
          },
          "metadata": {
            "tags": []
          },
          "execution_count": 11
        }
      ]
    },
    {
      "cell_type": "markdown",
      "metadata": {
        "id": "J09MbtB7LSa2",
        "colab_type": "text"
      },
      "source": [
        "#### MPS Training\n",
        "\n"
      ]
    },
    {
      "cell_type": "code",
      "metadata": {
        "colab_type": "code",
        "id": "Qqja0pPNGtbM",
        "colab": {}
      },
      "source": [
        "# Model Parameters\n",
        "batch_size = 32\n",
        "num_classes = 2\n",
        "epochs = 200\n",
        "# d_bond = 10 # for MPS\n",
        "num_exps = 3"
      ],
      "execution_count": null,
      "outputs": []
    },
    {
      "cell_type": "code",
      "metadata": {
        "colab_type": "code",
        "id": "SftfjSgJGtbu",
        "colab": {
          "base_uri": "https://localhost:8080/",
          "height": 170
        },
        "outputId": "08af7cd5-cb92-4775-82c4-e36d14efdbb2"
      },
      "source": [
        "'''\n",
        "Taken from the notebook mps_mnist.ipynb from Stavros Efthymiou and https://arxiv.org/pdf/1906.06329.pdf\n",
        "'''\n",
        "# The training is done on multiple bonds, and multiple experiments per bond\n",
        "print('randomOrder')\n",
        "bonds = [2, 4, 8, 16, 32]\n",
        "# bonds = [10, 20, 30, 40, 50, 60]\n",
        "\n",
        "# Create numpy arrays to keep track of data\n",
        "num_points = len(bonds)\n",
        "train_acc = np.zeros((num_points, num_exps))\n",
        "test_acc = np.zeros((num_points, num_exps))\n",
        "\n",
        "for i in range(num_exps):\n",
        "  for j in range(num_points):\n",
        "    init_time = time()\n",
        "    # Define model\n",
        "    n_sites = X1_train.shape[1]\n",
        "    model = Sequential()\n",
        "    model.add(MPSLayer(n_sites=n_sites, d_bond=bonds[j], n_output=num_classes))\n",
        "    model.add(layers.Softmax())\n",
        "\n",
        "    # Compile and run\n",
        "    model.compile(loss=tf.keras.losses.categorical_crossentropy,\n",
        "                  optimizer=tf.keras.optimizers.Adadelta(),\n",
        "                  metrics=['accuracy'])\n",
        "\n",
        "    history = model.fit(X_train, y_train,\n",
        "                      batch_size=batch_size,\n",
        "                      epochs=epochs,\n",
        "                      verbose=0,\n",
        "                      validation_data=(X_test, y_test))\n",
        "    score_test = model.evaluate(X_test, y_test, verbose=0)\n",
        "    score_train = model.evaluate(X_train, y_train, verbose=0)\n",
        "\n",
        "    print(bonds[j])\n",
        "    print('Train accuracy:', score_train[1])\n",
        "    print('Test accuracy:', score_test[1])\n",
        "    train_acc[j,i] = score_train[1]\n",
        "    test_acc[j,i] = score_test[1]\n",
        "\n",
        "    print(time()-init_time)\n",
        "\n",
        "# Save the average accuracies and standard deviations in three lists\n",
        "ave_train_acc = train_acc.mean(axis=1).tolist()\n",
        "ave_test_acc = test_acc.mean(axis=1).tolist()\n",
        "std_train_acc = train_acc.std(axis=1).tolist()\n",
        "std_test_acc = test_acc.std(axis=1).tolist()"
      ],
      "execution_count": null,
      "outputs": [
        {
          "output_type": "stream",
          "text": [
            "randomOrder\n",
            "2\n",
            "Train accuracy: 0.7594658136367798\n",
            "Test accuracy: 0.7523521184921265\n",
            "935.6121683120728\n",
            "4\n",
            "Train accuracy: 0.833385705947876\n",
            "Test accuracy: 0.8239515423774719\n",
            "2245.6878061294556\n"
          ],
          "name": "stdout"
        }
      ]
    },
    {
      "cell_type": "markdown",
      "metadata": {
        "id": "kt6kFcFLTYDA",
        "colab_type": "text"
      },
      "source": [
        "#### **Summary of Results**"
      ]
    },
    {
      "cell_type": "markdown",
      "metadata": {
        "colab_type": "text",
        "id": "FnPtfUBwHda1"
      },
      "source": [
        "Unigrams"
      ]
    },
    {
      "cell_type": "code",
      "metadata": {
        "colab_type": "code",
        "id": "QSGJj2g4HdbA",
        "colab": {}
      },
      "source": [
        "# potencias de 2\n",
        "# results custom order for (2, 4, 8, 16, 32) unigrams\n",
        "bonds = [2, 4, 8, 16, 32]\n",
        "train_acc_custom_unigram = [0.6934013962745667, 0.7005499005317688, 0.7136685252189636, 0.7212883234024048, 0.7270227670669556]\n",
        "test_acc_custom_unigram = [0.6966990828514099, 0.7027587294578552, 0.7136023044586182, 0.724126935005188, 0.7277945876121521]\n",
        "\n",
        "# results random order for (2, 4, 8, 16, 32) unigrams\n",
        "\n",
        "train_acc_random_unigram = [0.6935585141181946, 0.7019638419151306, 0.7151610255241394, 0.7219952940940857, 0.7271798849105835]\n",
        "test_acc_random_unigram = [0.6992505192756653, 0.7080210447311401, 0.7153564095497131, 0.7246053218841553, 0.7252432107925415]"
      ],
      "execution_count": null,
      "outputs": []
    },
    {
      "cell_type": "code",
      "metadata": {
        "colab_type": "code",
        "id": "wF3XTkFEHdbU",
        "colab": {}
      },
      "source": [
        "# results custom order for (10, 20, 30, 40, 50, 60) unigrams \n",
        "bonds = [10, 20, 30, 40, 50, 60]\n",
        "train_acc_custom_unigram = [0.7179890275001526, 0.7236449122428894, 0.7270227670669556, 0.728829562664032, 0.7304006218910217, 0.7322859168052673]\n",
        "test_acc_custom_unigram = [0.7196619510650635, 0.7254026532173157, 0.7265188694000244, 0.7285919189453125, 0.7289108633995056, 0.7293892502784729]\n",
        "\n",
        "# results random order for (10, 20, 30, 40, 50, 60) unigrams\n",
        "train_acc_random_unigram = [0.7161822319030762, 0.7223880887031555, 0.7265514731407166, 0.7278868556022644, 0.7298507690429688, 0.7321288585662842]\n",
        "test_acc_random_unigram = [0.7175889015197754, 0.7246053218841553, 0.7265188694000244, 0.7277945876121521, 0.7290703058242798, 0.7301865816116333] "
      ],
      "execution_count": null,
      "outputs": []
    },
    {
      "cell_type": "markdown",
      "metadata": {
        "colab_type": "text",
        "id": "6NxclXKsHdbi"
      },
      "source": [
        "Bigrams"
      ]
    },
    {
      "cell_type": "markdown",
      "metadata": {
        "colab_type": "text",
        "id": "Igd91Nl9Hdbk"
      },
      "source": [
        "Potencias de 2"
      ]
    },
    {
      "cell_type": "code",
      "metadata": {
        "colab_type": "code",
        "id": "kY5KRinoHdbn",
        "colab": {}
      },
      "source": [
        "# potencias de 2 bigram\n",
        "\n",
        "# results custom order for (2, 4, 8, 16, 32)\n",
        "bonds = [2, 4, 8, 16, 32]\n",
        "train_acc_custom_bigram = [0.8019638657569885, 0.8352710008621216, 0.8721916675567627, 0.8845247626304626, 0.8945797085762024]\n",
        "test_acc_custom_bigram = [0.791580319404602, 0.8352735042572021, 0.8630202412605286, 0.8738638162612915, 0.8826343417167664]\n",
        "\n",
        "# results random order for (2, 4, 8, 16, 32)\n",
        "train_acc_random_bigram = [0.7926944494247437, 0.8355852365493774, 0.8725059032440186, 0.8650432229042053, 0.8969363570213318]\n",
        "test_acc_random_bigram = [0.7867963910102844, 0.8234731554985046, 0.8604688048362732, 0.8623824119567871, 0.8821559548377991]\n",
        "\n",
        "# results alpha order for (2, 4, 8, 16, 32)\n",
        "train_acc_alpha_bigram = [0.8021209836006165, 0.8371562957763672, 0.8745483160018921, 0.8787902593612671, 0.8967792391777039]\n",
        "test_acc_alpha_bigram = [0.793334424495697, 0.8273002505302429, 0.8598309755325317, 0.872747540473938, 0.8810396790504456]\n",
        "\n",
        "# results custom2 order for (2, 4, 8, 16, 32)\n",
        "train_acc_custom2_bigram =[0.7904163599014282, 0.8453260064125061, 0.8698350191116333, 0.8835821151733398, 0.8923016786575317]\n",
        "test_acc_custom2_bigram = [0.7872747778892517, 0.8344761729240417, 0.8593525886535645, 0.872747540473938, 0.8773720264434814]"
      ],
      "execution_count": null,
      "outputs": []
    },
    {
      "cell_type": "markdown",
      "metadata": {
        "colab_type": "text",
        "id": "_tLyjj1ZHdb1"
      },
      "source": [
        "Multiples of 10"
      ]
    },
    {
      "cell_type": "code",
      "metadata": {
        "colab_type": "code",
        "id": "8Roh8mulHdb7",
        "colab": {}
      },
      "source": [
        "# Multiples of 10 bigram\n",
        "\n",
        "# results custom order for (10, 20, 30, 40, 50, 60)\n",
        "bonds = [10, 20, 30, 40, 50, 60]\n",
        "train_acc_custom_bigram = [0.8670070767402649, 0.8835035562515259, 0.8919874429702759, 0.8941869735717773, 0.9026708602905273, 0.9245090484619141]\n",
        "test_acc_custom_bigram = [0.8590336441993713, 0.870993435382843, 0.8794450759887695, 0.8842290043830872, 0.8880561590194702, 0.892999529838562]\n",
        "\n",
        "# results random order for (10, 20, 30, 40, 50, 60)\n",
        "train_acc_random_bigram = [0.8778476119041443, 0.8579732775688171, 0.8926944136619568, 0.8695993423461914, 0.8804398775100708, 0.9177533388137817]\n",
        "test_acc_random_bigram = [0.8657311201095581, 0.8556848764419556, 0.8811991810798645, 0.8631797432899475, 0.8716313242912292, 0.8904480934143066]\n",
        "\n",
        "# results alpha order for (10, 20, 30, 40, 50, 60)\n",
        "train_acc_alpha_bigram = [0.8692066073417664, 0.8773762583732605, 0.891123354434967, 0.9018067717552185, 0.9101335406303406, 0.9197171926498413]\n",
        "test_acc_alpha_bigram = [0.8609471917152405, 0.8722691535949707, 0.8788071870803833, 0.8872588276863098, 0.8870993256568909, 0.8945941925048828]\n",
        "\n",
        "# results custom2 order for (10, 20, 30, 40, 50, 60)\n",
        "train_acc_custom2_bigram = [0.8695208430290222, 0.8811469078063965, 0.8937941789627075, 0.9018067717552185, 0.9084839224815369, 0.9007070064544678]\n",
        "test_acc_custom2_bigram = [0.8647743463516235, 0.8698772192001343, 0.8815181255340576, 0.8877372145652771, 0.8890129327774048, 0.8717907667160034]"
      ],
      "execution_count": null,
      "outputs": []
    },
    {
      "cell_type": "code",
      "metadata": {
        "colab_type": "code",
        "id": "Zt4OvecHHdcN",
        "colab": {
          "base_uri": "https://localhost:8080/",
          "height": 313
        },
        "outputId": "d0da89cf-ae24-42cc-bef7-e360f5e09494"
      },
      "source": [
        "# plt.figure(figsize=(10, 7))\n",
        "plt.plot( bonds, test_acc_custom_bigram, label='test_acc_custom', color='green', marker = 's')\n",
        "plt.title('Eng/Spa DS - 2grams QFM')\n",
        "plt.plot( bonds, test_acc_random_bigram, label='test_acc_random', color='brown', marker='s')\n",
        "plt.plot( bonds, test_acc_alpha_bigram, label='test_acc_alpha', marker='s')\n",
        "#plt.plot( bonds, test_acc_custom2_bigram , label='test_acc_custom2', color='brown', marker='s')\n",
        "plt.legend()\n",
        "plt.ylim(0.85, .905)\n",
        "plt.xlabel('χ')\n",
        "# plt.semilogx(basex=2)\n",
        "plt.ylabel('Final Accuracy')"
      ],
      "execution_count": null,
      "outputs": [
        {
          "output_type": "execute_result",
          "data": {
            "text/plain": [
              "Text(0, 0.5, 'Final Accuracy')"
            ]
          },
          "metadata": {
            "tags": []
          },
          "execution_count": 37
        },
        {
          "output_type": "display_data",
          "data": {
            "image/png": "[encoded data removed]",
            "text/plain": [
              "<Figure size 432x288 with 1 Axes>"
            ]
          },
          "metadata": {
            "tags": [],
            "needs_background": "light"
          }
        }
      ]
    },
    {
      "cell_type": "code",
      "metadata": {
        "colab_type": "code",
        "id": "E1LPLR8SHdci",
        "colab": {
          "base_uri": "https://localhost:8080/",
          "height": 317
        },
        "outputId": "61b068e8-3ded-477c-d559-467541b0a4a1"
      },
      "source": [
        "# plt.figure(figsize=(10, 7))\n",
        "plt.plot( bonds, test_acc_custom_bigram, label='test_acc_custom', color='green', marker = 's')\n",
        "plt.title('Eng/Spa DS - 2grams QFM')\n",
        "plt.plot( bonds, test_acc_random_bigram, label='test_acc_random', color='brown', marker='s')\n",
        "plt.plot( bonds, test_acc_alpha_bigram, label='test_acc_alpha', marker='s')\n",
        "# plt.plot( bonds, test_acc_custom2_bigram , label='test_acc_custom2_bigram ', color='brown', marker='s')\n",
        "plt.legend()\n",
        "plt.ylim(0.78, .89)\n",
        "plt.xlabel('χ')\n",
        "plt.semilogx(basex=2)\n",
        "plt.ylabel('Final Accuracy')"
      ],
      "execution_count": null,
      "outputs": [
        {
          "output_type": "execute_result",
          "data": {
            "text/plain": [
              "Text(0, 0.5, 'Final Accuracy')"
            ]
          },
          "metadata": {
            "tags": []
          },
          "execution_count": 39
        },
        {
          "output_type": "display_data",
          "data": {
            "image/png": "[encoded data removed]",
            "text/plain": [
              "<Figure size 432x288 with 1 Axes>"
            ]
          },
          "metadata": {
            "tags": [],
            "needs_background": "light"
          }
        }
      ]
    },
    {
      "cell_type": "markdown",
      "metadata": {
        "id": "gHcrfGOhICbm",
        "colab_type": "text"
      },
      "source": [
        "Summary of results of 10 experiments per points for custom and random orders"
      ]
    },
    {
      "cell_type": "code",
      "metadata": {
        "colab_type": "code",
        "id": "6LcsgerHH-0j",
        "colab": {
          "base_uri": "https://localhost:8080/",
          "height": 217
        },
        "outputId": "9d0b5574-aa17-44b6-c488-eed6226cfcb9"
      },
      "source": [
        "## test accuracy custom\n",
        "bonds = [2, 4, 8, 16, 32]\n",
        "test_acc_custom = np.array([[0.76909584, 0.770531  , 0.78312868, 0.75745493, 0.77738798, 0.77499604, 0.75649816, 0.78265029, 0.78599906, 0.80051029],\n",
        "       [0.83080846, 0.83479512, 0.82634348, 0.81757295, 0.82985169, 0.84420347, 0.8333599 , 0.82442993, 0.82841653, 0.82889491],\n",
        "       [0.8587147 , 0.86030936, 0.85823631, 0.85839581, 0.86206347, 0.86413652, 0.8571201 , 0.85983098, 0.85775793, 0.85424972],\n",
        "       [0.86365813, 0.87195027, 0.86668795, 0.87226915, 0.87418276, 0.87067455, 0.87290704, 0.87019616, 0.87131238, 0.87019616],\n",
        "       [0.87928557, 0.87402326, 0.87816936, 0.87992346, 0.87785041, 0.88311273, 0.87609631, 0.87880719, 0.87785041, 0.87992346]])\n",
        "\n",
        "ave_test_acc_custom = test_acc_custom.mean(axis=1).tolist()\n",
        "std_test_acc_custom = test_acc_custom.std(axis=1).tolist()\n",
        "\n",
        "test_acc_custom.shape, ave_test_acc_custom, std_test_acc_custom"
      ],
      "execution_count": null,
      "outputs": [
        {
          "output_type": "execute_result",
          "data": {
            "text/plain": [
              "((5, 10),\n",
              " [0.775825227,\n",
              "  0.8298676440000001,\n",
              "  0.85908149,\n",
              "  0.8704034549999999,\n",
              "  0.878504216],\n",
              " [0.012650010638481724,\n",
              "  0.006626289137612694,\n",
              "  0.0025841597736169473,\n",
              "  0.00294473266973166,\n",
              "  0.0022981132861554145])"
            ]
          },
          "metadata": {
            "tags": []
          },
          "execution_count": 31
        }
      ]
    },
    {
      "cell_type": "code",
      "metadata": {
        "colab_type": "code",
        "id": "DjvsHJjYH-1D",
        "colab": {
          "base_uri": "https://localhost:8080/",
          "height": 217
        },
        "outputId": "2dd92158-238c-4af7-caf5-f19a5f124ab8"
      },
      "source": [
        "## test accuracy random\n",
        "\n",
        "test_acc_random = np.array([[0.76813906, 0.76191998, 0.76574707, 0.79397225, 0.77132833, 0.7788231372833252, 0.7523521184921265, 0.76766068, 0.76223886, 0.76829851 ],\n",
        "       [0.81980544, 0.82873547, 0.82331365, 0.83623028, 0.83128685, 0.8253867030143738, 0.8239515423774719, 0.8212406 , 0.82745975, 0.82618403],\n",
        "       [0.86030936, 0.85967153, 0.85743898, 0.85664171, 0.86365813, 0.8553659915924072, 0.8587146997451782, 0.86142564, 0.85999042, 0.85903364],\n",
        "       [0.87195027, 0.87322599, 0.87179077, 0.87115294, 0.86971778, 0.8614256381988525, 0.8729070425033569, 0.86238241, 0.86971778, 0.87099344],\n",
        "       [0.87641525, 0.8767342 , 0.87402326, 0.88088024, 0.88215595, 0.8811991810798645, 0.8792855739593506, 0.88103968, 0.88550472, 0.88295329]])\n",
        "\n",
        "ave_test_acc_random = test_acc_random.mean(axis=1).tolist()\n",
        "std_test_acc_random = test_acc_random.std(axis=1).tolist()\n",
        "\n",
        "test_acc_random.shape, ave_test_acc_random, std_test_acc_random"
      ],
      "execution_count": null,
      "outputs": [
        {
          "output_type": "execute_result",
          "data": {
            "text/plain": [
              "((5, 10),\n",
              " [0.7690479995775452,\n",
              "  0.8263594315391846,\n",
              "  0.8592250101337585,\n",
              "  0.8695264060702209,\n",
              "  0.8800191345039214],\n",
              " [0.010545642089011025,\n",
              "  0.004623616385596519,\n",
              "  0.0022695545154592855,\n",
              "  0.003970494344512589,\n",
              "  0.003266646954180394])"
            ]
          },
          "metadata": {
            "tags": []
          },
          "execution_count": 32
        }
      ]
    },
    {
      "cell_type": "code",
      "metadata": {
        "colab_type": "code",
        "id": "6mDdDBYxH-1R",
        "colab": {
          "base_uri": "https://localhost:8080/",
          "height": 317
        },
        "outputId": "1dbc63d5-47cb-4e05-b563-a9d85377d393"
      },
      "source": [
        "# plt.figure(figsize=(6,4))\n",
        "# plt.plot( bonds, ave_test_acc_custom, label='test_acc_custom', color='green', marker = 's')\n",
        "plt.errorbar(bonds, ave_test_acc_custom, yerr=std_test_acc_custom, capsize=3, label='test_acc_custom', color='green')\n",
        "plt.title('Eng/Spa DS - 2grams QFM - 10exps')\n",
        "# plt.plot( bonds, ave_test_acc_random, label='test_acc_random', color='red', marker='s')\n",
        "plt.errorbar(bonds, ave_test_acc_random, yerr=std_test_acc_random, capsize=3, label='test_acc_random', color='brown')\n",
        "# plt.plot( bonds, test_acc_alpha_bigram, label='test_acc_alpha_bigram', color='green', marker='s')\n",
        "# plt.plot( bonds, test_acc_custom2_bigram , label='test_acc_custom2_bigram ', color='brown', marker='s')\n",
        "plt.legend()\n",
        "plt.ylim(0.75, .89)\n",
        "plt.xlabel('χ')\n",
        "plt.semilogx(basex=2)\n",
        "plt.ylabel('Final Accuracy')"
      ],
      "execution_count": null,
      "outputs": [
        {
          "output_type": "execute_result",
          "data": {
            "text/plain": [
              "Text(0, 0.5, 'Final Accuracy')"
            ]
          },
          "metadata": {
            "tags": []
          },
          "execution_count": 40
        },
        {
          "output_type": "display_data",
          "data": {
            "image/png": "[encoded data removed]",
            "text/plain": [
              "<Figure size 432x288 with 1 Axes>"
            ]
          },
          "metadata": {
            "tags": [],
            "needs_background": "light"
          }
        }
      ]
    },
    {
      "cell_type": "markdown",
      "metadata": {
        "colab_type": "text",
        "id": "SYrBvIrkH-1t"
      },
      "source": [
        "#### Comparison with SVM\n",
        "\n"
      ]
    },
    {
      "cell_type": "markdown",
      "metadata": {
        "colab_type": "text",
        "id": "4KuKPNNbH-1w"
      },
      "source": [
        "We consider 2-grams to create the vectorizer histogram representation kernel."
      ]
    },
    {
      "cell_type": "code",
      "metadata": {
        "colab_type": "code",
        "id": "XKuWHDQWH-1z",
        "colab": {
          "base_uri": "https://localhost:8080/",
          "height": 35
        },
        "outputId": "2f10f80f-fe7f-449f-cd64-6866fa279300"
      },
      "source": [
        "# Apply vectorizer function with diferent ngrams\n",
        "ngram_min = 2\n",
        "ngram_max = 2\n",
        "vectorizer = CountVectorizer(ngram_range = (ngram_min, ngram_max), analyzer = 'char')\n",
        "\n",
        "# Vectorice the data\n",
        "X1_train = vectorizer.fit_transform(data_train)\n",
        "X1_test = vectorizer.transform(data_validation)\n",
        "\n",
        "X1_train.shape, X1_test.shape"
      ],
      "execution_count": null,
      "outputs": [
        {
          "output_type": "execute_result",
          "data": {
            "text/plain": [
              "((12730, 464), (6271, 464))"
            ]
          },
          "metadata": {
            "tags": []
          },
          "execution_count": 43
        }
      ]
    },
    {
      "cell_type": "markdown",
      "metadata": {
        "colab_type": "text",
        "id": "yp9aJ7xjH-2F"
      },
      "source": [
        " Function of the histogram Kernel"
      ]
    },
    {
      "cell_type": "code",
      "metadata": {
        "colab_type": "code",
        "id": "BMzH7uipH-2H",
        "colab": {}
      },
      "source": [
        "# Apply Histogram Kernel Function\n",
        "def histogram_kernel(X_p, X_p2):\n",
        "  N1 = X_p/np.sum(X_p, axis=1).reshape(-1, 1)\n",
        "  N2 = X_p2/np.sum(X_p2, axis=1).reshape(-1, 1)\n",
        "  K2_a = np.zeros((N1.shape[0], N2.shape[0]))\n",
        "  for d in range(N1.shape[1]):\n",
        "    column_1 = N1[:, d].reshape(-1, 1)\n",
        "    column_2 = N2[:, d].reshape(-1, 1)\n",
        "    K2_a += np.minimum(column_1, column_2.T)   \n",
        "  return K2_a "
      ],
      "execution_count": null,
      "outputs": []
    },
    {
      "cell_type": "code",
      "metadata": {
        "colab_type": "code",
        "id": "KSJ6nhheH-2P",
        "colab": {
          "base_uri": "https://localhost:8080/",
          "height": 72
        },
        "outputId": "15d43e9d-2b36-4a23-f978-1cbaac8d3685"
      },
      "source": [
        "# Example\n",
        "histogram_kernel(np.array([[0.2, 0.3],[0.1, 0.4],[0.3,0.2]]), np.array([[0.2, 0.3],[0.1, 0.4]]))"
      ],
      "execution_count": null,
      "outputs": [
        {
          "output_type": "execute_result",
          "data": {
            "text/plain": [
              "array([[1. , 0.8],\n",
              "       [0.8, 1. ],\n",
              "       [0.8, 0.6]])"
            ]
          },
          "metadata": {
            "tags": []
          },
          "execution_count": 45
        }
      ]
    },
    {
      "cell_type": "code",
      "metadata": {
        "colab_type": "code",
        "id": "ZNXh8Rd7H-2X",
        "colab": {
          "base_uri": "https://localhost:8080/",
          "height": 108
        },
        "outputId": "0f7ae6a4-589a-4272-bfad-6dba0f66333b"
      },
      "source": [
        "# Train the histogram kernel\n",
        "clf = svm.SVC(C=4.0, kernel=histogram_kernel)\n",
        "clf.fit(X1_train, target_train)"
      ],
      "execution_count": null,
      "outputs": [
        {
          "output_type": "execute_result",
          "data": {
            "text/plain": [
              "SVC(C=4.0, break_ties=False, cache_size=200, class_weight=None, coef0=0.0,\n",
              "    decision_function_shape='ovr', degree=3, gamma='scale',\n",
              "    kernel=<function histogram_kernel at 0x7f6d374589d8>, max_iter=-1,\n",
              "    probability=False, random_state=None, shrinking=True, tol=0.001,\n",
              "    verbose=False)"
            ]
          },
          "metadata": {
            "tags": []
          },
          "execution_count": 48
        }
      ]
    },
    {
      "cell_type": "code",
      "metadata": {
        "colab_type": "code",
        "id": "hBWhcuGuH-2g",
        "colab": {}
      },
      "source": [
        "pred = clf.predict(X1_test)"
      ],
      "execution_count": null,
      "outputs": []
    },
    {
      "cell_type": "code",
      "metadata": {
        "colab_type": "code",
        "id": "kFQ9buM_H-2m",
        "colab": {
          "base_uri": "https://localhost:8080/",
          "height": 35
        },
        "outputId": "e67dc9dd-0468-411d-f55d-1be5f04ea824"
      },
      "source": [
        "nt = len(target_validation)\n",
        "errors = np.sum(pred != target_validation)\n",
        "accuracy = 1-(errors/nt)\n",
        "accuracy"
      ],
      "execution_count": null,
      "outputs": [
        {
          "output_type": "execute_result",
          "data": {
            "text/plain": [
              "0.8762557805772604"
            ]
          },
          "metadata": {
            "tags": []
          },
          "execution_count": 50
        }
      ]
    },
    {
      "cell_type": "markdown",
      "metadata": {
        "colab_type": "text",
        "id": "Lc7n2jWqH-2w"
      },
      "source": [
        "The SVM obtains 87.62 % accuracy on test data on 2grams, the MPS tensor network obtains 89.45 % accuacy on test data on 2grams with a bond of $\\chi=60$. Hence the MPS tensor network outperforms the SVM."
      ]
    },
    {
      "cell_type": "markdown",
      "metadata": {
        "id": "qq-l8xYqI-Wu",
        "colab_type": "text"
      },
      "source": [
        "### MM-IMDb Plots Tidif QFM"
      ]
    },
    {
      "cell_type": "code",
      "metadata": {
        "colab_type": "code",
        "id": "ipbsgSFh81Ij",
        "colab": {}
      },
      "source": [
        "# Extract the sequences and genres of Train Google Drive\n",
        "train_three_grams = H5PYDataset('/content/drive/My Drive/Machine Learning 2020/multimodal_imdb.hdf5', which_sets=('train',), sources = ['three_grams'], load_in_memory=True)\n",
        "train_genres = H5PYDataset('/content/drive/My Drive/Machine Learning 2020/multimodal_imdb.hdf5', which_sets=('train',), sources = ['genres'], load_in_memory=True)\n",
        "# Extract the sequences and genres of Validation ('dev') \n",
        "validation_three_grams = H5PYDataset('/content/drive/My Drive/Machine Learning 2020/multimodal_imdb.hdf5', which_sets=('dev',), sources = ['three_grams'], load_in_memory=True)\n",
        "validation_genres = H5PYDataset('/content/drive/My Drive/Machine Learning 2020/multimodal_imdb.hdf5', which_sets=('dev',), sources = ['genres'], load_in_memory=True)\n",
        "# Extract the sequences and genres of Test\n",
        "test_three_grams = H5PYDataset('/content/drive/My Drive/Machine Learning 2020/multimodal_imdb.hdf5', which_sets=('test',), sources = ['three_grams'], load_in_memory=True)\n",
        "test_genres = H5PYDataset('/content/drive/My Drive/Machine Learning 2020/multimodal_imdb.hdf5', which_sets=('test',), sources = ['genres'], load_in_memory=True)\n",
        "\n",
        "# # Extract the sequences and genres of Train PaperSpace\n",
        "# train_sequences = H5PYDataset('storage/multimodal_imdb.hdf5', which_sets=('train',), sources = ['sequences'], load_in_memory=True)\n",
        "# train_genres = H5PYDataset('storage/multimodal_imdb.hdf5', which_sets=('train',), sources = ['genres'], load_in_memory=True)\n",
        "# # Extract the sequences and genres of Validation ('dev') \n",
        "# validation_sequences = H5PYDataset('storage/multimodal_imdb.hdf5', which_sets=('dev',), sources = ['sequences'], load_in_memory=True)\n",
        "# validation_genres = H5PYDataset('storage/multimodal_imdb.hdf5', which_sets=('dev',), sources = ['genres'], load_in_memory=True)\n",
        "# # Extract the sequences and genres of Test\n",
        "# test_sequences = H5PYDataset('storage/multimodal_imdb.hdf5', which_sets=('test',), sources = ['sequences'], load_in_memory=True)\n",
        "# test_genres = H5PYDataset('storage/multimodal_imdb.hdf5', which_sets=('test',), sources = ['genres'], load_in_memory=True)"
      ],
      "execution_count": null,
      "outputs": []
    },
    {
      "cell_type": "markdown",
      "metadata": {
        "colab_type": "text",
        "id": "wvKHEwtDxYj9"
      },
      "source": [
        "Request the data out of the fuel"
      ]
    },
    {
      "cell_type": "code",
      "metadata": {
        "id": "j_R7aY5f1-Xd",
        "colab_type": "code",
        "colab": {
          "base_uri": "https://localhost:8080/",
          "height": 126
        },
        "outputId": "d2d7385a-0460-4cba-8b03-e926d76def96"
      },
      "source": [
        "# Save the data in six variables\n",
        "X_train, = train_three_grams.data_sources\n",
        "X_validation, = validation_three_grams.data_sources\n",
        "X_test, = test_three_grams.data_sources\n",
        "y_train, = train_genres.data_sources\n",
        "y_validation, = validation_genres.data_sources\n",
        "y_test, = test_genres.data_sources\n",
        "\n",
        "X_train.shape, X_validation.shape, X_test.shape, y_train.shape, y_validation.shape, y_test.shape"
      ],
      "execution_count": null,
      "outputs": [
        {
          "output_type": "execute_result",
          "data": {
            "text/plain": [
              "((15552, 9946),\n",
              " (2608, 9946),\n",
              " (7799, 9946),\n",
              " (15552, 23),\n",
              " (2608, 23),\n",
              " (7799, 23))"
            ]
          },
          "metadata": {
            "tags": []
          },
          "execution_count": 9
        }
      ]
    },
    {
      "cell_type": "markdown",
      "metadata": {
        "colab_type": "text",
        "id": "-F6uko0WxYkD"
      },
      "source": [
        "Apply the feature Map"
      ]
    },
    {
      "cell_type": "code",
      "metadata": {
        "colab_type": "code",
        "id": "hXKSpyYCF9O5",
        "colab": {}
      },
      "source": [
        "'''\n",
        "Based on the notebook mps_mnist.ipynb from Stavros Efthymiou and https://arxiv.org/pdf/1906.06329.pdf\n",
        "'''\n",
        "# Find the average value of non zero values of the Tifdf vector, choose ket(0)\n",
        "# for values below the average ket(1) for n-grams above the average\n",
        "def preprocess_words(X_p):\n",
        "  n_data, n_sites = tuple(X_p.shape)\n",
        "  #x = x.todense()\n",
        "  average = X_p.sum(axis=1)/np.count_nonzero(X_p, axis=1)\n",
        "  average = tf.convert_to_tensor(average, dtype=tf.float32)\n",
        "  average = tf.keras.backend.reshape(average, shape=(-1, 1))\n",
        "  X_p = tf.convert_to_tensor(X_p, dtype=tf.float32)\n",
        "  X_p = tf.cast(tf.math.greater(X_p, average), dtype=tf.int32)\n",
        "  return tf.keras.utils.to_categorical(X_p, 2)"
      ],
      "execution_count": null,
      "outputs": []
    },
    {
      "cell_type": "code",
      "metadata": {
        "colab_type": "code",
        "id": "NpEYsElLxYkD",
        "colab": {
          "base_uri": "https://localhost:8080/",
          "height": 35
        },
        "outputId": "c97af56e-16f8-41ca-d3eb-40f99caffdbe"
      },
      "source": [
        "# Preprocess words and apply the quantum feature map\n",
        "X_train = preprocess_words(X_train)\n",
        "X_validation = preprocess_words(X_validation)\n",
        "X_test = preprocess_words(X_test)\n",
        "\n",
        "X_train.shape, X_validation.shape, X_test.shape"
      ],
      "execution_count": null,
      "outputs": [
        {
          "output_type": "execute_result",
          "data": {
            "text/plain": [
              "((15552, 9946, 2), (2608, 9946, 2), (7799, 9946, 2))"
            ]
          },
          "metadata": {
            "tags": []
          },
          "execution_count": 11
        }
      ]
    },
    {
      "cell_type": "markdown",
      "metadata": {
        "colab_type": "text",
        "id": "sTirYwRQxYkG"
      },
      "source": [
        "Model with MPS layer for the Classification "
      ]
    },
    {
      "cell_type": "code",
      "metadata": {
        "colab_type": "code",
        "id": "n9RNjAzFxYkH",
        "colab": {}
      },
      "source": [
        "# Model Parameters\n",
        "batch_size = 32\n",
        "num_classes = 23\n",
        "epochs = 200\n",
        "d_bond = 10 # for MPS"
      ],
      "execution_count": null,
      "outputs": []
    },
    {
      "cell_type": "code",
      "metadata": {
        "colab_type": "code",
        "id": "_PCdRG6qO1wf",
        "colab": {}
      },
      "source": [
        "'''\n",
        "Taken from the notebook mps_mnist.ipynb from Stavros Efthymiou and https://arxiv.org/pdf/1906.06329.pdf\n",
        "'''\n",
        "# Define model\n",
        "n_sites = X_train.shape[1]\n",
        "model = Sequential()\n",
        "model.add(MPSLayer(n_sites=n_sites, d_bond=d_bond, n_output=num_classes))\n",
        "model.add(layers.Activation(activations.sigmoid))\n",
        "\n",
        "\n",
        "# Compile and run\n",
        "model.compile(loss='binary_crossentropy',\n",
        "              optimizer=tf.keras.optimizers.Adadelta(),\n",
        "              metrics=['accuracy'])\n",
        "\n",
        "history = model.fit(X_train, y_train,\n",
        "                  batch_size=batch_size,\n",
        "                  epochs=epochs,\n",
        "                  verbose=1,\n",
        "                  validation_data=(X_validation, y_validation))\n",
        "score = model.evaluate(X_test, y_test, verbose=0)\n",
        "\n",
        "print('Test loss:', score[0])\n",
        "print('Test accuracy:', score[1])"
      ],
      "execution_count": null,
      "outputs": []
    },
    {
      "cell_type": "code",
      "metadata": {
        "colab_type": "code",
        "id": "ORWjtG34O1wr",
        "colab": {}
      },
      "source": [
        "# evaluates the model over a data set returning the 4 types of f-scores\n",
        "def evaluate_model(X_p, y_p, model_p = model):\n",
        "  # compute the prediction of the model\n",
        "  y_pred = model_p.predict(X_p)\n",
        "  y_pred[y_pred>=0.5] = 1\n",
        "  y_pred[y_pred<0.5] = 0\n",
        "\n",
        "  # compute the 4 types of f scores\n",
        "  f_macro = f1_score(y_p, y_pred, average='macro').round(3)\n",
        "  f_micro = f1_score(y_p, y_pred, average='micro').round(3)\n",
        "  f_weighted = f1_score(y_p, y_pred, average='weighted').round(3)\n",
        "  f_samples = f1_score(y_p, y_pred, average='samples').round(3)\n",
        "\n",
        "  return (f_macro, f_micro, f_weighted, f_samples)"
      ],
      "execution_count": null,
      "outputs": []
    },
    {
      "cell_type": "code",
      "metadata": {
        "colab_type": "code",
        "id": "bVkSl6euO1wt",
        "colab": {
          "base_uri": "https://localhost:8080/",
          "height": 35
        },
        "outputId": "54796e61-ba83-4b56-90c6-0b8b67f16adb"
      },
      "source": [
        "evaluate_model(X_train, y_train)"
      ],
      "execution_count": null,
      "outputs": [
        {
          "output_type": "execute_result",
          "data": {
            "text/plain": [
              "(0.217, 0.472, 0.416, 0.415)"
            ]
          },
          "metadata": {
            "tags": []
          },
          "execution_count": 21
        }
      ]
    },
    {
      "cell_type": "code",
      "metadata": {
        "colab_type": "code",
        "id": "y3EJob2KO1ww",
        "colab": {
          "base_uri": "https://localhost:8080/",
          "height": 35
        },
        "outputId": "2431404c-f2ce-40ff-8261-7bc335ed8939"
      },
      "source": [
        "evaluate_model(X_test, y_test)"
      ],
      "execution_count": null,
      "outputs": [
        {
          "output_type": "execute_result",
          "data": {
            "text/plain": [
              "(0.17, 0.387, 0.338, 0.344)"
            ]
          },
          "metadata": {
            "tags": []
          },
          "execution_count": 22
        }
      ]
    },
    {
      "cell_type": "code",
      "metadata": {
        "colab_type": "code",
        "id": "ZQ_S1b2yO1wy",
        "colab": {
          "base_uri": "https://localhost:8080/",
          "height": 35
        },
        "outputId": "ea8c1061-c2c4-4187-8773-f0e8ab15df4b"
      },
      "source": [
        "evaluate_model(X_validation, y_validation)"
      ],
      "execution_count": null,
      "outputs": [
        {
          "output_type": "execute_result",
          "data": {
            "text/plain": [
              "(0.169, 0.389, 0.339, 0.351)"
            ]
          },
          "metadata": {
            "tags": []
          },
          "execution_count": 23
        }
      ]
    },
    {
      "cell_type": "code",
      "metadata": {
        "colab_type": "code",
        "id": "1bXRWZ53O1w1",
        "colab": {
          "base_uri": "https://localhost:8080/",
          "height": 295
        },
        "outputId": "a49b4fd7-5464-41c9-ce70-4a7b06920061"
      },
      "source": [
        "plot_and_save_loss(history.history, 'MM-IMDb Plots - Tfidf QFM')"
      ],
      "execution_count": null,
      "outputs": [
        {
          "output_type": "display_data",
          "data": {
            "image/png": "[encoded data removed]",
            "text/plain": [
              "<Figure size 432x288 with 1 Axes>"
            ]
          },
          "metadata": {
            "tags": [],
            "needs_background": "light"
          }
        }
      ]
    },
    {
      "cell_type": "markdown",
      "metadata": {
        "id": "LE7DNTzgUyaQ",
        "colab_type": "text"
      },
      "source": [
        "#### **Results**\n",
        "\n",
        "The bond of the MPS is 10, We choosed the feature map based on Tidif, the results are summarized in the following table.\n",
        "\n",
        "|||**F-Score: MPS Tfidf QFM, bond=10**|||\n",
        "| :-- | :---: | :---:| :---: | :---: |\n",
        "|**dataset**|macro|micro|weighted|samples|\n",
        "|**Train**|0.217|0.472|0.416|0.415| \n",
        "|**Dev**|0.17|0.387|0.338| 0.344|\n",
        "|**Test**|0.169| 0.389|0.339|0.351|\n",
        "\n",
        "The results compared on **Test** data set on our **MPS Tfidf** model with respect to a **LSTM w2v** model, \n",
        "\n",
        "|||**F-Score: Test dataset** |||\n",
        "| :-- | :---: | :---:| :---: | :---: |\n",
        "|**Model**|macro|micro|weighted|samples|\n",
        "|**MPS Tfidf**|0.169| 0.389|0.339|0.351|\n",
        "|**LSTM w2v**|0.266| 0.478|0.434|0.471|\n",
        "\n"
      ]
    }
  ]
}