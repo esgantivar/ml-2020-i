{
  "nbformat": 4,
  "nbformat_minor": 0,
  "metadata": {
    "kernelspec": {
      "display_name": "Python 3",
      "language": "python",
      "name": "python3"
    },
    "language_info": {
      "codemirror_mode": {
        "name": "ipython",
        "version": 3
      },
      "file_extension": ".py",
      "mimetype": "text/x-python",
      "name": "python",
      "nbconvert_exporter": "python",
      "pygments_lexer": "ipython3",
      "version": "3.8.3"
    },
    "colab": {
      "name": "quiz3-3.ipynb",
      "provenance": [],
      "collapsed_sections": []
    }
  },
  "cells": [
    {
      "cell_type": "markdown",
      "metadata": {
        "id": "83kolEud32Tr",
        "colab_type": "text"
      },
      "source": [
        "# Quiz 3.2\n",
        "# Machine Learning 2020-1\n",
        "____________________"
      ]
    },
    {
      "cell_type": "markdown",
      "metadata": {
        "id": "UK9-nZAF32Tu",
        "colab_type": "text"
      },
      "source": [
        "### 1. (2.0)\n",
        "Design a function that maps a sample in the ${\\rm I\\!R}^2$ input space to a feature space induced by the kernel $k(x,y)=(3<x,y>+2)^{2}$. "
      ]
    },
    {
      "cell_type": "code",
      "metadata": {
        "id": "VmoV4kG532Tw",
        "colab_type": "code",
        "colab": {}
      },
      "source": [
        "import numpy as np\n",
        "\n",
        "def phi(x):\n",
        "    '''\n",
        "    x: a sample in the input space (numpy array of shape (2,))\n",
        "    returns a vector in the feature space corresponding to the image of x (numpy array of shape (6,))\n",
        "    '''\n",
        "    result = np.zeros(6)\n",
        "    ## Your code here\n",
        "    return [3*(x[0]**2), 3*(x[1]**2), np.sqrt(18) * x[0] * x[1], np.sqrt(12) * x[0], np.sqrt(12) * x[1], 2]\n"
      ],
      "execution_count": 0,
      "outputs": []
    },
    {
      "cell_type": "markdown",
      "metadata": {
        "id": "HO5yhrPs32T8",
        "colab_type": "text"
      },
      "source": [
        "### 2. (2.0)\n",
        "Given a linear classification model:\n",
        "\n",
        "$$\n",
        "f_\\alpha(x)=w(\\alpha)\\Phi(x),\n",
        "$$\n",
        "\n",
        "where $\\Phi:X\\rightarrow F$ is a mapping function associated with a kernel function $k:X\\times X\\rightarrow\\mathbb{{R}}$ and the weight vector $w$ is expressed as a linear combination of the training samples: \n",
        "\n",
        "$$\n",
        "w(\\alpha)=\\sum_{i=1}^{\\ell}\\alpha_{i}\\Phi(x_{i})\n",
        "$$\n",
        "\n",
        "Write a python function that calculates the following loss function:\n",
        "\n",
        "$$\n",
        "L(x_i, y_i, \\alpha) =  ||y_i - f_\\alpha(x_i)||^2 +C||w(\\alpha)||^2\n",
        "$$\n",
        "\n"
      ]
    },
    {
      "cell_type": "code",
      "metadata": {
        "id": "VlpbWfqI32T-",
        "colab_type": "code",
        "colab": {}
      },
      "source": [
        "def loss(K, alpha, C, k_x_i, y_i):\n",
        "    '''\n",
        "    K: a maatrix with the kernel between training samples (numpy array of shape (n, n))\n",
        "    alpha: alpha coefficients (numpy array of shape (1, n))\n",
        "    C: regularization parameter (scalar value)\n",
        "    k_x_i: a matrix with the value of the kernel between a sample x_i and all the training samples (numpy array of shape (1, n))\n",
        "    y: value of y_i (scalar value)\n",
        "    \n",
        "    Returns: the value of the loss function (scalar value)\n",
        "    '''\n",
        "    #+ 2* np.linalg.norm(alpha @ K)\n",
        "    s = 0\n",
        "    for i in range(K.shape[0]):\n",
        "      for j in range(K[i].shape[0]):\n",
        "        s += alpha[0][i]*alpha[0][j] * K[i][j]\n",
        "    return np.linalg.norm([y_i - np.dot(alpha, k_x_i)])**2 + C * s\n",
        "\n"
      ],
      "execution_count": 0,
      "outputs": []
    },
    {
      "cell_type": "code",
      "metadata": {
        "id": "qH2NC5zUHA1a",
        "colab_type": "code",
        "outputId": "df4d073f-d568-4226-ee77-d0c5c7b33d59",
        "colab": {
          "base_uri": "https://localhost:8080/",
          "height": 34
        }
      },
      "source": [
        "def compare(val1, val2, error):\n",
        "    if abs(val1 - val2) > error:\n",
        "        return False\n",
        "    return True\n",
        "K1 = np.array([[ 5.,  5.,  1., -2.,  4.],\n",
        "       [ 5., 10., -2.,  4.,  2.],\n",
        "       [ 1., -2.,  2., -4.,  2.],\n",
        "       [-2.,  4., -4.,  8., -4.],\n",
        "       [ 4.,  2.,  2., -4.,  4.]])\n",
        "K2 = np.array([[ 1.        ,  0.70710678,  0.31622777, -0.31622777,  0.89442719],\n",
        "       [ 0.70710678,  1.        , -0.4472136 ,  0.4472136 ,  0.31622777],\n",
        "       [ 0.31622777, -0.4472136 ,  1.        , -1.        ,  0.70710678],\n",
        "       [-0.31622777,  0.4472136 , -1.        ,  1.        , -0.70710678],\n",
        "       [ 0.89442719,  0.31622777,  0.70710678, -0.70710678,  1.        ]])\n",
        "loss1 = np.array([120.38, 54.35, 95.39, 197.14, 169.78000000000003])\n",
        "loss2 = np.array([12.199951187370711, 10.83126478015817, 12.956460645198362, 10.223146724668995, 19.15041515354923])\n",
        "y = np.array([0 ,1 ,0 ,1 ,1 ])\n",
        "alpha = np.array([[0.5, -0.2, 0.3, 1, -2]])\n",
        "C = 2\n",
        "losses1 = []\n",
        "for i in range(y.shape[0]):\n",
        "    losses1.append(loss(K1, alpha, C, K1[i], y[i]))\n",
        "np.allclose(loss1, losses1)\n",
        "losses2 = []\n",
        "for i in range(y.shape[0]):\n",
        "    losses2.append(loss(K2, alpha, C, K2[i], y[i]))\n",
        "np.allclose(loss2, losses2)"
      ],
      "execution_count": 0,
      "outputs": [
        {
          "output_type": "execute_result",
          "data": {
            "text/plain": [
              "True"
            ]
          },
          "metadata": {
            "tags": []
          },
          "execution_count": 19
        }
      ]
    },
    {
      "cell_type": "code",
      "metadata": {
        "id": "SR3AyelUHmoX",
        "colab_type": "code",
        "outputId": "3e3d811c-4482-4706-fc44-8c6cf71dfd98",
        "colab": {
          "base_uri": "https://localhost:8080/",
          "height": 34
        }
      },
      "source": [
        "alpha @ K1"
      ],
      "execution_count": 0,
      "outputs": [
        {
          "output_type": "execute_result",
          "data": {
            "text/plain": [
              "array([[-8.2, -0.1, -6.5, 13. , -9.8]])"
            ]
          },
          "metadata": {
            "tags": []
          },
          "execution_count": 21
        }
      ]
    },
    {
      "cell_type": "code",
      "metadata": {
        "id": "IwjJbj7GHvXS",
        "colab_type": "code",
        "colab": {}
      },
      "source": [
        "a = [-8.2, -0.1, -6.5, 13. , -9.8]"
      ],
      "execution_count": 0,
      "outputs": []
    },
    {
      "cell_type": "code",
      "metadata": {
        "id": "7DmLNmorHyt1",
        "colab_type": "code",
        "outputId": "ad02241b-6782-4713-e4cd-f2a9c5f25a5d",
        "colab": {
          "base_uri": "https://localhost:8080/",
          "height": 34
        }
      },
      "source": [
        "np.linalg.norm(a)"
      ],
      "execution_count": 0,
      "outputs": [
        {
          "output_type": "execute_result",
          "data": {
            "text/plain": [
              "19.35303593754737"
            ]
          },
          "metadata": {
            "tags": []
          },
          "execution_count": 23
        }
      ]
    }
  ]
}