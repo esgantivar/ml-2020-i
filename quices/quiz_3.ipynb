{
  "nbformat": 4,
  "nbformat_minor": 0,
  "metadata": {
    "kernelspec": {
      "display_name": "Python 3",
      "language": "python",
      "name": "python3"
    },
    "language_info": {
      "codemirror_mode": {
        "name": "ipython",
        "version": 3
      },
      "file_extension": ".py",
      "mimetype": "text/x-python",
      "name": "python",
      "nbconvert_exporter": "python",
      "pygments_lexer": "ipython3",
      "version": "3.6.10"
    },
    "colab": {
      "name": "Quiz3.ipynb",
      "provenance": [],
      "collapsed_sections": []
    }
  },
  "cells": [
    {
      "cell_type": "markdown",
      "metadata": {
        "id": "-RQWvwCwq8HO",
        "colab_type": "text"
      },
      "source": [
        "# Quiz 3\n",
        "# Machine Learning 2020-1\n",
        "\n",
        "When you submit the notebook to UNCode, please verify that any code different from the requested functions is commented.\n",
        "\n",
        "____________________"
      ]
    },
    {
      "cell_type": "markdown",
      "metadata": {
        "id": "hugZ24Ubq8HP",
        "colab_type": "text"
      },
      "source": [
        "### 1. (2.0)\n",
        "Design a function that maps a sample in the ${\\rm I\\!R}^2$ input space to a feature space induced by the kernel $k(x,y)=(2<x,y>+1)^{2}$. "
      ]
    },
    {
      "cell_type": "code",
      "metadata": {
        "id": "-dpRYNX8q8HQ",
        "colab_type": "code",
        "colab": {}
      },
      "source": [
        "import numpy as np\n",
        "\n",
        "def phi(x):\n",
        "    '''\n",
        "    x: a sample in the input space (numpy array of shape (2,))\n",
        "    returns a vector in the feature space corresponding to the image of x (numpy array of shape (6,))\n",
        "    '''\n",
        "    result = np.zeros(6)\n",
        "    result[0] = 2*(x[0]**2)\n",
        "    result[1] = 2*(x[1]**2)\n",
        "    result[2] = 2*x[0]\n",
        "    result[3] = 2*x[1]\n",
        "    result[4] = np.sqrt(8) * x[0] * x[1]\n",
        "    result[5] = 1\n",
        "    return result\n",
        "\n"
      ],
      "execution_count": 0,
      "outputs": []
    },
    {
      "cell_type": "markdown",
      "metadata": {
        "id": "GdQK55Pwq8HW",
        "colab_type": "text"
      },
      "source": [
        "### 2. (2.0)\n",
        "A kernel ridge regression (KRR) model was trained with a particular dataset using the kernel $k(x,y)=(2<x,y>+1)^{2}$. As a result, an  $\\alpha$ vector was obtained.\n",
        "\n",
        "Design a function that calculates the $w$ vector of the KRR model."
      ]
    },
    {
      "cell_type": "code",
      "metadata": {
        "id": "45rEMNokq8HW",
        "colab_type": "code",
        "colab": {}
      },
      "source": [
        "def calculate_w(X, y, alpha):\n",
        "    '''\n",
        "    X: training vectors (numpy array of shape (n, 2))\n",
        "    y: training outputs (numpy array of shape (n,))\n",
        "    alpha: alpha coefficients (numpy array of shape (n,))\n",
        "    returns the vector w in the feature space that defines the separating hyperplane (numpy array of shape (6,))\n",
        "    '''\n",
        "    w = np.zeros(6)\n",
        "    _X = []\n",
        "    for i in X:\n",
        "      _X.append(phi(i).tolist())\n",
        "    _X = np.array(_X)\n",
        "    return _X.T @ alpha\n",
        "\n"
      ],
      "execution_count": 0,
      "outputs": []
    },
    {
      "cell_type": "markdown",
      "metadata": {
        "id": "9sxSM9F9q8Ha",
        "colab_type": "text"
      },
      "source": [
        "### 3. (1.0) \n",
        "\n",
        "\n",
        "\n",
        "Design a function that calculates the prediction function for the KRR model."
      ]
    },
    {
      "cell_type": "code",
      "metadata": {
        "id": "tpLMzT-gq8Hb",
        "colab_type": "code",
        "colab": {}
      },
      "source": [
        "def prediction(x, X, y, alpha):\n",
        "    '''\n",
        "    x: the sample to predict (numpy array of shape (2,))\n",
        "    X: training vectors (numpy array of shape (n, 2))\n",
        "    y: training outputs (numpy array of shape (n,))\n",
        "    alpha: alpha coefficients (numpy array of shape (n,))\n",
        "    returns the value of the KRR model evaluated on x\n",
        "    '''\n",
        "    result = 0\n",
        "    w = calculate_w(X,y,alpha)\n",
        "    X = phi(x)\n",
        "    return np.dot(X,w)\n",
        "\n"
      ],
      "execution_count": 0,
      "outputs": []
    }
  ]
}