{
  "nbformat": 4,
  "nbformat_minor": 0,
  "metadata": {
    "colab": {
      "name": "ml_assign3_diusecher_esgantivar.ipynb",
      "provenance": [],
      "collapsed_sections": [],
      "toc_visible": true
    },
    "kernelspec": {
      "name": "python3",
      "language": "python",
      "display_name": "Python 3"
    }
  },
  "cells": [
    {
      "cell_type": "markdown",
      "metadata": {
        "id": "8FHRS9Xtj5En",
        "colab_type": "text"
      },
      "source": [
        "# **Assignment 3, Machine Learning 2020**\n",
        "\n",
        "> Diego Useche Reyes, diusecher@unal.edu.co\n",
        "\n",
        "> Sneyder Gantiva, esgantivar@unal.edu.co\n",
        "\n"
      ]
    },
    {
      "cell_type": "markdown",
      "metadata": {
        "id": "w3X9J6DsoXJU",
        "colab_type": "text"
      },
      "source": [
        "## Libraries"
      ]
    },
    {
      "cell_type": "code",
      "metadata": {
        "id": "PlJy3PS9oZmf",
        "colab_type": "code",
        "colab": {}
      },
      "source": [
        "import pandas as pd\n",
        "import numpy as np\n",
        "from sklearn.model_selection import train_test_split\n",
        "import matplotlib.pyplot as plt\n",
        "from matplotlib.colors import ListedColormap\n",
        "import pylab as pl\n",
        "\n",
        "from sklearn.feature_extraction.text import CountVectorizer\n",
        "from sklearn.metrics.pairwise import cosine_similarity\n",
        "from sklearn.metrics.pairwise import chi2_kernel\n",
        "from sklearn.metrics.pairwise import polynomial_kernel, linear_kernel, rbf_kernel\n",
        "from sklearn import svm\n",
        "from sklearn.model_selection import GridSearchCV\n",
        "\n",
        "from sklearn.datasets import make_moons, make_circles\n"
      ],
      "execution_count": 0,
      "outputs": []
    },
    {
      "cell_type": "markdown",
      "metadata": {
        "id": "COoRFN-riBY9",
        "colab_type": "text"
      },
      "source": [
        "## References"
      ]
    },
    {
      "cell_type": "markdown",
      "metadata": {
        "id": "lXeEgoZuiE5O",
        "colab_type": "text"
      },
      "source": [
        "- The ploting function for problem 3 was taken from the notebook IIS-ML-svm_seleccion_de_modelos.pynb from the class [2020 ML class](https://fagonzalezo.github.io/ml-2020-1/) from UNAL Prof Fabio Gonzalez"
      ]
    },
    {
      "cell_type": "markdown",
      "metadata": {
        "id": "2cIJ41Xxy-mn",
        "colab_type": "text"
      },
      "source": [
        "## Problem 1(a)\n",
        "\n",
        "Train an SVM for detecting whether a word belongs to English or Spanish.\n",
        "\n",
        "(a) Build training and test data sets. You can use the most frequent words in http://en.wiktionary.org/wiki/Wiktionary:Frequency_lists ) .Consider words at least 4\n",
        "characters long and ignore accents.\n",
        "\n",
        "Solution: \n",
        "\n",
        "English: The initial data set comes from the 10000 most common words in English data set, from the [Gutenberg project 2006](https://en.wiktionary.org/wiki/Wiktionary:Frequency_lists/PG/2006/04/1-10000)\n",
        "\n",
        "Spanish: The initial data set comes from the 10000 most common words from the  [RAE](http://corpus.rae.es/frec/10000_formas.TXT)\n",
        "\n",
        "We deleted special characters in both spanish and english and words with less three characters.\n",
        "\n",
        "After doing the cleaning and deleting the words we have a data set of 19001 words on both spanish and english, 9454 in english and 9547\n",
        "\n",
        "In total we have a training data set of 12730 words, and a testing data set of 6271\n"
      ]
    },
    {
      "cell_type": "code",
      "metadata": {
        "id": "IziqpdLbEKaL",
        "colab_type": "code",
        "outputId": "42819a16-9a4d-4c21-dab7-17bba791abd3",
        "colab": {
          "base_uri": "https://localhost:8080/",
          "height": 221
        }
      },
      "source": [
        "# Data Upload as pandas\n",
        "git_raw_url_dataset = \"https://raw.githubusercontent.com/esgantivar/ml-datasets/master/languages_words.csv\"\n",
        "words_df = pd.read_csv(git_raw_url_dataset)\n",
        "\n",
        "\"\"\"\n",
        "\n",
        "# Delete words that are both in spanish and english\n",
        "# Get the count of each value\n",
        "value_counts = words_df['Word'].value_counts()\n",
        "# Select the values where the count is less than 3 (or 5 if you like)\n",
        "to_remove = value_counts[value_counts > 1].index\n",
        "# Keep rows where the city column is not in to_remove\n",
        "words_df = words_df[~words_df.Word.isin(to_remove)]\n",
        "\n",
        "\"\"\"\n",
        "\n",
        "# Lower case the language column\n",
        "words_df['Language'] = words_df['Language'].str.lower()\n",
        "words_df['Language'] = words_df['Language'].str.strip()\n",
        "\n",
        "print(words_df.shape) #(768, 9)\n",
        "words_df.head()"
      ],
      "execution_count": 0,
      "outputs": [
        {
          "output_type": "stream",
          "text": [
            "(7000, 4)\n"
          ],
          "name": "stdout"
        },
        {
          "output_type": "execute_result",
          "data": {
            "text/html": [
              "<div>\n",
              "<style scoped>\n",
              "    .dataframe tbody tr th:only-of-type {\n",
              "        vertical-align: middle;\n",
              "    }\n",
              "\n",
              "    .dataframe tbody tr th {\n",
              "        vertical-align: top;\n",
              "    }\n",
              "\n",
              "    .dataframe thead th {\n",
              "        text-align: right;\n",
              "    }\n",
              "</style>\n",
              "<table border=\"1\" class=\"dataframe\">\n",
              "  <thead>\n",
              "    <tr style=\"text-align: right;\">\n",
              "      <th></th>\n",
              "      <th>Index</th>\n",
              "      <th>Word</th>\n",
              "      <th>Length</th>\n",
              "      <th>Language</th>\n",
              "    </tr>\n",
              "  </thead>\n",
              "  <tbody>\n",
              "    <tr>\n",
              "      <th>0</th>\n",
              "      <td>1</td>\n",
              "      <td>that</td>\n",
              "      <td>4</td>\n",
              "      <td>english</td>\n",
              "    </tr>\n",
              "    <tr>\n",
              "      <th>1</th>\n",
              "      <td>2</td>\n",
              "      <td>with</td>\n",
              "      <td>4</td>\n",
              "      <td>english</td>\n",
              "    </tr>\n",
              "    <tr>\n",
              "      <th>2</th>\n",
              "      <td>3</td>\n",
              "      <td>which</td>\n",
              "      <td>5</td>\n",
              "      <td>english</td>\n",
              "    </tr>\n",
              "    <tr>\n",
              "      <th>3</th>\n",
              "      <td>4</td>\n",
              "      <td>have</td>\n",
              "      <td>4</td>\n",
              "      <td>english</td>\n",
              "    </tr>\n",
              "    <tr>\n",
              "      <th>4</th>\n",
              "      <td>5</td>\n",
              "      <td>from</td>\n",
              "      <td>4</td>\n",
              "      <td>english</td>\n",
              "    </tr>\n",
              "  </tbody>\n",
              "</table>\n",
              "</div>"
            ],
            "text/plain": [
              "   Index   Word  Length Language\n",
              "0      1   that       4  english\n",
              "1      2   with       4  english\n",
              "2      3  which       5  english\n",
              "3      4   have       4  english\n",
              "4      5   from       4  english"
            ]
          },
          "metadata": {
            "tags": []
          },
          "execution_count": 2
        }
      ]
    },
    {
      "cell_type": "code",
      "metadata": {
        "id": "IZSHXYBMsXE7",
        "colab_type": "code",
        "outputId": "662c5799-0141-4b38-f5e2-7c954d6fe23c",
        "colab": {
          "base_uri": "https://localhost:8080/",
          "height": 34
        }
      },
      "source": [
        "# Split the Data as pandas\n",
        "X = words_df['Word']\n",
        "y = words_df['Language']\n",
        "\n",
        "# One hot encode the language\n",
        "Y = list(y)\n",
        "Y = np.array([1 if y == 'english' else 0 for y in Y])\n",
        "\n",
        "# split the data with training and testing\n",
        "data_train, data_validation, target_train, target_validation = train_test_split(X, Y, test_size=0.33, random_state=42)\n",
        "\n",
        "data_train.shape , data_validation.shape , target_train.shape , target_validation.shape"
      ],
      "execution_count": 0,
      "outputs": [
        {
          "output_type": "execute_result",
          "data": {
            "text/plain": [
              "((4690,), (2310,), (4690,), (2310,))"
            ]
          },
          "metadata": {
            "tags": []
          },
          "execution_count": 3
        }
      ]
    },
    {
      "cell_type": "code",
      "metadata": {
        "id": "Gy7l0vrwtdCs",
        "colab_type": "code",
        "outputId": "9240e400-9798-4ac2-e0f0-b31f78472d0a",
        "colab": {
          "base_uri": "https://localhost:8080/",
          "height": 119
        }
      },
      "source": [
        "data_train.head()"
      ],
      "execution_count": 0,
      "outputs": [
        {
          "output_type": "execute_result",
          "data": {
            "text/plain": [
              "6842    domicilio\n",
              "2103        china\n",
              "5500     intentar\n",
              "2646       safely\n",
              "3739        hemos\n",
              "Name: Word, dtype: object"
            ]
          },
          "metadata": {
            "tags": []
          },
          "execution_count": 4
        }
      ]
    },
    {
      "cell_type": "code",
      "metadata": {
        "id": "mDzXNOAKUO0s",
        "colab_type": "code",
        "outputId": "02d75213-dd17-4dea-a2cf-7cc0435586ad",
        "colab": {
          "base_uri": "https://localhost:8080/",
          "height": 34
        }
      },
      "source": [
        "target_train[:5]"
      ],
      "execution_count": 0,
      "outputs": [
        {
          "output_type": "execute_result",
          "data": {
            "text/plain": [
              "array([0, 1, 0, 1, 0])"
            ]
          },
          "metadata": {
            "tags": []
          },
          "execution_count": 5
        }
      ]
    },
    {
      "cell_type": "markdown",
      "metadata": {
        "id": "ecLNjM6c2OI1",
        "colab_type": "text"
      },
      "source": [
        "## Problem 1(b)\n",
        "\n",
        "Implement different string kernels:\n",
        "\n",
        "\n",
        "\n",
        "1.   **Histogram cosine kernel**: calculate a bag of n-grams representation (use the CountVectorizer from scikit-learn) and apply the cosine_similarity from scikit-learn.\n",
        "2.  **Histogram intersection**: calculate a bag of n-grams representation, normalize it (the\n",
        "sum of the bins must be equal to 1 ∀i, ||xi||1 = 1.) and calculate the sum of the\n",
        "minimum for each bin of the histogram.\n",
        "3. **χ2 kernel**: calculate a bag of n-grams representation and apply the chi2_kernel\n",
        "from scikit-learn.\n",
        "4. **SSK kernel**: use the code available at this repository https://github.com/helq/python-ssk.\n"
      ]
    },
    {
      "cell_type": "markdown",
      "metadata": {
        "id": "aEHZNs9bH1u-",
        "colab_type": "text"
      },
      "source": [
        "### 1. Histogram cosine kernel\n",
        "\n",
        "We consider 2-grams of characters to create the vectorizer"
      ]
    },
    {
      "cell_type": "code",
      "metadata": {
        "id": "51XKygSLyA4D",
        "colab_type": "code",
        "outputId": "fb4311fe-b617-4655-dba7-d0ec9136de7e",
        "colab": {
          "base_uri": "https://localhost:8080/",
          "height": 34
        }
      },
      "source": [
        "## Transform to bag of words representation.\n",
        "vectorizer = CountVectorizer(ngram_range = (1,1), analyzer = 'char')\n",
        "X1 = vectorizer.fit_transform(data_train)\n",
        "\n",
        "X1.shape"
      ],
      "execution_count": 0,
      "outputs": [
        {
          "output_type": "execute_result",
          "data": {
            "text/plain": [
              "(4690, 26)"
            ]
          },
          "metadata": {
            "tags": []
          },
          "execution_count": 6
        }
      ]
    },
    {
      "cell_type": "markdown",
      "metadata": {
        "id": "Jr6fs2wkteF3",
        "colab_type": "text"
      },
      "source": [
        "Calculate and storage n-grams: $(1,1), (1,2), (1,3)$ for train and test dataset"
      ]
    },
    {
      "cell_type": "code",
      "metadata": {
        "id": "q3K6BmN0A1yk",
        "colab_type": "code",
        "colab": {}
      },
      "source": [
        "n_grams = [];\n",
        "for n in range(1,4):\n",
        "  vectorizer = CountVectorizer(ngram_range = (1,n), analyzer = 'char')\n",
        "  n_grams.append({\n",
        "      'train':vectorizer.fit_transform(data_train),\n",
        "      'test':vectorizer.transform(data_validation)\n",
        "  })"
      ],
      "execution_count": 0,
      "outputs": []
    },
    {
      "cell_type": "markdown",
      "metadata": {
        "id": "OWh19IyEMKLl",
        "colab_type": "text"
      },
      "source": [
        "We measure the cosine kernel between pairs of elements"
      ]
    },
    {
      "cell_type": "code",
      "metadata": {
        "id": "UkBtxgGOKx6X",
        "colab_type": "code",
        "outputId": "27078497-67e0-4d8f-953a-604a3250706c",
        "colab": {
          "base_uri": "https://localhost:8080/",
          "height": 34
        }
      },
      "source": [
        "# Cosine similarity kernel\n",
        "K1 = cosine_similarity(X1)\n",
        "\n",
        "K1.shape"
      ],
      "execution_count": 0,
      "outputs": [
        {
          "output_type": "execute_result",
          "data": {
            "text/plain": [
              "(4690, 4690)"
            ]
          },
          "metadata": {
            "tags": []
          },
          "execution_count": 8
        }
      ]
    },
    {
      "cell_type": "code",
      "metadata": {
        "id": "_B8_i2_LMjFf",
        "colab_type": "code",
        "outputId": "6706bf23-7845-48fd-b196-2ee7b5745e5b",
        "colab": {
          "base_uri": "https://localhost:8080/",
          "height": 102
        }
      },
      "source": [
        "print(K1[:5,:5])"
      ],
      "execution_count": 0,
      "outputs": [
        {
          "output_type": "stream",
          "text": [
            "[[1.         0.43386092 0.21004201 0.09901475 0.32539569]\n",
            " [0.43386092 1.         0.51639778 0.18257419 0.2       ]\n",
            " [0.21004201 0.51639778 1.         0.23570226 0.12909944]\n",
            " [0.09901475 0.18257419 0.23570226 1.         0.36514837]\n",
            " [0.32539569 0.2        0.12909944 0.36514837 1.        ]]\n"
          ],
          "name": "stdout"
        }
      ]
    },
    {
      "cell_type": "code",
      "metadata": {
        "id": "n7lQ1P6uBc0S",
        "colab_type": "code",
        "colab": {}
      },
      "source": [
        "K1_n = [cosine_similarity(gram['train']) for gram in n_grams]"
      ],
      "execution_count": 0,
      "outputs": []
    },
    {
      "cell_type": "markdown",
      "metadata": {
        "id": "_EQkexl0gv5m",
        "colab_type": "text"
      },
      "source": [
        ""
      ]
    },
    {
      "cell_type": "markdown",
      "metadata": {
        "id": "M3TLLBZWcRv-",
        "colab_type": "text"
      },
      "source": [
        "### 2. Histogram intersection"
      ]
    },
    {
      "cell_type": "code",
      "metadata": {
        "id": "RV_Esob8cZAz",
        "colab_type": "code",
        "outputId": "d09fa7d6-daec-4f1b-d807-530e239d9d97",
        "colab": {
          "base_uri": "https://localhost:8080/",
          "height": 283
        }
      },
      "source": [
        "# Normalice the values\n",
        "N1 = X1/np.sum(X1, axis=1)\n",
        "\n",
        "# Histogram intesection function\n",
        "def histogram_intersection(h1, h2):\n",
        "  l = h1.size\n",
        "  sm = 0\n",
        "  for i in range(l):\n",
        "      sm += min(h1[i], h2[i])\n",
        "  return sm\n",
        "\n",
        "# Histogram intersection\n",
        "l = X1.shape[0]\n",
        "K2 = np.zeros((l,l))\n",
        "\n",
        "print(X1[:10,:10])\n",
        "print(N1.shape)\n",
        "for i in range(l):\n",
        "  for j in range(l):\n",
        "    K2[i,j] = np.sum(np.minimum(N1[i], N1[j]))\n",
        "    if i == 50 and j == 0:\n",
        "      print('a')\n",
        "    if i == 200 and j == 0:\n",
        "      print('b')\n",
        "\n",
        "print(K2.shape)\n",
        "print(K2[:10,:10])"
      ],
      "execution_count": 0,
      "outputs": [
        {
          "output_type": "stream",
          "text": [
            "\n",
            "(12221, 477)\n",
            "a\n"
          ],
          "name": "stdout"
        },
        {
          "output_type": "error",
          "ename": "KeyboardInterrupt",
          "evalue": "ignored",
          "traceback": [
            "\u001b[0;31m---------------------------------------------------------------------------\u001b[0m",
            "\u001b[0;31mKeyboardInterrupt\u001b[0m                         Traceback (most recent call last)",
            "\u001b[0;32m<ipython-input-8-8699ab6b39e4>\u001b[0m in \u001b[0;36m<module>\u001b[0;34m()\u001b[0m\n\u001b[1;32m     17\u001b[0m \u001b[0;32mfor\u001b[0m \u001b[0mi\u001b[0m \u001b[0;32min\u001b[0m \u001b[0mrange\u001b[0m\u001b[0;34m(\u001b[0m\u001b[0ml\u001b[0m\u001b[0;34m)\u001b[0m\u001b[0;34m:\u001b[0m\u001b[0;34m\u001b[0m\u001b[0;34m\u001b[0m\u001b[0m\n\u001b[1;32m     18\u001b[0m   \u001b[0;32mfor\u001b[0m \u001b[0mj\u001b[0m \u001b[0;32min\u001b[0m \u001b[0mrange\u001b[0m\u001b[0;34m(\u001b[0m\u001b[0ml\u001b[0m\u001b[0;34m)\u001b[0m\u001b[0;34m:\u001b[0m\u001b[0;34m\u001b[0m\u001b[0;34m\u001b[0m\u001b[0m\n\u001b[0;32m---> 19\u001b[0;31m     \u001b[0mK2\u001b[0m\u001b[0;34m[\u001b[0m\u001b[0mi\u001b[0m\u001b[0;34m,\u001b[0m\u001b[0mj\u001b[0m\u001b[0;34m]\u001b[0m \u001b[0;34m=\u001b[0m \u001b[0mnp\u001b[0m\u001b[0;34m.\u001b[0m\u001b[0msum\u001b[0m\u001b[0;34m(\u001b[0m\u001b[0mnp\u001b[0m\u001b[0;34m.\u001b[0m\u001b[0mminimum\u001b[0m\u001b[0;34m(\u001b[0m\u001b[0mN1\u001b[0m\u001b[0;34m[\u001b[0m\u001b[0mi\u001b[0m\u001b[0;34m]\u001b[0m\u001b[0;34m,\u001b[0m \u001b[0mN1\u001b[0m\u001b[0;34m[\u001b[0m\u001b[0mj\u001b[0m\u001b[0;34m]\u001b[0m\u001b[0;34m)\u001b[0m\u001b[0;34m)\u001b[0m\u001b[0;34m\u001b[0m\u001b[0;34m\u001b[0m\u001b[0m\n\u001b[0m\u001b[1;32m     20\u001b[0m     \u001b[0;32mif\u001b[0m \u001b[0mi\u001b[0m \u001b[0;34m==\u001b[0m \u001b[0;36m50\u001b[0m \u001b[0;32mand\u001b[0m \u001b[0mj\u001b[0m \u001b[0;34m==\u001b[0m \u001b[0;36m0\u001b[0m\u001b[0;34m:\u001b[0m\u001b[0;34m\u001b[0m\u001b[0;34m\u001b[0m\u001b[0m\n\u001b[1;32m     21\u001b[0m       \u001b[0mprint\u001b[0m\u001b[0;34m(\u001b[0m\u001b[0;34m'a'\u001b[0m\u001b[0;34m)\u001b[0m\u001b[0;34m\u001b[0m\u001b[0;34m\u001b[0m\u001b[0m\n",
            "\u001b[0;31mKeyboardInterrupt\u001b[0m: "
          ]
        }
      ]
    },
    {
      "cell_type": "code",
      "metadata": {
        "id": "PsOl5SaEv93l",
        "colab_type": "code",
        "colab": {}
      },
      "source": [
        "'''\n",
        "Taken from: https://github.com/gmum/pykernels/blob/master/pykernels/regular.py\n",
        "'''\n",
        "def histogram_kernel(X_1, X_2):\n",
        "  _N1 = X_1/np.sum(X_1, axis=1).reshape(-1, 1)\n",
        "  _N2 = X_2/np.sum(X_2, axis=1).reshape(-1, 1)\n",
        "  _K = np.zeros((_N1.shape[0], _N2.shape[0]))\n",
        "  for d in range(_N1.shape[1]):\n",
        "    column_1 = _N1[:, d].reshape(-1, 1)\n",
        "    column_2 = _N2[:, d].reshape(-1, 1)\n",
        "    _K += np.minimum(column_1, column_2.T)   \n",
        "  return _K"
      ],
      "execution_count": 0,
      "outputs": []
    },
    {
      "cell_type": "code",
      "metadata": {
        "id": "0zYnZAn-8O9J",
        "colab_type": "code",
        "colab": {}
      },
      "source": [
        "K2_a = histogram_kernel(X1,X1)"
      ],
      "execution_count": 0,
      "outputs": []
    },
    {
      "cell_type": "code",
      "metadata": {
        "id": "dyok3lqVuI38",
        "colab_type": "code",
        "outputId": "e03cd625-a914-4ef2-cb00-4a9b112dd7dd",
        "colab": {
          "base_uri": "https://localhost:8080/",
          "height": 374
        }
      },
      "source": [
        "print(K2_a.shape)\n",
        "print(K2_a[:10,:10])"
      ],
      "execution_count": 0,
      "outputs": [
        {
          "output_type": "stream",
          "text": [
            "(4690, 4690)\n",
            "[[1.         0.31111111 0.125      0.11111111 0.31111111 0.36111111\n",
            "  0.22222222 0.25396825 0.38888889 0.11111111]\n",
            " [0.31111111 1.         0.45       0.16666667 0.2        0.325\n",
            "  0.28571429 0.         0.33333333 0.2       ]\n",
            " [0.125      0.45       1.         0.25       0.125      0.375\n",
            "  0.25       0.26785714 0.375      0.375     ]\n",
            " [0.11111111 0.16666667 0.25       1.         0.33333333 0.25\n",
            "  0.45238095 0.28571429 0.5        0.33333333]\n",
            " [0.31111111 0.2        0.125      0.33333333 1.         0.25\n",
            "  0.34285714 0.42857143 0.5        0.        ]\n",
            " [0.36111111 0.325      0.375      0.25       0.25       1.\n",
            "  0.375      0.25       0.41666667 0.        ]\n",
            " [0.22222222 0.28571429 0.25       0.45238095 0.34285714 0.375\n",
            "  1.         0.57142857 0.5952381  0.14285714]\n",
            " [0.25396825 0.         0.26785714 0.28571429 0.42857143 0.25\n",
            "  0.57142857 1.         0.42857143 0.14285714]\n",
            " [0.38888889 0.33333333 0.375      0.5        0.5        0.41666667\n",
            "  0.5952381  0.42857143 1.         0.16666667]\n",
            " [0.11111111 0.2        0.375      0.33333333 0.         0.\n",
            "  0.14285714 0.14285714 0.16666667 1.        ]]\n"
          ],
          "name": "stdout"
        }
      ]
    },
    {
      "cell_type": "code",
      "metadata": {
        "id": "5QM4VYF1FGCM",
        "colab_type": "code",
        "colab": {}
      },
      "source": [
        "K2_n = [histogram_kernel(gram['train'], gram['train']) for gram in n_grams]"
      ],
      "execution_count": 0,
      "outputs": []
    },
    {
      "cell_type": "code",
      "metadata": {
        "id": "mZhDw4lhwWOd",
        "colab_type": "code",
        "outputId": "d5c8f6ac-e742-4203-9e44-477e8c211881",
        "colab": {
          "base_uri": "https://localhost:8080/",
          "height": 238
        }
      },
      "source": [
        "print(K2_n[0].shape)\n",
        "K2_n[0][:10]"
      ],
      "execution_count": 0,
      "outputs": [
        {
          "output_type": "stream",
          "text": [
            "(4690, 4690)\n"
          ],
          "name": "stdout"
        },
        {
          "output_type": "execute_result",
          "data": {
            "text/plain": [
              "array([[1.        , 0.31111111, 0.125     , ..., 0.27777778, 0.47474747,\n",
              "        0.25      ],\n",
              "       [0.31111111, 1.        , 0.45      , ..., 0.36666667, 0.36363636,\n",
              "        0.6       ],\n",
              "       [0.125     , 0.45      , 1.        , ..., 0.25      , 0.39772727,\n",
              "        0.5       ],\n",
              "       ...,\n",
              "       [0.25396825, 0.        , 0.26785714, ..., 0.        , 0.32467532,\n",
              "        0.        ],\n",
              "       [0.38888889, 0.33333333, 0.375     , ..., 0.5       , 0.53030303,\n",
              "        0.33333333],\n",
              "       [0.11111111, 0.2       , 0.375     , ..., 0.25      , 0.18181818,\n",
              "        0.25      ]])"
            ]
          },
          "metadata": {
            "tags": []
          },
          "execution_count": 19
        }
      ]
    },
    {
      "cell_type": "markdown",
      "metadata": {
        "id": "2-toBsJSM_52",
        "colab_type": "text"
      },
      "source": [
        "### 3. χ2 kernel"
      ]
    },
    {
      "cell_type": "code",
      "metadata": {
        "id": "7U6pwFor-nlH",
        "colab_type": "code",
        "colab": {}
      },
      "source": [
        "K3 = chi2_kernel(n_grams[0]['train'].todense(), n_grams[0]['train'].todense())"
      ],
      "execution_count": 0,
      "outputs": []
    },
    {
      "cell_type": "code",
      "metadata": {
        "id": "M_puN3nr_Vbu",
        "colab_type": "code",
        "outputId": "30d28323-bb6e-49ba-a491-39adb54048f8",
        "pycharm": {
          "name": "#%%\n"
        },
        "colab": {
          "base_uri": "https://localhost:8080/",
          "height": 34
        }
      },
      "source": [
        "K3.shape"
      ],
      "execution_count": 0,
      "outputs": [
        {
          "output_type": "execute_result",
          "data": {
            "text/plain": [
              "(4690, 4690)"
            ]
          },
          "metadata": {
            "tags": []
          },
          "execution_count": 58
        }
      ]
    },
    {
      "cell_type": "code",
      "metadata": {
        "id": "anvJQSxt_2CU",
        "colab_type": "code",
        "colab": {}
      },
      "source": [
        "K3_n = [chi2_kernel(gram['train'].todense(),gram['train'].todense()) for gram in n_grams]"
      ],
      "execution_count": 0,
      "outputs": []
    },
    {
      "cell_type": "markdown",
      "metadata": {
        "id": "dVViMQWFhcww",
        "colab_type": "text"
      },
      "source": [
        "### 4. SSK Kernel\n",
        "\n",
        "Use the code available at this repository https://github.com/helq/python-ssk"
      ]
    },
    {
      "cell_type": "markdown",
      "metadata": {
        "id": "MMnSUh-Yhwwe",
        "colab_type": "text"
      },
      "source": [
        "Install cython to local environment via pip"
      ]
    },
    {
      "cell_type": "code",
      "metadata": {
        "id": "OGDIhA0ihuhH",
        "colab_type": "code",
        "outputId": "3d19d5a8-2f99-4f99-ce1b-74aaecccb3c2",
        "colab": {
          "base_uri": "https://localhost:8080/",
          "height": 34
        }
      },
      "source": [
        "!pip install cython\n",
        "%load_ext Cython"
      ],
      "execution_count": 0,
      "outputs": [
        {
          "output_type": "stream",
          "text": [
            "Requirement already satisfied: cython in /usr/local/lib/python3.6/dist-packages (0.29.17)\n"
          ],
          "name": "stdout"
        }
      ]
    },
    {
      "cell_type": "code",
      "metadata": {
        "id": "hmHg9rmriIGu",
        "colab_type": "code",
        "colab": {}
      },
      "source": [
        "%%cython\n",
        "'''\n",
        "copy from https://github.com/helq/python-ssk/blob/master/string_kernel.pyx\n",
        "'''\n",
        "import numpy as np\n",
        "cimport numpy as np\n",
        "\n",
        "from cpython cimport array\n",
        "import array\n",
        "\n",
        "cimport cython\n",
        "\n",
        "def ssk(s, t, int n, float lbda, accum=False):\n",
        "    \"\"\"s and t are strings, either numpy.str_ or python str, or a list of chars\"\"\"\n",
        "    s_array = array.array('l', [ord(c) for c in s])\n",
        "    t_array = array.array('l', [ord(c) for c in t])\n",
        "    return ssk_array(s_array, t_array, n, lbda, accum)\n",
        "\n",
        "# Kernel defined by Lodhi et al. (2002)\n",
        "@cython.boundscheck(False) # turn off bounds-checking for entire function\n",
        "@cython.wraparound(False)  # turn off negative index wrapping for entire function\n",
        "def ssk_array(array.array s_, array.array t_, int n, float lbda, accum=False):\n",
        "    cdef int lens, lent\n",
        "    cdef int i, sj, tk\n",
        "    cdef float toret\n",
        "    cdef long[:] s # this reduces the overhead 10x fold!!!\n",
        "    cdef long[:] t\n",
        "\n",
        "    s = s_ if s_.typecode == 'l' else array.array('l', [int(c) for c in s_])\n",
        "    t = t_ if t_.typecode == 'l' else array.array('l', [int(c) for c in t_])\n",
        "\n",
        "    lens, lent = len(s), len(t)\n",
        "    #k_prim = (-1)*np.ones( (n+1, lens, lent) )\n",
        "    cdef np.ndarray[np.float64_t, ndim=3] \\\n",
        "        k_prim = np.zeros( (n, lens, lent), dtype=np.float )\n",
        "\n",
        "    k_prim[0,:,:] = 1\n",
        "\n",
        "    for i in range(1,n):\n",
        "        for sj in range(i,lens):\n",
        "            toret = 0.\n",
        "            for tk in range(i,lent):\n",
        "                if s[sj-1]==t[tk-1]: # trick taken from shogun implemantion of SSK\n",
        "                    toret = lbda * (toret + lbda*k_prim[i-1,sj-1,tk-1])\n",
        "                else:\n",
        "                    toret *= lbda\n",
        "                k_prim[i,sj,tk] = toret + lbda * k_prim[i, sj-1, tk]\n",
        "\n",
        "    cdef int start = 0 if accum else n-1\n",
        "    cdef float k = 0.\n",
        "\n",
        "    for i in range(n):\n",
        "        for sj in range(i,lens):\n",
        "            for tk in range(i,lent):\n",
        "                if s[sj]==t[tk]:\n",
        "                    k += lbda*lbda*k_prim[i,sj,tk]\n",
        "\n",
        "    # print( [len(list(i for (sj,tk,i) in k_prim if i==m-1)) for m in range(n)] )\n",
        "    return k\n",
        "\n",
        "def string_kernel(xs, ys, n, lbda):\n",
        "    \"\"\"xs and ys are numpy arrays of strings or arrays of ints, n an integer and lbda a bool\"\"\"\n",
        "    if len(xs.shape) != 2 or len(ys.shape) != 2 or xs.shape[1] != 1 or ys.shape[1] != 1:\n",
        "        raise \"The shape of the features is wrong, it must be (n,1)\"\n",
        "\n",
        "    cdef int lenxs, lenys\n",
        "    cdef int i, j\n",
        "    cdef np.ndarray[np.float64_t, ndim=2] mat, mat_xs, mat_ys\n",
        "    lenxs, lenys = xs.shape[0], ys.shape[0]\n",
        "\n",
        "    mat = np.zeros( (lenxs, lenys) )\n",
        "\n",
        "    ssk_fun = ssk_array if xs.dtype == 'O' and isinstance(xs[0,0], array.array) else ssk\n",
        "\n",
        "    # If both lists are equal, then the resulting matrix is symetric, there is no need to\n",
        "    # calculate the hole thing\n",
        "    if lenxs == lenys and np.array_equal(xs, ys):\n",
        "        for i in range(lenxs):\n",
        "            for j in range(i,lenys):\n",
        "                mat[j,i] = mat[i,j] = ssk_fun(xs[i,0], ys[j,0], n, lbda, accum=True)\n",
        "\n",
        "        mat_xs = mat_ys = mat.diagonal().reshape( (lenxs, 1) )\n",
        "\n",
        "    else:\n",
        "        for i in range(lenxs):\n",
        "            for j in range(lenys):\n",
        "                mat[i,j] = ssk_fun(xs[i,0], ys[j,0], n, lbda, accum=True)\n",
        "\n",
        "        mat_xs = np.zeros( (lenxs, 1) )\n",
        "        mat_ys = np.zeros( (lenys, 1) )\n",
        "\n",
        "        for i in range(lenxs):\n",
        "            mat_xs[i] = ssk_fun(xs[i,0], xs[i,0], n, lbda, accum=True)\n",
        "        for j in range(lenys):\n",
        "            mat_ys[j] = ssk_fun(ys[j,0], ys[j,0], n, lbda, accum=True)\n",
        "\n",
        "    return np.divide(mat, np.sqrt(mat_ys.T * mat_xs))"
      ],
      "execution_count": 0,
      "outputs": []
    },
    {
      "cell_type": "code",
      "metadata": {
        "id": "O7KHkE1liPlg",
        "colab_type": "code",
        "colab": {}
      },
      "source": [
        "def get_ssk_kernel_for_scikit(max_substring, lambda_decay):\n",
        "    def strker(il,ir):\n",
        "        l = np.array(il).reshape( (len(il), 1) )\n",
        "        r = np.array(ir).reshape( (len(ir), 1) )\n",
        "        return string_kernel(l, r, max_substring, lambda_decay)\n",
        "    return strker\n",
        "\n",
        "def ssk_kernel(lambda_decay, il, ir):\n",
        "    l = np.array(il).reshape( (len(il), 1) )\n",
        "    r = np.array(ir).reshape( (len(ir), 1) )\n",
        "    return string_kernel(l, r, 2, lambda_decay)\n",
        "\n",
        "def custom_ssk_kernel(lambda_decay):\n",
        "    def strker(il,ir):\n",
        "        l = np.array(il).reshape( (len(il), 1) )\n",
        "        r = np.array(ir).reshape( (len(ir), 1) )\n",
        "        return string_kernel(l, r, 2, lambda_decay)\n",
        "    return strker\n",
        "\n",
        "\n",
        "lambda_decay = 1\n",
        "max_substring = 2\n",
        "\n",
        "my_ssk_kernel = get_ssk_kernel_for_scikit(lambda_decay, max_substring)\n",
        "\n",
        "custom_ssk_025 = custom_ssk_kernel(0.25)\n",
        "custom_ssk_05 = custom_ssk_kernel(0.5)\n",
        "custom_ssk_075 = custom_ssk_kernel(0.75)\n",
        "custom_ssk_1 = custom_ssk_kernel(1)"
      ],
      "execution_count": 0,
      "outputs": []
    },
    {
      "cell_type": "code",
      "metadata": {
        "id": "dtK8EhaOZkqb",
        "colab_type": "code",
        "outputId": "04446808-69de-4cdb-e8a3-e0967e6f46b7",
        "colab": {
          "base_uri": "https://localhost:8080/",
          "height": 102
        }
      },
      "source": [
        "xs = np.array( [\"cat\", \"car\", \"cart\", \"camp\", \"shard\"] ).reshape( (5,1) )\n",
        "ys = np.array( [\"a\", \"cd\"] ).reshape( (2,1) )\n",
        "print( string_kernel(xs, ys, 2,1.) )"
      ],
      "execution_count": 0,
      "outputs": [
        {
          "output_type": "stream",
          "text": [
            "[[0.40824829 0.23570226]\n",
            " [0.40824829 0.23570226]\n",
            " [0.31622777 0.18257419]\n",
            " [0.31622777 0.18257419]\n",
            " [0.25819889 0.1490712 ]]\n"
          ],
          "name": "stdout"
        }
      ]
    },
    {
      "cell_type": "code",
      "metadata": {
        "id": "wFJCG3yacD0Y",
        "colab_type": "code",
        "colab": {}
      },
      "source": [
        "data_ssk = data_train.to_numpy()"
      ],
      "execution_count": 0,
      "outputs": []
    },
    {
      "cell_type": "code",
      "metadata": {
        "id": "u8_Q9kjWgmee",
        "colab_type": "code",
        "outputId": "2557ce53-1e1f-44c6-fd15-b102d0ddcf9a",
        "colab": {
          "base_uri": "https://localhost:8080/",
          "height": 51
        }
      },
      "source": [
        "data_ssk"
      ],
      "execution_count": 0,
      "outputs": [
        {
          "output_type": "execute_result",
          "data": {
            "text/plain": [
              "array(['domicilio', 'china', 'intentar', ..., 'maxima', 'comerciales',\n",
              "       'vain'], dtype=object)"
            ]
          },
          "metadata": {
            "tags": []
          },
          "execution_count": 25
        }
      ]
    },
    {
      "cell_type": "code",
      "metadata": {
        "id": "3_tJ7qxkcou9",
        "colab_type": "code",
        "colab": {}
      },
      "source": [
        "K4 = my_ssk_kernel(data_ssk, data_ssk)"
      ],
      "execution_count": 0,
      "outputs": []
    },
    {
      "cell_type": "code",
      "metadata": {
        "id": "PezaAj5Jg7xF",
        "colab_type": "code",
        "outputId": "117006ee-9494-4dd1-93e8-5a6cf8ed1c8f",
        "colab": {
          "base_uri": "https://localhost:8080/",
          "height": 34
        }
      },
      "source": [
        "K4.shape"
      ],
      "execution_count": 0,
      "outputs": [
        {
          "output_type": "execute_result",
          "data": {
            "text/plain": [
              "(4690, 4690)"
            ]
          },
          "metadata": {
            "tags": []
          },
          "execution_count": 50
        }
      ]
    },
    {
      "cell_type": "code",
      "metadata": {
        "id": "FNlc1wqVhBTN",
        "colab_type": "code",
        "outputId": "8f09cfa6-f836-4e19-cac4-ce46be067caf",
        "colab": {
          "base_uri": "https://localhost:8080/",
          "height": 238
        }
      },
      "source": [
        "K4[:10]"
      ],
      "execution_count": 0,
      "outputs": [
        {
          "output_type": "execute_result",
          "data": {
            "text/plain": [
              "array([[1.        , 0.43386092, 0.21004201, ..., 0.38348249, 0.56360186,\n",
              "        0.36380344],\n",
              "       [0.43386092, 1.        , 0.51639778, ..., 0.42426407, 0.46188022,\n",
              "        0.67082039],\n",
              "       [0.21004201, 0.51639778, 1.        , ..., 0.27386128, 0.372678  ,\n",
              "        0.57735027],\n",
              "       ...,\n",
              "       [0.24253563, 0.        , 0.28867513, ..., 0.        , 0.34426519,\n",
              "        0.        ],\n",
              "       [0.49507377, 0.36514837, 0.35355339, ..., 0.64549722, 0.63245553,\n",
              "        0.40824829],\n",
              "       [0.19802951, 0.18257419, 0.35355339, ..., 0.25819889, 0.31622777,\n",
              "        0.20412415]])"
            ]
          },
          "metadata": {
            "tags": []
          },
          "execution_count": 51
        }
      ]
    },
    {
      "cell_type": "code",
      "metadata": {
        "pycharm": {
          "name": "#%%\n"
        },
        "id": "slYET0CplmjM",
        "colab_type": "code",
        "colab": {}
      },
      "source": [
        "lambdas = [0.25, 0.5, 0.75, 1]\n",
        "K4_n = [ssk_kernel(lam, data_ssk, data_ssk) for lam in lambdas]"
      ],
      "execution_count": 0,
      "outputs": []
    },
    {
      "cell_type": "code",
      "metadata": {
        "pycharm": {
          "name": "#%%\n"
        },
        "id": "LKOIhOjGlmjR",
        "colab_type": "code",
        "outputId": "b96c6b3a-4f88-4d1c-d482-f5a962e8fc1c",
        "colab": {}
      },
      "source": [
        "K4_n[0].shape"
      ],
      "execution_count": 0,
      "outputs": [
        {
          "output_type": "execute_result",
          "data": {
            "text/plain": [
              "(4690, 4690)"
            ]
          },
          "metadata": {
            "tags": []
          },
          "execution_count": 30
        }
      ]
    },
    {
      "cell_type": "code",
      "metadata": {
        "pycharm": {
          "name": "#%%\n"
        },
        "id": "MT1bd-VwlmjT",
        "colab_type": "code",
        "outputId": "de5d1708-6025-4283-f1b4-6c1cca0d77f7",
        "colab": {}
      },
      "source": [
        "K4_n[0][:10]"
      ],
      "execution_count": 0,
      "outputs": [
        {
          "output_type": "execute_result",
          "data": {
            "text/plain": [
              "array([[1.        , 0.41771662, 0.20166137, ..., 0.3692156 , 0.55154638,\n",
              "        0.34940897],\n",
              "       [0.41771662, 1.        , 0.50107347, ..., 0.40498837, 0.4440706 ,\n",
              "        0.65177351],\n",
              "       [0.20166137, 0.50107347, 1.        , ..., 0.26143162, 0.35608152,\n",
              "        0.55898073],\n",
              "       ...,\n",
              "       [0.23266736, 0.        , 0.27489262, ..., 0.        , 0.32865599,\n",
              "        0.        ],\n",
              "       [0.47493799, 0.3492701 , 0.33604355, ..., 0.61686857, 0.61582013,\n",
              "        0.38812486],\n",
              "       [0.19117751, 0.17466851, 0.34586582, ..., 0.24783919, 0.31164086,\n",
              "        0.19561602]])"
            ]
          },
          "metadata": {
            "tags": []
          },
          "execution_count": 31
        }
      ]
    },
    {
      "cell_type": "markdown",
      "metadata": {
        "id": "jJsXikEEg3yj",
        "colab_type": "text"
      },
      "source": [
        "## Problem 1(c)\n",
        "\n",
        "Use scikit-learn to train different SVMs using precomputed kernels. Use cross validation to find appropriate regularization parameters plotting the training and validation error vs. the regularization parameter. Use a logarithmic scale for $C$, $\\{2^{-15} ,2^{-14},...,2^{10}\\}$. Try different configurations of the parameters (in particular different $n$ values for the $n$-grams)."
      ]
    },
    {
      "cell_type": "code",
      "metadata": {
        "id": "GpwinlQUszLj",
        "colab_type": "code",
        "colab": {}
      },
      "source": [
        "'''\n",
        "Inspired from: https://scikit-learn.org/stable/auto_examples/svm/plot_svm_scale_c.html\n",
        "'''\n",
        "def get_scores(kernel, Y, C):\n",
        "  '''\n",
        "  kernel: Precomputed kernel,\n",
        "  Y: target train\n",
        "  C: set of regularization parameters\n",
        "  '''\n",
        "  _clf = svm.SVC(kernel='precomputed')\n",
        "  _grid = GridSearchCV(_clf, cv=2, param_grid={'C': C}, return_train_score=True)\n",
        "  _grid.fit(kernel, Y)\n",
        "  _scores = _grid.cv_results_['mean_test_score']\n",
        "  max_train = np.argmax(_grid.cv_results_['mean_train_score'])\n",
        "  max_test = np.argmax(_grid.cv_results_['mean_test_score'])\n",
        "  return {\n",
        "      'train': {\n",
        "          'scores': _grid.cv_results_['mean_train_score'],\n",
        "          'error': 1 - _grid.cv_results_['mean_train_score'],\n",
        "          'C': C[max_train],\n",
        "          'score':  _grid.cv_results_['mean_train_score'][max_train]\n",
        "      },\n",
        "      'validation': {\n",
        "          'scores': _grid.cv_results_['mean_test_score'],\n",
        "          'error': 1 - _grid.cv_results_['mean_test_score'],\n",
        "          'C': C[max_test],\n",
        "          'score':  _grid.cv_results_['mean_test_score'][max_test]\n",
        "      }\n",
        "  }\n",
        "\n",
        "def plot_rp(d, kernel_name, n_gram):\n",
        "  '''\n",
        "  d: Results from get_scores\n",
        "  kernel_name: Title to plot\n",
        "  n_gram: n_gram\n",
        "  '''\n",
        "  fig, axes = plt.subplots( figsize=(10, 6))\n",
        "  axes.set_xlabel('Regularization Parameter')\n",
        "  axes.set_ylabel('Error')\n",
        "  axes.set_title(f'Kernel: {kernel_name}, {n_gram}-gram')\n",
        "  x_box = min(min(d['train']['error']), min(d['validation']['error']))\n",
        "  axes.text(2 ** (-14), x_box, f\"Best Regularization parameter:\\nTrain C : {d['train']['C']}, Error: {round(1 -  d['train']['score'],4)}\\nTest  C : {d['validation']['C']}, Error: {round(1 -  d['validation']['score'],4)}\",\n",
        "          bbox={'facecolor': 'white', 'alpha': 0.5, 'pad': 10})\n",
        "  colors = ['navy', 'red', 'darkorange']\n",
        "  axes.semilogx(cs, d['train']['error'], color='red', label=f'Train')\n",
        "  axes.semilogx(cs, d['validation']['error'], color='navy', label=f'Validation')  \n",
        "  plt.legend()\n",
        "  plt.show()\n",
        "\n",
        "\n",
        "def reg_parameters(title, kernels, Y):\n",
        "  '''\n",
        "  title: Title for plot\n",
        "  kernels: Set of precomputed kernels\n",
        "  Y: Target\n",
        "  '''\n",
        "  cs = [2**(i) for i in range(-15, 11)]\n",
        "  for idx, K in enumerate(kernels):\n",
        "    scores = get_scores(K, Y, cs)\n",
        "    plot_rp(scores, title, idx + 1)"
      ],
      "execution_count": 0,
      "outputs": []
    },
    {
      "cell_type": "code",
      "metadata": {
        "id": "Jg7cb5ch7Tdf",
        "colab_type": "code",
        "outputId": "e8750142-9560-4a25-f9f6-866fd67af6d4",
        "colab": {
          "base_uri": "https://localhost:8080/",
          "height": 1000
        }
      },
      "source": [
        "reg_parameters('Cosine Similarity', K1_n, target_train)"
      ],
      "execution_count": 0,
      "outputs": [
        {
          "output_type": "display_data",
          "data": {
            "image/png": "[encoded data removed]",
            "text/plain": [
              "<Figure size 720x432 with 1 Axes>"
            ]
          },
          "metadata": {
            "tags": [],
            "needs_background": "light"
          }
        },
        {
          "output_type": "display_data",
          "data": {
            "image/png": "[encoded data removed]",
            "text/plain": [
              "<Figure size 720x432 with 1 Axes>"
            ]
          },
          "metadata": {
            "tags": [],
            "needs_background": "light"
          }
        },
        {
          "output_type": "display_data",
          "data": {
            "image/png": "[encoded data removed]",
            "text/plain": [
              "<Figure size 720x432 with 1 Axes>"
            ]
          },
          "metadata": {
            "tags": [],
            "needs_background": "light"
          }
        }
      ]
    },
    {
      "cell_type": "code",
      "metadata": {
        "id": "yAE-0cCm838X",
        "colab_type": "code",
        "outputId": "faa65ab2-25e9-498e-ec3d-1f64ca7966f1",
        "colab": {
          "base_uri": "https://localhost:8080/",
          "height": 350
        }
      },
      "source": [
        "reg_parameters('Histogram Intersection', K2_n, target_train)"
      ],
      "execution_count": 0,
      "outputs": [
        {
          "output_type": "stream",
          "text": [
            "4 0.7550106609808103\n",
            "8 0.8769722814498935\n",
            "2 0.8957356076759062\n"
          ],
          "name": "stdout"
        },
        {
          "output_type": "display_data",
          "data": {
            "image/png": "[encoded data removed]",
            "text/plain": [
              "<Figure size 720x288 with 1 Axes>"
            ]
          },
          "metadata": {
            "tags": [],
            "needs_background": "light"
          }
        }
      ]
    },
    {
      "cell_type": "code",
      "metadata": {
        "id": "oMAKHNQZCJsv",
        "colab_type": "code",
        "outputId": "43635b81-f4e9-4561-9a85-d01e5d58b990",
        "colab": {
          "base_uri": "https://localhost:8080/",
          "height": 350
        }
      },
      "source": [
        "reg_parameters('χ2', K3_n, target_train)"
      ],
      "execution_count": 0,
      "outputs": [
        {
          "output_type": "stream",
          "text": [
            "1 0.740724946695096\n",
            "2 0.6628997867803837\n",
            "2 0.562046908315565\n"
          ],
          "name": "stdout"
        },
        {
          "output_type": "display_data",
          "data": {
            "image/png": "[encoded data removed]",
            "text/plain": [
              "<Figure size 720x288 with 1 Axes>"
            ]
          },
          "metadata": {
            "tags": [],
            "needs_background": "light"
          }
        }
      ]
    },
    {
      "cell_type": "code",
      "metadata": {
        "id": "0Qx_zuU-hxfO",
        "colab_type": "code",
        "colab": {}
      },
      "source": [
        "cs = [2**(i) for i in range(-15, 11)]\n",
        "ssk_kernels = get_scores(K4, target_train, cs)"
      ],
      "execution_count": 0,
      "outputs": []
    },
    {
      "cell_type": "code",
      "metadata": {
        "id": "0CD7sRosiMzZ",
        "colab_type": "code",
        "outputId": "8f290879-dd02-4a1f-d868-9c2f21ca87a7",
        "colab": {
          "base_uri": "https://localhost:8080/",
          "height": 119
        }
      },
      "source": [
        "ssk_kernels"
      ],
      "execution_count": 0,
      "outputs": [
        {
          "output_type": "execute_result",
          "data": {
            "text/plain": [
              "array([0.50383795, 0.50383795, 0.50383795, 0.50383795, 0.50383795,\n",
              "       0.50383795, 0.50383795, 0.50383795, 0.6217484 , 0.69722814,\n",
              "       0.72196162, 0.7326226 , 0.73880597, 0.74648188, 0.74925373,\n",
              "       0.74904051, 0.75266525, 0.75309168, 0.75245203, 0.754371  ,\n",
              "       0.75415778, 0.75394456, 0.75394456, 0.75394456, 0.75415778,\n",
              "       0.75394456])"
            ]
          },
          "metadata": {
            "tags": []
          },
          "execution_count": 54
        }
      ]
    },
    {
      "cell_type": "code",
      "metadata": {
        "id": "nhTk7447kK43",
        "colab_type": "code",
        "outputId": "c62e2978-c756-4cb9-e686-f70a738c7b63",
        "colab": {
          "base_uri": "https://localhost:8080/",
          "height": 34
        }
      },
      "source": [
        "print(cs[np.argmax(ssk_kernels)], ssk_kernels[np.argmax(ssk_kernels)])"
      ],
      "execution_count": 0,
      "outputs": [
        {
          "output_type": "stream",
          "text": [
            "16 0.7543710021321961\n"
          ],
          "name": "stdout"
        }
      ]
    },
    {
      "cell_type": "code",
      "metadata": {
        "id": "IgmLD4QeiSgA",
        "colab_type": "code",
        "outputId": "b1c4e8b6-0ae4-4ebb-e1e1-1ca770f2dbf6",
        "colab": {
          "base_uri": "https://localhost:8080/",
          "height": 299
        }
      },
      "source": [
        "fig, axes = plt.subplots( figsize=(10, 4))\n",
        "axes.set_xlabel('C')\n",
        "axes.set_ylabel('Score')\n",
        "axes.set_title('SSK Kernel')\n",
        "colors = ['navy', 'red', 'darkorange']\n",
        "axes.semilogx(cs, ssk_kernels, color='darkorange')\n",
        "plt.show()"
      ],
      "execution_count": 0,
      "outputs": [
        {
          "output_type": "display_data",
          "data": {
            "image/png": "[encoded data removed]",
            "text/plain": [
              "<Figure size 720x288 with 1 Axes>"
            ]
          },
          "metadata": {
            "tags": [],
            "needs_background": "light"
          }
        }
      ]
    },
    {
      "cell_type": "markdown",
      "metadata": {
        "id": "V-xM24bVhicf",
        "colab_type": "text"
      },
      "source": [
        "## Problem 1(d)\n",
        "\n",
        "Evaluate the performance of the SVMs in the test data set:\n",
        "* Report the results in a table for the different evaluated configurations.\n",
        "* Illustrate examples of errors (English words mistaken as Spanish, Spanish words\n",
        "mistaken as English). Give a possible explanation for these mistakes.\n",
        "* Discuss the results.\n"
      ]
    },
    {
      "cell_type": "code",
      "metadata": {
        "id": "9AvBxQyRTHoF",
        "colab_type": "code",
        "colab": {}
      },
      "source": [
        "def evaluate_svm(kernel_function, kernel_name, n_grams, C):\n",
        "  reports = []\n",
        "  for idx, n in enumerate(n_grams):\n",
        "    _clf = svm.SVC(kernel=kernel_function, C=C[idx])\n",
        "    _clf.fit(n['train'], target_train)\n",
        "    predicted = _clf.predict(n['test'])\n",
        "    nt = len(target_validation)\n",
        "    errors = np.sum(predicted != target_validation)\n",
        "    accuracy = 1-(errors/nt)\n",
        "    reports.append({\n",
        "        'name': kernel_name,\n",
        "        'n_gram': f'{idx + 1}-gram',\n",
        "        'C': C[idx],\n",
        "        'accuracy': accuracy\n",
        "    })\n",
        "  return reports\n"
      ],
      "execution_count": 0,
      "outputs": []
    },
    {
      "cell_type": "code",
      "metadata": {
        "id": "yokrz3c7UKzr",
        "colab_type": "code",
        "colab": {}
      },
      "source": [
        "models = [{\n",
        "    'kernel': cosine_similarity,\n",
        "    'C':[16 ,8 ,4],\n",
        "    'name': 'Cosine Similarity'\n",
        "}]\n",
        "'''{\n",
        "    'kernel': histogram_kernel,\n",
        "    'C':[16 ,8 ,4],\n",
        "    'name': 'Histogram Intersection'\n",
        "}\n",
        "'''\n",
        "table = []\n",
        "for model in models:\n",
        "  table = table + evaluate_svm(model['kernel'], model['name'], n_grams, model['C'])\n",
        "results = pd.DataFrame.from_dict(table)"
      ],
      "execution_count": 0,
      "outputs": []
    },
    {
      "cell_type": "code",
      "metadata": {
        "id": "HDhTjmGwiyRm",
        "colab_type": "code",
        "outputId": "51107a35-9513-4b92-c8c5-4842f8fd7e33",
        "colab": {
          "base_uri": "https://localhost:8080/",
          "height": 142
        }
      },
      "source": [
        "results"
      ],
      "execution_count": 0,
      "outputs": [
        {
          "output_type": "execute_result",
          "data": {
            "text/html": [
              "<div>\n",
              "<style scoped>\n",
              "    .dataframe tbody tr th:only-of-type {\n",
              "        vertical-align: middle;\n",
              "    }\n",
              "\n",
              "    .dataframe tbody tr th {\n",
              "        vertical-align: top;\n",
              "    }\n",
              "\n",
              "    .dataframe thead th {\n",
              "        text-align: right;\n",
              "    }\n",
              "</style>\n",
              "<table border=\"1\" class=\"dataframe\">\n",
              "  <thead>\n",
              "    <tr style=\"text-align: right;\">\n",
              "      <th></th>\n",
              "      <th>name</th>\n",
              "      <th>n_gram</th>\n",
              "      <th>C</th>\n",
              "      <th>accuracy</th>\n",
              "    </tr>\n",
              "  </thead>\n",
              "  <tbody>\n",
              "    <tr>\n",
              "      <th>0</th>\n",
              "      <td>Cosine Similarity</td>\n",
              "      <td>1-gram</td>\n",
              "      <td>16</td>\n",
              "      <td>0.771861</td>\n",
              "    </tr>\n",
              "    <tr>\n",
              "      <th>1</th>\n",
              "      <td>Cosine Similarity</td>\n",
              "      <td>2-gram</td>\n",
              "      <td>8</td>\n",
              "      <td>0.905195</td>\n",
              "    </tr>\n",
              "    <tr>\n",
              "      <th>2</th>\n",
              "      <td>Cosine Similarity</td>\n",
              "      <td>3-gram</td>\n",
              "      <td>4</td>\n",
              "      <td>0.924675</td>\n",
              "    </tr>\n",
              "  </tbody>\n",
              "</table>\n",
              "</div>"
            ],
            "text/plain": [
              "                name  n_gram   C  accuracy\n",
              "0  Cosine Similarity  1-gram  16  0.771861\n",
              "1  Cosine Similarity  2-gram   8  0.905195\n",
              "2  Cosine Similarity  3-gram   4  0.924675"
            ]
          },
          "metadata": {
            "tags": []
          },
          "execution_count": 69
        }
      ]
    },
    {
      "cell_type": "code",
      "metadata": {
        "id": "A8zxfowiDu8B",
        "colab_type": "code",
        "colab": {}
      },
      "source": [
        "models = [{\n",
        "    'kernel': histogram_kernel,\n",
        "    'C':[4 ,8 ,2],\n",
        "    'name': 'Histogram Intersection'\n",
        "}]\n",
        "table = []\n",
        "for model in models:\n",
        "  table = table + evaluate_svm(model['kernel'], model['name'], n_grams, model['C'])\n",
        "results = pd.DataFrame.from_dict(table)"
      ],
      "execution_count": 0,
      "outputs": []
    },
    {
      "cell_type": "code",
      "metadata": {
        "id": "aDlvn0nQD6F-",
        "colab_type": "code",
        "colab": {}
      },
      "source": [
        "reports = []\n",
        "C = [1,2,2]\n",
        "for idx, n in enumerate(n_grams):\n",
        "  _clf = svm.SVC(kernel=chi2_kernel, C=C[idx])\n",
        "  _clf.fit(n['train'].todense(), target_train)\n",
        "  predicted = _clf.predict(n['test'].todense())\n",
        "  nt = len(target_validation)\n",
        "  errors = np.sum(predicted != target_validation)\n",
        "  accuracy = 1-(errors/nt)\n",
        "  reports.append({\n",
        "      'name': 'X2',\n",
        "      'n_gram': f'{idx + 1}-gram',\n",
        "      'C': C[idx],\n",
        "      'accuracy': accuracy\n",
        "  })\n"
      ],
      "execution_count": 0,
      "outputs": []
    },
    {
      "cell_type": "code",
      "metadata": {
        "id": "L7ftoOTUGd84",
        "colab_type": "code",
        "outputId": "9272177a-6fb4-41c7-c453-431ebf6e0193",
        "colab": {
          "base_uri": "https://localhost:8080/",
          "height": 142
        }
      },
      "source": [
        "pd.DataFrame.from_dict(reports)"
      ],
      "execution_count": 0,
      "outputs": [
        {
          "output_type": "execute_result",
          "data": {
            "text/html": [
              "<div>\n",
              "<style scoped>\n",
              "    .dataframe tbody tr th:only-of-type {\n",
              "        vertical-align: middle;\n",
              "    }\n",
              "\n",
              "    .dataframe tbody tr th {\n",
              "        vertical-align: top;\n",
              "    }\n",
              "\n",
              "    .dataframe thead th {\n",
              "        text-align: right;\n",
              "    }\n",
              "</style>\n",
              "<table border=\"1\" class=\"dataframe\">\n",
              "  <thead>\n",
              "    <tr style=\"text-align: right;\">\n",
              "      <th></th>\n",
              "      <th>name</th>\n",
              "      <th>n_gram</th>\n",
              "      <th>C</th>\n",
              "      <th>accuracy</th>\n",
              "    </tr>\n",
              "  </thead>\n",
              "  <tbody>\n",
              "    <tr>\n",
              "      <th>0</th>\n",
              "      <td>X2</td>\n",
              "      <td>1-gram</td>\n",
              "      <td>1</td>\n",
              "      <td>0.780952</td>\n",
              "    </tr>\n",
              "    <tr>\n",
              "      <th>1</th>\n",
              "      <td>X2</td>\n",
              "      <td>2-gram</td>\n",
              "      <td>2</td>\n",
              "      <td>0.731169</td>\n",
              "    </tr>\n",
              "    <tr>\n",
              "      <th>2</th>\n",
              "      <td>X2</td>\n",
              "      <td>3-gram</td>\n",
              "      <td>2</td>\n",
              "      <td>0.619913</td>\n",
              "    </tr>\n",
              "  </tbody>\n",
              "</table>\n",
              "</div>"
            ],
            "text/plain": [
              "  name  n_gram  C  accuracy\n",
              "0   X2  1-gram  1  0.780952\n",
              "1   X2  2-gram  2  0.731169\n",
              "2   X2  3-gram  2  0.619913"
            ]
          },
          "metadata": {
            "tags": []
          },
          "execution_count": 80
        }
      ]
    },
    {
      "cell_type": "markdown",
      "metadata": {
        "id": "Au1HBsGs4u5T",
        "colab_type": "text"
      },
      "source": [
        "## Problem 2(a)\n",
        "\n",
        "**SVM interpretability**\n",
        "\n",
        "Use the same dataset from question 1 and calculate a bag of n-grams representation.\n",
        "\n"
      ]
    },
    {
      "cell_type": "markdown",
      "metadata": {
        "colab_type": "text",
        "id": "QzjOK7QR50eU"
      },
      "source": [
        "We consider (1-3)-grams to create the vectorizer because this representantion gave the best model for the histogram representation."
      ]
    },
    {
      "cell_type": "code",
      "metadata": {
        "colab_type": "code",
        "id": "1w5u13Cd50ee",
        "outputId": "d018ae54-b022-463e-9c9b-f2594a27d2cc",
        "colab": {
          "base_uri": "https://localhost:8080/",
          "height": 34
        }
      },
      "source": [
        "# # Apply vectorizer function with diferent ngrams\n",
        "\n",
        "# def vectorize_data(data_train_p, data_test_p, ngram_min, ngram_max):\n",
        "#   ## Transform to bag of words representation. n-gram\n",
        "#   vectorizer = CountVectorizer(ngram_range = (ngram_min, ngram_max), analyzer = 'char')\n",
        "#   X_train = vectorizer.fit_transform(data_train_p)\n",
        "#   X_test = vectorizer.transform(data_test_p)\n",
        "#   return X_train, X_test\n",
        "\n",
        "# Apply vectorizer function with diferent ngrams\n",
        "ngram_min = 1\n",
        "ngram_max = 3\n",
        "vectorizer = CountVectorizer(ngram_range = (ngram_min, ngram_max), analyzer = 'char')\n",
        "\n",
        "# Vectorice the data\n",
        "X1_train = vectorizer.fit_transform(data_train)\n",
        "X1_test = vectorizer.transform(data_validation)\n",
        "\n",
        "X1_train.shape, X1_test.shape"
      ],
      "execution_count": 0,
      "outputs": [
        {
          "output_type": "execute_result",
          "data": {
            "text/plain": [
              "((4690, 3082), (2310, 3082))"
            ]
          },
          "metadata": {
            "tags": []
          },
          "execution_count": 4
        }
      ]
    },
    {
      "cell_type": "code",
      "metadata": {
        "id": "gAwR_uQyQHH0",
        "colab_type": "code",
        "outputId": "f24a77a4-ed8a-44de-c5a8-43c4ce7a2f9d",
        "colab": {
          "base_uri": "https://localhost:8080/",
          "height": 34
        }
      },
      "source": [
        "X1_train, X1_test = vectorize_data(data_train, data_validation, 1, 3)\n",
        "X1_train.shape, X1_test.shape"
      ],
      "execution_count": 0,
      "outputs": [
        {
          "output_type": "execute_result",
          "data": {
            "text/plain": [
              "((4690, 3082), (2310, 3082))"
            ]
          },
          "metadata": {
            "tags": []
          },
          "execution_count": 7
        }
      ]
    },
    {
      "cell_type": "markdown",
      "metadata": {
        "id": "IsWuYQj4RBP0",
        "colab_type": "text"
      },
      "source": [
        "## Problem 2(b)\n",
        "\n",
        "Train a SVM using the histogram intersection kernel on this dataset."
      ]
    },
    {
      "cell_type": "code",
      "metadata": {
        "id": "tWrRyRY-7n1a",
        "colab_type": "code",
        "colab": {}
      },
      "source": [
        "# Apply Histogram Kernel Function\n",
        "def histogram_kernel(X_p, X_p2):\n",
        "  N1 = X_p/np.sum(X_p, axis=1).reshape(-1, 1)\n",
        "  N2 = X_p2/np.sum(X_p2, axis=1).reshape(-1, 1)\n",
        "  K2_a = np.zeros((N1.shape[0], N2.shape[0]))\n",
        "  for d in range(N1.shape[1]):\n",
        "    column_1 = N1[:, d].reshape(-1, 1)\n",
        "    column_2 = N2[:, d].reshape(-1, 1)\n",
        "    K2_a += np.minimum(column_1, column_2.T)   \n",
        "  return K2_a "
      ],
      "execution_count": 0,
      "outputs": []
    },
    {
      "cell_type": "code",
      "metadata": {
        "id": "tYd0J9Rr8D7v",
        "colab_type": "code",
        "outputId": "8b44b418-f4c5-4795-9730-8cf4fc3c6a98",
        "colab": {
          "base_uri": "https://localhost:8080/",
          "height": 70
        }
      },
      "source": [
        "histogram_kernel(np.array([[0.2, 0.3],[0.1, 0.4],[0.3,0.2]]), np.array([[0.2, 0.3],[0.1, 0.4]]))"
      ],
      "execution_count": 0,
      "outputs": [
        {
          "output_type": "execute_result",
          "data": {
            "text/plain": [
              "array([[1. , 0.8],\n",
              "       [0.8, 1. ],\n",
              "       [0.8, 0.6]])"
            ]
          },
          "metadata": {
            "tags": []
          },
          "execution_count": 28
        }
      ]
    },
    {
      "cell_type": "code",
      "metadata": {
        "colab_type": "code",
        "outputId": "e4543515-acef-4e8f-fd39-a0bfcc3f962f",
        "id": "6x9j2lFN833O",
        "colab": {
          "base_uri": "https://localhost:8080/",
          "height": 105
        }
      },
      "source": [
        "clf = svm.SVC(C=2.0, kernel=histogram_kernel)\n",
        "clf.fit(X1_train, target_train)"
      ],
      "execution_count": 0,
      "outputs": [
        {
          "output_type": "execute_result",
          "data": {
            "text/plain": [
              "SVC(C=2.0, break_ties=False, cache_size=200, class_weight=None, coef0=0.0,\n",
              "    decision_function_shape='ovr', degree=3, gamma='scale',\n",
              "    kernel=<function histogram_kernel at 0x7f92cf904ea0>, max_iter=-1,\n",
              "    probability=False, random_state=None, shrinking=True, tol=0.001,\n",
              "    verbose=False)"
            ]
          },
          "metadata": {
            "tags": []
          },
          "execution_count": 6
        }
      ]
    },
    {
      "cell_type": "code",
      "metadata": {
        "colab_type": "code",
        "id": "tsVOudvU833e",
        "colab": {}
      },
      "source": [
        "pred = clf.predict(X1_test)"
      ],
      "execution_count": 0,
      "outputs": []
    },
    {
      "cell_type": "code",
      "metadata": {
        "colab_type": "code",
        "outputId": "3f58ff43-c804-4062-ed3b-79cf41fb3d45",
        "id": "-NrIbvyr833n",
        "colab": {
          "base_uri": "https://localhost:8080/",
          "height": 34
        }
      },
      "source": [
        "nt = len(target_validation)\n",
        "errors = np.sum(pred != target_validation)\n",
        "accuracy = 1-(errors/nt)\n",
        "accuracy"
      ],
      "execution_count": 0,
      "outputs": [
        {
          "output_type": "execute_result",
          "data": {
            "text/plain": [
              "0.9168831168831169"
            ]
          },
          "metadata": {
            "tags": []
          },
          "execution_count": 31
        }
      ]
    },
    {
      "cell_type": "code",
      "metadata": {
        "colab_type": "code",
        "id": "7yCFw8mB_JrS",
        "colab": {}
      },
      "source": [
        "pred2 = clf.predict(X1_train)"
      ],
      "execution_count": 0,
      "outputs": []
    },
    {
      "cell_type": "code",
      "metadata": {
        "colab_type": "code",
        "id": "p1K-831y_Jrj",
        "outputId": "52c9a2b8-8328-47a3-ff7b-88f525829d02",
        "colab": {
          "base_uri": "https://localhost:8080/",
          "height": 34
        }
      },
      "source": [
        "nt = len(target_train)\n",
        "errors = np.sum(pred2 != target_train)\n",
        "accuracy = 1-(errors/nt)\n",
        "accuracy"
      ],
      "execution_count": 0,
      "outputs": [
        {
          "output_type": "execute_result",
          "data": {
            "text/plain": [
              "0.9624733475479744"
            ]
          },
          "metadata": {
            "tags": []
          },
          "execution_count": 33
        }
      ]
    },
    {
      "cell_type": "markdown",
      "metadata": {
        "id": "TSFntjlM95Yg",
        "colab_type": "text"
      },
      "source": [
        "### Discuss\n",
        "\n",
        "The best model from point 1 for the histogram Kernel has $C=2.0$ and (1-3)gram representation.\n",
        "\n",
        "Which has $96.2\\%$  accuracy on (train, validation) data , and $91.7\\%$ accuracy on test data.\n",
        "\n"
      ]
    },
    {
      "cell_type": "markdown",
      "metadata": {
        "id": "Qwe1aru1iIhT",
        "colab_type": "text"
      },
      "source": [
        "## Problem 2(c) \n",
        "\n",
        "Identify the support vectors found by the SVM training algorithm. Show the samples\n",
        "corresponding to the support vectors with the maximum absolute value of the $\\alpha_i$ coefficients, for both positive and negative values. Do they make sense? Analyze and\n",
        "discuss."
      ]
    },
    {
      "cell_type": "markdown",
      "metadata": {
        "id": "S2ZRBy7PCbCW",
        "colab_type": "text"
      },
      "source": [
        "First we compute the support vectors, and show some examples, in total we have 1892 support vectors"
      ]
    },
    {
      "cell_type": "code",
      "metadata": {
        "id": "FCHE_uFDhuyu",
        "colab_type": "code",
        "outputId": "9d89f8e7-1253-42b5-d26e-c1535944a784",
        "colab": {
          "base_uri": "https://localhost:8080/",
          "height": 230
        }
      },
      "source": [
        "indices = clf.support_\n",
        "data_train.iloc[indices]"
      ],
      "execution_count": 0,
      "outputs": [
        {
          "output_type": "execute_result",
          "data": {
            "text/plain": [
              "3739       hemos\n",
              "4664    escribir\n",
              "6090      medias\n",
              "5663    probable\n",
              "6642     conocen\n",
              "          ...   \n",
              "1806        ruin\n",
              "1184        gray\n",
              "1685       apart\n",
              "3444       canoe\n",
              "3092     charges\n",
              "Name: Word, Length: 1892, dtype: object"
            ]
          },
          "metadata": {
            "tags": []
          },
          "execution_count": 53
        }
      ]
    },
    {
      "cell_type": "markdown",
      "metadata": {
        "id": "MPA2UlqWCooP",
        "colab_type": "text"
      },
      "source": [
        "Now we compute the support vectors whose alphas in the dual representation are maximal which happen to be that they are equal to 2, given that $C=2.0$. In total we have 994 with highest alphas. Some of thm correpond to the negative class so the dual coefficientes are - 2 and the positive class the dual coefficients are +2"
      ]
    },
    {
      "cell_type": "code",
      "metadata": {
        "id": "7jo4cVAHk3xo",
        "colab_type": "code",
        "outputId": "d898bdea-95ee-4ee1-a400-45670e0fc0c0",
        "colab": {
          "base_uri": "https://localhost:8080/",
          "height": 87
        }
      },
      "source": [
        "coeffs = clf.dual_coef_\n",
        "print(coeffs)\n",
        "print(max(coeffs[0]))\n",
        "abs_max_coeffs = np.where(abs(coeffs[0]) == 2)\n",
        "print(len(abs_max_coeffs[0]))"
      ],
      "execution_count": 0,
      "outputs": [
        {
          "output_type": "stream",
          "text": [
            "[[-2.         -0.50450222 -0.77823828 ...  2.          2.\n",
            "   1.25804815]]\n",
            "2.0\n",
            "994\n"
          ],
          "name": "stdout"
        }
      ]
    },
    {
      "cell_type": "code",
      "metadata": {
        "id": "gTqCspkh2SqM",
        "colab_type": "code",
        "outputId": "fdc1a187-4075-4ded-8b6b-ae05fcbfcc2f",
        "colab": {
          "base_uri": "https://localhost:8080/",
          "height": 745
        }
      },
      "source": [
        "data_train.iloc[indices[abs_max_coeffs[0]]].iloc[:40]"
      ],
      "execution_count": 0,
      "outputs": [
        {
          "output_type": "execute_result",
          "data": {
            "text/plain": [
              "3739         hemos\n",
              "5663      probable\n",
              "5833       fortuna\n",
              "5303       deporte\n",
              "3758        quiere\n",
              "5123      juventud\n",
              "6716       balance\n",
              "3505         entre\n",
              "4436         lunes\n",
              "4825        piedra\n",
              "5605        serian\n",
              "4387        ocurre\n",
              "6715        taller\n",
              "3641        parece\n",
              "5609        pintor\n",
              "4714       hacerse\n",
              "5613        cierre\n",
              "6967      extremos\n",
              "4602         tarea\n",
              "4274          area\n",
              "6615         senti\n",
              "4556    superficie\n",
              "5646    conclusion\n",
              "6577      misterio\n",
              "5499         perro\n",
              "3682        traves\n",
              "4271         dicen\n",
              "4456       alcalde\n",
              "3625         tener\n",
              "6471          pepe\n",
              "6797        patron\n",
              "4048         tomar\n",
              "4677       version\n",
              "3857      personal\n",
              "6815        robert\n",
              "5239        jardin\n",
              "6119       alfredo\n",
              "4299      material\n",
              "4704          cabe\n",
              "5900       lideres\n",
              "Name: Word, dtype: object"
            ]
          },
          "metadata": {
            "tags": []
          },
          "execution_count": 24
        }
      ]
    },
    {
      "cell_type": "markdown",
      "metadata": {
        "id": "vE8s2OALDbDG",
        "colab_type": "text"
      },
      "source": [
        "We print some examples of support vectors whose alphas are either -2, or +2"
      ]
    },
    {
      "cell_type": "markdown",
      "metadata": {
        "id": "zyEfRSS7nhol",
        "colab_type": "text"
      },
      "source": [
        "### Positive Support vectors"
      ]
    },
    {
      "cell_type": "markdown",
      "metadata": {
        "colab_type": "text",
        "id": "VJzBQI-9Eu9f"
      },
      "source": [
        "Now we compute the support vectors whose alphas in the dual representation are maximal which means that they are +2, given that $C=2.0$. In total we have 504 maximal positive support vectors."
      ]
    },
    {
      "cell_type": "code",
      "metadata": {
        "colab_type": "code",
        "outputId": "e372912a-03eb-4be0-c180-b1299c09896e",
        "id": "YjHTaw-jEu9x",
        "colab": {
          "base_uri": "https://localhost:8080/",
          "height": 85
        }
      },
      "source": [
        "coeffs = clf.dual_coef_\n",
        "print(coeffs)\n",
        "print(max(coeffs[0]))\n",
        "max_coeffs = np.where(coeffs[0] == max(coeffs[0]))\n",
        "print(len(max_coeffs[0]))"
      ],
      "execution_count": 0,
      "outputs": [
        {
          "output_type": "stream",
          "text": [
            "[[-2.         -0.50450222 -0.77823828 ...  2.          2.\n",
            "   1.25804815]]\n",
            "2.0\n",
            "504\n"
          ],
          "name": "stdout"
        }
      ]
    },
    {
      "cell_type": "markdown",
      "metadata": {
        "colab_type": "text",
        "id": "waf9cg-TEu-f"
      },
      "source": [
        "We print some examples of maximal positive support vectors, they are whose alphas are +2 and class +1."
      ]
    },
    {
      "cell_type": "code",
      "metadata": {
        "id": "MjY_r9bT3zUP",
        "colab_type": "code",
        "outputId": "2532d4be-004a-423d-d71a-4ace065c2c95",
        "colab": {
          "base_uri": "https://localhost:8080/",
          "height": 714
        }
      },
      "source": [
        "data_train.iloc[indices[max_coeffs[0]]].iloc[:40]"
      ],
      "execution_count": 0,
      "outputs": [
        {
          "output_type": "execute_result",
          "data": {
            "text/plain": [
              "2103           china\n",
              "1614         escaped\n",
              "837             plan\n",
              "1230       principle\n",
              "3125      ridiculous\n",
              "1780          actual\n",
              "803           ladies\n",
              "3341          mirror\n",
              "1288    intellectual\n",
              "718           garden\n",
              "2364       abandoned\n",
              "670            value\n",
              "2641           elder\n",
              "3006         gardens\n",
              "3107       criticism\n",
              "2513         intense\n",
              "3406         recover\n",
              "2666        moreover\n",
              "2815          maiden\n",
              "1200          divine\n",
              "566           please\n",
              "2099         reduced\n",
              "1688          labour\n",
              "745          america\n",
              "741         religion\n",
              "2170        readable\n",
              "1911           bosom\n",
              "2366          eleven\n",
              "1361         arrival\n",
              "1526       practical\n",
              "945         opposite\n",
              "1503         control\n",
              "2687         liberal\n",
              "841          conduct\n",
              "1189          virtue\n",
              "175            until\n",
              "300             care\n",
              "1472          stones\n",
              "2642          signal\n",
              "744         personal\n",
              "Name: Word, dtype: object"
            ]
          },
          "metadata": {
            "tags": []
          },
          "execution_count": 30
        }
      ]
    },
    {
      "cell_type": "markdown",
      "metadata": {
        "colab_type": "text",
        "id": "JPfuIRkfGUGa"
      },
      "source": [
        "### Negative Support vectors"
      ]
    },
    {
      "cell_type": "markdown",
      "metadata": {
        "colab_type": "text",
        "id": "46RS4JUkGUGt"
      },
      "source": [
        "Now we compute the support vectors whose alphas in the dual representation are maximal they happen to be +2 but are from the negative class -1, hence the coefficients in the dual representation are -2, given that $C=2.0$. In total we have 490 maximal negative support vectors."
      ]
    },
    {
      "cell_type": "code",
      "metadata": {
        "colab_type": "code",
        "outputId": "26fa8f31-37c6-4f9f-b477-3a283001f390",
        "id": "Y4NUzwTCGUGx",
        "colab": {
          "base_uri": "https://localhost:8080/",
          "height": 85
        }
      },
      "source": [
        "coeffs = clf.dual_coef_\n",
        "print(coeffs)\n",
        "print(min(coeffs[0]))\n",
        "min_coeffs = np.where(coeffs[0] == min(coeffs[0]))\n",
        "print(len(min_coeffs[0]))"
      ],
      "execution_count": 0,
      "outputs": [
        {
          "output_type": "stream",
          "text": [
            "[[-2.         -0.50450222 -0.77823828 ...  2.          2.\n",
            "   1.25804815]]\n",
            "-2.0\n",
            "490\n"
          ],
          "name": "stdout"
        }
      ]
    },
    {
      "cell_type": "markdown",
      "metadata": {
        "colab_type": "text",
        "id": "WpIoGYHwGUHM"
      },
      "source": [
        "We print some examples of maximal negative support vectors, they happen to be those whose alphas are 2 and dual coeffs are -2."
      ]
    },
    {
      "cell_type": "code",
      "metadata": {
        "id": "KEbm6_IC4Dz3",
        "colab_type": "code",
        "outputId": "3e47db1c-8153-41c4-b658-35027e31298c",
        "colab": {
          "base_uri": "https://localhost:8080/",
          "height": 714
        }
      },
      "source": [
        "data_train.iloc[indices[min_coeffs[0]]].iloc[0:40]"
      ],
      "execution_count": 0,
      "outputs": [
        {
          "output_type": "execute_result",
          "data": {
            "text/plain": [
              "3739         hemos\n",
              "5663      probable\n",
              "5833       fortuna\n",
              "5303       deporte\n",
              "3758        quiere\n",
              "5123      juventud\n",
              "6716       balance\n",
              "3505         entre\n",
              "4436         lunes\n",
              "4825        piedra\n",
              "5605        serian\n",
              "4387        ocurre\n",
              "6715        taller\n",
              "3641        parece\n",
              "5609        pintor\n",
              "4714       hacerse\n",
              "5613        cierre\n",
              "6967      extremos\n",
              "4602         tarea\n",
              "4274          area\n",
              "6615         senti\n",
              "4556    superficie\n",
              "5646    conclusion\n",
              "6577      misterio\n",
              "5499         perro\n",
              "3682        traves\n",
              "4271         dicen\n",
              "4456       alcalde\n",
              "3625         tener\n",
              "6471          pepe\n",
              "6797        patron\n",
              "4048         tomar\n",
              "4677       version\n",
              "3857      personal\n",
              "6815        robert\n",
              "5239        jardin\n",
              "6119       alfredo\n",
              "4299      material\n",
              "4704          cabe\n",
              "5900       lideres\n",
              "Name: Word, dtype: object"
            ]
          },
          "metadata": {
            "tags": []
          },
          "execution_count": 34
        }
      ]
    },
    {
      "cell_type": "markdown",
      "metadata": {
        "id": "VI7Nm2vsIzts",
        "colab_type": "text"
      },
      "source": [
        "### Discuss\n",
        "\n",
        "Given that the support vectors are vectors that lie in the boundary between English and Spanish, we excepted these vectors to be words that are similar in both english and spanish. \n",
        "We found that some of them are very similar in both languages, indeed some are cognates words like (probable, religion, conduct) \n",
        "\n",
        "The positive support vectors with highest alpha are words in english that sound spanish, like cognates and words with definite spanish-type-syllabic-structure  like (escaped, virtue, moreover).\n",
        "\n",
        "The negative support vectors with highest alphas are words in spanish that are similar with english words like cognates such as (ocurre, lideres, personal, version). \n",
        "\n",
        "Some letters do not appear in the words examples like (w, ñ) because they are almost exclusive of the languages. "
      ]
    },
    {
      "cell_type": "markdown",
      "metadata": {
        "id": "L0r6NDv_KwLh",
        "colab_type": "text"
      },
      "source": [
        "## Problem 2(d)\n",
        "\n",
        "For different test samples, calculate the classification manually, i.e. compute the kernel between the sample and the support vectors and check how the contribute, positively or negatively, to the final classification. Show those vectors that have the highest value of the kernel. Analyze and discuss"
      ]
    },
    {
      "cell_type": "markdown",
      "metadata": {
        "id": "N5Uy637_cas4",
        "colab_type": "text"
      },
      "source": [
        "Print part of the validation data set to select some test sample from English"
      ]
    },
    {
      "cell_type": "code",
      "metadata": {
        "id": "znw53YuYLCIv",
        "colab_type": "code",
        "outputId": "321f24bf-b57e-4505-bcd8-b886a3708c7d",
        "colab": {
          "base_uri": "https://localhost:8080/",
          "height": 745
        }
      },
      "source": [
        "data_validation[180:220]"
      ],
      "execution_count": 0,
      "outputs": [
        {
          "output_type": "execute_result",
          "data": {
            "text/plain": [
              "3615             cual\n",
              "6156            vital\n",
              "473            church\n",
              "6083            reloj\n",
              "2886    determination\n",
              "1554           unable\n",
              "4127       finalmente\n",
              "1940         doctrine\n",
              "6186            pilar\n",
              "5947        encargado\n",
              "5459      agricultura\n",
              "6681           terror\n",
              "6497       tendencias\n",
              "6150     conservacion\n",
              "2900           theyre\n",
              "1201         material\n",
              "5714    mantenimiento\n",
              "6269         revision\n",
              "535             heavy\n",
              "5689        consiguio\n",
              "3733           llegar\n",
              "5799       consciente\n",
              "2874            grasp\n",
              "5178    concentracion\n",
              "3142             adam\n",
              "3113     restrictions\n",
              "3806         comision\n",
              "5038      extranjeros\n",
              "4053           amigos\n",
              "3043           enable\n",
              "1335             rode\n",
              "6244        bienestar\n",
              "2764       previously\n",
              "5561          interno\n",
              "1964            reign\n",
              "1559       constantly\n",
              "185             white\n",
              "5531           minuto\n",
              "5071         producir\n",
              "6713         montanas\n",
              "Name: Word, dtype: object"
            ]
          },
          "metadata": {
            "tags": []
          },
          "execution_count": 18
        }
      ]
    },
    {
      "cell_type": "markdown",
      "metadata": {
        "id": "ODwStk6Mls_H",
        "colab_type": "text"
      },
      "source": [
        "### Sample 1: ['white']"
      ]
    },
    {
      "cell_type": "markdown",
      "metadata": {
        "id": "e15c3hrxdCtm",
        "colab_type": "text"
      },
      "source": [
        "Compute the Kernel between the support vectors and the word"
      ]
    },
    {
      "cell_type": "code",
      "metadata": {
        "id": "R9eYvlc2c_lh",
        "colab_type": "code",
        "outputId": "e6a4c4da-9cf5-4f57-a52b-c1116392ee7f",
        "colab": {
          "base_uri": "https://localhost:8080/",
          "height": 34
        }
      },
      "source": [
        "# Select the support vectors and the sample vector\n",
        "indices = clf.support_\n",
        "X_supvecs = X1_train[indices]\n",
        "X_sample = vectorizer.transform(['white'])\n",
        "\n",
        "# Compute the Kernel\n",
        "K_1 = histogram_kernel(X_supvecs,X_sample).T\n",
        "\n",
        "# Select the coefficients in the dual representation and the intercept\n",
        "coeffs = clf.dual_coef_\n",
        "b_coeff = clf.intercept_[0]\n",
        "\n",
        "# Print the resulting shapes\n",
        "X_supvecs.shape, K_1.shape, coeffs.shape"
      ],
      "execution_count": 0,
      "outputs": [
        {
          "output_type": "execute_result",
          "data": {
            "text/plain": [
              "((1892, 3082), (1, 1892), (1, 1892))"
            ]
          },
          "metadata": {
            "tags": []
          },
          "execution_count": 86
        }
      ]
    },
    {
      "cell_type": "markdown",
      "metadata": {
        "id": "HRxZox-Jfw4E",
        "colab_type": "text"
      },
      "source": [
        "Compute the element wise product of the Kernel between the support vectors and the test sample, and the total discrimination function. "
      ]
    },
    {
      "cell_type": "code",
      "metadata": {
        "id": "hETErIJHePsY",
        "colab_type": "code",
        "outputId": "a6cab9ea-d6c1-4b78-a8b3-954d559e2452",
        "colab": {
          "base_uri": "https://localhost:8080/",
          "height": 34
        }
      },
      "source": [
        "disc_function = K_1*coeffs\n",
        "disc_value = disc_function.sum() + b_coeff\n",
        "\n",
        "disc_value, disc_function.shape"
      ],
      "execution_count": 0,
      "outputs": [
        {
          "output_type": "execute_result",
          "data": {
            "text/plain": [
              "(2.039306326057856, (1, 1892))"
            ]
          },
          "metadata": {
            "tags": []
          },
          "execution_count": 89
        }
      ]
    },
    {
      "cell_type": "markdown",
      "metadata": {
        "id": "g79WI05LiGlE",
        "colab_type": "text"
      },
      "source": [
        "Compute the support vectors which have higher positive and negative effect in the classification"
      ]
    },
    {
      "cell_type": "code",
      "metadata": {
        "id": "zF2mtRgPg5nf",
        "colab_type": "code",
        "outputId": "0d294d3c-b7f8-4442-dd0f-2f48b61189e7",
        "colab": {
          "base_uri": "https://localhost:8080/",
          "height": 34
        }
      },
      "source": [
        "min_disc_function = disc_function[0]\n",
        "#maxvecs = min_disc_function.argsort()[-8:][::-1]\n",
        "maxvecs = (-min_disc_function).argsort()[:8]\n",
        "maxvecs.shape"
      ],
      "execution_count": 0,
      "outputs": [
        {
          "output_type": "execute_result",
          "data": {
            "text/plain": [
              "(8,)"
            ]
          },
          "metadata": {
            "tags": []
          },
          "execution_count": 67
        }
      ]
    },
    {
      "cell_type": "code",
      "metadata": {
        "id": "uOfX-nvqpBtD",
        "colab_type": "code",
        "outputId": "ba745f70-f489-4a9d-f0ce-1c8b9013bcf4",
        "colab": {
          "base_uri": "https://localhost:8080/",
          "height": 176
        }
      },
      "source": [
        "data_train.iloc[indices[maxvecs]]"
      ],
      "execution_count": 0,
      "outputs": [
        {
          "output_type": "execute_result",
          "data": {
            "text/plain": [
              "161          quite\n",
              "2111      hitherto\n",
              "2750      definite\n",
              "2139         haste\n",
              "2451      infinite\n",
              "1460    excitement\n",
              "2401     interview\n",
              "3106      favorite\n",
              "Name: Word, dtype: object"
            ]
          },
          "metadata": {
            "tags": []
          },
          "execution_count": 69
        }
      ]
    },
    {
      "cell_type": "code",
      "metadata": {
        "colab_type": "code",
        "outputId": "c2f23f07-61be-4a76-9c04-396f76446145",
        "id": "0HqPxkjzq6e8",
        "colab": {
          "base_uri": "https://localhost:8080/",
          "height": 34
        }
      },
      "source": [
        "max_disc_function = disc_function[0]\n",
        "#maxvecs = min_disc_function.argsort()[-8:][::-1]\n",
        "minvecs = (max_disc_function).argsort()[:8]\n",
        "minvecs.shape"
      ],
      "execution_count": 0,
      "outputs": [
        {
          "output_type": "execute_result",
          "data": {
            "text/plain": [
              "(8,)"
            ]
          },
          "metadata": {
            "tags": []
          },
          "execution_count": 70
        }
      ]
    },
    {
      "cell_type": "code",
      "metadata": {
        "colab_type": "code",
        "outputId": "7d03f7d0-bc6e-4195-8288-f3f9df275a39",
        "id": "EpnBB6oBq6fR",
        "colab": {
          "base_uri": "https://localhost:8080/",
          "height": 176
        }
      },
      "source": [
        "data_train.iloc[indices[minvecs]]"
      ],
      "execution_count": 0,
      "outputs": [
        {
          "output_type": "execute_result",
          "data": {
            "text/plain": [
              "5659      limite\n",
              "4573      aceite\n",
              "4469      comite\n",
              "4050       siete\n",
              "4476       hotel\n",
              "5750        hice\n",
              "4190       chile\n",
              "5283    criterio\n",
              "Name: Word, dtype: object"
            ]
          },
          "metadata": {
            "tags": []
          },
          "execution_count": 71
        }
      ]
    },
    {
      "cell_type": "markdown",
      "metadata": {
        "colab_type": "text",
        "id": "T-qsDF4RmUMS"
      },
      "source": [
        "### Sample 2: ['extranjeros']"
      ]
    },
    {
      "cell_type": "markdown",
      "metadata": {
        "colab_type": "text",
        "id": "x5elpRBbmUMZ"
      },
      "source": [
        "Compute the Kernel between the support vectors and the word"
      ]
    },
    {
      "cell_type": "code",
      "metadata": {
        "colab_type": "code",
        "outputId": "3d6c62b6-aae6-468e-932e-7cd74dde44cb",
        "id": "9gh_ndSbmUMc",
        "colab": {
          "base_uri": "https://localhost:8080/",
          "height": 34
        }
      },
      "source": [
        "# Select the support vectors and the sample vector\n",
        "indices = clf.support_\n",
        "X_supvecs = X1_train[indices]\n",
        "X_sample = vectorizer.transform(['extranjeros'])\n",
        "\n",
        "# Compute the Kernel\n",
        "K_1 = histogram_kernel(X_supvecs,X_sample).T\n",
        "\n",
        "# Select the coefficients in the dual representation and the intercept\n",
        "coeffs = clf.dual_coef_\n",
        "b_coeff = clf.intercept_[0]\n",
        "\n",
        "# Print the resulting shapes\n",
        "X_supvecs.shape, K_1.shape, coeffs.shape"
      ],
      "execution_count": 0,
      "outputs": [
        {
          "output_type": "execute_result",
          "data": {
            "text/plain": [
              "((1892, 3082), (1, 1892), (1, 1892))"
            ]
          },
          "metadata": {
            "tags": []
          },
          "execution_count": 91
        }
      ]
    },
    {
      "cell_type": "markdown",
      "metadata": {
        "colab_type": "text",
        "id": "kMlTs-AemUMu"
      },
      "source": [
        "Compute the element wise product of the Kernel between the support vectors and the test sample, and the total discrimination function. "
      ]
    },
    {
      "cell_type": "code",
      "metadata": {
        "colab_type": "code",
        "outputId": "e3b5458f-e1b2-4b64-e258-b9270fcba6ca",
        "id": "Ex749NPkmUMw",
        "colab": {
          "base_uri": "https://localhost:8080/",
          "height": 34
        }
      },
      "source": [
        "disc_function = K_1*coeffs\n",
        "disc_value = disc_function.sum() + b_coeff\n",
        "\n",
        "disc_value, disc_function.shape"
      ],
      "execution_count": 0,
      "outputs": [
        {
          "output_type": "execute_result",
          "data": {
            "text/plain": [
              "(-1.5174481926773193, (1, 1892))"
            ]
          },
          "metadata": {
            "tags": []
          },
          "execution_count": 92
        }
      ]
    },
    {
      "cell_type": "markdown",
      "metadata": {
        "colab_type": "text",
        "id": "9HTxxiJAmUM3"
      },
      "source": [
        "Compute the support vectors which have higher positive and negative effect in the classification"
      ]
    },
    {
      "cell_type": "code",
      "metadata": {
        "colab_type": "code",
        "outputId": "c0d0fd0e-f137-41c6-f19b-e6ccf67d3822",
        "id": "aC18PpgEmUM4",
        "colab": {
          "base_uri": "https://localhost:8080/",
          "height": 34
        }
      },
      "source": [
        "min_disc_function = disc_function[0]\n",
        "#maxvecs = min_disc_function.argsort()[-8:][::-1]\n",
        "maxvecs = (-min_disc_function).argsort()[:8]\n",
        "maxvecs.shape"
      ],
      "execution_count": 0,
      "outputs": [
        {
          "output_type": "execute_result",
          "data": {
            "text/plain": [
              "(8,)"
            ]
          },
          "metadata": {
            "tags": []
          },
          "execution_count": 21
        }
      ]
    },
    {
      "cell_type": "code",
      "metadata": {
        "colab_type": "code",
        "outputId": "a5847c1f-c21d-4678-dfde-ce03bcae2ca4",
        "id": "7P9RsL3PmUM-",
        "colab": {
          "base_uri": "https://localhost:8080/",
          "height": 176
        }
      },
      "source": [
        "data_train.iloc[indices[maxvecs]]"
      ],
      "execution_count": 0,
      "outputs": [
        {
          "output_type": "execute_result",
          "data": {
            "text/plain": [
              "1367    extraordinary\n",
              "3026         external\n",
              "1537         entrance\n",
              "1642          extreme\n",
              "1602            arose\n",
              "3304           orange\n",
              "2777         contrast\n",
              "1714          granted\n",
              "Name: Word, dtype: object"
            ]
          },
          "metadata": {
            "tags": []
          },
          "execution_count": 22
        }
      ]
    },
    {
      "cell_type": "code",
      "metadata": {
        "colab_type": "code",
        "outputId": "d404b92f-b982-4738-d9d5-4985051e44f0",
        "id": "T77861p_mUNI",
        "colab": {
          "base_uri": "https://localhost:8080/",
          "height": 34
        }
      },
      "source": [
        "max_disc_function = disc_function[0]\n",
        "#maxvecs = min_disc_function.argsort()[-8:][::-1]\n",
        "minvecs = (max_disc_function).argsort()[:8]\n",
        "minvecs.shape"
      ],
      "execution_count": 0,
      "outputs": [
        {
          "output_type": "execute_result",
          "data": {
            "text/plain": [
              "(8,)"
            ]
          },
          "metadata": {
            "tags": []
          },
          "execution_count": 23
        }
      ]
    },
    {
      "cell_type": "code",
      "metadata": {
        "colab_type": "code",
        "outputId": "83ad1fd6-583e-4c02-beb4-acc2f4a84cf5",
        "id": "wlb2ai7BmUNP",
        "colab": {
          "base_uri": "https://localhost:8080/",
          "height": 176
        }
      },
      "source": [
        "data_train.iloc[indices[minvecs]]"
      ],
      "execution_count": 0,
      "outputs": [
        {
          "output_type": "execute_result",
          "data": {
            "text/plain": [
              "6967       extremos\n",
              "4804     transporte\n",
              "6689    encontrarse\n",
              "5264     exteriores\n",
              "4324     encuentran\n",
              "6858        esperan\n",
              "4721      personaje\n",
              "6904    encontraban\n",
              "Name: Word, dtype: object"
            ]
          },
          "metadata": {
            "tags": []
          },
          "execution_count": 24
        }
      ]
    },
    {
      "cell_type": "markdown",
      "metadata": {
        "colab_type": "text",
        "id": "iE4KHynioLLI"
      },
      "source": [
        "### Sample 3: ['constantly']"
      ]
    },
    {
      "cell_type": "markdown",
      "metadata": {
        "colab_type": "text",
        "id": "YwKo2swyoLLP"
      },
      "source": [
        "Compute the Kernel between the support vectors and the word"
      ]
    },
    {
      "cell_type": "code",
      "metadata": {
        "colab_type": "code",
        "outputId": "915fe824-5b79-4fac-d8ee-f01abcce32a4",
        "id": "4YHsH_BroLLS",
        "colab": {
          "base_uri": "https://localhost:8080/",
          "height": 34
        }
      },
      "source": [
        "# Select the support vectors and the sample vector\n",
        "indices = clf.support_\n",
        "X_supvecs = X1_train[indices]\n",
        "X_sample = vectorizer.transform(['constantly'])\n",
        "\n",
        "# Compute the Kernel\n",
        "K_1 = histogram_kernel(X_supvecs,X_sample).T\n",
        "\n",
        "# Select the coefficients in the dual representation and the intercept\n",
        "coeffs = clf.dual_coef_\n",
        "b_coeff = clf.intercept_[0]\n",
        "\n",
        "# Print the resulting shapes\n",
        "X_supvecs.shape, K_1.shape, coeffs.shape"
      ],
      "execution_count": 0,
      "outputs": [
        {
          "output_type": "execute_result",
          "data": {
            "text/plain": [
              "((1892, 3082), (1, 1892), (1, 1892))"
            ]
          },
          "metadata": {
            "tags": []
          },
          "execution_count": 99
        }
      ]
    },
    {
      "cell_type": "markdown",
      "metadata": {
        "colab_type": "text",
        "id": "BXlzxUQJoLLo"
      },
      "source": [
        "Compute the element wise product of the Kernel between the support vectors and the test sample, and the total discrimination function. "
      ]
    },
    {
      "cell_type": "code",
      "metadata": {
        "colab_type": "code",
        "outputId": "817f46fa-e207-43a6-e4b6-aa89e3f71f4a",
        "id": "-QcuryrvoLLr",
        "colab": {
          "base_uri": "https://localhost:8080/",
          "height": 34
        }
      },
      "source": [
        "disc_function = K_1*coeffs\n",
        "disc_value = disc_function.sum() + b_coeff\n",
        "\n",
        "disc_value, disc_function.shape"
      ],
      "execution_count": 0,
      "outputs": [
        {
          "output_type": "execute_result",
          "data": {
            "text/plain": [
              "(1.274163082838088, (1, 1892))"
            ]
          },
          "metadata": {
            "tags": []
          },
          "execution_count": 100
        }
      ]
    },
    {
      "cell_type": "markdown",
      "metadata": {
        "colab_type": "text",
        "id": "WqWLdDCwoLL1"
      },
      "source": [
        "Compute the support vectors which have higher positive and negative effect in the classification"
      ]
    },
    {
      "cell_type": "code",
      "metadata": {
        "colab_type": "code",
        "outputId": "d96d207c-2459-4b88-f3d9-40b6a41e162d",
        "id": "4TpgNebQoLL4",
        "colab": {
          "base_uri": "https://localhost:8080/",
          "height": 34
        }
      },
      "source": [
        "min_disc_function = disc_function[0]\n",
        "#maxvecs = min_disc_function.argsort()[-8:][::-1]\n",
        "maxvecs = (-min_disc_function).argsort()[:8]\n",
        "maxvecs.shape"
      ],
      "execution_count": 0,
      "outputs": [
        {
          "output_type": "execute_result",
          "data": {
            "text/plain": [
              "(8,)"
            ]
          },
          "metadata": {
            "tags": []
          },
          "execution_count": 81
        }
      ]
    },
    {
      "cell_type": "code",
      "metadata": {
        "colab_type": "code",
        "outputId": "77665179-cac6-4aae-fb60-c39bbaeef754",
        "id": "rZfIvzZpoLMA",
        "colab": {
          "base_uri": "https://localhost:8080/",
          "height": 176
        }
      },
      "source": [
        "data_train.iloc[indices[maxvecs]]"
      ],
      "execution_count": 0,
      "outputs": [
        {
          "output_type": "execute_result",
          "data": {
            "text/plain": [
              "1453      constant\n",
              "2777      contrast\n",
              "1303       contact\n",
              "1781    companions\n",
              "3174     consisted\n",
              "1437       contain\n",
              "499       distance\n",
              "482      important\n",
              "Name: Word, dtype: object"
            ]
          },
          "metadata": {
            "tags": []
          },
          "execution_count": 52
        }
      ]
    },
    {
      "cell_type": "code",
      "metadata": {
        "colab_type": "code",
        "outputId": "81826d5d-f8ea-49a4-b9bc-669161d0a0ae",
        "id": "SQ1clmtZoLMH",
        "colab": {
          "base_uri": "https://localhost:8080/",
          "height": 34
        }
      },
      "source": [
        "max_disc_function = disc_function[0]\n",
        "#maxvecs = min_disc_function.argsort()[-8:][::-1]\n",
        "minvecs = (max_disc_function).argsort()[:8]\n",
        "minvecs.shape"
      ],
      "execution_count": 0,
      "outputs": [
        {
          "output_type": "execute_result",
          "data": {
            "text/plain": [
              "(8,)"
            ]
          },
          "metadata": {
            "tags": []
          },
          "execution_count": 83
        }
      ]
    },
    {
      "cell_type": "code",
      "metadata": {
        "colab_type": "code",
        "outputId": "44e215aa-19c0-4392-9750-8c36ff5be8f8",
        "id": "3095SAK4oLMQ",
        "colab": {
          "base_uri": "https://localhost:8080/",
          "height": 176
        }
      },
      "source": [
        "data_train.iloc[indices[minvecs]]"
      ],
      "execution_count": 0,
      "outputs": [
        {
          "output_type": "execute_result",
          "data": {
            "text/plain": [
              "4787       instante\n",
              "5280    constituyen\n",
              "5297      construir\n",
              "4775       consiste\n",
              "6904    encontraban\n",
              "5373      continuar\n",
              "6462       consenso\n",
              "6689    encontrarse\n",
              "Name: Word, dtype: object"
            ]
          },
          "metadata": {
            "tags": []
          },
          "execution_count": 80
        }
      ]
    },
    {
      "cell_type": "markdown",
      "metadata": {
        "id": "WAzZmstCsptZ",
        "colab_type": "text"
      },
      "source": [
        "### Discuss"
      ]
    },
    {
      "cell_type": "markdown",
      "metadata": {
        "id": "swI801iIq_Zd",
        "colab_type": "text"
      },
      "source": [
        "## Problem 2(e)\n",
        "\n",
        "Propose a method that for a given word to be classified, highlight in one color (e.g. blue)\n",
        "those n-grams that suggest the word is from English and in another color (e.g. red) those\n",
        "n-grams that suggest the word is from Spanish."
      ]
    },
    {
      "cell_type": "markdown",
      "metadata": {
        "id": "uKYow9FKGTu7",
        "colab_type": "text"
      },
      "source": [
        "**Solution:**\n",
        "\n",
        "Let $\\mathbf{p}$ be the word vector to be classified defined by the elements $p_j$, and let $\\mathbf{x_i}$ be one support vector, defined by the elements $x_{ij}$. All vectors are normalized. Then the discrimination function for $\\mathbf{p}$ is defined by,\n",
        "$$  f(\\mathbf{p}) = \\sum_ia_iy_ik(\\mathbf{x_i},\\mathbf{p}) + b $$\n",
        "Now the Histogram Kernel function between the points is defined by, \n",
        "$$ k(\\mathbf{x_i},\\mathbf{p}) = \\sum_j\\text{min}(x_{ij},p_j) $$\n",
        "Then, \n",
        "$$  f(\\mathbf{p}) = \\sum_ia_iy_i(\\sum_j\\text{min}(x_{ij},p_j)) + b $$\n",
        "$$  f(\\mathbf{p}) = \\sum_j (\\sum_ia_iy_i\\text{min}(x_{ij},p_j)) + b $$\n",
        "Hence, we can a define a vector $\\mathbf{F}$ where each element apply to each n-gram whose jth entry is, \n",
        "$$  F_j  =  \\sum_ia_iy_i(\\text{min}(x_{ij},p_j)) $$\n",
        "The positive elements of that vector would be n-grams which suggest the word is from english, the negative elements would be n-grams which suggest is from spanish.\n"
      ]
    },
    {
      "cell_type": "code",
      "metadata": {
        "id": "nqeo-t-8rPYx",
        "colab_type": "code",
        "outputId": "b461d53c-112f-448e-a00b-9fc182f3f5b6",
        "colab": {
          "base_uri": "https://localhost:8080/",
          "height": 238
        }
      },
      "source": [
        "# Select the support vectors and the sample vector\n",
        "indices = clf.support_\n",
        "X_supvecs = X1_train[indices]\n",
        "X_sample = vectorizer.transform(['constantly'])\n",
        "\n",
        "# Normalize the support vectors and the sample vector\n",
        "X_supvecs = (X_supvecs/X_supvecs.sum(axis=1)).toarray()\n",
        "X_sample = X_sample/X_sample.sum()\n",
        "\n",
        "# Select the dual coefficients of the support vectors\n",
        "coeffs = clf.dual_coef_.T\n",
        "\n",
        "# X_supvecs.shape, X_sample.shape, X_supvecs.sum(axis=1)[:2], X_sample.sum(), coeffs.shape\n",
        "\n",
        "F = np.minimum(X_supvecs,X_sample) \n",
        "F.shape"
      ],
      "execution_count": 0,
      "outputs": [
        {
          "output_type": "error",
          "ename": "AttributeError",
          "evalue": "ignored",
          "traceback": [
            "\u001b[0;31m---------------------------------------------------------------------------\u001b[0m",
            "\u001b[0;31mAttributeError\u001b[0m                            Traceback (most recent call last)",
            "\u001b[0;32m<ipython-input-107-d16f64336290>\u001b[0m in \u001b[0;36m<module>\u001b[0;34m()\u001b[0m\n\u001b[1;32m      5\u001b[0m \u001b[0;34m\u001b[0m\u001b[0m\n\u001b[1;32m      6\u001b[0m \u001b[0;31m# Normalize the support vectors and the sample vector\u001b[0m\u001b[0;34m\u001b[0m\u001b[0;34m\u001b[0m\u001b[0;34m\u001b[0m\u001b[0m\n\u001b[0;32m----> 7\u001b[0;31m \u001b[0mX_supvecs\u001b[0m \u001b[0;34m=\u001b[0m \u001b[0;34m(\u001b[0m\u001b[0mX_supvecs\u001b[0m\u001b[0;34m/\u001b[0m\u001b[0mX_supvecs\u001b[0m\u001b[0;34m.\u001b[0m\u001b[0msum\u001b[0m\u001b[0;34m(\u001b[0m\u001b[0maxis\u001b[0m\u001b[0;34m=\u001b[0m\u001b[0;36m1\u001b[0m\u001b[0;34m)\u001b[0m\u001b[0;34m)\u001b[0m\u001b[0;34m.\u001b[0m\u001b[0mtoarray\u001b[0m\u001b[0;34m(\u001b[0m\u001b[0;34m)\u001b[0m\u001b[0;34m\u001b[0m\u001b[0;34m\u001b[0m\u001b[0m\n\u001b[0m\u001b[1;32m      8\u001b[0m \u001b[0mX_sample\u001b[0m \u001b[0;34m=\u001b[0m \u001b[0mX_sample\u001b[0m\u001b[0;34m/\u001b[0m\u001b[0mX_sample\u001b[0m\u001b[0;34m.\u001b[0m\u001b[0msum\u001b[0m\u001b[0;34m(\u001b[0m\u001b[0;34m)\u001b[0m\u001b[0;34m\u001b[0m\u001b[0;34m\u001b[0m\u001b[0m\n\u001b[1;32m      9\u001b[0m \u001b[0;34m\u001b[0m\u001b[0m\n",
            "\u001b[0;31mAttributeError\u001b[0m: 'matrix' object has no attribute 'toarray'"
          ]
        }
      ]
    },
    {
      "cell_type": "markdown",
      "metadata": {
        "id": "3TJZmtAquvUY",
        "colab_type": "text"
      },
      "source": [
        "## Problem 3(a)\n",
        "\n",
        "**Kernel logistic regression** \n",
        "\n",
        "We will implement a kernel version of logistic regression. The goal is to train a logistic\n",
        "regression model on a feature space F. Specifically, the discriminant function of the model is\n",
        "given by:\n",
        "\n",
        "$$f(x) = P(C = 1|x) = \\sigma(w\\Phi(x))$$\n",
        "\n",
        "\n",
        "where $\\Phi : X \\rightarrow F$ is a mapping function associated with a kernel function $k : X \\times X \\rightarrow R$\n",
        "and $\\sigma$ is the logistic function.\n",
        "\n",
        "Assume that the weight vector w is expressed as a linear combination of the training samples:\n",
        "\n",
        "$$w = \\sum_{i=1}^l\\alpha_i\\Phi(x_i)$$\n",
        "\n",
        "(a) Write a expression of the discriminant function expressed in terms of the kernel and the\n",
        "coeficients $\\alpha_i$."
      ]
    },
    {
      "cell_type": "markdown",
      "metadata": {
        "id": "MNmcAD4UzPHp",
        "colab_type": "text"
      },
      "source": [
        "**Solution:**\n",
        "\n",
        "The discriminant function can be written as, \n",
        "$$f(x) = \\sigma(w\\Phi(x))=\\sigma\\big(\\big[\\sum_{i=1}^l\\alpha_i\\Phi(x_i)\\big]\\cdot\\Phi(x)\\big)$$\n",
        "$$f(x) = \\sigma\\big(\\sum_{i=1}^l\\alpha_i[\\Phi(x_i)\\cdot\\Phi(x)]\\big)$$\n",
        "Hence, \n",
        "$$ f(x) = \\sigma\\big(\\sum_{i=1}^l\\alpha_i k(x_i,x)\\big)$$\n"
      ]
    },
    {
      "cell_type": "markdown",
      "metadata": {
        "id": "mQj030_Z0ND_",
        "colab_type": "text"
      },
      "source": [
        "## Problem 3(b)\n",
        "\n",
        "Formulate the problem of learning the parameters of the model as an optimization problem that looks for the parameters $\\alpha_i$ that minimize a cross entropy loss function."
      ]
    },
    {
      "cell_type": "markdown",
      "metadata": {
        "id": "abQKATrr6P7H",
        "colab_type": "text"
      },
      "source": [
        "**Solution:**\n",
        "\n",
        "Consider the training points as ${x_i,y_i}$ where the $y_i={0,1}$ are the labels, \n",
        "The sample likelihood would be given by Bernoulli, \n",
        "\n",
        "$$\\prod_i(f(x_i)^{y_i})(1-f(x_i))^{1-y_i}$$\n",
        "\n",
        "The cross entropy would be the log given by, \n",
        "\n",
        "$$L = - \\sum_iy_i\\log f(x_i)+(1-y_i)\\log(1-f(x_i))$$\n",
        "\n",
        "$$L = - \\sum_iy_i\\log\\Big[\\sigma\\big(\\sum_{j}\\alpha_j k(x_j,x_i)\\big)\\Big]+(1-y_i)\\log\\Big[1-\\sigma\\big(\\sum_{j}\\alpha_j k(x_j,x_i)\\big)\\Big]$$\n",
        "\n",
        "Now, let’s write $f(a)=\\frac{1}{1-e^{-a}}$, then $f’(a)=f(a)(1-f(a))$\n",
        "\n",
        "The update by gradient descent would take the form, \n",
        "\n",
        "$$\\Delta \\alpha_j = -\\eta \\frac{\\partial L}{\\partial \\alpha_i}= \\eta\\sum_i\\Big[\\frac{y_i}{f(x_i)}-\\frac{1-y_i}{1-f(x_i)}\\Big]f(x_i)(1-f(x_i))k(x_j,x_i) $$\n",
        "\n",
        "Finally in short form, \n",
        "\n",
        "$$\\Delta \\alpha_j = \\eta \\sum_i(y_i-f(x_i))k(x_j,x_i)$$\n",
        "\n",
        "That would be the training of the alphas"
      ]
    },
    {
      "cell_type": "markdown",
      "metadata": {
        "colab_type": "text",
        "id": "u0Fsp7bDLgZr"
      },
      "source": [
        "## Problem 3(c)\n",
        "\n",
        "Write a function that receives a training data set and a kernel function and finds a vector that minimizes the loss function using gradient descent."
      ]
    },
    {
      "cell_type": "code",
      "metadata": {
        "colab_type": "code",
        "id": "JwaNN3PeLgZ5",
        "colab": {}
      },
      "source": [
        "def test_model(X_p, alpha_p, kernel_p, y):\n",
        "  K = kernel_p(X_p, X_p)\n",
        "  pred_score = sigmoid(alpha_p, K)\n",
        "  pred = (pred_score > 0.5).astype(int)\n",
        "  accuracy = 1 - np.sum(pred != y)/len(y)\n",
        "  return accuracy"
      ],
      "execution_count": 0,
      "outputs": []
    },
    {
      "cell_type": "code",
      "metadata": {
        "colab_type": "code",
        "id": "02w7E97nLgab",
        "colab": {}
      },
      "source": [
        "### \n",
        "### Any auxiliary functions that you need\n",
        "###\n",
        "def evaluate_classifier(a,x,pt,kernel_type):\n",
        "    n,d = x.shape\n",
        "    sum = 0\n",
        "    K = kernel_type(x,pt.reshape(1, 2))\n",
        "    for i in range(n):\n",
        "      sum += a[i]*K[i]\n",
        "    if sum > 0:\n",
        "      return 1\n",
        "    if sum <= 0:\n",
        "      return 0\n",
        "\n",
        "    return -1"
      ],
      "execution_count": 0,
      "outputs": []
    },
    {
      "cell_type": "code",
      "metadata": {
        "colab_type": "code",
        "id": "XOcTaNqKLgar",
        "colab": {}
      },
      "source": [
        "def sigmoid(alpha_p, kmatrix_p):\n",
        "  #return 1/(1+np.exp(-((np.dot(kmatrix_p, alpha_p))+bias_p)))\n",
        "  return 1/(1+np.exp(-(np.dot(kmatrix_p, alpha_p))))"
      ],
      "execution_count": 0,
      "outputs": []
    },
    {
      "cell_type": "code",
      "metadata": {
        "colab_type": "code",
        "id": "fU3QJ2NQLga8",
        "colab": {}
      },
      "source": [
        "def train_kernel(x,y,eta,n_iters=100,kernel_type=polynomial_kernel):\n",
        "  n,d = x.shape\n",
        "  a = (np.random.rand(n) * 0.02) - 0.01  # (l, )\n",
        "  K = kernel_type(x, x)\n",
        "  done = False\n",
        "  iters = 0\n",
        "  np.random.seed(None)\n",
        "  while not(done):\n",
        "    done = True\n",
        "    a_temp = a\n",
        "    for j in range(n):\n",
        "      a[j] = a[j] + eta * np.dot((y - sigmoid(a_temp, K)), K[j] )\n",
        "      done = False\n",
        "    iters = iters + 1\n",
        "    if iters > n_iters:\n",
        "      done = True\n",
        "\n",
        "  return a"
      ],
      "execution_count": 0,
      "outputs": []
    },
    {
      "cell_type": "markdown",
      "metadata": {
        "colab_type": "text",
        "id": "M6xsuSoGP1uB"
      },
      "source": [
        "## Problem 3(d)\n",
        "\n",
        "Test your algorithm using diferent kernels (linear, polynomial, Gaussian, etc.) on synthetic 2D datasets from sklearn (https://scikit-learn.org/stable/auto_examples/classification/plot_classifier_comparison.html). Plot the decision regions and\n",
        "discuss the results:"
      ]
    },
    {
      "cell_type": "code",
      "metadata": {
        "colab_type": "code",
        "id": "8vv2aUN6XrcF",
        "colab": {}
      },
      "source": [
        "# Función para visualizar un conjunto de datos en 2D\n",
        "def plot_data(X, y):\n",
        "    y_unique = np.unique(y)\n",
        "    colors = pl.cm.rainbow(np.linspace(0.0, 1.0, y_unique.size))\n",
        "    for this_y, color in zip(y_unique, colors):\n",
        "        this_X = X[y == this_y]\n",
        "        pl.scatter(this_X[:, 0], this_X[:, 1],  c=color,\n",
        "                    alpha=0.5, edgecolor='k',\n",
        "                    label=\"Class %s\" % this_y)\n",
        "    pl.legend(loc=\"best\")\n",
        "    pl.title(\"Data\")\n",
        "    \n",
        "# Función para visualizar de la superficie de decisión de un clasificador\n",
        "def plot_decision_region(alpha_p, X, kernel_p):\n",
        "    min_x = np.min(X[:, 0])\n",
        "    max_x = np.max(X[:, 0])\n",
        "    min_y = np.min(X[:, 1])\n",
        "    max_y = np.max(X[:, 1])\n",
        "    min_x = min_x - (max_x - min_x) * 0.05\n",
        "    max_x = max_x + (max_x - min_x) * 0.05\n",
        "    min_y = min_y - (max_y - min_y) * 0.05\n",
        "    max_y = max_y + (max_y - min_y) * 0.05\n",
        "    x_vals = np.linspace(min_x, max_x, 100)\n",
        "    y_vals = np.linspace(min_y, max_y, 100)\n",
        "    XX, YY = np.meshgrid(x_vals, y_vals)\n",
        "    grid_r, grid_c = XX.shape\n",
        "    ZZ = np.zeros((grid_r, grid_c))\n",
        "    for i in range(grid_r):\n",
        "        for j in range(grid_c):\n",
        "            pt = np.array([XX[i, j] , YY[i, j]])\n",
        "            ZZ[i, j] = evaluate_classifier(alpha_p,X,pt,kernel_p)\n",
        "    pl.contourf(XX, YY, ZZ, 100, cmap = pl.cm.coolwarm, vmin= -1, vmax=2)\n",
        "    pl.colorbar()\n",
        "    pl.xlabel(\"x\")\n",
        "    pl.ylabel(\"y\")"
      ],
      "execution_count": 0,
      "outputs": []
    },
    {
      "cell_type": "markdown",
      "metadata": {
        "colab_type": "text",
        "id": "DXv-PfJMPxG1"
      },
      "source": [
        "### Moons Logistic Linear Kernel"
      ]
    },
    {
      "cell_type": "code",
      "metadata": {
        "colab_type": "code",
        "outputId": "eb9a2fd5-0f72-4660-9db9-fb7877942314",
        "id": "6FvW7qdxPxG-",
        "colab": {
          "base_uri": "https://localhost:8080/",
          "height": 34
        }
      },
      "source": [
        "X, y = make_moons(n_samples=250, noise=0.15, random_state=0)\n",
        "X.shape, y.shape"
      ],
      "execution_count": 0,
      "outputs": [
        {
          "output_type": "execute_result",
          "data": {
            "text/plain": [
              "((250, 2), (250,))"
            ]
          },
          "metadata": {
            "tags": []
          },
          "execution_count": 60
        }
      ]
    },
    {
      "cell_type": "code",
      "metadata": {
        "colab_type": "code",
        "id": "2ney0-JGPxHZ",
        "colab": {}
      },
      "source": [
        "alpha = train_kernel(X,y,0.01,300,linear_kernel)"
      ],
      "execution_count": 0,
      "outputs": []
    },
    {
      "cell_type": "code",
      "metadata": {
        "colab_type": "code",
        "outputId": "a96f76e1-92bc-4789-f11d-01c02580850c",
        "id": "8W9ylMOLPxHo",
        "colab": {
          "base_uri": "https://localhost:8080/",
          "height": 34
        }
      },
      "source": [
        "accuracy = test_model(X, alpha, linear_kernel, y)\n",
        "accuracy"
      ],
      "execution_count": 0,
      "outputs": [
        {
          "output_type": "execute_result",
          "data": {
            "text/plain": [
              "0.872"
            ]
          },
          "metadata": {
            "tags": []
          },
          "execution_count": 62
        }
      ]
    },
    {
      "cell_type": "code",
      "metadata": {
        "colab_type": "code",
        "outputId": "a8d5c045-6223-4629-f523-b1ac57c421f4",
        "id": "e_xEKRSMPxH0",
        "colab": {
          "base_uri": "https://localhost:8080/",
          "height": 460
        }
      },
      "source": [
        "pl.figure(figsize = (9, 6))\n",
        "plot_decision_region(alpha, X, linear_kernel) \n",
        "plot_data(X, y)"
      ],
      "execution_count": 0,
      "outputs": [
        {
          "output_type": "stream",
          "text": [
            "'c' argument looks like a single numeric RGB or RGBA sequence, which should be avoided as value-mapping will have precedence in case its length matches with 'x' & 'y'.  Please use a 2-D array with a single row if you really want to specify the same RGB or RGBA value for all points.\n",
            "'c' argument looks like a single numeric RGB or RGBA sequence, which should be avoided as value-mapping will have precedence in case its length matches with 'x' & 'y'.  Please use a 2-D array with a single row if you really want to specify the same RGB or RGBA value for all points.\n"
          ],
          "name": "stderr"
        },
        {
          "output_type": "display_data",
          "data": {
            "image/png": "[encoded data removed]",
            "text/plain": [
              "<Figure size 648x432 with 2 Axes>"
            ]
          },
          "metadata": {
            "tags": [],
            "needs_background": "light"
          }
        }
      ]
    },
    {
      "cell_type": "markdown",
      "metadata": {
        "colab_type": "text",
        "id": "Iuek8NXsMs20"
      },
      "source": [
        "### Moons Logistic 3-deg Polinomial Kernel"
      ]
    },
    {
      "cell_type": "code",
      "metadata": {
        "colab_type": "code",
        "id": "Mc9x1HaLMs3F",
        "colab": {}
      },
      "source": [
        "alpha = train_kernel(X,y,0.01,300, polynomial_kernel)"
      ],
      "execution_count": 0,
      "outputs": []
    },
    {
      "cell_type": "code",
      "metadata": {
        "colab_type": "code",
        "outputId": "ea6f535f-d0b9-46b3-fc02-11a9ec9e5acd",
        "id": "2Zg7VNQSMs3P",
        "colab": {
          "base_uri": "https://localhost:8080/",
          "height": 34
        }
      },
      "source": [
        "accuracy = test_model(X, alpha, polynomial_kernel, y)\n",
        "accuracy"
      ],
      "execution_count": 0,
      "outputs": [
        {
          "output_type": "execute_result",
          "data": {
            "text/plain": [
              "0.972"
            ]
          },
          "metadata": {
            "tags": []
          },
          "execution_count": 65
        }
      ]
    },
    {
      "cell_type": "code",
      "metadata": {
        "colab_type": "code",
        "outputId": "e6c7fc1c-77c3-4b8f-f88a-e633b5d746c5",
        "id": "xMaYdc54Ms3Y",
        "colab": {
          "base_uri": "https://localhost:8080/",
          "height": 460
        }
      },
      "source": [
        "pl.figure(figsize = (9, 6))\n",
        "plot_decision_region(alpha, X, polynomial_kernel) \n",
        "plot_data(X, y)"
      ],
      "execution_count": 0,
      "outputs": [
        {
          "output_type": "stream",
          "text": [
            "'c' argument looks like a single numeric RGB or RGBA sequence, which should be avoided as value-mapping will have precedence in case its length matches with 'x' & 'y'.  Please use a 2-D array with a single row if you really want to specify the same RGB or RGBA value for all points.\n",
            "'c' argument looks like a single numeric RGB or RGBA sequence, which should be avoided as value-mapping will have precedence in case its length matches with 'x' & 'y'.  Please use a 2-D array with a single row if you really want to specify the same RGB or RGBA value for all points.\n"
          ],
          "name": "stderr"
        },
        {
          "output_type": "display_data",
          "data": {
            "image/png": "[encoded data removed]",
            "text/plain": [
              "<Figure size 648x432 with 2 Axes>"
            ]
          },
          "metadata": {
            "tags": [],
            "needs_background": "light"
          }
        }
      ]
    },
    {
      "cell_type": "markdown",
      "metadata": {
        "colab_type": "text",
        "id": "LfaYy8OmOlae"
      },
      "source": [
        "### Moons Logistic Gaussian Kernel"
      ]
    },
    {
      "cell_type": "code",
      "metadata": {
        "colab_type": "code",
        "id": "fnzcBFYZOla5",
        "colab": {}
      },
      "source": [
        "alpha = train_kernel(X,y,0.01,300,rbf_kernel)"
      ],
      "execution_count": 0,
      "outputs": []
    },
    {
      "cell_type": "code",
      "metadata": {
        "colab_type": "code",
        "outputId": "317fa403-331f-4b84-f351-78eed9bf0b92",
        "id": "nzgk6ldIOlbD",
        "colab": {
          "base_uri": "https://localhost:8080/",
          "height": 34
        }
      },
      "source": [
        "accuracy = test_model(X, alpha, rbf_kernel, y)\n",
        "accuracy"
      ],
      "execution_count": 0,
      "outputs": [
        {
          "output_type": "execute_result",
          "data": {
            "text/plain": [
              "0.968"
            ]
          },
          "metadata": {
            "tags": []
          },
          "execution_count": 68
        }
      ]
    },
    {
      "cell_type": "code",
      "metadata": {
        "colab_type": "code",
        "outputId": "bdeb648a-cb06-4483-9bca-273a3031c3d4",
        "id": "2xcKxPkeOlbN",
        "colab": {
          "base_uri": "https://localhost:8080/",
          "height": 460
        }
      },
      "source": [
        "pl.figure(figsize = (9, 6))\n",
        "plot_decision_region(alpha, X, rbf_kernel) \n",
        "plot_data(X, y)"
      ],
      "execution_count": 0,
      "outputs": [
        {
          "output_type": "stream",
          "text": [
            "'c' argument looks like a single numeric RGB or RGBA sequence, which should be avoided as value-mapping will have precedence in case its length matches with 'x' & 'y'.  Please use a 2-D array with a single row if you really want to specify the same RGB or RGBA value for all points.\n",
            "'c' argument looks like a single numeric RGB or RGBA sequence, which should be avoided as value-mapping will have precedence in case its length matches with 'x' & 'y'.  Please use a 2-D array with a single row if you really want to specify the same RGB or RGBA value for all points.\n"
          ],
          "name": "stderr"
        },
        {
          "output_type": "display_data",
          "data": {
            "image/png": "[encoded data removed]",
            "text/plain": [
              "<Figure size 648x432 with 2 Axes>"
            ]
          },
          "metadata": {
            "tags": [],
            "needs_background": "light"
          }
        }
      ]
    },
    {
      "cell_type": "markdown",
      "metadata": {
        "colab_type": "text",
        "id": "kuiMyGxEOlbX"
      },
      "source": [
        "### Circles Logistic Linear Kernel"
      ]
    },
    {
      "cell_type": "code",
      "metadata": {
        "colab_type": "code",
        "outputId": "6a9e5e72-726c-4143-df2f-92c497589ea5",
        "id": "mKZacxRxOlbY",
        "colab": {
          "base_uri": "https://localhost:8080/",
          "height": 34
        }
      },
      "source": [
        "X, y = make_circles(n_samples=250, factor=.3, noise=.35)\n",
        "X.shape, y.shape"
      ],
      "execution_count": 0,
      "outputs": [
        {
          "output_type": "execute_result",
          "data": {
            "text/plain": [
              "((250, 2), (250,))"
            ]
          },
          "metadata": {
            "tags": []
          },
          "execution_count": 70
        }
      ]
    },
    {
      "cell_type": "code",
      "metadata": {
        "colab_type": "code",
        "id": "3xAm1MPvOlbh",
        "colab": {}
      },
      "source": [
        "alpha = train_kernel(X,y,0.01,300,linear_kernel)"
      ],
      "execution_count": 0,
      "outputs": []
    },
    {
      "cell_type": "code",
      "metadata": {
        "colab_type": "code",
        "outputId": "85721455-44cb-4cef-b6e1-6dbb6d4f66e1",
        "id": "JTDxH72AOlbq",
        "colab": {
          "base_uri": "https://localhost:8080/",
          "height": 34
        }
      },
      "source": [
        "accuracy = test_model(X, alpha, linear_kernel, y)\n",
        "accuracy"
      ],
      "execution_count": 0,
      "outputs": [
        {
          "output_type": "execute_result",
          "data": {
            "text/plain": [
              "0.516"
            ]
          },
          "metadata": {
            "tags": []
          },
          "execution_count": 72
        }
      ]
    },
    {
      "cell_type": "code",
      "metadata": {
        "colab_type": "code",
        "outputId": "436c74bf-99aa-4250-a3ce-f31dbe65e89c",
        "id": "mRA0IvmeOlby",
        "colab": {
          "base_uri": "https://localhost:8080/",
          "height": 460
        }
      },
      "source": [
        "pl.figure(figsize = (9, 6))\n",
        "plot_decision_region(alpha, X, linear_kernel) \n",
        "plot_data(X, y)"
      ],
      "execution_count": 0,
      "outputs": [
        {
          "output_type": "stream",
          "text": [
            "'c' argument looks like a single numeric RGB or RGBA sequence, which should be avoided as value-mapping will have precedence in case its length matches with 'x' & 'y'.  Please use a 2-D array with a single row if you really want to specify the same RGB or RGBA value for all points.\n",
            "'c' argument looks like a single numeric RGB or RGBA sequence, which should be avoided as value-mapping will have precedence in case its length matches with 'x' & 'y'.  Please use a 2-D array with a single row if you really want to specify the same RGB or RGBA value for all points.\n"
          ],
          "name": "stderr"
        },
        {
          "output_type": "display_data",
          "data": {
            "image/png": "[encoded data removed]",
            "text/plain": [
              "<Figure size 648x432 with 2 Axes>"
            ]
          },
          "metadata": {
            "tags": [],
            "needs_background": "light"
          }
        }
      ]
    },
    {
      "cell_type": "markdown",
      "metadata": {
        "colab_type": "text",
        "id": "oPcQ2PkcOlb7"
      },
      "source": [
        "### Circles Logistic 3-deg Polinomial Kernel"
      ]
    },
    {
      "cell_type": "code",
      "metadata": {
        "colab_type": "code",
        "id": "ZYKOKWcGOlcI",
        "colab": {}
      },
      "source": [
        "alpha = train_kernel(X,y,0.01,300, polynomial_kernel)"
      ],
      "execution_count": 0,
      "outputs": []
    },
    {
      "cell_type": "code",
      "metadata": {
        "colab_type": "code",
        "outputId": "bb5cd96e-d46f-4070-a76e-96b905d8b053",
        "id": "6pFFmLzeOlcW",
        "colab": {
          "base_uri": "https://localhost:8080/",
          "height": 34
        }
      },
      "source": [
        "accuracy = test_model(X, alpha, polynomial_kernel, y)\n",
        "accuracy"
      ],
      "execution_count": 0,
      "outputs": [
        {
          "output_type": "execute_result",
          "data": {
            "text/plain": [
              "0.8200000000000001"
            ]
          },
          "metadata": {
            "tags": []
          },
          "execution_count": 75
        }
      ]
    },
    {
      "cell_type": "code",
      "metadata": {
        "colab_type": "code",
        "outputId": "cc71f503-b8b4-41ad-eadc-21a853898e52",
        "id": "6kaKNRNmOlcf",
        "colab": {
          "base_uri": "https://localhost:8080/",
          "height": 460
        }
      },
      "source": [
        "pl.figure(figsize = (9, 6))\n",
        "plot_decision_region(alpha, X, polynomial_kernel) \n",
        "plot_data(X, y)"
      ],
      "execution_count": 0,
      "outputs": [
        {
          "output_type": "stream",
          "text": [
            "'c' argument looks like a single numeric RGB or RGBA sequence, which should be avoided as value-mapping will have precedence in case its length matches with 'x' & 'y'.  Please use a 2-D array with a single row if you really want to specify the same RGB or RGBA value for all points.\n",
            "'c' argument looks like a single numeric RGB or RGBA sequence, which should be avoided as value-mapping will have precedence in case its length matches with 'x' & 'y'.  Please use a 2-D array with a single row if you really want to specify the same RGB or RGBA value for all points.\n"
          ],
          "name": "stderr"
        },
        {
          "output_type": "display_data",
          "data": {
            "image/png": "[encoded data removed]",
            "text/plain": [
              "<Figure size 648x432 with 2 Axes>"
            ]
          },
          "metadata": {
            "tags": [],
            "needs_background": "light"
          }
        }
      ]
    },
    {
      "cell_type": "markdown",
      "metadata": {
        "colab_type": "text",
        "id": "Epld54RDOlcn"
      },
      "source": [
        "### Circles Logistic Gaussian Kernel"
      ]
    },
    {
      "cell_type": "code",
      "metadata": {
        "colab_type": "code",
        "id": "g6imegYtOlcw",
        "colab": {}
      },
      "source": [
        "alpha = train_kernel(X,y,0.01,300,rbf_kernel)"
      ],
      "execution_count": 0,
      "outputs": []
    },
    {
      "cell_type": "code",
      "metadata": {
        "colab_type": "code",
        "outputId": "c5f9db6b-aabb-4eeb-80f1-1fb1feab22a8",
        "id": "UCoS-sgFOlc5",
        "colab": {
          "base_uri": "https://localhost:8080/",
          "height": 34
        }
      },
      "source": [
        "accuracy = test_model(X, alpha, rbf_kernel, y)\n",
        "accuracy"
      ],
      "execution_count": 0,
      "outputs": [
        {
          "output_type": "execute_result",
          "data": {
            "text/plain": [
              "0.8160000000000001"
            ]
          },
          "metadata": {
            "tags": []
          },
          "execution_count": 78
        }
      ]
    },
    {
      "cell_type": "code",
      "metadata": {
        "colab_type": "code",
        "outputId": "e2a1e73b-d276-45af-9b96-5088beb8f141",
        "id": "AYsQK4AcOldB",
        "colab": {
          "base_uri": "https://localhost:8080/",
          "height": 460
        }
      },
      "source": [
        "pl.figure(figsize = (9, 6))\n",
        "plot_decision_region(alpha, X, rbf_kernel) \n",
        "plot_data(X, y)"
      ],
      "execution_count": 0,
      "outputs": [
        {
          "output_type": "stream",
          "text": [
            "'c' argument looks like a single numeric RGB or RGBA sequence, which should be avoided as value-mapping will have precedence in case its length matches with 'x' & 'y'.  Please use a 2-D array with a single row if you really want to specify the same RGB or RGBA value for all points.\n",
            "'c' argument looks like a single numeric RGB or RGBA sequence, which should be avoided as value-mapping will have precedence in case its length matches with 'x' & 'y'.  Please use a 2-D array with a single row if you really want to specify the same RGB or RGBA value for all points.\n"
          ],
          "name": "stderr"
        },
        {
          "output_type": "display_data",
          "data": {
            "image/png": "[encoded data removed]",
            "text/plain": [
              "<Figure size 648x432 with 2 Axes>"
            ]
          },
          "metadata": {
            "tags": [],
            "needs_background": "light"
          }
        }
      ]
    },
    {
      "cell_type": "markdown",
      "metadata": {
        "id": "LXO8Dj3euAu0",
        "colab_type": "text"
      },
      "source": [
        "### Discuss\n",
        "\n",
        "We have trained two binary data sets, one made of moons and another of circles, with three different Logistic Kernels (Linear, 3-deg polynomial, Gaussian). The accuracy on the trained points are shown in the following table. \n",
        "\n",
        "| | Accuracy | | |\n",
        "|---|:-:|:-:|:-:|\n",
        "|**Data**   |Linear|3-Polynomial |Gaussian|\n",
        "|Moons|  84.4 |  94.0 | 92.0 |\n",
        "|Circles|  50.4 | 82.0  | 82.8 | \n",
        "\n",
        "Given that the data was not chosen separable, we do not have 100 accuracy.\n",
        "We see that the linear kernel performs very bad for circles. The 3-deg polynomial performs the best for moons , and the gaussian performs the best for circles.\n",
        "\n",
        "In the plots we see that for circles data the linear Kernel classifies as only one class, the gaussian kernel has a greater boundary region for class 1 compared with 3-deg polynomial.\n",
        "\n",
        "The moons are better classified given that the points in the data set overlap less compared with the points in the circles data set."
      ]
    },
    {
      "cell_type": "code",
      "metadata": {
        "id": "r7v5TL34OgPs",
        "colab_type": "code",
        "colab": {}
      },
      "source": [
        ""
      ],
      "execution_count": 0,
      "outputs": []
    }
  ]
}