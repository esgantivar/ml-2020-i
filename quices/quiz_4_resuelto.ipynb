{
  "nbformat": 4,
  "nbformat_minor": 0,
  "metadata": {
    "kernelspec": {
      "display_name": "Python 3",
      "language": "python",
      "name": "python3"
    },
    "language_info": {
      "codemirror_mode": {
        "name": "ipython",
        "version": 3
      },
      "file_extension": ".py",
      "mimetype": "text/x-python",
      "name": "python",
      "nbconvert_exporter": "python",
      "pygments_lexer": "ipython3",
      "version": "3.8.3"
    },
    "colab": {
      "name": "quiz4 (8).ipynb",
      "provenance": [],
      "collapsed_sections": []
    }
  },
  "cells": [
    {
      "cell_type": "markdown",
      "metadata": {
        "id": "QYy2yrYogGMZ",
        "colab_type": "text"
      },
      "source": [
        "\n",
        "# Quiz 4\n",
        "# Machine Learning 2020-1\n",
        "---\n",
        "\n"
      ]
    },
    {
      "cell_type": "code",
      "metadata": {
        "id": "rdX99IbpgGMb",
        "colab_type": "code",
        "colab": {}
      },
      "source": [
        "import numpy as np"
      ],
      "execution_count": 0,
      "outputs": []
    },
    {
      "cell_type": "markdown",
      "metadata": {
        "id": "xY9THq-7gGMj",
        "colab_type": "text"
      },
      "source": [
        "### 1. (2.0)\n",
        "The following code implements a feed-forward neural network:"
      ]
    },
    {
      "cell_type": "code",
      "metadata": {
        "id": "WuzJ773kgGMl",
        "colab_type": "code",
        "colab": {}
      },
      "source": [
        "def sigmoid(x):\n",
        "    return 1.0/(1.0 + np.exp(-x))\n",
        "\n",
        "def relu(x):\n",
        "    return max(0, x)\n",
        "\n",
        "def predict(w, x):\n",
        "    '''\n",
        "    w: numpy array of shape(9,)\n",
        "    x: numpy array of shape(2,)\n",
        "    '''\n",
        "    z = np.zeros((3,))\n",
        "    z[0] = relu(x @ w[3:5] + w[0])\n",
        "    z[1] = relu(x @ w[5:7] + w[1])\n",
        "    z[2] = sigmoid(z[0] * w[7] + z[1] * w[8] + w[2])\n",
        "    return z[2]"
      ],
      "execution_count": 0,
      "outputs": []
    },
    {
      "cell_type": "markdown",
      "metadata": {
        "id": "9vlPmRiKgGMq",
        "colab_type": "text"
      },
      "source": [
        "Find a weight vector such that the neural network calculates the following function:\n",
        "    \n",
        "$$f(x_0,x_1)=\\neg x_0 \\lor x_1$$\n",
        "\n",
        "Use the following variable to put the weight vector:"
      ]
    },
    {
      "cell_type": "code",
      "metadata": {
        "id": "zEMfiASkgGMt",
        "colab_type": "code",
        "colab": {}
      },
      "source": [
        "W1 =[  1.75095599 , -0.0482107,   -1.07487872, -24.48444614 , 24.88400974,\n",
        "  22.76121819, -22.36491195  , 7.47373105 , -6.856181  ]"
      ],
      "execution_count": 0,
      "outputs": []
    },
    {
      "cell_type": "markdown",
      "metadata": {
        "id": "s504dU-rgGM3",
        "colab_type": "text"
      },
      "source": [
        "### 2. (3.0)\n",
        "\n",
        "Assuming the following loss function:"
      ]
    },
    {
      "cell_type": "code",
      "metadata": {
        "id": "hPkRws3KgGM5",
        "colab_type": "code",
        "colab": {}
      },
      "source": [
        "def loss(w, x, y):\n",
        "    '''\n",
        "    w: numpy array of shape(9,)\n",
        "    x: numpy array of shape(2,)\n",
        "    y: scalar float value\n",
        "    '''    \n",
        "    return (y - predict(w, x))**2/2."
      ],
      "execution_count": 0,
      "outputs": []
    },
    {
      "cell_type": "markdown",
      "metadata": {
        "id": "JoqNvpBzgGM7",
        "colab_type": "text"
      },
      "source": [
        "Write a function that uses backpropagation to calculate:\n",
        "    \n",
        "$$\\frac{\\partial E(w, x, y)}{\\partial w_5\n",
        "}$$\n",
        "\n",
        "Where $E$ is the loss function defined before. Explicitely write the expressions that you derive:\n",
        "\n",
        "$$\\delta_1 =$$\n",
        "\n",
        "$$\\delta_2 =$$\n",
        "\n",
        "$$\\frac{\\partial E(w, x, y)}{\\partial w_5} = $$"
      ]
    },
    {
      "cell_type": "code",
      "metadata": {
        "id": "2zpSi5bXgGM8",
        "colab_type": "code",
        "colab": {}
      },
      "source": [
        "\n",
        "def dE_dw5(w, x, y):\n",
        "    '''\n",
        "    w: numpy array of shape(9,)\n",
        "    x: numpy array of shape(2,)\n",
        "    y: scalar float value\n",
        "    \n",
        "    Returns:\n",
        "    (d1, d2, de): a tuple with three scalar values delta_1 (d1), delta_2 (d2) and the derivative (de)\n",
        "    '''\n",
        "    z = np.zeros((3,))\n",
        "    a0 = x @ w[3:5] + w[0]\n",
        "    a1 = x @ w[5:7] + w[1]\n",
        "    da = 0 if relu(a1) == 0 else w[8] # dz2/dz1\n",
        "    z[0] = relu(a0)\n",
        "    z[1] = relu(a1)\n",
        "    z[2] = sigmoid(z[0] * w[7] + z[1] * w[8] + w[2])\n",
        "    d2 = -( y - z[2]) *z[2] * (1 - z[2]) # dE/dz2\n",
        "    #dz2/dw5 = x[0]\n",
        "    d1 = da*d2\n",
        "    return (da*d2, d2, d1 * x[0])"
      ],
      "execution_count": 0,
      "outputs": []
    },
    {
      "cell_type": "code",
      "metadata": {
        "id": "jt6EH4fOUJus",
        "colab_type": "code",
        "outputId": "dc8cc36a-76c1-4408-c536-230bdce89311",
        "colab": {
          "base_uri": "https://localhost:8080/",
          "height": 34
        }
      },
      "source": [
        "def num_dE_dw5(w, x, y, epsilon):\n",
        "    delta = np.zeros(len(w))\n",
        "    delta[5] = epsilon\n",
        "    de = (loss(w + delta, x, y) - loss(w - delta, x, y)) / (2 * epsilon)\n",
        "    return de\n",
        "\n",
        "def test2():\n",
        "    num_tests = 10\n",
        "    epsilon = 0.0001\n",
        "    for i in range(num_tests):\n",
        "        tw = np.random.randn(9)\n",
        "        tx = np.random.randn(2)\n",
        "        ty = np.random.randn(1)\n",
        "        if np.linalg.norm(dE_dw5(tw, tx,ty)[2] - num_dE_dw5(tw, tx, ty, epsilon)) > epsilon:\n",
        "            return False\n",
        "    return True\n",
        "test2()"
      ],
      "execution_count": 0,
      "outputs": [
        {
          "output_type": "execute_result",
          "data": {
            "text/plain": [
              "True"
            ]
          },
          "metadata": {
            "tags": []
          },
          "execution_count": 90
        }
      ]
    }
  ]
}