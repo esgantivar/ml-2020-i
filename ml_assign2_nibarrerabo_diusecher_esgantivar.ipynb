{
  "nbformat": 4,
  "nbformat_minor": 0,
  "metadata": {
    "colab": {
      "name": "ml-assign2-nibarrerabo-diusecher-esgantivar.ipynb",
      "provenance": [],
      "collapsed_sections": [
        "BhClfjD4iWAg"
      ],
      "toc_visible": true
    },
    "kernelspec": {
      "name": "python3",
      "display_name": "Python 3"
    }
  },
  "cells": [
    {
      "cell_type": "markdown",
      "metadata": {
        "id": "8FHRS9Xtj5En",
        "colab_type": "text"
      },
      "source": [
        "# **Assignment 2, Machine Learning 2020**\n",
        "\n",
        "> Nicolas Barrera Boada, nibarrerabo@unal.edu.co\n",
        "\n",
        "> Diego Useche Reyes, diusecher@unal.edu.co\n",
        "\n",
        "> Sneyder Gantiva, esgantivar@unal.edu.co\n",
        "\n"
      ]
    },
    {
      "cell_type": "markdown",
      "metadata": {
        "id": "_3kmyMEZLREG",
        "colab_type": "text"
      },
      "source": [
        "## References\n",
        "\n",
        "[Understanding Gaussian Classifier](https://medium.com/swlh/understanding-gaussian-classifier-6c9f3452358f)\n",
        "\n",
        "The solution of problem 2 is a modified version of the notebook winery-classification-bivariate from the course of EdX of University of California SanDiego by professor Sanjoy Dasgupta\n",
        "\n",
        "[Machine Learning Fundamentals](https://www.edx.org/course/machine-learning-fundamentals-2)\n",
        "\n",
        "The solution of problem 3 is a modified version of the notebook perceptron at work from the same course. \n",
        "\n",
        "Problem 5 from both notebooks as well.\n",
        "\n",
        "Problem 2(c) The code for the ROC curves are a modified version of, \n",
        "\n",
        "[Receiver Operating Characteristic (ROC)](https://scikit-learn.org/stable/auto_examples/model_selection/plot_roc.html)"
      ]
    },
    {
      "cell_type": "markdown",
      "metadata": {
        "id": "lVaJ0nvJlXIQ",
        "colab_type": "text"
      },
      "source": [
        "## Librerias Usadas"
      ]
    },
    {
      "cell_type": "code",
      "metadata": {
        "id": "mK0eeJZJAbdb",
        "colab_type": "code",
        "colab": {}
      },
      "source": [
        "import pandas as pd\n",
        "import numpy as np\n",
        "import pylab as pl\n",
        "from sklearn.model_selection import train_test_split\n",
        "from scipy.stats import norm, multivariate_normal\n",
        "import matplotlib.pyplot as plt\n",
        "\n",
        "from sklearn.metrics import roc_curve, auc\n",
        "from sklearn.metrics import roc_auc_score"
      ],
      "execution_count": 0,
      "outputs": []
    },
    {
      "cell_type": "markdown",
      "metadata": {
        "id": "bkWrZf-Nla1u",
        "colab_type": "text"
      },
      "source": [
        "## Problema 1(a)\n",
        "\n",
        "Download the Pima Indians Diabetes dataset. Load the dataset as a numpy arrays. The outcome column corresponds to the class label, the other columns to input features."
      ]
    },
    {
      "cell_type": "code",
      "metadata": {
        "id": "OlvaZ_rglq8H",
        "colab_type": "code",
        "outputId": "621cadcc-1bb4-4adf-e128-c19c62fba462",
        "colab": {
          "base_uri": "https://localhost:8080/",
          "height": 34
        }
      },
      "source": [
        "# Data Upload as pandas\n",
        "git_raw_url_dataset = \"https://raw.githubusercontent.com/esgantivar/ml-datasets/master/diabetes.csv\"\n",
        "diabetes_df = pd.read_csv(git_raw_url_dataset)\n",
        "print(diabetes_df.shape) #(768, 9)"
      ],
      "execution_count": 0,
      "outputs": [
        {
          "output_type": "stream",
          "text": [
            "(768, 9)\n"
          ],
          "name": "stdout"
        }
      ]
    },
    {
      "cell_type": "code",
      "metadata": {
        "id": "abhgUbboQfmZ",
        "colab_type": "code",
        "outputId": "83e51880-5e87-4570-d6d4-7c018a121597",
        "colab": {
          "base_uri": "https://localhost:8080/",
          "height": 34
        }
      },
      "source": [
        "# Data Upload as numpy\n",
        "\n",
        "git_raw_url_dataset = \"https://raw.githubusercontent.com/esgantivar/ml-datasets/master/diabetes.csv\"\n",
        "diabetes = np.genfromtxt( git_raw_url_dataset ,delimiter=',')\n",
        "diabetes = np.delete(diabetes, (0), axis=0)\n",
        "print(diabetes.shape)"
      ],
      "execution_count": 0,
      "outputs": [
        {
          "output_type": "stream",
          "text": [
            "(768, 9)\n"
          ],
          "name": "stdout"
        }
      ]
    },
    {
      "cell_type": "markdown",
      "metadata": {
        "id": "hGQUyYyxBI5G",
        "colab_type": "text"
      },
      "source": [
        "## Problema 1(b)\n",
        "\n",
        "Split the dataset in training and validation using the following scikit-learn command:\n",
        "train_test_split(X, y, test_size=0.33, random_state=42)\n",
        "where X and y are the input features and labels respectively."
      ]
    },
    {
      "cell_type": "code",
      "metadata": {
        "id": "FMeKfPKhBTsV",
        "colab_type": "code",
        "colab": {}
      },
      "source": [
        "# Split the Data as pandas\n",
        "X = diabetes_df[diabetes_df.columns[0:8]]\n",
        "y = diabetes_df['Outcome']\n",
        "data_train, data_validation, target_train, target_validation = train_test_split(X, y, test_size=0.33, random_state=42)"
      ],
      "execution_count": 0,
      "outputs": []
    },
    {
      "cell_type": "code",
      "metadata": {
        "id": "UDQs_vhgJYnX",
        "colab_type": "code",
        "outputId": "c2e08992-0fb3-49d4-bf09-27ee80e266f9",
        "colab": {
          "base_uri": "https://localhost:8080/",
          "height": 51
        }
      },
      "source": [
        "# Split the data as numpy\n",
        "\n",
        "featurenames = ['Pregnancies',\t'Glucose',\t'BloodPressure',\t'SkinThickness',\n",
        "                'Insulin'\t,'BMI',\t'DiabetesPedigreeFunction',\t'Age']\n",
        "\n",
        "trainx, testx, trainy, testy = train_test_split(diabetes[:, 0:8], diabetes[:, 8], test_size=0.33, random_state=42)\n",
        "\n",
        "print(len(trainy))\n",
        "print(len(testy))"
      ],
      "execution_count": 0,
      "outputs": [
        {
          "output_type": "stream",
          "text": [
            "514\n",
            "254\n"
          ],
          "name": "stdout"
        }
      ]
    },
    {
      "cell_type": "code",
      "metadata": {
        "id": "dIMMoDc5ZRMJ",
        "colab_type": "code",
        "outputId": "23a4346c-5d85-404b-e853-16d8a552b2fe",
        "colab": {
          "base_uri": "https://localhost:8080/",
          "height": 68
        }
      },
      "source": [
        "# Names of features\n",
        "features = X.columns\n",
        "print(features)"
      ],
      "execution_count": 0,
      "outputs": [
        {
          "output_type": "stream",
          "text": [
            "Index(['Pregnancies', 'Glucose', 'BloodPressure', 'SkinThickness', 'Insulin',\n",
            "       'BMI', 'DiabetesPedigreeFunction', 'Age'],\n",
            "      dtype='object')\n"
          ],
          "name": "stdout"
        }
      ]
    },
    {
      "cell_type": "code",
      "metadata": {
        "id": "eNLg1au2CVi1",
        "colab_type": "code",
        "outputId": "fc1b9106-8032-4fec-f2f9-5573adc22158",
        "colab": {
          "base_uri": "https://localhost:8080/",
          "height": 204
        }
      },
      "source": [
        "data_train.head()"
      ],
      "execution_count": 0,
      "outputs": [
        {
          "output_type": "execute_result",
          "data": {
            "text/html": [
              "<div>\n",
              "<style scoped>\n",
              "    .dataframe tbody tr th:only-of-type {\n",
              "        vertical-align: middle;\n",
              "    }\n",
              "\n",
              "    .dataframe tbody tr th {\n",
              "        vertical-align: top;\n",
              "    }\n",
              "\n",
              "    .dataframe thead th {\n",
              "        text-align: right;\n",
              "    }\n",
              "</style>\n",
              "<table border=\"1\" class=\"dataframe\">\n",
              "  <thead>\n",
              "    <tr style=\"text-align: right;\">\n",
              "      <th></th>\n",
              "      <th>Pregnancies</th>\n",
              "      <th>Glucose</th>\n",
              "      <th>BloodPressure</th>\n",
              "      <th>SkinThickness</th>\n",
              "      <th>Insulin</th>\n",
              "      <th>BMI</th>\n",
              "      <th>DiabetesPedigreeFunction</th>\n",
              "      <th>Age</th>\n",
              "    </tr>\n",
              "  </thead>\n",
              "  <tbody>\n",
              "    <tr>\n",
              "      <th>464</th>\n",
              "      <td>10</td>\n",
              "      <td>115</td>\n",
              "      <td>98</td>\n",
              "      <td>0</td>\n",
              "      <td>0</td>\n",
              "      <td>24.0</td>\n",
              "      <td>1.022</td>\n",
              "      <td>34</td>\n",
              "    </tr>\n",
              "    <tr>\n",
              "      <th>223</th>\n",
              "      <td>7</td>\n",
              "      <td>142</td>\n",
              "      <td>60</td>\n",
              "      <td>33</td>\n",
              "      <td>190</td>\n",
              "      <td>28.8</td>\n",
              "      <td>0.687</td>\n",
              "      <td>61</td>\n",
              "    </tr>\n",
              "    <tr>\n",
              "      <th>393</th>\n",
              "      <td>4</td>\n",
              "      <td>116</td>\n",
              "      <td>72</td>\n",
              "      <td>12</td>\n",
              "      <td>87</td>\n",
              "      <td>22.1</td>\n",
              "      <td>0.463</td>\n",
              "      <td>37</td>\n",
              "    </tr>\n",
              "    <tr>\n",
              "      <th>766</th>\n",
              "      <td>1</td>\n",
              "      <td>126</td>\n",
              "      <td>60</td>\n",
              "      <td>0</td>\n",
              "      <td>0</td>\n",
              "      <td>30.1</td>\n",
              "      <td>0.349</td>\n",
              "      <td>47</td>\n",
              "    </tr>\n",
              "    <tr>\n",
              "      <th>570</th>\n",
              "      <td>3</td>\n",
              "      <td>78</td>\n",
              "      <td>70</td>\n",
              "      <td>0</td>\n",
              "      <td>0</td>\n",
              "      <td>32.5</td>\n",
              "      <td>0.270</td>\n",
              "      <td>39</td>\n",
              "    </tr>\n",
              "  </tbody>\n",
              "</table>\n",
              "</div>"
            ],
            "text/plain": [
              "     Pregnancies  Glucose  BloodPressure  ...   BMI  DiabetesPedigreeFunction  Age\n",
              "464           10      115             98  ...  24.0                     1.022   34\n",
              "223            7      142             60  ...  28.8                     0.687   61\n",
              "393            4      116             72  ...  22.1                     0.463   37\n",
              "766            1      126             60  ...  30.1                     0.349   47\n",
              "570            3       78             70  ...  32.5                     0.270   39\n",
              "\n",
              "[5 rows x 8 columns]"
            ]
          },
          "metadata": {
            "tags": []
          },
          "execution_count": 7
        }
      ]
    },
    {
      "cell_type": "code",
      "metadata": {
        "id": "BoPm-07fCvJi",
        "colab_type": "code",
        "outputId": "311e67cd-4b4d-4e20-accd-172c81f11f4c",
        "colab": {
          "base_uri": "https://localhost:8080/",
          "height": 119
        }
      },
      "source": [
        "target_train.head()"
      ],
      "execution_count": 0,
      "outputs": [
        {
          "output_type": "execute_result",
          "data": {
            "text/plain": [
              "464    0\n",
              "223    0\n",
              "393    0\n",
              "766    1\n",
              "570    0\n",
              "Name: Outcome, dtype: int64"
            ]
          },
          "metadata": {
            "tags": []
          },
          "execution_count": 8
        }
      ]
    },
    {
      "cell_type": "code",
      "metadata": {
        "id": "UinztFjXgjwA",
        "colab_type": "code",
        "outputId": "eaf369cc-c05c-4122-abc3-9174139ad215",
        "colab": {
          "base_uri": "https://localhost:8080/",
          "height": 221
        }
      },
      "source": [
        "target_validation"
      ],
      "execution_count": 0,
      "outputs": [
        {
          "output_type": "execute_result",
          "data": {
            "text/plain": [
              "668    0\n",
              "324    0\n",
              "624    0\n",
              "690    0\n",
              "473    0\n",
              "      ..\n",
              "311    0\n",
              "429    1\n",
              "182    0\n",
              "586    1\n",
              "679    0\n",
              "Name: Outcome, Length: 254, dtype: int64"
            ]
          },
          "metadata": {
            "tags": []
          },
          "execution_count": 9
        }
      ]
    },
    {
      "cell_type": "markdown",
      "metadata": {
        "id": "FlKaBNWXZcan",
        "colab_type": "text"
      },
      "source": [
        "## Problema 1(c)\n",
        "\n",
        "For each one of the 8 input features build a univariate Gaussian classifier estimating\n",
        "the parameters using the training dataset and evaluating the classifier in the validation\n",
        "dataset. For each classifier write down the parameters. Report accuracy, precision and\n",
        "recall. Which classifier is the best? For this classifier draw the curves for the posterior\n",
        "distribution for each class and show where the decision boundary is."
      ]
    },
    {
      "cell_type": "markdown",
      "metadata": {
        "id": "xPVTOSdxdOuw",
        "colab_type": "text"
      },
      "source": [
        "Calculate the estimators of means and variance using the training set, value 0 and result 1 are discriminated"
      ]
    },
    {
      "cell_type": "code",
      "metadata": {
        "id": "vyz0NEgtZmfl",
        "colab_type": "code",
        "colab": {}
      },
      "source": [
        "parameters = {}\n",
        "for f in features:\n",
        "  df = pd.concat([data_train[f], target_train],axis=1,join='inner')\n",
        "  parameters[f] = {\n",
        "      0:{\n",
        "          'mean': df[df['Outcome'] == 0][f].mean(),\n",
        "          'var': df[df['Outcome'] == 0][f].var(),\n",
        "      },\n",
        "      1:{\n",
        "          'mean': df[df['Outcome'] == 1][f].mean(),\n",
        "          'var': df[df['Outcome'] == 1][f].var()\n",
        "      }\n",
        "  }"
      ],
      "execution_count": 0,
      "outputs": []
    },
    {
      "cell_type": "code",
      "metadata": {
        "id": "0TVawmj2Z17u",
        "colab_type": "code",
        "colab": {}
      },
      "source": [
        "'''\n",
        "  function to given dataframe with outcome and predited class, calculate confusion matrix values\n",
        "'''\n",
        "def get_indicators(df):\n",
        "  tp, tn, fp, fn, p, n = 0, 0, 0, 0, 0, 0\n",
        "  for (index, row) in df.iterrows():\n",
        "    if row['Outcome'] == 1:\n",
        "      p += 1\n",
        "      if row['Predicted'] == 1:\n",
        "        tp += 1\n",
        "      elif row['Predicted'] == 0:\n",
        "        fn += 1\n",
        "    elif row['Outcome'] == 0:\n",
        "      n += 1\n",
        "      if row['Predicted'] == 0:\n",
        "        tn += 1\n",
        "      elif row['Predicted'] == 1:\n",
        "        fp += 1\n",
        "  return tp, tn, fp, fn, p, n, (tp + tn + fp + fn)\n"
      ],
      "execution_count": 0,
      "outputs": []
    },
    {
      "cell_type": "code",
      "metadata": {
        "id": "FpopaurbZ5uI",
        "colab_type": "code",
        "colab": {}
      },
      "source": [
        "# classifier function \n",
        "for f in parameters:\n",
        "  # calulate probability distribution of 0 and 1 classes, given mean and variance estimators\n",
        "  dist_0 = norm(parameters[f][0]['mean'],np.sqrt(parameters[f][0]['var']))\n",
        "  dist_1 = norm(parameters[f][1]['mean'],np.sqrt(parameters[f][1]['var']))\n",
        "  predicted = []\n",
        "  df = pd.concat([data_validation[f], target_validation],axis=1,join='inner')\n",
        "  p = np.array([len(target_train[target_train == c])/len(target_train) for c in target_train.unique()])\n",
        "  df[df['Outcome'] == 1]\n",
        "  predicted = []\n",
        "  for (index, row) in df.iterrows():\n",
        "    # calculate a posterior likelihood\n",
        "    scores = [dist_0.pdf(row[f]) * p[0], dist_1.pdf(row[f]) * p[1]]\n",
        "    # classifier compare values of likelihood of probability distribution of classes\n",
        "    predicted.append(np.argmax(scores))\n",
        "  df['Predicted'] = predicted\n",
        "  tp, tn, fp, fn, p, n, total = get_indicators(df)\n",
        "  parameters[f]['result'] = {\n",
        "      'TP': tp,\n",
        "      'TN': tn,\n",
        "      'FP': fp,\n",
        "      'FN': fn,\n",
        "      'p':p,\n",
        "      'n':n\n",
        "  }\n",
        "\n",
        "  parameters[f]['measures'] = {\n",
        "      'accuracy': (tp + tn)/total,\n",
        "      'recall': tp/p,\n",
        "      'precision': tp /(tp + fp) if (tp + fp) > 0 else 0\n",
        "  }"
      ],
      "execution_count": 0,
      "outputs": []
    },
    {
      "cell_type": "code",
      "metadata": {
        "id": "2msi65K3Z-h2",
        "colab_type": "code",
        "colab": {}
      },
      "source": [
        "# Create a dataset with parameters, matrix confussion values and measures\n",
        "data = {}\n",
        "for f in parameters:\n",
        "  data[f] = [\n",
        "       parameters[f][0]['mean'],\n",
        "       parameters[f][0]['var'],\n",
        "       parameters[f][1]['mean'],\n",
        "       parameters[f][1]['var'],\n",
        "       parameters[f]['result']['TP'],\n",
        "       parameters[f]['result']['TN'],\n",
        "       parameters[f]['result']['FP'],\n",
        "       parameters[f]['result']['FN'],\n",
        "       parameters[f]['measures']['accuracy'],\n",
        "       parameters[f]['measures']['recall'],\n",
        "       parameters[f]['measures']['precision']\n",
        "  ]\n",
        "\n",
        "results = pd.DataFrame.from_dict(data, orient='index',\n",
        "                       columns=['mean_0', 'var_0', 'mean_1', 'var_1', 'TP', 'TN', 'FP', 'FN','accuracy', 'recall', 'precision'])"
      ],
      "execution_count": 0,
      "outputs": []
    },
    {
      "cell_type": "code",
      "metadata": {
        "id": "OxTsiAq4bLdY",
        "colab_type": "code",
        "outputId": "cad6458c-313f-4a7e-b4a5-d34f274a90e7",
        "colab": {
          "base_uri": "https://localhost:8080/",
          "height": 297
        }
      },
      "source": [
        "results"
      ],
      "execution_count": 0,
      "outputs": [
        {
          "output_type": "execute_result",
          "data": {
            "text/html": [
              "<div>\n",
              "<style scoped>\n",
              "    .dataframe tbody tr th:only-of-type {\n",
              "        vertical-align: middle;\n",
              "    }\n",
              "\n",
              "    .dataframe tbody tr th {\n",
              "        vertical-align: top;\n",
              "    }\n",
              "\n",
              "    .dataframe thead th {\n",
              "        text-align: right;\n",
              "    }\n",
              "</style>\n",
              "<table border=\"1\" class=\"dataframe\">\n",
              "  <thead>\n",
              "    <tr style=\"text-align: right;\">\n",
              "      <th></th>\n",
              "      <th>mean_0</th>\n",
              "      <th>var_0</th>\n",
              "      <th>mean_1</th>\n",
              "      <th>var_1</th>\n",
              "      <th>TP</th>\n",
              "      <th>TN</th>\n",
              "      <th>FP</th>\n",
              "      <th>FN</th>\n",
              "      <th>accuracy</th>\n",
              "      <th>recall</th>\n",
              "      <th>precision</th>\n",
              "    </tr>\n",
              "  </thead>\n",
              "  <tbody>\n",
              "    <tr>\n",
              "      <th>Pregnancies</th>\n",
              "      <td>3.304217</td>\n",
              "      <td>9.009892</td>\n",
              "      <td>4.653846</td>\n",
              "      <td>12.780068</td>\n",
              "      <td>29</td>\n",
              "      <td>149</td>\n",
              "      <td>19</td>\n",
              "      <td>57</td>\n",
              "      <td>0.700787</td>\n",
              "      <td>0.337209</td>\n",
              "      <td>0.604167</td>\n",
              "    </tr>\n",
              "    <tr>\n",
              "      <th>Glucose</th>\n",
              "      <td>109.734940</td>\n",
              "      <td>636.841918</td>\n",
              "      <td>142.384615</td>\n",
              "      <td>1110.713132</td>\n",
              "      <td>38</td>\n",
              "      <td>145</td>\n",
              "      <td>23</td>\n",
              "      <td>48</td>\n",
              "      <td>0.720472</td>\n",
              "      <td>0.441860</td>\n",
              "      <td>0.622951</td>\n",
              "    </tr>\n",
              "    <tr>\n",
              "      <th>BloodPressure</th>\n",
              "      <td>68.382530</td>\n",
              "      <td>314.520902</td>\n",
              "      <td>72.906593</td>\n",
              "      <td>330.726034</td>\n",
              "      <td>2</td>\n",
              "      <td>166</td>\n",
              "      <td>2</td>\n",
              "      <td>84</td>\n",
              "      <td>0.661417</td>\n",
              "      <td>0.023256</td>\n",
              "      <td>0.500000</td>\n",
              "    </tr>\n",
              "    <tr>\n",
              "      <th>SkinThickness</th>\n",
              "      <td>19.822289</td>\n",
              "      <td>213.246269</td>\n",
              "      <td>21.807692</td>\n",
              "      <td>288.531874</td>\n",
              "      <td>2</td>\n",
              "      <td>165</td>\n",
              "      <td>3</td>\n",
              "      <td>84</td>\n",
              "      <td>0.657480</td>\n",
              "      <td>0.023256</td>\n",
              "      <td>0.400000</td>\n",
              "    </tr>\n",
              "    <tr>\n",
              "      <th>Insulin</th>\n",
              "      <td>67.213855</td>\n",
              "      <td>8960.706394</td>\n",
              "      <td>101.170330</td>\n",
              "      <td>20767.457015</td>\n",
              "      <td>14</td>\n",
              "      <td>154</td>\n",
              "      <td>14</td>\n",
              "      <td>72</td>\n",
              "      <td>0.661417</td>\n",
              "      <td>0.162791</td>\n",
              "      <td>0.500000</td>\n",
              "    </tr>\n",
              "    <tr>\n",
              "      <th>BMI</th>\n",
              "      <td>30.138554</td>\n",
              "      <td>52.379778</td>\n",
              "      <td>35.310440</td>\n",
              "      <td>52.671548</td>\n",
              "      <td>19</td>\n",
              "      <td>149</td>\n",
              "      <td>19</td>\n",
              "      <td>67</td>\n",
              "      <td>0.661417</td>\n",
              "      <td>0.220930</td>\n",
              "      <td>0.500000</td>\n",
              "    </tr>\n",
              "    <tr>\n",
              "      <th>DiabetesPedigreeFunction</th>\n",
              "      <td>0.434973</td>\n",
              "      <td>0.096720</td>\n",
              "      <td>0.542621</td>\n",
              "      <td>0.147084</td>\n",
              "      <td>13</td>\n",
              "      <td>162</td>\n",
              "      <td>6</td>\n",
              "      <td>73</td>\n",
              "      <td>0.688976</td>\n",
              "      <td>0.151163</td>\n",
              "      <td>0.684211</td>\n",
              "    </tr>\n",
              "    <tr>\n",
              "      <th>Age</th>\n",
              "      <td>30.743976</td>\n",
              "      <td>128.710689</td>\n",
              "      <td>37.653846</td>\n",
              "      <td>123.652996</td>\n",
              "      <td>14</td>\n",
              "      <td>143</td>\n",
              "      <td>25</td>\n",
              "      <td>72</td>\n",
              "      <td>0.618110</td>\n",
              "      <td>0.162791</td>\n",
              "      <td>0.358974</td>\n",
              "    </tr>\n",
              "  </tbody>\n",
              "</table>\n",
              "</div>"
            ],
            "text/plain": [
              "                              mean_0        var_0  ...    recall  precision\n",
              "Pregnancies                 3.304217     9.009892  ...  0.337209   0.604167\n",
              "Glucose                   109.734940   636.841918  ...  0.441860   0.622951\n",
              "BloodPressure              68.382530   314.520902  ...  0.023256   0.500000\n",
              "SkinThickness              19.822289   213.246269  ...  0.023256   0.400000\n",
              "Insulin                    67.213855  8960.706394  ...  0.162791   0.500000\n",
              "BMI                        30.138554    52.379778  ...  0.220930   0.500000\n",
              "DiabetesPedigreeFunction    0.434973     0.096720  ...  0.151163   0.684211\n",
              "Age                        30.743976   128.710689  ...  0.162791   0.358974\n",
              "\n",
              "[8 rows x 11 columns]"
            ]
          },
          "metadata": {
            "tags": []
          },
          "execution_count": 14
        }
      ]
    },
    {
      "cell_type": "markdown",
      "metadata": {
        "id": "oCAaTZhRkVtQ",
        "colab_type": "text"
      },
      "source": [
        "According to the indicators, the function with the best classification function is **Glucose** with MLE parameters\n",
        "\n",
        "$$ \\mu_0 = 109.734940, \\; \\sigma_0^{2} = 636.841918$$\n",
        "$$ \\mu_1 = 142.384615, \\; \\sigma_1^{2} = 1110.713132$$\n",
        "\n",
        "\n",
        "\n",
        "\n",
        "\n"
      ]
    },
    {
      "cell_type": "markdown",
      "metadata": {
        "id": "pPaM6w1pz4rg",
        "colab_type": "text"
      },
      "source": [
        "**Measures**\n",
        "\n",
        "Accuracy: $72.03\\%$\n",
        "\n",
        "Recall: $44.19\\%$\n",
        "\n",
        "Precision: $62.26\\%$"
      ]
    },
    {
      "cell_type": "markdown",
      "metadata": {
        "id": "XThK6HJ-z0xJ",
        "colab_type": "text"
      },
      "source": [
        "**Confusion Matrix**\n",
        "\n",
        "| | Predicted class| | |\n",
        "|---|:-:|:-:|:-:|\n",
        "|**True Class**   |Positive|Negative   |Total|\n",
        "|Positive|  38 |  48 | 86 |\n",
        "|Negative|  23 | 145  | 168 | \n",
        "|Total| 61  |  193 | 254 |"
      ]
    },
    {
      "cell_type": "code",
      "metadata": {
        "id": "K-wZJ9LzkU4A",
        "colab_type": "code",
        "colab": {}
      },
      "source": [
        "dist_p0 = norm(results.loc['Glucose','mean_0'], np.sqrt(results.loc['Glucose','var_0']))\n",
        "dist_p1 = norm(results.loc['Glucose','mean_1'], np.sqrt(results.loc['Glucose','var_1']))"
      ],
      "execution_count": 0,
      "outputs": []
    },
    {
      "cell_type": "code",
      "metadata": {
        "id": "e3n0Ks5rlovl",
        "colab_type": "code",
        "colab": {}
      },
      "source": [
        "max_glucose = diabetes_df['Glucose'].max()\n",
        "min_glucose = diabetes_df['Glucose'].min()\n",
        "f_x = np.arange(min_glucose, 300, (300 - min_glucose)/100).tolist()\n",
        "p = np.array([len(target_train[target_train == c])/len(target_train) for c in target_train.unique()])\n",
        "f_y0 = [dist_p0.pdf(i) * p[0] for i in f_x]\n",
        "f_y1 = [dist_p1.pdf(i) * p[1] for i in f_x]"
      ],
      "execution_count": 0,
      "outputs": []
    },
    {
      "cell_type": "code",
      "metadata": {
        "id": "US6rFSKUoT-1",
        "colab_type": "code",
        "outputId": "ad4e9a4e-98fe-429b-8785-c15e62a753d2",
        "colab": {
          "base_uri": "https://localhost:8080/",
          "height": 312
        }
      },
      "source": [
        "pl.plot(f_x, f_y0, c='g',label='P(x|C=0) (no diabetes)')\n",
        "pl.plot(f_x, f_y1, c='r',label='P(x|C=1) (diabetes)')\n",
        "pl.xlabel('Glucose')\n",
        "pl.ylabel('P(x|$C_i$)')\n",
        "pl.title('Likelihood functions for Glucose')\n",
        "pl.legend()"
      ],
      "execution_count": 0,
      "outputs": [
        {
          "output_type": "execute_result",
          "data": {
            "text/plain": [
              "<matplotlib.legend.Legend at 0x7f713cb5c198>"
            ]
          },
          "metadata": {
            "tags": []
          },
          "execution_count": 17
        },
        {
          "output_type": "display_data",
          "data": {
            "image/png": "[encoded data removed]",
            "text/plain": [
              "<Figure size 432x288 with 1 Axes>"
            ]
          },
          "metadata": {
            "tags": [],
            "needs_background": "light"
          }
        }
      ]
    },
    {
      "cell_type": "markdown",
      "metadata": {
        "id": "X3nJKt12xITr",
        "colab_type": "text"
      },
      "source": [
        "To calculate the posterior likelihood we use the next equation:\n",
        "\n",
        "$$ P(C_i|x)=\\frac{p(x|C_i)\\,P(C_i)}{\\sum_{k=1}^{K}{p(x|C_i)\\,P(C_k)}}$$"
      ]
    },
    {
      "cell_type": "code",
      "metadata": {
        "id": "YwhL-uCQtMZU",
        "colab_type": "code",
        "outputId": "0b171e78-ede5-4ed6-e97c-42f6f0743f32",
        "colab": {
          "base_uri": "https://localhost:8080/",
          "height": 312
        }
      },
      "source": [
        "ty0=np.array(f_y0)/(np.array(f_y0) + np.array(f_y1))\n",
        "ty1=np.array(f_y1)/(np.array(f_y0) + np.array(f_y1))\n",
        "pl.plot(f_x, ty0, c='g',label='P($C_0$|x) (no diabetes)')\n",
        "pl.plot(f_x, ty1, c='r',label='P($C_1$|x) (diabetes)')\n",
        "pl.title('Posterior distribution')\n",
        "pl.xlabel('Glucose')\n",
        "pl.ylabel('P($C_i$|x)')\n",
        "pl.legend()"
      ],
      "execution_count": 0,
      "outputs": [
        {
          "output_type": "execute_result",
          "data": {
            "text/plain": [
              "<matplotlib.legend.Legend at 0x7f713ca5f978>"
            ]
          },
          "metadata": {
            "tags": []
          },
          "execution_count": 18
        },
        {
          "output_type": "display_data",
          "data": {
            "image/png": "[encoded data removed]",
            "text/plain": [
              "<Figure size 432x288 with 1 Axes>"
            ]
          },
          "metadata": {
            "tags": [],
            "needs_background": "light"
          }
        }
      ]
    },
    {
      "cell_type": "markdown",
      "metadata": {
        "id": "9tAjTjFulsbi",
        "colab_type": "text"
      },
      "source": [
        "## Problema 2(a) , 2(b)\n",
        "\n",
        "Problema 2(a)\n",
        "\n",
        "In this question, you will take all the combinations of pair of features. For each pair of\n",
        "features you will model the classes as bivariate Gaussian distributions with a covariance\n",
        "matrix $\\Sigma = I\\sigma$, where $\\sigma$ is a scalar, shared by all the classes. This is, the distribution\n",
        "for each class has a diferent mean but the same covariance matrix.\n",
        "\n",
        "Problema 2(b)\n",
        "\n",
        "For each combination estimate the parameters using the training dataset and evaluate\n",
        "the classifier in the validation dataset. Which combination of parameters obtained the\n",
        "best performance? Report the evaluation results for the best performing combination.\n",
        "\n",
        "\n",
        "Solution: For this problem we show two models, \n",
        "\n",
        "*   model 1: Maximum Likelihood Estimation (MLE)\n",
        "*   model 2: Optimize Accuracy (OA)\n",
        "\n"
      ]
    },
    {
      "cell_type": "markdown",
      "metadata": {
        "id": "eG_DZYFm3f3m",
        "colab_type": "text"
      },
      "source": [
        "### Model 1: MLE Train"
      ]
    },
    {
      "cell_type": "markdown",
      "metadata": {
        "id": "rceV_YtH3spP",
        "colab_type": "text"
      },
      "source": [
        "Consider the covariance matrix $\\Sigma=I\\sigma$, with $\\sigma$ a scalar.\n",
        "We create gaussians and estimate the maximum likelihood, \n",
        "The maximum likelihood is given by, \n",
        "$$\\Phi_T=p_0^np_1^m\\frac{1}{(\\sqrt{2\\pi}\\sigma)^{(n+m)}}\\prod\\exp{\\frac{-(\\vec{x_{0i}}-\\vec{\\mu_0})^2}{2\\sigma}}\\prod\\exp{\\frac{-(\\vec{x_{1i}}-\\vec{\\mu_1})^2}{2\\sigma}}$$\n",
        "\n",
        "Where, $\\vec{x_{0i}}$ correspond to the points of class 0, $\\vec{\\mu_0}$ correspond to the mean parameter of class 0, $p_0$ the prior of class 0, and $n$ are the number of elements of class 0, $m$ of class 1, and the same for class 1.\n",
        "\n",
        "By estimating the $\\log(\\Phi_T)$, the partial derivatives of the log likelihood and equating them to zero, one finds that,\n",
        "\n",
        "$$\\vec{\\mu_0}=\\frac{\\sum\\vec{x_{0i}}}{n}$$\n",
        "$$\\vec{\\mu_1}=\\frac{\\sum\\vec{x_{1i}}}{m}$$\n",
        "$$\\sigma=\\frac{\\sum(\\vec{x_{0i}}-\\vec{\\mu_0})^2+\\sum(\\vec{x_{1i}}-\\vec{\\mu_1})^2}{m+n}$$\n",
        "\n",
        "The $\\sigma$ can be written in terms of $p_i$ and $\\sigma_{ij}$, where $\\sigma_{ij}$ is the variance of the feature j in class i,  \n",
        "\n",
        "Hence, \n",
        "\n",
        "$$\\sigma= p_0(\\sigma_{00}+\\sigma_{01})+p_1(\\sigma_{10}+\\sigma_{11})$$\n",
        "\n",
        "Then $\\sigma$ is some sort of weighted average (center of mass) of the variances of the classes and features."
      ]
    },
    {
      "cell_type": "code",
      "metadata": {
        "id": "LIXdzsDu4NMv",
        "colab_type": "code",
        "colab": {}
      },
      "source": [
        "# Find the mean and the variance of two features, assuming diagonal covariance. \n",
        "def fit_diag_gaussian_MLE(x, feature1, feature2):\n",
        "    features = [feature1, feature2]\n",
        "    mu = np.mean(x[:,features], axis=0)\n",
        "    covar = np.array([[np.var(x[:,feature1]), 0],[0, np.var(x[:,feature2])]])\n",
        "    return mu, covar"
      ],
      "execution_count": 0,
      "outputs": []
    },
    {
      "cell_type": "code",
      "metadata": {
        "id": "Q1-1JJ6L4T11",
        "colab_type": "code",
        "colab": {}
      },
      "source": [
        "# Assumes y takes on values 0,1\n",
        "def fit_generative_model_MLE(x, y, feature1, feature2):\n",
        "    features = [feature1, feature2]\n",
        "    k = 2 # number of classes\n",
        "    d = len(features) # number of features\n",
        "    mu = np.zeros((k,d)) # list of means\n",
        "    covar = np.zeros((k,d,d)) # list of covariance matrices\n",
        "    pi = np.zeros(k) # list of class weights\n",
        "    for label in range(k):\n",
        "        indices = (y==label)\n",
        "        mu[label,:], covar[label,:,:] = fit_diag_gaussian_MLE(x[indices,:], feature1, feature2)\n",
        "        pi[label] = float(sum(indices))/float(len(y))\n",
        "    return mu, covar, pi"
      ],
      "execution_count": 0,
      "outputs": []
    },
    {
      "cell_type": "code",
      "metadata": {
        "id": "os1OU_dt4ZJm",
        "colab_type": "code",
        "colab": {}
      },
      "source": [
        "def train_model_MLE(f1, f2):\n",
        "    if f1 == f2: # need f1 != f2\n",
        "        print(\"Please choose different features for f1 and f2.\")\n",
        "        return  \n",
        "    features= [f1,f2]\n",
        "    mu, covar, pi = fit_generative_model_MLE(trainx, trainy, f1, f2)\n",
        "    \n",
        "    k = 2 # Labels 1,2,...,k\n",
        "    nt = len(trainy) # Number of train points\n",
        "    # Find the value of sigma\n",
        "    sigma = 0\n",
        "    for label in range(k):\n",
        "      sigma += np.sum(covar[label,:,:])*pi[label]\n",
        "    \n",
        "    score = np.zeros((nt,k))\n",
        "    for i in range(0,nt):\n",
        "        for label in range(k):\n",
        "            score[i,label] = np.log(pi[label]) + \\\n",
        "            multivariate_normal.logpdf(trainx[i,features], mean=mu[label,:], cov=sigma)\n",
        "    predictions = np.argmax(score, axis=1)\n",
        "    # Finally, tally up score\n",
        "    errors = np.sum(predictions != trainy)\n",
        "\n",
        "    accuracy = 1-(errors/nt)\n",
        "    return mu, sigma, pi, accuracy"
      ],
      "execution_count": 0,
      "outputs": []
    },
    {
      "cell_type": "code",
      "metadata": {
        "id": "N1V8v3Nl4fjC",
        "colab_type": "code",
        "colab": {}
      },
      "source": [
        "# A function which creates the table of sigma and accuracy values for each\n",
        "# pair of features for the training data set\n",
        "\n",
        "def train_tables_MLE():\n",
        "  \n",
        "  accuracy_table = np.zeros((8,8))\n",
        "  sigma_table = np.zeros((8,8))\n",
        "  for i in range(8):\n",
        "    for j in range(i+1,8):\n",
        "      mu, sigma_ij, pi, accuracy_ij = train_model_MLE(i, j)\n",
        "      sigma_table[i,j] = sigma_ij \n",
        "      accuracy_table[i,j] = accuracy_ij\n",
        "\n",
        "  # sigma table\n",
        "  datatable1 = pd.DataFrame(sigma_table)\n",
        "  # Change the column names \n",
        "  datatable1.columns = featurenames\n",
        "  # Change the row indexes \n",
        "  datatable1.index = featurenames\n",
        "  datatable1.replace(0, np.nan, inplace=True)\n",
        "  datatable1.columns.name = 'SIGMA MODEL 1: MLE'\n",
        "\n",
        "\n",
        "  # accuracy table\n",
        "  datatable2 = pd.DataFrame(accuracy_table)\n",
        "  # Change the column names \n",
        "  datatable2.columns = featurenames\n",
        "  # Change the row indexes \n",
        "  datatable2.index = featurenames\n",
        "  datatable2.replace(0, np.nan, inplace=True)\n",
        "  datatable2.columns.name = 'ACCURACY MODEL 1: MLE'\n",
        "\n",
        "  return datatable1, datatable2, sigma_table"
      ],
      "execution_count": 0,
      "outputs": []
    },
    {
      "cell_type": "code",
      "metadata": {
        "id": "FfT37Ovu4wZF",
        "colab_type": "code",
        "colab": {}
      },
      "source": [
        "sigma_table_MLE, accuracy_table_MLE, sigma_table_np = train_tables_MLE()"
      ],
      "execution_count": 0,
      "outputs": []
    },
    {
      "cell_type": "code",
      "metadata": {
        "id": "BAdZRC8L49lX",
        "colab_type": "code",
        "outputId": "f2bdce6d-e1ea-4060-ab6b-9d5d39ab4677",
        "colab": {
          "base_uri": "https://localhost:8080/",
          "height": 297
        }
      },
      "source": [
        "sigma_table_MLE"
      ],
      "execution_count": 0,
      "outputs": [
        {
          "output_type": "execute_result",
          "data": {
            "text/html": [
              "<div>\n",
              "<style scoped>\n",
              "    .dataframe tbody tr th:only-of-type {\n",
              "        vertical-align: middle;\n",
              "    }\n",
              "\n",
              "    .dataframe tbody tr th {\n",
              "        vertical-align: top;\n",
              "    }\n",
              "\n",
              "    .dataframe thead th {\n",
              "        text-align: right;\n",
              "    }\n",
              "</style>\n",
              "<table border=\"1\" class=\"dataframe\">\n",
              "  <thead>\n",
              "    <tr style=\"text-align: right;\">\n",
              "      <th>SIGMA MODEL 1: MLE</th>\n",
              "      <th>Pregnancies</th>\n",
              "      <th>Glucose</th>\n",
              "      <th>BloodPressure</th>\n",
              "      <th>SkinThickness</th>\n",
              "      <th>Insulin</th>\n",
              "      <th>BMI</th>\n",
              "      <th>DiabetesPedigreeFunction</th>\n",
              "      <th>Age</th>\n",
              "    </tr>\n",
              "  </thead>\n",
              "  <tbody>\n",
              "    <tr>\n",
              "      <th>Pregnancies</th>\n",
              "      <td>NaN</td>\n",
              "      <td>811.535444</td>\n",
              "      <td>329.306026</td>\n",
              "      <td>249.230060</td>\n",
              "      <td>13093.772378</td>\n",
              "      <td>62.581173</td>\n",
              "      <td>10.416543</td>\n",
              "      <td>136.731316</td>\n",
              "    </tr>\n",
              "    <tr>\n",
              "      <th>Glucose</th>\n",
              "      <td>NaN</td>\n",
              "      <td>NaN</td>\n",
              "      <td>1120.236542</td>\n",
              "      <td>1040.160576</td>\n",
              "      <td>13884.702894</td>\n",
              "      <td>853.511689</td>\n",
              "      <td>801.347059</td>\n",
              "      <td>927.661832</td>\n",
              "    </tr>\n",
              "    <tr>\n",
              "      <th>BloodPressure</th>\n",
              "      <td>NaN</td>\n",
              "      <td>NaN</td>\n",
              "      <td>NaN</td>\n",
              "      <td>557.931158</td>\n",
              "      <td>13402.473476</td>\n",
              "      <td>371.282271</td>\n",
              "      <td>319.117641</td>\n",
              "      <td>445.432414</td>\n",
              "    </tr>\n",
              "    <tr>\n",
              "      <th>SkinThickness</th>\n",
              "      <td>NaN</td>\n",
              "      <td>NaN</td>\n",
              "      <td>NaN</td>\n",
              "      <td>NaN</td>\n",
              "      <td>13322.397510</td>\n",
              "      <td>291.206305</td>\n",
              "      <td>239.041675</td>\n",
              "      <td>365.356449</td>\n",
              "    </tr>\n",
              "    <tr>\n",
              "      <th>Insulin</th>\n",
              "      <td>NaN</td>\n",
              "      <td>NaN</td>\n",
              "      <td>NaN</td>\n",
              "      <td>NaN</td>\n",
              "      <td>NaN</td>\n",
              "      <td>13135.748624</td>\n",
              "      <td>13083.583993</td>\n",
              "      <td>13209.898767</td>\n",
              "    </tr>\n",
              "    <tr>\n",
              "      <th>BMI</th>\n",
              "      <td>NaN</td>\n",
              "      <td>NaN</td>\n",
              "      <td>NaN</td>\n",
              "      <td>NaN</td>\n",
              "      <td>NaN</td>\n",
              "      <td>NaN</td>\n",
              "      <td>52.392788</td>\n",
              "      <td>178.707562</td>\n",
              "    </tr>\n",
              "    <tr>\n",
              "      <th>DiabetesPedigreeFunction</th>\n",
              "      <td>NaN</td>\n",
              "      <td>NaN</td>\n",
              "      <td>NaN</td>\n",
              "      <td>NaN</td>\n",
              "      <td>NaN</td>\n",
              "      <td>NaN</td>\n",
              "      <td>NaN</td>\n",
              "      <td>126.542932</td>\n",
              "    </tr>\n",
              "    <tr>\n",
              "      <th>Age</th>\n",
              "      <td>NaN</td>\n",
              "      <td>NaN</td>\n",
              "      <td>NaN</td>\n",
              "      <td>NaN</td>\n",
              "      <td>NaN</td>\n",
              "      <td>NaN</td>\n",
              "      <td>NaN</td>\n",
              "      <td>NaN</td>\n",
              "    </tr>\n",
              "  </tbody>\n",
              "</table>\n",
              "</div>"
            ],
            "text/plain": [
              "SIGMA MODEL 1: MLE        Pregnancies  ...           Age\n",
              "Pregnancies                       NaN  ...    136.731316\n",
              "Glucose                           NaN  ...    927.661832\n",
              "BloodPressure                     NaN  ...    445.432414\n",
              "SkinThickness                     NaN  ...    365.356449\n",
              "Insulin                           NaN  ...  13209.898767\n",
              "BMI                               NaN  ...    178.707562\n",
              "DiabetesPedigreeFunction          NaN  ...    126.542932\n",
              "Age                               NaN  ...           NaN\n",
              "\n",
              "[8 rows x 8 columns]"
            ]
          },
          "metadata": {
            "tags": []
          },
          "execution_count": 24
        }
      ]
    },
    {
      "cell_type": "code",
      "metadata": {
        "id": "pprLr1BV5EpQ",
        "colab_type": "code",
        "outputId": "22c358f9-c227-4c4a-9636-62403d7b5c02",
        "colab": {
          "base_uri": "https://localhost:8080/",
          "height": 297
        }
      },
      "source": [
        "accuracy_table_MLE"
      ],
      "execution_count": 0,
      "outputs": [
        {
          "output_type": "execute_result",
          "data": {
            "text/html": [
              "<div>\n",
              "<style scoped>\n",
              "    .dataframe tbody tr th:only-of-type {\n",
              "        vertical-align: middle;\n",
              "    }\n",
              "\n",
              "    .dataframe tbody tr th {\n",
              "        vertical-align: top;\n",
              "    }\n",
              "\n",
              "    .dataframe thead th {\n",
              "        text-align: right;\n",
              "    }\n",
              "</style>\n",
              "<table border=\"1\" class=\"dataframe\">\n",
              "  <thead>\n",
              "    <tr style=\"text-align: right;\">\n",
              "      <th>ACCURACY MODEL 1: MLE</th>\n",
              "      <th>Pregnancies</th>\n",
              "      <th>Glucose</th>\n",
              "      <th>BloodPressure</th>\n",
              "      <th>SkinThickness</th>\n",
              "      <th>Insulin</th>\n",
              "      <th>BMI</th>\n",
              "      <th>DiabetesPedigreeFunction</th>\n",
              "      <th>Age</th>\n",
              "    </tr>\n",
              "  </thead>\n",
              "  <tbody>\n",
              "    <tr>\n",
              "      <th>Pregnancies</th>\n",
              "      <td>NaN</td>\n",
              "      <td>0.754864</td>\n",
              "      <td>0.643969</td>\n",
              "      <td>0.645914</td>\n",
              "      <td>0.655642</td>\n",
              "      <td>0.677043</td>\n",
              "      <td>0.647860</td>\n",
              "      <td>0.663424</td>\n",
              "    </tr>\n",
              "    <tr>\n",
              "      <th>Glucose</th>\n",
              "      <td>NaN</td>\n",
              "      <td>NaN</td>\n",
              "      <td>0.752918</td>\n",
              "      <td>0.756809</td>\n",
              "      <td>0.661479</td>\n",
              "      <td>0.758755</td>\n",
              "      <td>0.754864</td>\n",
              "      <td>0.752918</td>\n",
              "    </tr>\n",
              "    <tr>\n",
              "      <th>BloodPressure</th>\n",
              "      <td>NaN</td>\n",
              "      <td>NaN</td>\n",
              "      <td>NaN</td>\n",
              "      <td>0.645914</td>\n",
              "      <td>0.655642</td>\n",
              "      <td>0.651751</td>\n",
              "      <td>0.643969</td>\n",
              "      <td>0.642023</td>\n",
              "    </tr>\n",
              "    <tr>\n",
              "      <th>SkinThickness</th>\n",
              "      <td>NaN</td>\n",
              "      <td>NaN</td>\n",
              "      <td>NaN</td>\n",
              "      <td>NaN</td>\n",
              "      <td>0.655642</td>\n",
              "      <td>0.649805</td>\n",
              "      <td>0.645914</td>\n",
              "      <td>0.643969</td>\n",
              "    </tr>\n",
              "    <tr>\n",
              "      <th>Insulin</th>\n",
              "      <td>NaN</td>\n",
              "      <td>NaN</td>\n",
              "      <td>NaN</td>\n",
              "      <td>NaN</td>\n",
              "      <td>NaN</td>\n",
              "      <td>0.655642</td>\n",
              "      <td>0.655642</td>\n",
              "      <td>0.655642</td>\n",
              "    </tr>\n",
              "    <tr>\n",
              "      <th>BMI</th>\n",
              "      <td>NaN</td>\n",
              "      <td>NaN</td>\n",
              "      <td>NaN</td>\n",
              "      <td>NaN</td>\n",
              "      <td>NaN</td>\n",
              "      <td>NaN</td>\n",
              "      <td>0.659533</td>\n",
              "      <td>0.653696</td>\n",
              "    </tr>\n",
              "    <tr>\n",
              "      <th>DiabetesPedigreeFunction</th>\n",
              "      <td>NaN</td>\n",
              "      <td>NaN</td>\n",
              "      <td>NaN</td>\n",
              "      <td>NaN</td>\n",
              "      <td>NaN</td>\n",
              "      <td>NaN</td>\n",
              "      <td>NaN</td>\n",
              "      <td>0.663424</td>\n",
              "    </tr>\n",
              "    <tr>\n",
              "      <th>Age</th>\n",
              "      <td>NaN</td>\n",
              "      <td>NaN</td>\n",
              "      <td>NaN</td>\n",
              "      <td>NaN</td>\n",
              "      <td>NaN</td>\n",
              "      <td>NaN</td>\n",
              "      <td>NaN</td>\n",
              "      <td>NaN</td>\n",
              "    </tr>\n",
              "  </tbody>\n",
              "</table>\n",
              "</div>"
            ],
            "text/plain": [
              "ACCURACY MODEL 1: MLE     Pregnancies  ...       Age\n",
              "Pregnancies                       NaN  ...  0.663424\n",
              "Glucose                           NaN  ...  0.752918\n",
              "BloodPressure                     NaN  ...  0.642023\n",
              "SkinThickness                     NaN  ...  0.643969\n",
              "Insulin                           NaN  ...  0.655642\n",
              "BMI                               NaN  ...  0.653696\n",
              "DiabetesPedigreeFunction          NaN  ...  0.663424\n",
              "Age                               NaN  ...       NaN\n",
              "\n",
              "[8 rows x 8 columns]"
            ]
          },
          "metadata": {
            "tags": []
          },
          "execution_count": 25
        }
      ]
    },
    {
      "cell_type": "markdown",
      "metadata": {
        "id": "4_e6Njxp5Q4P",
        "colab_type": "text"
      },
      "source": [
        "Hence the best pair of features for training are (Glucose, BMI), with, \n",
        "\n",
        "$$\\sigma_{\\text{MLE}}=853.511689$$\n",
        "And accuracy in the training data set of 75.87%"
      ]
    },
    {
      "cell_type": "markdown",
      "metadata": {
        "id": "5LoGGOwi4L-0",
        "colab_type": "text"
      },
      "source": [
        "### Model 1: MLE Test"
      ]
    },
    {
      "cell_type": "code",
      "metadata": {
        "id": "bzb_ybBR6BT7",
        "colab_type": "code",
        "colab": {}
      },
      "source": [
        "# Now test the performance of a predictor based on a subset of features\n",
        "def test_model_MLE(f1, f2):\n",
        "    if f1 == f2: # need f1 != f2\n",
        "        print(\"Please choose different features for f1 and f2.\")\n",
        "        return  \n",
        "    features= [f1,f2]\n",
        "    mu, covar_0, pi, accuracy  = train_model_MLE(f1, f2)\n",
        "\n",
        "    errors_0 = len(testy) + 1\n",
        "    k = 2 # Labels 1,2,...,k\n",
        "    nt = len(testy) # Number of train points\n",
        "    score = np.zeros((nt,k))\n",
        "    for i in range(0,nt):\n",
        "        for label in range(k):\n",
        "            score[i,label] = np.log(pi[label]) + \\\n",
        "            multivariate_normal.logpdf(testx[i,features], mean=mu[label,:], cov=covar_0, allow_singular=True)\n",
        "    predictions = np.argmax(score[:,0:2], axis=1)\n",
        "    # Finally, tally up score\n",
        "    errors = np.sum(predictions != testy)\n",
        "    if errors < errors_0:\n",
        "      errors_0 = errors\n",
        "\n",
        "    accuracy = 1-(errors_0/nt)\n",
        "    return accuracy, score"
      ],
      "execution_count": 0,
      "outputs": []
    },
    {
      "cell_type": "code",
      "metadata": {
        "id": "U02O6qS66Imu",
        "colab_type": "code",
        "outputId": "3867beee-4113-4706-bb3e-e0fc29604ab1",
        "colab": {
          "base_uri": "https://localhost:8080/",
          "height": 34
        }
      },
      "source": [
        "accuracy_MLE, _ = test_model_MLE(1, 5)\n",
        "accuracy_MLE"
      ],
      "execution_count": 0,
      "outputs": [
        {
          "output_type": "execute_result",
          "data": {
            "text/plain": [
              "0.7283464566929134"
            ]
          },
          "metadata": {
            "tags": []
          },
          "execution_count": 27
        }
      ]
    },
    {
      "cell_type": "markdown",
      "metadata": {
        "id": "ciSvuTBJ6SQE",
        "colab_type": "text"
      },
      "source": [
        "Hence the model bivariate gaussian with features (Glucouse, BMI) and $\\sigma = 853.5116 $\n",
        "\n",
        "Gives an accuracy on the test data set of 72.83%"
      ]
    },
    {
      "cell_type": "markdown",
      "metadata": {
        "id": "BAIlDsLX_SM0",
        "colab_type": "text"
      },
      "source": [
        "### Conclusion \n",
        "\n",
        "For the maximum likelihood model the results are:\n",
        "\n",
        "*   best pair of features: (Glucouse, BMI)\n",
        "*   $\\sigma_{\\text{MLE}}=853.511689$\n",
        "*   Accuracy on (train, test) = (75.87%,72.83%) \n",
        "*   $\\mu = \\begin{bmatrix} \\mu_{\\text{glucose_0}} & \\mu_{\\text{bmi_0}} \\\\ \\mu_{\\text{glucose_1}} & \\mu_{\\text{bmi_1}} \\end{bmatrix} = \\begin{bmatrix} 109.73493976 &  30.13855422 \\\\ 142.38461538 &  35.31043956 \\end{bmatrix} $\n",
        "*   $\\vec{p}= (0.6459144, 0.3540856)$\n",
        "\n",
        "We conclude that our final result for sigma is, \n",
        "\n",
        "$$\\sigma=853.511689$$\n",
        "\n",
        "\n",
        "\n",
        "\n"
      ]
    },
    {
      "cell_type": "markdown",
      "metadata": {
        "id": "GqSt5y3MEJ3D",
        "colab_type": "text"
      },
      "source": [
        "## Problema 2(c)\n",
        "\n",
        "Draw ROC curves for the best performing univariate model (from question 1) and bivariate model. Which model is better? Explain the results."
      ]
    },
    {
      "cell_type": "code",
      "metadata": {
        "id": "s1x6TydkEWlB",
        "colab_type": "code",
        "colab": {}
      },
      "source": [
        "accuracy_roc, score_roc = test_model_MLE(1, 5)"
      ],
      "execution_count": 0,
      "outputs": []
    },
    {
      "cell_type": "code",
      "metadata": {
        "id": "5FN4fM6cEcXZ",
        "colab_type": "code",
        "colab": {}
      },
      "source": [
        "def positive_score(score_p):\n",
        "  nt = len(testy)\n",
        "  score_pdf = np.exp(score_p)\n",
        "  score_pdf = score_pdf/score_pdf.sum(axis=1).reshape((nt,1))\n",
        "  return score_pdf[:,1]"
      ],
      "execution_count": 0,
      "outputs": []
    },
    {
      "cell_type": "code",
      "metadata": {
        "id": "uD3BHnUYEgFo",
        "colab_type": "code",
        "colab": {}
      },
      "source": [
        "positive_score_t = positive_score(score_roc)"
      ],
      "execution_count": 0,
      "outputs": []
    },
    {
      "cell_type": "code",
      "metadata": {
        "id": "fA_IbgWSEjG8",
        "colab_type": "code",
        "colab": {}
      },
      "source": [
        "def roc_estimation(testy_p, positive_score_p, title_roc='ROC curve : MLE Model(Glucouse, BMI)'):\n",
        "  # Compute ROC curve and ROC area for each class\n",
        "  fpr = dict()\n",
        "  tpr = dict()\n",
        "  roc_auc = dict()\n",
        "\n",
        "  fpr[0], tpr[0], _ = roc_curve(testy_p, positive_score_p)\n",
        "  #fpr[i], tpr[i], _ = roc_curve(testy, predictions_roc)\n",
        "  roc_auc[0] = auc(fpr[0], tpr[0])\n",
        "\n",
        "  # Compute micro-average ROC curve and ROC area\n",
        "  fpr[\"micro\"], tpr[\"micro\"], _ = roc_curve(testy.ravel(), positive_score_p.ravel())\n",
        "  roc_auc[\"micro\"] = auc(fpr[\"micro\"], tpr[\"micro\"])\n",
        "\n",
        "  plt.figure()\n",
        "  lw = 2\n",
        "  plt.plot(fpr[0], tpr[0], color='darkorange',\n",
        "          lw=lw, label='ROC curve (area = %0.2f)' % roc_auc[0])\n",
        "  plt.plot([0, 1], [0, 1], color='navy', lw=lw, linestyle='--')\n",
        "  plt.xlim([0.0, 1.0])\n",
        "  plt.ylim([0.0, 1.05])\n",
        "  plt.xlabel('False Positive Rate')\n",
        "  plt.ylabel('True Positive Rate')\n",
        "  plt.title(title_roc)\n",
        "  plt.legend(loc=\"lower right\")\n",
        "  plt.show()"
      ],
      "execution_count": 0,
      "outputs": []
    },
    {
      "cell_type": "code",
      "metadata": {
        "id": "q5sNTDoREsC6",
        "colab_type": "code",
        "outputId": "85fe86e9-d520-4edd-d3e1-66b50faac644",
        "colab": {
          "base_uri": "https://localhost:8080/",
          "height": 295
        }
      },
      "source": [
        "roc_estimation(testy, positive_score_t)"
      ],
      "execution_count": 0,
      "outputs": [
        {
          "output_type": "display_data",
          "data": {
            "image/png": "[encoded data removed]",
            "text/plain": [
              "<Figure size 432x288 with 1 Axes>"
            ]
          },
          "metadata": {
            "tags": [],
            "needs_background": "light"
          }
        }
      ]
    },
    {
      "cell_type": "code",
      "metadata": {
        "id": "9OqaHA9WfCQr",
        "colab_type": "code",
        "colab": {}
      },
      "source": [
        "def univariate_gaussian_classifier(means, vars, apriori, data, target):\n",
        "  c_0 = np.array(norm.pdf(data, means[0], vars[0])) * apriori[0]\n",
        "  c_1 = np.array(norm.pdf(data, means[1], vars[1])) * apriori[1]\n",
        "  df = pd.concat([data, target], axis=1, join='inner')\n",
        "  df['c_0'] = c_0\n",
        "  df['c_1'] = c_1\n",
        "  predicted = []\n",
        "  scores = []\n",
        "  for i in range(len(c_0)):\n",
        "    s = [c_0[i], c_1[i]]\n",
        "    scores.append(s)\n",
        "    predicted.append(np.argmax(s))\n",
        "  df['predicted'] = predicted\n",
        "  confussion = {\n",
        "      'TP': 0,\n",
        "      'FP': 0,\n",
        "      'TN': 0,\n",
        "      'FN': 0\n",
        "  }\n",
        "  for (index, row) in df.iterrows():\n",
        "    outcome = row['Outcome']\n",
        "    c = row['predicted']\n",
        "    if outcome == 1:\n",
        "      if c == 1:\n",
        "        confussion['TP'] += 1\n",
        "      else:\n",
        "        confussion['FN'] += 1\n",
        "    elif outcome == 0:\n",
        "      if c == 1:\n",
        "        confussion['FP'] += 1\n",
        "      else:\n",
        "        confussion['TN'] += 1\n",
        "  accuracy = (confussion['TP'] + confussion['TN'])/ len(target)\n",
        "  return accuracy, confussion, np.array(scores)\n",
        "\n",
        "  "
      ],
      "execution_count": 0,
      "outputs": []
    },
    {
      "cell_type": "code",
      "metadata": {
        "id": "c4oXH8wiimeR",
        "colab_type": "code",
        "colab": {}
      },
      "source": [
        "means_univariate = [results.loc['Glucose','mean_0'], results.loc['Glucose','mean_1']]\n",
        "vars_univariate = [np.sqrt(results.loc['Glucose','var_0']), np.sqrt(results.loc['Glucose','var_1'])]\n",
        "apriori_univariate = np.array([len(target_train[target_train == c])/len(target_train) for c in target_train.unique()])\n",
        "accuracy_uv, confusion_uv, scores_uv = univariate_gaussian_classifier(means_univariate, vars_univariate, apriori_univariate, data_validation['Glucose'], target_validation)"
      ],
      "execution_count": 0,
      "outputs": []
    },
    {
      "cell_type": "code",
      "metadata": {
        "id": "FHrjj19JkzgL",
        "colab_type": "code",
        "colab": {}
      },
      "source": [
        "scores_uv = scores_uv/scores_uv.sum(axis=1).reshape(len(target_validation),1)\n"
      ],
      "execution_count": 0,
      "outputs": []
    },
    {
      "cell_type": "code",
      "metadata": {
        "id": "AAneNURzpaPd",
        "colab_type": "code",
        "outputId": "a829f194-cbf9-4f73-9ba1-58b6e9203f5e",
        "colab": {
          "base_uri": "https://localhost:8080/",
          "height": 295
        }
      },
      "source": [
        "roc_estimation(testy, scores_uv[:,1], title_roc='ROC Curve: MLE Model Univariate Gaussian (Glucose)')"
      ],
      "execution_count": 0,
      "outputs": [
        {
          "output_type": "display_data",
          "data": {
            "image/png": "[encoded data removed]",
            "text/plain": [
              "<Figure size 432x288 with 1 Axes>"
            ]
          },
          "metadata": {
            "tags": [],
            "needs_background": "light"
          }
        }
      ]
    },
    {
      "cell_type": "markdown",
      "metadata": {
        "id": "gy5gerIw15Na",
        "colab_type": "text"
      },
      "source": [
        "### **Discuss**\n",
        "According to the ROC curves, the best model is the bivariate Gaussian using the Glucose and BMI characteristics, a measure that allows us to conclude this is the ROC area, which is slightly higher in the bivariate model in comparison with the univariate model, additionally the bivariate model has greater accuracy on test data."
      ]
    },
    {
      "cell_type": "markdown",
      "metadata": {
        "id": "t2hHNH0d2Gxh",
        "colab_type": "text"
      },
      "source": [
        "## Problema  3(a)\n",
        "\n",
        "For the best bivariate model (from question 2) draw a plot, where the regions corresponding to the two classes are shown with diferent colors. A region corresponding to a class is the set of points where the particular class discriminant function is maximum"
      ]
    },
    {
      "cell_type": "code",
      "metadata": {
        "id": "zvS9yTTdB1ce",
        "colab_type": "code",
        "colab": {}
      },
      "source": [
        "def evaluate_classifier(mu_p, covar_p, pi_p, x_p, model_p = 'model MLE'):\n",
        "    k = 2 # number of classes\n",
        "    score = np.zeros(k)\n",
        "    if (model_p == 'model MLE'):\n",
        "      for label in range(k):\n",
        "        score[label] = np.log(pi_p[label]) + \\\n",
        "                multivariate_normal.logpdf(x_p, mean=mu_p[label,:], cov=covar_p, allow_singular=True)\n",
        "        prediction = np.argmax(score)\n",
        "    elif (model_p == 'model risk'):\n",
        "      score[0] = np.log(2*pi_p[1]) + \\\n",
        "              multivariate_normal.logpdf(x_p, mean=mu_p[1,:], cov=covar_p, allow_singular=True)\n",
        "      score[1] = np.log(pi_p[0]) + \\\n",
        "              multivariate_normal.logpdf(x_p, mean=mu_p[0,:], cov=covar_p, allow_singular=True)\n",
        "      prediction = np.argmin(score)\n",
        "    if prediction == 0:\n",
        "      return -1\n",
        "    if prediction == 1:\n",
        "      return 1"
      ],
      "execution_count": 0,
      "outputs": []
    },
    {
      "cell_type": "code",
      "metadata": {
        "id": "LlX8Cd-v2cfd",
        "colab_type": "code",
        "colab": {}
      },
      "source": [
        "def plot_test(f1, f2, sigma):\n",
        "    \n",
        "    features = [f1, f2]\n",
        "    # select the test data set with the two features\n",
        "    x = testx[:,features]\n",
        "    y = testy\n",
        "    # find the mu and pi with the training data set\n",
        "    mu, covar, pi = fit_generative_model_MLE(trainx, trainy, f1, f2)\n",
        "    # Determine the x1- and x2- limits of the plot\n",
        "    x1min = min(x[:,0]) - 10\n",
        "    x1max = max(x[:,0]) + 10\n",
        "    x2min = min(x[:,1]) - 10\n",
        "    x2max = max(x[:,1]) + 10\n",
        "    plt.xlim(x1min,x1max)\n",
        "    plt.ylim(x2min,x2max)\n",
        "    # Plot the data points\n",
        "    plt.plot(x[(y==1),0], x[(y==1),1], 'ro')\n",
        "    plt.plot(x[(y==0),0], x[(y==0),1], 'k^')\n",
        "    # Construct a grid of points at which to evaluate the classifier\n",
        "    grid_spacing = 0.5\n",
        "    xx1, xx2 = np.meshgrid(np.arange(x1min, x1max, grid_spacing), np.arange(x2min, x2max, grid_spacing))\n",
        "    grid = np.c_[xx1.ravel(), xx2.ravel()]\n",
        "    Z = np.array([evaluate_classifier(mu, sigma, pi, x) for x in grid])\n",
        "    # Show the classifier's boundary using a color plot\n",
        "    Z = Z.reshape(xx1.shape)\n",
        "    plt.pcolormesh(xx1, xx2, Z, cmap=plt.cm.PRGn, vmin=-3, vmax=3)\n",
        "    pl.xlabel(featurenames[f1])\n",
        "    pl.ylabel(featurenames[f2])\n",
        "    pl.title('Decision boundaries applied on test data of the two features, C0 black, C1 red, green(diabetes)')\n",
        "    plt.show()"
      ],
      "execution_count": 0,
      "outputs": []
    },
    {
      "cell_type": "code",
      "metadata": {
        "id": "uL5sVUX52j3G",
        "colab_type": "code",
        "outputId": "a3685e60-29c4-4623-c0a5-fdd7a9d75978",
        "colab": {
          "base_uri": "https://localhost:8080/",
          "height": 295
        }
      },
      "source": [
        "plot_test(1, 5, 853.511689)"
      ],
      "execution_count": 0,
      "outputs": [
        {
          "output_type": "display_data",
          "data": {
            "image/png": "[encoded data removed]",
            "text/plain": [
              "<Figure size 432x288 with 1 Axes>"
            ]
          },
          "metadata": {
            "tags": [],
            "needs_background": "light"
          }
        }
      ]
    },
    {
      "cell_type": "markdown",
      "metadata": {
        "id": "7u4mGrA23NoJ",
        "colab_type": "text"
      },
      "source": [
        "## Problema 3(b)\n",
        "\n",
        "The boundary between class regions must be a line. Calculate the equation of this line\n",
        "clearly explaining the deduction process. Draw the line along with the regions."
      ]
    },
    {
      "cell_type": "markdown",
      "metadata": {
        "id": "dWoLS4Xg3Xoe",
        "colab_type": "text"
      },
      "source": [
        "### Deduction of the line \n",
        "\n",
        "The equation of the line is given by, \n",
        "\n",
        "$$(\\vec{\\mu_1}-\\vec{\\mu_0})\\cdot\\vec{x}= \\sigma^2\\log(p_0/p_1)+\\frac{(\\vec{\\mu_1}-\\vec{\\mu_0})\\cdot(\\vec{\\mu_1}+\\vec{\\mu_0})}{2}$$\n",
        "\n",
        "Where $\\vec{\\mu_i}$ and $p_i$ are the mean vector and prior probability of class $i$. And $\\vec{x}= (x_1, x_2)$\n",
        "\n",
        "Proof: \n",
        "\n",
        "The probability of class $i$ for any point in the space $\\vec{x}$ is given by\n",
        "$$\\Phi_i=\\frac{p_i}{\\sqrt{2\\pi}\\sigma}e^{-(\\frac{(\\vec{x}-\\vec{\\mu_i})^2}{2\\sigma^2})}$$\n",
        "\n",
        "In the boundary $\\Phi_0=\\Phi_1$, which leads, to, \n",
        "\n",
        "$$2\\sigma^2\\log(p_0/p_1)=(\\vec{x}-\\vec{\\mu_0})^2-(\\vec{x}-\\vec{\\mu_1})^2$$\n",
        "\n",
        "But, \n",
        "\n",
        "$$(\\vec{x}-\\vec{\\mu_0})^2-(\\vec{x}-\\vec{\\mu_1})^2= (\\vec{\\mu_1}-\\vec{\\mu_0})\\cdot(2\\vec{x}-(\\vec{\\mu_1}+\\vec{\\mu_0}))$$\n",
        "\n",
        "Hence, \n",
        "\n",
        "$$2\\sigma^2\\log(p_0/p_1)= (\\vec{\\mu_1}-\\vec{\\mu_0})\\cdot(2\\vec{x}-(\\vec{\\mu_1}+\\vec{\\mu_0}))$$\n",
        "\n",
        "From the last equation the equation of the line follows.\n",
        "\n",
        "In our data the equation is, \n",
        "\n",
        "$$32.64x+5.17y=4798$$"
      ]
    },
    {
      "cell_type": "code",
      "metadata": {
        "id": "2tj0HKPE3I8M",
        "colab_type": "code",
        "colab": {}
      },
      "source": [
        "# Create the function of the line between the boundaries\n",
        "\n",
        "def boundary_line(mu_p, sigma_p, pi_p): \n",
        "  a = mu_p[1,0]-mu_p[0,0]\n",
        "  b = mu_p[1,1]-mu_p[0,1]\n",
        "  c = sigma_p*np.log(pi_p[0]/pi_p[1])+0.5*np.dot(mu_p[1,:]-mu_p[0,:],mu_p[1,:]+mu_p[0,:])\n",
        "\n",
        "  return a, b, c"
      ],
      "execution_count": 0,
      "outputs": []
    },
    {
      "cell_type": "code",
      "metadata": {
        "id": "_p4r6aIH3i64",
        "colab_type": "code",
        "colab": {}
      },
      "source": [
        "def plot_test2(f1, f2, sigma, model_p = 'model MLE'):\n",
        "    \n",
        "    features = [f1, f2]\n",
        "    # select the test data set with the two features\n",
        "    x = testx[:,features]\n",
        "    y = testy\n",
        "    # find the mu and pi with the training data set\n",
        "    mu, covar, pi = fit_generative_model_MLE(trainx, trainy, f1, f2)\n",
        "    # Determine the x1- and x2- limits of the plot\n",
        "    x1min = min(x[:,0]) - 10\n",
        "    x1max = max(x[:,0]) + 10\n",
        "    x2min = min(x[:,1]) - 10\n",
        "    x2max = max(x[:,1]) + 10\n",
        "    plt.xlim(x1min,x1max)\n",
        "    plt.ylim(x2min,x2max)\n",
        "    # Plot the data points\n",
        "    plt.plot(x[(y==1),0], x[(y==1),1], 'ro')\n",
        "    plt.plot(x[(y==0),0], x[(y==0),1], 'k^')\n",
        "    # Construct a grid of points at which to evaluate the classifier\n",
        "    grid_spacing = 0.5\n",
        "    xx1, xx2 = np.meshgrid(np.arange(x1min, x1max, grid_spacing), np.arange(x2min, x2max, grid_spacing))\n",
        "    grid = np.c_[xx1.ravel(), xx2.ravel()]\n",
        "    Z = np.array([evaluate_classifier(mu, sigma, pi, x, model_p) for x in grid])\n",
        "    # Show the classifier's boundary using a color plot\n",
        "    Z = Z.reshape(xx1.shape)\n",
        "    plt.pcolormesh(xx1, xx2, Z, cmap=plt.cm.PRGn, vmin=-3, vmax=3)\n",
        "    pl.xlabel(featurenames[f1])\n",
        "    pl.ylabel(featurenames[f2])\n",
        "    if (model_p == 'model MLE'):\n",
        "      pl.title('Decision boundaries applied on test data with the decision line(blue) Model MLE')\n",
        "    elif (model_p == 'model risk'):\n",
        "      pl.title('Decision boundaries for the (1,2) risk model: diabetes in green, blue(line of assuming same risk (1,1) for each class)')\n",
        "    #plt.show()\n",
        "\n",
        "    return mu, pi, pl, x2min, x2max"
      ],
      "execution_count": 0,
      "outputs": []
    },
    {
      "cell_type": "code",
      "metadata": {
        "id": "ODg3Mj6g3pou",
        "colab_type": "code",
        "colab": {}
      },
      "source": [
        "def plot_line(f1, f2, sigma_p, model_p = 'model MLE'):\n",
        "  \n",
        "  mu, pi, bound_plot, x2min, x2max = plot_test2(f1, f2, sigma_p,  model_p)\n",
        "  a, b, c = boundary_line(mu, sigma_p, pi)\n",
        "\n",
        "  y = np.linspace(x2min, x2max, num = 50)\n",
        "  x = (-b/a)*y+(c/a)\n",
        "  bound_plot.plot(x,y,linewidth=3.0)\n",
        "  bound_plot.show()"
      ],
      "execution_count": 0,
      "outputs": []
    },
    {
      "cell_type": "code",
      "metadata": {
        "id": "B_F6f1UO3tqD",
        "colab_type": "code",
        "outputId": "8d938284-00e3-4875-ae6a-ada749ed6ea9",
        "colab": {
          "base_uri": "https://localhost:8080/",
          "height": 295
        }
      },
      "source": [
        "plot_line(1, 5, 853.511689)"
      ],
      "execution_count": 0,
      "outputs": [
        {
          "output_type": "display_data",
          "data": {
            "image/png": "[encoded data removed]",
            "text/plain": [
              "<Figure size 432x288 with 1 Axes>"
            ]
          },
          "metadata": {
            "tags": [],
            "needs_background": "light"
          }
        }
      ]
    },
    {
      "cell_type": "code",
      "metadata": {
        "id": "H2WVXktLmnl8",
        "colab_type": "code",
        "outputId": "2f367f56-f487-4afe-9122-ab34d52b604a",
        "colab": {
          "base_uri": "https://localhost:8080/",
          "height": 34
        }
      },
      "source": [
        "mu_line, _ , pi_line = fit_generative_model_MLE(trainx, trainy, 1, 5)\n",
        "boundary_line(mu_line, 853.511689, pi_line )\n"
      ],
      "execution_count": 0,
      "outputs": [
        {
          "output_type": "execute_result",
          "data": {
            "text/plain": [
              "(32.64967562557925, 5.171885343572086, 4798.128208125643)"
            ]
          },
          "metadata": {
            "tags": []
          },
          "execution_count": 44
        }
      ]
    },
    {
      "cell_type": "markdown",
      "metadata": {
        "id": "vv6uB9AFoa9v",
        "colab_type": "text"
      },
      "source": [
        "Hence the line is, \n",
        "\n",
        "$$32.64x+5.17y=4798$$"
      ]
    },
    {
      "cell_type": "markdown",
      "metadata": {
        "id": "b1gdMRDtrRh3",
        "colab_type": "text"
      },
      "source": [
        "## Problem 4(a)\n",
        "\n",
        "Repeat the previous question, but this time build a model that minimizes the risk. In this case consider that the cost of a false negative is 2, the cost of a false positive is 1 and the cost of a correct classification is 0. Compare with previous model. Discuss"
      ]
    },
    {
      "cell_type": "markdown",
      "metadata": {
        "id": "tJ6VBaS4rkZM",
        "colab_type": "text"
      },
      "source": [
        "The expected risk for taking action $\\alpha_i$ is\n",
        "$$ R(\\alpha_i | x) = \\sum_{k=1}^{K} {\\lambda_{ik} P(C_k |x)}$$\n",
        "and we choose the action with minimum risk. \n",
        "\n",
        "choose $\\alpha_i$ if $ R(\\alpha_i|x) = min_{k}{R(\\alpha_k|x)}$\n",
        "\n",
        "define risk assignment\n",
        "\n",
        "$$\\lambda_{ik} = \\begin{cases}{0 \\; \\text{if} \\, i == k\\\\ 2 \\; \\text{if} \\, i = 0\\, \\text{and}\\, k=1\\\\ 1  \\; \\text{if} \\, i = 1\\, \\text{and}\\, k=0}\\end{cases} $$\n",
        "\n",
        "$\\lambda_{ik}$ as the loss incurring for taking action $\\alpha_i$ when the input actually belongs to $C_k$ "
      ]
    },
    {
      "cell_type": "markdown",
      "metadata": {
        "id": "KMAZsUeQrsPg",
        "colab_type": "text"
      },
      "source": [
        "$$R(\\alpha_i|x)\\,=\\,(\\lambda_{i0}\\,P(C_0|x))\\,+\\,(\\lambda_{i1}\\,P(C_1|x))$$\n",
        "\n",
        "(1)\n",
        "$$R(\\alpha_0|x)\\,=\\,(\\lambda_{00}\\,P(C_0|x))\\,+\\,(\\lambda_{01}\\,P(C_1|x))$$\n",
        "\n",
        "$$R(\\alpha_1|x)\\,=\\,(\\lambda_{10}\\,P(C_0|x))\\,+\\,(\\lambda_{11}\\,P(C_1|x))$$\n",
        "\n",
        "(2)\n",
        "$$R(\\alpha_0|x)\\,=\\,(\\lambda_{01}\\,P(C_1|x))$$\n",
        "\n",
        "$$R(\\alpha_1|x)\\,=\\,(\\lambda_{10}\\,P(C_0|x))$$\n",
        "\n",
        "\n",
        "(3)\n",
        "$$R(\\alpha_0|x)\\,=\\,2\\,P(C_1|x)$$\n",
        "\n",
        "$$R(\\alpha_1|x)\\,=\\,P(C_0|x)$$"
      ]
    },
    {
      "cell_type": "markdown",
      "metadata": {
        "id": "26fBh43Tr3b_",
        "colab_type": "text"
      },
      "source": [
        "Given the equation 3, we proceed to find the $\\sigma$ which minimizes the risk. \n",
        "\n",
        "To classify class 0, we would need that, $R(\\alpha_0|x) < R(\\alpha_1|x)$, that is $2P(C_1|x) < P(C_0|x)$, which is $-P(C_0|x) < -2P(C_1|x))$, and multiplying by $(-1)$ we get that, \n",
        "\n",
        "$$P(C_0|x) > 2P(C_1|x))$$\n",
        "\n",
        "And to classify as class 1, \n",
        "\n",
        "$$P(C_0|x) < 2P(C_1|x))$$\n",
        "\n",
        "\n",
        "Hence we can say that the risk minimization can be turned to the usual maximization where the data with diabetes have double probability, meaning we have to make sure that a person with mild syntoms of diabetes is classified with diabetes.\n",
        "\n",
        "Hence we can write a density function similar as in problem 3 but doubling the probability of the points with diabetes,\n",
        "\n",
        "The maximum likelihood is given by, \n",
        "$$\\Phi_T=p_0^n2^mp_1^{m}\\frac{1}{(\\sqrt{2\\pi}\\sigma)^{(n+m)}}\\prod\\exp{\\frac{-(\\vec{x_{0i}}-\\vec{\\mu_0})^2}{2\\sigma}}\\prod\\exp{\\frac{-(\\vec{x_{1i}}-\\vec{\\mu_1})^2}{2\\sigma}}$$\n",
        "\n",
        "Where, $\\vec{x_{0i}}$ correspond to the points of class 0, $\\vec{\\mu_0}$ correspond to the mean parameter of class 0, $p_0$ the prior of class 0, and $n$ are the number of elements of class 0, $m$ of class 1, and the same for class 1.\n",
        "\n",
        "By estimating the $\\log(\\Phi_T)$, the partial derivatives of the log likelihood and equating them to zero, one finds that,\n",
        "\n",
        "$$\\vec{\\mu_0}=\\frac{\\sum\\vec{x_{0i}}}{n}$$\n",
        "$$\\vec{\\mu_1}=\\frac{\\sum\\vec{x_{1i}}}{m}$$\n",
        "$$\\sigma=\\frac{\\sum(\\vec{x_{0i}}-\\vec{\\mu_0})^2+\\sum(\\vec{x_{1i}}-\\vec{\\mu_1})^2}{m+n}$$\n",
        "\n",
        "The $\\sigma$ can be written in terms of $\\sigma_{ij}$, where $\\sigma_{ij}$ is the variance of the feature j in class i, and the priors $p_i$, \n",
        "\n",
        "Hence, \n",
        "\n",
        "$$\\sigma= p_0(\\sigma_{00}+\\sigma_{01})+p_1(\\sigma_{10}+\\sigma_{11})$$\n",
        "\n",
        "In conclusion , $\\sigma$ is some sort of weighted average (center of mass), and we have the same parameters as in problem 2, that is because even though the probability duplicates the variance stays the same for class 1. \n",
        "\n",
        "Hence ,  $\\vec{\\mu_1}$,  $\\vec{\\mu_2}$ are the actual averages, and $\\sigma = 853.5116$ as in problem 2."
      ]
    },
    {
      "cell_type": "markdown",
      "metadata": {
        "id": "72Wcp8lcsUSJ",
        "colab_type": "text"
      },
      "source": [
        "We calculate MLE for all features on dataset"
      ]
    },
    {
      "cell_type": "code",
      "metadata": {
        "id": "UZrzxtMhsWmu",
        "colab_type": "code",
        "colab": {}
      },
      "source": [
        "estimators = {}\n",
        "for f in features:\n",
        "  df_tmp = pd.concat([data_train[f], target_train], axis=1, join='inner')\n",
        "  classes = df_tmp['Outcome'].unique()\n",
        "  estimators[f] = {}\n",
        "  for c in classes:        \n",
        "    df_tmp[f][df_tmp['Outcome'] == c]\n",
        "    estimators[f][f'mean_{c}'] = df_tmp[f][df_tmp['Outcome'] == c].mean()\n",
        "    estimators[f][f'var_{c}'] = df_tmp[f][df_tmp['Outcome'] == c].var()\n",
        "\n",
        "df_estimators = pd.DataFrame.from_dict(estimators, orient='index')"
      ],
      "execution_count": 0,
      "outputs": []
    },
    {
      "cell_type": "code",
      "metadata": {
        "id": "YoHHhJCoscOL",
        "colab_type": "code",
        "outputId": "7ea93c40-f13c-49c2-9007-b975b31a949f",
        "colab": {
          "base_uri": "https://localhost:8080/",
          "height": 297
        }
      },
      "source": [
        "df_estimators"
      ],
      "execution_count": 0,
      "outputs": [
        {
          "output_type": "execute_result",
          "data": {
            "text/html": [
              "<div>\n",
              "<style scoped>\n",
              "    .dataframe tbody tr th:only-of-type {\n",
              "        vertical-align: middle;\n",
              "    }\n",
              "\n",
              "    .dataframe tbody tr th {\n",
              "        vertical-align: top;\n",
              "    }\n",
              "\n",
              "    .dataframe thead th {\n",
              "        text-align: right;\n",
              "    }\n",
              "</style>\n",
              "<table border=\"1\" class=\"dataframe\">\n",
              "  <thead>\n",
              "    <tr style=\"text-align: right;\">\n",
              "      <th></th>\n",
              "      <th>mean_0</th>\n",
              "      <th>var_0</th>\n",
              "      <th>mean_1</th>\n",
              "      <th>var_1</th>\n",
              "    </tr>\n",
              "  </thead>\n",
              "  <tbody>\n",
              "    <tr>\n",
              "      <th>Pregnancies</th>\n",
              "      <td>3.304217</td>\n",
              "      <td>9.009892</td>\n",
              "      <td>4.653846</td>\n",
              "      <td>12.780068</td>\n",
              "    </tr>\n",
              "    <tr>\n",
              "      <th>Glucose</th>\n",
              "      <td>109.734940</td>\n",
              "      <td>636.841918</td>\n",
              "      <td>142.384615</td>\n",
              "      <td>1110.713132</td>\n",
              "    </tr>\n",
              "    <tr>\n",
              "      <th>BloodPressure</th>\n",
              "      <td>68.382530</td>\n",
              "      <td>314.520902</td>\n",
              "      <td>72.906593</td>\n",
              "      <td>330.726034</td>\n",
              "    </tr>\n",
              "    <tr>\n",
              "      <th>SkinThickness</th>\n",
              "      <td>19.822289</td>\n",
              "      <td>213.246269</td>\n",
              "      <td>21.807692</td>\n",
              "      <td>288.531874</td>\n",
              "    </tr>\n",
              "    <tr>\n",
              "      <th>Insulin</th>\n",
              "      <td>67.213855</td>\n",
              "      <td>8960.706394</td>\n",
              "      <td>101.170330</td>\n",
              "      <td>20767.457015</td>\n",
              "    </tr>\n",
              "    <tr>\n",
              "      <th>BMI</th>\n",
              "      <td>30.138554</td>\n",
              "      <td>52.379778</td>\n",
              "      <td>35.310440</td>\n",
              "      <td>52.671548</td>\n",
              "    </tr>\n",
              "    <tr>\n",
              "      <th>DiabetesPedigreeFunction</th>\n",
              "      <td>0.434973</td>\n",
              "      <td>0.096720</td>\n",
              "      <td>0.542621</td>\n",
              "      <td>0.147084</td>\n",
              "    </tr>\n",
              "    <tr>\n",
              "      <th>Age</th>\n",
              "      <td>30.743976</td>\n",
              "      <td>128.710689</td>\n",
              "      <td>37.653846</td>\n",
              "      <td>123.652996</td>\n",
              "    </tr>\n",
              "  </tbody>\n",
              "</table>\n",
              "</div>"
            ],
            "text/plain": [
              "                              mean_0        var_0      mean_1         var_1\n",
              "Pregnancies                 3.304217     9.009892    4.653846     12.780068\n",
              "Glucose                   109.734940   636.841918  142.384615   1110.713132\n",
              "BloodPressure              68.382530   314.520902   72.906593    330.726034\n",
              "SkinThickness              19.822289   213.246269   21.807692    288.531874\n",
              "Insulin                    67.213855  8960.706394  101.170330  20767.457015\n",
              "BMI                        30.138554    52.379778   35.310440     52.671548\n",
              "DiabetesPedigreeFunction    0.434973     0.096720    0.542621      0.147084\n",
              "Age                        30.743976   128.710689   37.653846    123.652996"
            ]
          },
          "metadata": {
            "tags": []
          },
          "execution_count": 46
        }
      ]
    },
    {
      "cell_type": "markdown",
      "metadata": {
        "id": "W4SbkmNssrIJ",
        "colab_type": "text"
      },
      "source": [
        "Select **Glucose** and **BMI**"
      ]
    },
    {
      "cell_type": "code",
      "metadata": {
        "id": "W7kuC99Wsyd-",
        "colab_type": "code",
        "colab": {}
      },
      "source": [
        "glucose = df_estimators.loc['Glucose', :]\n",
        "bmi = df_estimators.loc['BMI', :]"
      ],
      "execution_count": 0,
      "outputs": []
    },
    {
      "cell_type": "markdown",
      "metadata": {
        "id": "d5dlrAzrs9Hi",
        "colab_type": "text"
      },
      "source": [
        "Build a vector of estimated means $\\vec{\\mu_1}$ y  $\\vec{\\mu_2}$"
      ]
    },
    {
      "cell_type": "code",
      "metadata": {
        "id": "BvpAFw-zs_Hs",
        "colab_type": "code",
        "colab": {}
      },
      "source": [
        "mean_0 = np.array([glucose['mean_0'], bmi['mean_0']])\n",
        "mean_1 = np.array([glucose['mean_1'], bmi['mean_1']])"
      ],
      "execution_count": 0,
      "outputs": []
    },
    {
      "cell_type": "markdown",
      "metadata": {
        "id": "pkYSp3yOtPpq",
        "colab_type": "text"
      },
      "source": [
        "Build a vector of apriori likelihood $\\vec{p}$ and $\\sigma$ estimators"
      ]
    },
    {
      "cell_type": "code",
      "metadata": {
        "id": "XTrbzNtwtRUm",
        "colab_type": "code",
        "colab": {}
      },
      "source": [
        "p = np.array([len(target_train[target_train == c])/len(target_train) for c in target_train.unique()])"
      ],
      "execution_count": 0,
      "outputs": []
    },
    {
      "cell_type": "code",
      "metadata": {
        "id": "sp5ylYqatbCR",
        "colab_type": "code",
        "outputId": "531f9f66-a741-4698-c5b1-8580bc1de245",
        "colab": {
          "base_uri": "https://localhost:8080/",
          "height": 34
        }
      },
      "source": [
        "p"
      ],
      "execution_count": 0,
      "outputs": [
        {
          "output_type": "execute_result",
          "data": {
            "text/plain": [
              "array([0.6459144, 0.3540856])"
            ]
          },
          "metadata": {
            "tags": []
          },
          "execution_count": 50
        }
      ]
    },
    {
      "cell_type": "code",
      "metadata": {
        "id": "qzLjj3BYtcZv",
        "colab_type": "code",
        "outputId": "585dea7d-c287-41d3-d156-54c6a99dfe0b",
        "colab": {
          "base_uri": "https://localhost:8080/",
          "height": 34
        }
      },
      "source": [
        "sigma_4 = 853.511689\n",
        "sigma_4"
      ],
      "execution_count": 0,
      "outputs": [
        {
          "output_type": "execute_result",
          "data": {
            "text/plain": [
              "853.511689"
            ]
          },
          "metadata": {
            "tags": []
          },
          "execution_count": 51
        }
      ]
    },
    {
      "cell_type": "markdown",
      "metadata": {
        "id": "kvryvujvlLXS",
        "colab_type": "text"
      },
      "source": [
        "Hence,\n",
        "\n",
        "$$\\sigma = 853.5116$$"
      ]
    },
    {
      "cell_type": "markdown",
      "metadata": {
        "id": "7AY8_puxtxTY",
        "colab_type": "text"
      },
      "source": [
        "Calculate the values of likelihood in distributions for data validation subset "
      ]
    },
    {
      "cell_type": "code",
      "metadata": {
        "id": "7Jrp5IdltyoA",
        "colab_type": "code",
        "colab": {}
      },
      "source": [
        "c_0 = np.array(multivariate_normal.pdf(data_validation[['Glucose','BMI']], mean=mean_0, cov=np.sum(sigma_4),allow_singular=True)*p[0])\n",
        "c_1 = np.array(multivariate_normal.pdf(data_validation[['Glucose','BMI']], mean=mean_1, cov=np.sum(sigma_4),allow_singular=True)*p[1])"
      ],
      "execution_count": 0,
      "outputs": []
    },
    {
      "cell_type": "markdown",
      "metadata": {
        "id": "jr5EKPXht88S",
        "colab_type": "text"
      },
      "source": [
        "Build a dataframe with values of features, calculated likelihood and Outcome"
      ]
    },
    {
      "cell_type": "code",
      "metadata": {
        "id": "UmxVvthkuGzG",
        "colab_type": "code",
        "colab": {}
      },
      "source": [
        "t = pd.concat([data_validation[['Glucose', 'BMI']], target_validation], axis=1, join='inner')\n",
        "t['c_0'] = c_0\n",
        "t['c_1'] = c_1"
      ],
      "execution_count": 0,
      "outputs": []
    },
    {
      "cell_type": "markdown",
      "metadata": {
        "id": "lG7yAgu0uNT2",
        "colab_type": "text"
      },
      "source": [
        "Add column of predicted label, based on functions showed in eq (3). Where the selected label criteria is based on selecting the value with the lowest risk"
      ]
    },
    {
      "cell_type": "code",
      "metadata": {
        "id": "o60OgyxJuXIl",
        "colab_type": "code",
        "colab": {}
      },
      "source": [
        "predicted = []\n",
        "scores_risk = []\n",
        "for i in range(len(c_0)):\n",
        "  scores = [2 * c_1[i], c_0[i]]\n",
        "  #scores = [c_1[i], c_0[i]]\n",
        "  scores_risk.append(scores)\n",
        "  predicted.append(np.argmin(scores))\n",
        "t['predicted'] = predicted"
      ],
      "execution_count": 0,
      "outputs": []
    },
    {
      "cell_type": "code",
      "metadata": {
        "id": "wMJvf7PYum2m",
        "colab_type": "code",
        "outputId": "b0bb60e2-33a8-46fa-cc28-7a7026e39bfc",
        "colab": {
          "base_uri": "https://localhost:8080/",
          "height": 204
        }
      },
      "source": [
        "t.head()"
      ],
      "execution_count": 0,
      "outputs": [
        {
          "output_type": "execute_result",
          "data": {
            "text/html": [
              "<div>\n",
              "<style scoped>\n",
              "    .dataframe tbody tr th:only-of-type {\n",
              "        vertical-align: middle;\n",
              "    }\n",
              "\n",
              "    .dataframe tbody tr th {\n",
              "        vertical-align: top;\n",
              "    }\n",
              "\n",
              "    .dataframe thead th {\n",
              "        text-align: right;\n",
              "    }\n",
              "</style>\n",
              "<table border=\"1\" class=\"dataframe\">\n",
              "  <thead>\n",
              "    <tr style=\"text-align: right;\">\n",
              "      <th></th>\n",
              "      <th>Glucose</th>\n",
              "      <th>BMI</th>\n",
              "      <th>Outcome</th>\n",
              "      <th>c_0</th>\n",
              "      <th>c_1</th>\n",
              "      <th>predicted</th>\n",
              "    </tr>\n",
              "  </thead>\n",
              "  <tbody>\n",
              "    <tr>\n",
              "      <th>668</th>\n",
              "      <td>98</td>\n",
              "      <td>34.0</td>\n",
              "      <td>0</td>\n",
              "      <td>0.000110</td>\n",
              "      <td>0.000021</td>\n",
              "      <td>0</td>\n",
              "    </tr>\n",
              "    <tr>\n",
              "      <th>324</th>\n",
              "      <td>112</td>\n",
              "      <td>35.7</td>\n",
              "      <td>0</td>\n",
              "      <td>0.000118</td>\n",
              "      <td>0.000038</td>\n",
              "      <td>0</td>\n",
              "    </tr>\n",
              "    <tr>\n",
              "      <th>624</th>\n",
              "      <td>108</td>\n",
              "      <td>30.8</td>\n",
              "      <td>0</td>\n",
              "      <td>0.000120</td>\n",
              "      <td>0.000033</td>\n",
              "      <td>0</td>\n",
              "    </tr>\n",
              "    <tr>\n",
              "      <th>690</th>\n",
              "      <td>107</td>\n",
              "      <td>24.6</td>\n",
              "      <td>0</td>\n",
              "      <td>0.000118</td>\n",
              "      <td>0.000030</td>\n",
              "      <td>0</td>\n",
              "    </tr>\n",
              "    <tr>\n",
              "      <th>473</th>\n",
              "      <td>136</td>\n",
              "      <td>29.9</td>\n",
              "      <td>0</td>\n",
              "      <td>0.000080</td>\n",
              "      <td>0.000063</td>\n",
              "      <td>1</td>\n",
              "    </tr>\n",
              "  </tbody>\n",
              "</table>\n",
              "</div>"
            ],
            "text/plain": [
              "     Glucose   BMI  Outcome       c_0       c_1  predicted\n",
              "668       98  34.0        0  0.000110  0.000021          0\n",
              "324      112  35.7        0  0.000118  0.000038          0\n",
              "624      108  30.8        0  0.000120  0.000033          0\n",
              "690      107  24.6        0  0.000118  0.000030          0\n",
              "473      136  29.9        0  0.000080  0.000063          1"
            ]
          },
          "metadata": {
            "tags": []
          },
          "execution_count": 55
        }
      ]
    },
    {
      "cell_type": "markdown",
      "metadata": {
        "id": "Robm1yHtueRZ",
        "colab_type": "text"
      },
      "source": [
        "Calculate the confusion matrix values"
      ]
    },
    {
      "cell_type": "code",
      "metadata": {
        "id": "WQKw6kPDuwzN",
        "colab_type": "code",
        "colab": {}
      },
      "source": [
        "confussion = {\n",
        "    'TP': 0,\n",
        "    'FP': 0,\n",
        "    'TN': 0,\n",
        "    'FN': 0\n",
        "}\n",
        "\n",
        "for (index, row) in t.iterrows():\n",
        "  outcome = row['Outcome']\n",
        "  c = row['predicted']\n",
        "  if outcome == 1:\n",
        "    if c == 1:\n",
        "      confussion['TP'] += 1\n",
        "    else:\n",
        "      confussion['FN'] += 1\n",
        "  elif outcome == 0:\n",
        "    if c == 1:\n",
        "      confussion['FP'] += 1\n",
        "    else:\n",
        "      confussion['TN'] += 1\n",
        "\n",
        "accuracy_risk = (confussion['TP'] + confussion['TN'])/ len(target_validation)"
      ],
      "execution_count": 0,
      "outputs": []
    },
    {
      "cell_type": "code",
      "metadata": {
        "id": "BFc3qDlWuyQ8",
        "colab_type": "code",
        "outputId": "3149780e-3d6b-404e-9209-02faeb976559",
        "colab": {
          "base_uri": "https://localhost:8080/",
          "height": 34
        }
      },
      "source": [
        "confussion"
      ],
      "execution_count": 0,
      "outputs": [
        {
          "output_type": "execute_result",
          "data": {
            "text/plain": [
              "{'FN': 28, 'FP': 48, 'TN': 120, 'TP': 58}"
            ]
          },
          "metadata": {
            "tags": []
          },
          "execution_count": 57
        }
      ]
    },
    {
      "cell_type": "markdown",
      "metadata": {
        "id": "errbRmmYvA3G",
        "colab_type": "text"
      },
      "source": [
        "**Confusion Matrix for Test Validation**\n",
        "\n",
        "| | Predicted class| | |\n",
        "|---|:-:|:-:|:-:|\n",
        "|**True Class**   |Positive|Negative   |Total|\n",
        "|Positive|  58 |  28 | 86 |\n",
        "|Negative|  48 | 120  | 168 | \n",
        "|Total| 104  |  150 | 254 |\n",
        "\n",
        "\n",
        "Accuracy on validation set: $70.08\\%$"
      ]
    },
    {
      "cell_type": "code",
      "metadata": {
        "id": "M-_0_8amu_YE",
        "colab_type": "code",
        "outputId": "cea2bc13-239c-4932-d666-277058e548d6",
        "colab": {
          "base_uri": "https://localhost:8080/",
          "height": 295
        }
      },
      "source": [
        "plot_line(1, 5, sigma_4, 'model risk')"
      ],
      "execution_count": 0,
      "outputs": [
        {
          "output_type": "display_data",
          "data": {
            "image/png": "[encoded data removed]",
            "text/plain": [
              "<Figure size 432x288 with 1 Axes>"
            ]
          },
          "metadata": {
            "tags": [],
            "needs_background": "light"
          }
        }
      ]
    },
    {
      "cell_type": "markdown",
      "metadata": {
        "id": "idsUQwaVvQdN",
        "colab_type": "text"
      },
      "source": [
        "### Conclusion\n",
        "\n",
        "For this problem we obtained,\n",
        "\n",
        "*   $\\sigma=853.5116$\n",
        "*   Accuracy on test data 70.08%\n",
        "*   $\\vec{\\mu_1}$, $\\vec{\\mu_2}$ are the actual averages\n",
        "\n",
        "In comparison with problem 2, this model has less accuracy because of the risk actions. In this model there are more false positive(as shown in the boundary plot) in comparison with problem 1 and 2(Blue boundary decision of model of problem 2)because there is a cost 2 of not having diabetes."
      ]
    },
    {
      "cell_type": "markdown",
      "metadata": {
        "id": "USTDWh5TvdeE",
        "colab_type": "text"
      },
      "source": [
        "## Problem 4(b) \n",
        "\n",
        "Calculate the ROC curve for this model and compare with the ROC curves from question 2. Discuss."
      ]
    },
    {
      "cell_type": "code",
      "metadata": {
        "id": "2XJyMPE9voeJ",
        "colab_type": "code",
        "colab": {}
      },
      "source": [
        "nt_risk = len(target_validation)\n",
        "score_risk = np.array(scores_risk)"
      ],
      "execution_count": 0,
      "outputs": []
    },
    {
      "cell_type": "code",
      "metadata": {
        "id": "3rCzP8HBv4j3",
        "colab_type": "code",
        "colab": {}
      },
      "source": [
        "score_p_risk = score_risk/score_risk.sum(axis=1).reshape((nt_risk,1))"
      ],
      "execution_count": 0,
      "outputs": []
    },
    {
      "cell_type": "code",
      "metadata": {
        "id": "PElsBr8PwEou",
        "colab_type": "code",
        "outputId": "aa364516-79c4-41fe-9d78-e3b70ede48e2",
        "colab": {
          "base_uri": "https://localhost:8080/",
          "height": 295
        }
      },
      "source": [
        "roc_estimation(testy, score_p_risk[:,0], title_roc='ROC curve: Model that minimizes the risk')"
      ],
      "execution_count": 0,
      "outputs": [
        {
          "output_type": "display_data",
          "data": {
            "image/png": "[encoded data removed]",
            "text/plain": [
              "<Figure size 432x288 with 1 Axes>"
            ]
          },
          "metadata": {
            "tags": [],
            "needs_background": "light"
          }
        }
      ]
    },
    {
      "cell_type": "markdown",
      "metadata": {
        "id": "dXFfyyWb0yx8",
        "colab_type": "text"
      },
      "source": [
        "### **Discuss**\n",
        "\n",
        "The ROC curve of problem 2 and problem 4 are the same because the risk model is a (1,2) cost threadshold, and the model of problem two is equivalent to a (1,1) risk model, and the ROC curve plots the FPR and TPR for all posibilities of costs. \n",
        "\n",
        "\n",
        "With respect to the ROC curve of the univariate model, we see that the model based on minimizing risk has an improvement, since its precision measurements and the area under the curve are a little bit smaller for the univariate model."
      ]
    },
    {
      "cell_type": "markdown",
      "metadata": {
        "id": "ZDGrLV-VCU3D",
        "colab_type": "text"
      },
      "source": [
        "## Problema 5(a)\n",
        "\n",
        "Using the best combination of parameters found in question 2 build a bivariate classifier,\n",
        "but this time the covariance matrix could be an arbitrary matrix (not diagonal) and\n",
        "different for each class."
      ]
    },
    {
      "cell_type": "code",
      "metadata": {
        "id": "ejCDCbZACdvU",
        "colab_type": "code",
        "colab": {}
      },
      "source": [
        "# Find the mean and the covariance of two features. \n",
        "def fit_gaussian(x, feature1, feature2):\n",
        "    features = [feature1, feature2]\n",
        "    mu = np.mean(x[:,features], axis=0)\n",
        "    covar = np.cov(x[:,features], rowvar=0, bias=1)\n",
        "    return mu, covar"
      ],
      "execution_count": 0,
      "outputs": []
    },
    {
      "cell_type": "code",
      "metadata": {
        "id": "QCTgFCKwChns",
        "colab_type": "code",
        "colab": {}
      },
      "source": [
        "# Assumes y takes on values 0,1\n",
        "def fit_gaussian_model(x, y, feature1, feature2):\n",
        "    features = [feature1, feature2]\n",
        "    k = 2 # number of classes\n",
        "    d = len(features) # number of features\n",
        "    mu = np.zeros((k,d)) # list of means\n",
        "    covar = np.zeros((k,d,d)) # list of covariance matrices\n",
        "    pi = np.zeros(k) # list of class weights\n",
        "    for label in range(k):\n",
        "        indices = (y==label)\n",
        "        mu[label,:], covar[label,:,:] = fit_gaussian(x[indices,:], feature1, feature2)\n",
        "        pi[label] = float(sum(indices))/float(len(y))\n",
        "    return mu, covar, pi"
      ],
      "execution_count": 0,
      "outputs": []
    },
    {
      "cell_type": "code",
      "metadata": {
        "id": "uMcsj5NACm2Y",
        "colab_type": "code",
        "outputId": "7a096fcb-deb3-48ec-c9cd-2cb22d35d98a",
        "colab": {
          "base_uri": "https://localhost:8080/",
          "height": 170
        }
      },
      "source": [
        "mu_trained, covar_trained, pi_trained = fit_gaussian_model(trainx, trainy, 1, 5)\n",
        "\n",
        "print('The optimized mean is:')\n",
        "print(mu_trained)\n",
        "print('The optimized covariance matrix for class 0 is:')\n",
        "print(covar_trained[0,:,:])\n",
        "print('The optimized covariance matrix for class 1 is:')\n",
        "print(covar_trained[1,:,:])"
      ],
      "execution_count": 0,
      "outputs": [
        {
          "output_type": "stream",
          "text": [
            "The optimized mean is:\n",
            "[[109.73493976  30.13855422]\n",
            " [142.38461538  35.31043956]]\n",
            "The optimized covariance matrix for class 0 is:\n",
            "[[634.92371897  12.95509871]\n",
            " [ 12.95509871  52.22200755]]\n",
            "The optimized covariance matrix for class 1 is:\n",
            "[[1104.61031276    5.87895182]\n",
            " [   5.87895182   52.38214376]]\n"
          ],
          "name": "stdout"
        }
      ]
    },
    {
      "cell_type": "code",
      "metadata": {
        "id": "IaUH-XnICuQW",
        "colab_type": "code",
        "colab": {}
      },
      "source": [
        "def test_gaussian_model(f1, f2):\n",
        "    if f1 == f2: # need f1 != f2\n",
        "        print(\"Please choose different features for f1 and f2.\")\n",
        "        return  \n",
        "    features= [f1,f2]\n",
        "    mu, covar_0, pi = fit_gaussian_model(trainx, trainy, f1, f2)\n",
        "\n",
        "    errors_0 = len(testy) + 1\n",
        "    k = 2 # Labels 1,2,...,k\n",
        "    nt = len(testy) # Number of train points\n",
        "    score = np.zeros((nt,k))\n",
        "    for i in range(0,nt):\n",
        "        for label in range(k):\n",
        "            score[i,label] = np.log(pi[label]) + \\\n",
        "            multivariate_normal.logpdf(testx[i,features], mean=mu[label,:], cov=covar_0[label,:,:], allow_singular=True)\n",
        "    predictions = np.argmax(score[:,0:2], axis=1)\n",
        "    # Finally, tally up score\n",
        "    errors = np.sum(predictions != testy)\n",
        "    if errors < errors_0:\n",
        "      errors_0 = errors\n",
        "\n",
        "    accuracy = 1-(errors_0/nt)\n",
        "    return accuracy, errors"
      ],
      "execution_count": 0,
      "outputs": []
    },
    {
      "cell_type": "code",
      "metadata": {
        "id": "yfJ77boqDFku",
        "colab_type": "code",
        "outputId": "6d74d9b4-1227-40d8-b294-e31dedef4208",
        "colab": {
          "base_uri": "https://localhost:8080/",
          "height": 34
        }
      },
      "source": [
        "test_gaussian_model(1, 5)"
      ],
      "execution_count": 0,
      "outputs": [
        {
          "output_type": "execute_result",
          "data": {
            "text/plain": [
              "(0.7519685039370079, 63)"
            ]
          },
          "metadata": {
            "tags": []
          },
          "execution_count": 66
        }
      ]
    },
    {
      "cell_type": "markdown",
      "metadata": {
        "id": "--LH-roNDPJU",
        "colab_type": "text"
      },
      "source": [
        "Hence the results for the bivariate normal distribution (arbitrary covariance matrices and different for each class) are:\n",
        "\n",
        "\n",
        "\n",
        "*   Accuracy on test data set = 75.19% \n",
        "*   $\\mu = \\begin{bmatrix} \\mu_{\\text{glucose_0}} & \\mu_{\\text{bmi_0}} \\\\ \\mu_{\\text{glucose_1}} & \\mu_{\\text{bmi_1}} \\end{bmatrix} = \\begin{bmatrix} 109.73493976 &  30.13855422 \\\\ 142.38461538 &  35.31043956 \\end{bmatrix} $\n",
        "*   $\\sigma_0 = \\begin{bmatrix} 634.92371897 &  12.95509871 \\\\ 12.95509871 &  52.22200755 \\end{bmatrix} $\n",
        "*   $\\sigma_1 = \\begin{bmatrix} 1104.61031276  &  5.87895182 \\\\ 5.87895182 &  52.38214376 \\end{bmatrix} $\n",
        "*   $\\vec{p}= (0.6459144, 0.3540856)$"
      ]
    },
    {
      "cell_type": "markdown",
      "metadata": {
        "id": "ysPBpoIyDW2n",
        "colab_type": "text"
      },
      "source": [
        "## Problema 5(b)\n",
        "\n",
        "Draw the regions corresponding to each class. Compare with the regions obtained in\n",
        "question 3. Discuss."
      ]
    },
    {
      "cell_type": "code",
      "metadata": {
        "id": "fKPUgUhgDJnP",
        "colab_type": "code",
        "colab": {}
      },
      "source": [
        "def evaluate_classifier_gaussian(mu_p, covar_p, pi_p, x_p):\n",
        "    k = 2 # number of classes\n",
        "    score = np.zeros(k)\n",
        "    for label in range(k):\n",
        "      score[label] = np.log(pi_p[label]) + \\\n",
        "              multivariate_normal.logpdf(x_p, mean=mu_p[label,:], cov=covar_p[label,:,:], allow_singular=True)\n",
        "      prediction = np.argmax(score[0:2])\n",
        "    if prediction == 0:\n",
        "      return -1\n",
        "    if prediction == 1:\n",
        "      return 1"
      ],
      "execution_count": 0,
      "outputs": []
    },
    {
      "cell_type": "code",
      "metadata": {
        "id": "YRQPr-cmDdNQ",
        "colab_type": "code",
        "colab": {}
      },
      "source": [
        "def plot_test_gaussian(f1, f2):\n",
        "    \n",
        "    features = [f1, f2]\n",
        "    # select the test data set with the two features\n",
        "    x = testx[:,features]\n",
        "    y = testy\n",
        "    # find the mu and pi with the training data set\n",
        "    mu, covar, pi = fit_gaussian_model(trainx, trainy, f1, f2)\n",
        "    # mu, covar, pi = fit_generative_model(trainx, trainy, f1, f2)\n",
        "    # Determine the x1- and x2- limits of the plot\n",
        "    x1min = min(x[:,0]) - 10\n",
        "    x1max = max(x[:,0]) + 10\n",
        "    x2min = min(x[:,1]) - 10\n",
        "    x2max = max(x[:,1]) + 10\n",
        "    plt.xlim(x1min,x1max)\n",
        "    plt.ylim(x2min,x2max)\n",
        "    # Plot the data points\n",
        "    plt.plot(x[(y==1),0], x[(y==1),1], 'ro')\n",
        "    plt.plot(x[(y==0),0], x[(y==0),1], 'k^')\n",
        "    # Construct a grid of points at which to evaluate the classifier\n",
        "    grid_spacing = 0.5\n",
        "    xx1, xx2 = np.meshgrid(np.arange(x1min, x1max, grid_spacing), np.arange(x2min, x2max, grid_spacing))\n",
        "    grid = np.c_[xx1.ravel(), xx2.ravel()]\n",
        "    Z = np.array([evaluate_classifier_gaussian(mu, covar, pi, x) for x in grid])\n",
        "    # Show the classifier's boundary using a color plot\n",
        "    Z = Z.reshape(xx1.shape)\n",
        "    plt.pcolormesh(xx1, xx2, Z, cmap=plt.cm.PRGn, vmin=-3, vmax=3)\n",
        "    pl.xlabel(featurenames[f1])\n",
        "    pl.ylabel(featurenames[f2])\n",
        "    pl.title('Gaussian boundaries applied on test data of the two features, C0 black, C1 red, green(diabetes)')\n",
        "    plt.show()"
      ],
      "execution_count": 0,
      "outputs": []
    },
    {
      "cell_type": "code",
      "metadata": {
        "id": "mki1o_hJDkbz",
        "colab_type": "code",
        "outputId": "237625f0-ee85-4c45-8774-dda8471f8d15",
        "colab": {
          "base_uri": "https://localhost:8080/",
          "height": 295
        }
      },
      "source": [
        "plot_test_gaussian(1, 5)"
      ],
      "execution_count": 0,
      "outputs": [
        {
          "output_type": "display_data",
          "data": {
            "image/png": "[encoded data removed]",
            "text/plain": [
              "<Figure size 432x288 with 1 Axes>"
            ]
          },
          "metadata": {
            "tags": [],
            "needs_background": "light"
          }
        }
      ]
    },
    {
      "cell_type": "markdown",
      "metadata": {
        "id": "R18RG5IwDvX6",
        "colab_type": "text"
      },
      "source": [
        "Discuss: \n",
        "\n",
        "The Model of problem 5 has 75.2% of accuracy which is greater than the model of problem 2 (72.83%) on test data, that happens because model of problem 5 is more flexible. Moreover, the decision boundary of the model of problem 5 is not a line as in problem 3, that is because the covariance matrices of the two classes in problem 5 are different."
      ]
    },
    {
      "cell_type": "markdown",
      "metadata": {
        "id": "Jh9hNqdpWVS2",
        "colab_type": "text"
      },
      "source": [
        "## Problem 5(c)\n",
        "\n",
        "Add the possibility of rejection to your model. Draw the three regions corresponding to\n",
        "both classes and rejection. Discuss."
      ]
    },
    {
      "cell_type": "markdown",
      "metadata": {
        "id": "CGJXXt2_XZtR",
        "colab_type": "text"
      },
      "source": [
        "We define an aditional action of reject $\\alpha_{k+1}$ with $\\alpha_i, i=1,...,K$ being the usual actions of deciding on classes $C_i, i=1,....,K$\n",
        "\n",
        "A possible loss funtcion is \n",
        "\n",
        "$$\\lambda_{ik} = \\begin{cases}{0 \\; \\text{if} \\, i = k\\\\ \\lambda \\; \\text{if} \\, i = K+1\\, \\\\ 1  \\; \\text{otherwise} }\\end{cases} $$\n",
        "\n",
        "Where $0<\\lambda < 1 $ is the loss incurred for choosing the (K+1)st  action reject. Then the risk of reject is \n",
        "$$R(\\alpha_{K+1}|x)=\\sum_{k=1}^{K}\\lambda P(C_k|x)=\\lambda$$\n",
        "\n",
        "And the risk of choosing class $C_i$ is\n",
        "\n",
        "$$R(\\alpha_{i}|x)=\\sum_{k \\neq i}^{K} P(C_k|x)= 1-P(C_i|x)$$\n",
        "\n",
        "The optimal decision rule is to\n",
        "\n",
        "* choose $C_i$ if:\n",
        "$P(C_i|x)>P(C_k|x)$ for all $k \\neq i$ and\n",
        "$P(C_i|x)>1-\\lambda$\n",
        "* reject: otherwise\n"
      ]
    },
    {
      "cell_type": "code",
      "metadata": {
        "id": "7hnW5zooXYhz",
        "colab_type": "code",
        "colab": {}
      },
      "source": [
        "def evaluate_classifier_gaussian_rejection(mu_p, covar_p, pi_p, x_p, rej_c):\n",
        "    reject=np.log(1-rej_c) #rejection \n",
        "    k = 2 # number of classes\n",
        "    score = np.zeros(k)\n",
        "    for label in range(k):\n",
        "      score[label] =  np.log(pi_p[label]) + \\\n",
        "              multivariate_normal.logpdf(x_p, mean=mu_p[label,:], cov=covar_p[label,:,:], allow_singular=True)\n",
        "      prediction = np.argmax(score[0:2])\n",
        "    if prediction == 0 and score[0]>reject:\n",
        "      return -1\n",
        "    elif prediction == 1 and score[1]>reject:\n",
        "      return 1\n",
        "    else:\n",
        "      return -2"
      ],
      "execution_count": 0,
      "outputs": []
    },
    {
      "cell_type": "code",
      "metadata": {
        "id": "by2I_X81BpyI",
        "colab_type": "code",
        "colab": {}
      },
      "source": [
        "def evaluate_rej(a,rej_c):\n",
        "    prediction = np.argmax(a)\n",
        "    reject=np.log(1-rej_c)\n",
        "    if prediction == 0 and a[0]>reject:\n",
        "      return 0\n",
        "    elif prediction == 1 and a[1]>reject:\n",
        "      return 1\n",
        "    else:\n",
        "      return 2   \n",
        "\n",
        "def test_gaussian_model_rej(f1, f2):\n",
        "    features= [f1,f2]\n",
        "    mu, covar_0, pi = fit_gaussian_model(trainx, trainy, f1, f2)\n",
        "    errors_0 = len(testy) + 1\n",
        "    k = 2 # Labels 1,2,...,k\n",
        "    nt = len(testy) # Number of train points\n",
        "    score = np.zeros((nt,k))\n",
        "    for i in range(0,nt):\n",
        "        for label in range(k):\n",
        "            score[i,label] = np.log(pi[label]) + \\\n",
        "            multivariate_normal.logpdf(testx[i,features], mean=mu[label,:], cov=covar_0[label,:,:], allow_singular=True)\n",
        " \n",
        "    predictions = np.array([evaluate_rej(x, rej_c) for x in score[:,0:2]])\n",
        "    # Finally, tally up score\n",
        "    nt_2=np.count_nonzero(predictions == 0)+np.count_nonzero(predictions == 1)\n",
        "    accerts = np.sum(predictions == testy)\n",
        "    errors=nt_2-accerts\n",
        "    rejects= np.count_nonzero(predictions == 2)\n",
        "    por_rej=rejects/nt\n",
        "    if errors < errors_0:\n",
        "      errors_0 = errors\n",
        "\n",
        "    accuracy = 1-(errors_0/nt_2)\n",
        "    return accuracy, errors, por_rej"
      ],
      "execution_count": 0,
      "outputs": []
    },
    {
      "cell_type": "code",
      "metadata": {
        "id": "LBe7i-kbfxNd",
        "colab_type": "code",
        "colab": {}
      },
      "source": [
        "def plot_test_gaussian_reject(f1, f2):\n",
        "    \n",
        "    features = [f1, f2]\n",
        "    # select the test data set with the two features\n",
        "    x = testx[:,features]\n",
        "    y = testy\n",
        "    # find the mu and pi with the training data set\n",
        "    mu, covar, pi = fit_gaussian_model(trainx, trainy, f1, f2)\n",
        "    # mu, covar, pi = fit_generative_model(trainx, trainy, f1, f2)\n",
        "    # Determine the x1- and x2- limits of the plot\n",
        "    x1min = min(x[:,0]) - 10\n",
        "    x1max = max(x[:,0]) + 10\n",
        "    x2min = min(x[:,1]) - 10\n",
        "    x2max = max(x[:,1]) + 10\n",
        "    plt.xlim(x1min,x1max)\n",
        "    plt.ylim(x2min,x2max)\n",
        "    # Plot the data points\n",
        "    plt.plot(x[(y==1),0], x[(y==1),1], 'ro')\n",
        "    plt.plot(x[(y==0),0], x[(y==0),1], 'k^')\n",
        "    # Construct a grid of points at which to evaluate the classifier\n",
        "    grid_spacing = 0.5\n",
        "    xx1, xx2 = np.meshgrid(np.arange(x1min, x1max, grid_spacing), np.arange(x2min, x2max, grid_spacing))\n",
        "    grid = np.c_[xx1.ravel(), xx2.ravel()]\n",
        "    Z = np.array([evaluate_classifier_gaussian_rejection(mu, covar, pi, x, rej_c) for x in grid])\n",
        "    # Show the classifier's boundary using a color plot\n",
        "    Z = Z.reshape(xx1.shape)\n",
        "    plt.pcolormesh(xx1, xx2, Z, cmap=plt.cm.PRGn, vmin=-3, vmax=3)\n",
        "    pl.xlabel(featurenames[f1])\n",
        "    pl.ylabel(featurenames[f2])\n",
        "    pl.title('Gaussian boundaries applied on test data of the two features, C0 black, C1 red, green(diabetes), dark violet(reject)')\n",
        "    plt.show()"
      ],
      "execution_count": 0,
      "outputs": []
    },
    {
      "cell_type": "code",
      "metadata": {
        "id": "PAAEkEraCmG8",
        "colab_type": "code",
        "outputId": "ddd170a8-70c7-4afd-8b8f-6b0fc107d14c",
        "colab": {
          "base_uri": "https://localhost:8080/",
          "height": 34
        }
      },
      "source": [
        "rej_c=0.99994\n",
        "test_gaussian_model_rej(1, 5)"
      ],
      "execution_count": 0,
      "outputs": [
        {
          "output_type": "execute_result",
          "data": {
            "text/plain": [
              "(0.7672413793103449, 54, 0.08661417322834646)"
            ]
          },
          "metadata": {
            "tags": []
          },
          "execution_count": 73
        }
      ]
    },
    {
      "cell_type": "code",
      "metadata": {
        "id": "-Apxw2Jgf5UA",
        "colab_type": "code",
        "outputId": "8033ee85-17ea-426a-effa-9c997d3fcee7",
        "colab": {
          "base_uri": "https://localhost:8080/",
          "height": 295
        }
      },
      "source": [
        "plot_test_gaussian_reject(1, 5)"
      ],
      "execution_count": 0,
      "outputs": [
        {
          "output_type": "display_data",
          "data": {
            "image/png": "[encoded data removed]",
            "text/plain": [
              "<Figure size 432x288 with 1 Axes>"
            ]
          },
          "metadata": {
            "tags": [],
            "needs_background": "light"
          }
        }
      ]
    },
    {
      "cell_type": "markdown",
      "metadata": {
        "id": "ZUhr0By4H9Yw",
        "colab_type": "text"
      },
      "source": [
        "Discuss:\n",
        "\n",
        "The Model of problem 5 with rejection has 76.7% of accuracy which is greater than the model without rejection (75.2%) on test data, that happens because model rejects data far away from centroids. Moreover, the difference is only 1.5% and the rejected cases are 8.1%, so the accuracy increase is not significant considering the cases that are rejected."
      ]
    },
    {
      "cell_type": "markdown",
      "metadata": {
        "id": "BhClfjD4iWAg",
        "colab_type": "text"
      },
      "source": [
        "## Additional\n",
        "\n",
        "This is not part of the solution of the assignment, it just shows the inicial approach (probably incorrect) of problem 4 , and problem 2 which is a model which estimates sigma based on optimizing accuracy."
      ]
    },
    {
      "cell_type": "markdown",
      "metadata": {
        "id": "o_J0_7NGi26w",
        "colab_type": "text"
      },
      "source": [
        "### Problem 4(a) Version 2\n",
        "\n",
        "Repeat the previous question, but this time build a model that minimizes the risk. In this case consider that the cost of a false negative is 2, the costo of a false positive is 1 and the cost of a correct classification is 0. Compare with previous model. Discuss"
      ]
    },
    {
      "cell_type": "markdown",
      "metadata": {
        "id": "rCqo2phijW0d",
        "colab_type": "text"
      },
      "source": [
        "The expected risk for taking action $\\alpha_i$ is\n",
        "$$ R(\\alpha_i | x) = \\sum_{k=1}^{K} {\\lambda_{ik} P(C_k |x)}$$\n",
        "and we choose the action with minimum risk. \n",
        "\n",
        "choose $\\alpha_i$ if $ R(\\alpha_i|x) = min_{k}{R(\\alpha_k|x)}$\n",
        "\n",
        "define risk assignment\n",
        "\n",
        "$$\\lambda_{ik} = \\begin{cases}{0 \\; \\text{if} \\, i == k\\\\ 2 \\; \\text{if} \\, i = 0\\, \\text{and}\\, k=1\\\\ 1  \\; \\text{if} \\, i = 1\\, \\text{and}\\, k=0}\\end{cases} $$\n",
        "\n",
        "$\\lambda_{ik}$ as the loss incurring for taking action $\\alpha_i$ when the input actually belongs to $C_k$ \n",
        "\n"
      ]
    },
    {
      "cell_type": "markdown",
      "metadata": {
        "id": "dn3hFLIpq6wx",
        "colab_type": "text"
      },
      "source": [
        "$$R(\\alpha_i|x)\\,=\\,(\\lambda_{i0}\\,P(C_0|x))\\,+\\,(\\lambda_{i1}\\,P(C_1|x))$$\n",
        "\n",
        "(1)\n",
        "$$R(\\alpha_0|x)\\,=\\,(\\lambda_{00}\\,P(C_0|x))\\,+\\,(\\lambda_{01}\\,P(C_1|x))$$\n",
        "\n",
        "$$R(\\alpha_1|x)\\,=\\,(\\lambda_{10}\\,P(C_0|x))\\,+\\,(\\lambda_{11}\\,P(C_1|x))$$\n",
        "\n",
        "(2)\n",
        "$$R(\\alpha_0|x)\\,=\\,(\\lambda_{01}\\,P(C_1|x))$$\n",
        "\n",
        "$$R(\\alpha_1|x)\\,=\\,(\\lambda_{10}\\,P(C_0|x))$$\n",
        "\n",
        "\n",
        "(3)\n",
        "$$R(\\alpha_0|x)\\,=\\,2\\,P(C_1|x)$$\n",
        "\n",
        "$$R(\\alpha_1|x)\\,=\\,P(C_0|x)$$\n"
      ]
    },
    {
      "cell_type": "markdown",
      "metadata": {
        "id": "aBzqi3V1D8ub",
        "colab_type": "text"
      },
      "source": [
        "Given the equation 3, we proceed to find the $\\sigma$ which minimizes the risk. \n",
        "\n",
        "To classify class 0, we would need that, $R(\\alpha_0|x) < R(\\alpha_1|x)$, that is $2P(C_1|x) < P(C_0|x)$, which is $-P(C_0|x) < -2P(C_1|x))$, and multiplying by $(-1)$ we get that, \n",
        "\n",
        "$$P(C_0|x) > 2P(C_1|x))$$\n",
        "\n",
        "And to classify as class 1, \n",
        "\n",
        "$$P(C_0|x) < 2P(C_1|x))$$\n",
        "\n",
        "\n",
        "Hence we can say that the risk minimization can be turned to the usual maximization where double weight is given to data with diabetes, meaning we have to make sure that a person with mild syntoms of diabetes is classified with diabetes, we can do that by giving double the weight in the density function for points with diabetes, or in other terms duplicating the points with diabetes.\n",
        "\n",
        "Hence we can write a density function similar as in problem 3 but doubling the points with diabetes,\n",
        "\n",
        "The maximum likelihood is given by, \n",
        "$$\\Phi_T=p_0^np_1^{2m}\\frac{1}{(\\sqrt{2\\pi}\\sigma)^{(n+2m)}}\\prod\\exp{\\frac{-(\\vec{x_{0i}}-\\vec{\\mu_0})^2}{2\\sigma}}\\Big(\\prod\\exp{\\frac{-(\\vec{x_{1i}}-\\vec{\\mu_1})^2}{2\\sigma}}\\Big)^2$$\n",
        "\n",
        "Where, $\\vec{x_{0i}}$ correspond to the points of class 0, $\\vec{\\mu_0}$ correspond to the mean parameter of class 0, $p_0$ the prior of class 0, and $n$ are the number of elements of class 0, $m$ of class 1, and the same for class 1.\n",
        "\n",
        "By estimating the $\\log(\\Phi_T)$, the partial derivatives of the log likelihood and equating them to zero, one finds that,\n",
        "\n",
        "$$\\vec{\\mu_0}=\\frac{\\sum\\vec{x_{0i}}}{n}$$\n",
        "$$\\vec{\\mu_1}=\\frac{\\sum\\vec{x_{1i}}}{m}$$\n",
        "$$\\sigma=\\frac{\\sum(\\vec{x_{0i}}-\\vec{\\mu_0})^2+2\\sum(\\vec{x_{1i}}-\\vec{\\mu_1})^2}{2m+n}$$\n",
        "\n",
        "The $\\sigma$ can be written in terms of $\\sigma_{ij}$, where $\\sigma_{ij}$ is the variance of the feature j in class i, and the priors $p_i$, \n",
        "\n",
        "Hence, \n",
        "\n",
        "$$\\sigma= \\frac{p_0(\\sigma_{00}+\\sigma_{01})+2p_1(\\sigma_{10}+\\sigma_{11})}{p_0+2p_1}$$\n",
        "\n",
        "In conclusion , $\\sigma$ is some sort of weighted average (center of mass) which favors the elements to be classified as with diabetes , class 1\n",
        "\n",
        "\n",
        "\n",
        "\n",
        "\n"
      ]
    },
    {
      "cell_type": "markdown",
      "metadata": {
        "id": "gMHyOSNHN_vm",
        "colab_type": "text"
      },
      "source": [
        "We calculate MLE for all features on dataset\n",
        "\n"
      ]
    },
    {
      "cell_type": "code",
      "metadata": {
        "id": "-pQQAMynsw1p",
        "colab_type": "code",
        "colab": {}
      },
      "source": [
        "estimators = {}\n",
        "for f in features:\n",
        "  df_tmp = pd.concat([data_train[f], target_train], axis=1, join='inner')\n",
        "  classes = df_tmp['Outcome'].unique()\n",
        "  estimators[f] = {}\n",
        "  for c in classes:        \n",
        "    df_tmp[f][df_tmp['Outcome'] == c]\n",
        "    estimators[f][f'mean_{c}'] = df_tmp[f][df_tmp['Outcome'] == c].mean()\n",
        "    estimators[f][f'var_{c}'] = df_tmp[f][df_tmp['Outcome'] == c].var()\n",
        "\n",
        "df_estimators = pd.DataFrame.from_dict(estimators, orient='index')"
      ],
      "execution_count": 0,
      "outputs": []
    },
    {
      "cell_type": "code",
      "metadata": {
        "id": "7bHqJklNtCH8",
        "colab_type": "code",
        "outputId": "28b90cc4-30c1-45df-e0c3-0ca1ff195872",
        "colab": {
          "base_uri": "https://localhost:8080/",
          "height": 297
        }
      },
      "source": [
        "df_estimators"
      ],
      "execution_count": 0,
      "outputs": [
        {
          "output_type": "execute_result",
          "data": {
            "text/html": [
              "<div>\n",
              "<style scoped>\n",
              "    .dataframe tbody tr th:only-of-type {\n",
              "        vertical-align: middle;\n",
              "    }\n",
              "\n",
              "    .dataframe tbody tr th {\n",
              "        vertical-align: top;\n",
              "    }\n",
              "\n",
              "    .dataframe thead th {\n",
              "        text-align: right;\n",
              "    }\n",
              "</style>\n",
              "<table border=\"1\" class=\"dataframe\">\n",
              "  <thead>\n",
              "    <tr style=\"text-align: right;\">\n",
              "      <th></th>\n",
              "      <th>mean_0</th>\n",
              "      <th>var_0</th>\n",
              "      <th>mean_1</th>\n",
              "      <th>var_1</th>\n",
              "    </tr>\n",
              "  </thead>\n",
              "  <tbody>\n",
              "    <tr>\n",
              "      <th>Pregnancies</th>\n",
              "      <td>3.304217</td>\n",
              "      <td>9.009892</td>\n",
              "      <td>4.653846</td>\n",
              "      <td>12.780068</td>\n",
              "    </tr>\n",
              "    <tr>\n",
              "      <th>Glucose</th>\n",
              "      <td>109.734940</td>\n",
              "      <td>636.841918</td>\n",
              "      <td>142.384615</td>\n",
              "      <td>1110.713132</td>\n",
              "    </tr>\n",
              "    <tr>\n",
              "      <th>BloodPressure</th>\n",
              "      <td>68.382530</td>\n",
              "      <td>314.520902</td>\n",
              "      <td>72.906593</td>\n",
              "      <td>330.726034</td>\n",
              "    </tr>\n",
              "    <tr>\n",
              "      <th>SkinThickness</th>\n",
              "      <td>19.822289</td>\n",
              "      <td>213.246269</td>\n",
              "      <td>21.807692</td>\n",
              "      <td>288.531874</td>\n",
              "    </tr>\n",
              "    <tr>\n",
              "      <th>Insulin</th>\n",
              "      <td>67.213855</td>\n",
              "      <td>8960.706394</td>\n",
              "      <td>101.170330</td>\n",
              "      <td>20767.457015</td>\n",
              "    </tr>\n",
              "    <tr>\n",
              "      <th>BMI</th>\n",
              "      <td>30.138554</td>\n",
              "      <td>52.379778</td>\n",
              "      <td>35.310440</td>\n",
              "      <td>52.671548</td>\n",
              "    </tr>\n",
              "    <tr>\n",
              "      <th>DiabetesPedigreeFunction</th>\n",
              "      <td>0.434973</td>\n",
              "      <td>0.096720</td>\n",
              "      <td>0.542621</td>\n",
              "      <td>0.147084</td>\n",
              "    </tr>\n",
              "    <tr>\n",
              "      <th>Age</th>\n",
              "      <td>30.743976</td>\n",
              "      <td>128.710689</td>\n",
              "      <td>37.653846</td>\n",
              "      <td>123.652996</td>\n",
              "    </tr>\n",
              "  </tbody>\n",
              "</table>\n",
              "</div>"
            ],
            "text/plain": [
              "                              mean_0        var_0      mean_1         var_1\n",
              "Pregnancies                 3.304217     9.009892    4.653846     12.780068\n",
              "Glucose                   109.734940   636.841918  142.384615   1110.713132\n",
              "BloodPressure              68.382530   314.520902   72.906593    330.726034\n",
              "SkinThickness              19.822289   213.246269   21.807692    288.531874\n",
              "Insulin                    67.213855  8960.706394  101.170330  20767.457015\n",
              "BMI                        30.138554    52.379778   35.310440     52.671548\n",
              "DiabetesPedigreeFunction    0.434973     0.096720    0.542621      0.147084\n",
              "Age                        30.743976   128.710689   37.653846    123.652996"
            ]
          },
          "metadata": {
            "tags": []
          },
          "execution_count": 76
        }
      ]
    },
    {
      "cell_type": "markdown",
      "metadata": {
        "id": "OopUeEyctQ2A",
        "colab_type": "text"
      },
      "source": [
        "Select **Glucose** and **BMI**"
      ]
    },
    {
      "cell_type": "code",
      "metadata": {
        "id": "Dayel2J6zQEI",
        "colab_type": "code",
        "colab": {}
      },
      "source": [
        "glucose = df_estimators.loc['Glucose', :]\n",
        "bmi = df_estimators.loc['BMI', :]"
      ],
      "execution_count": 0,
      "outputs": []
    },
    {
      "cell_type": "markdown",
      "metadata": {
        "id": "aCQGfoyAOI-H",
        "colab_type": "text"
      },
      "source": [
        "Build a vector of estimated means $\\vec{\\mu_1}$ y  $\\vec{\\mu_2}$\n",
        "\n"
      ]
    },
    {
      "cell_type": "code",
      "metadata": {
        "id": "cxmM9xwnzu_E",
        "colab_type": "code",
        "colab": {}
      },
      "source": [
        "mean_0 = np.array([glucose['mean_0'], bmi['mean_0']])\n",
        "mean_1 = np.array([glucose['mean_1'], bmi['mean_1']])"
      ],
      "execution_count": 0,
      "outputs": []
    },
    {
      "cell_type": "markdown",
      "metadata": {
        "id": "nMBB6tRXOeTi",
        "colab_type": "text"
      },
      "source": [
        "Build a vector of apriori likelihood $\\vec{p}$ and $\\sigma$ estimators"
      ]
    },
    {
      "cell_type": "code",
      "metadata": {
        "id": "0ml_OdkZ0Xg8",
        "colab_type": "code",
        "colab": {}
      },
      "source": [
        "p = np.array([len(target_train[target_train == c])/len(target_train) for c in target_train.unique()])"
      ],
      "execution_count": 0,
      "outputs": []
    },
    {
      "cell_type": "code",
      "metadata": {
        "id": "lHpomSHT4oyV",
        "colab_type": "code",
        "outputId": "2e5a41b8-9f83-40c8-d281-db2d47f4ae65",
        "colab": {
          "base_uri": "https://localhost:8080/",
          "height": 34
        }
      },
      "source": [
        "p"
      ],
      "execution_count": 0,
      "outputs": [
        {
          "output_type": "execute_result",
          "data": {
            "text/plain": [
              "array([0.6459144, 0.3540856])"
            ]
          },
          "metadata": {
            "tags": []
          },
          "execution_count": 80
        }
      ]
    },
    {
      "cell_type": "code",
      "metadata": {
        "id": "JnDnY0Sq03o4",
        "colab_type": "code",
        "colab": {}
      },
      "source": [
        "sigma_0 = np.sum(np.multiply([[glucose['var_0'], 0],[0, bmi['var_0']]], p[0]))\n",
        "sigma_1 = np.sum(np.multiply([[glucose['var_1'], 0],[0, bmi['var_1']]], p[1]))"
      ],
      "execution_count": 0,
      "outputs": []
    },
    {
      "cell_type": "code",
      "metadata": {
        "id": "M9iQHOrS6qXh",
        "colab_type": "code",
        "outputId": "c323df31-b2a9-4be8-dbf4-9235a99187a5",
        "colab": {
          "base_uri": "https://localhost:8080/",
          "height": 34
        }
      },
      "source": [
        "sigma_0"
      ],
      "execution_count": 0,
      "outputs": [
        {
          "output_type": "execute_result",
          "data": {
            "text/plain": [
              "445.1782157593427"
            ]
          },
          "metadata": {
            "tags": []
          },
          "execution_count": 82
        }
      ]
    },
    {
      "cell_type": "code",
      "metadata": {
        "id": "3D5UX2wYOvzH",
        "colab_type": "code",
        "outputId": "778b9bbc-c262-481f-9982-471cd0c86735",
        "colab": {
          "base_uri": "https://localhost:8080/",
          "height": 34
        }
      },
      "source": [
        "sigma_1"
      ],
      "execution_count": 0,
      "outputs": [
        {
          "output_type": "execute_result",
          "data": {
            "text/plain": [
              "411.93776608551707"
            ]
          },
          "metadata": {
            "tags": []
          },
          "execution_count": 83
        }
      ]
    },
    {
      "cell_type": "code",
      "metadata": {
        "id": "HSKgMPfnZRb9",
        "colab_type": "code",
        "colab": {}
      },
      "source": [
        "sigma_4 = (sigma_0 + 2*sigma_1)/(p[0]+2*p[1])"
      ],
      "execution_count": 0,
      "outputs": []
    },
    {
      "cell_type": "code",
      "metadata": {
        "id": "Dcc6rnUBcD5S",
        "colab_type": "code",
        "outputId": "60278b44-f018-4c3a-f3c1-61ca547ceca6",
        "colab": {
          "base_uri": "https://localhost:8080/",
          "height": 34
        }
      },
      "source": [
        "sigma_4\n",
        "  "
      ],
      "execution_count": 0,
      "outputs": [
        {
          "output_type": "execute_result",
          "data": {
            "text/plain": [
              "937.2034862589277"
            ]
          },
          "metadata": {
            "tags": []
          },
          "execution_count": 85
        }
      ]
    },
    {
      "cell_type": "markdown",
      "metadata": {
        "id": "MS41sZtQpom1",
        "colab_type": "text"
      },
      "source": [
        "Hence,\n",
        "\n",
        "$$\\sigma = 937.2034$$"
      ]
    },
    {
      "cell_type": "markdown",
      "metadata": {
        "id": "3k7vpiVPk6Pm",
        "colab_type": "text"
      },
      "source": [
        ""
      ]
    },
    {
      "cell_type": "markdown",
      "metadata": {
        "id": "YtC5n52qPEpP",
        "colab_type": "text"
      },
      "source": [
        "Calculate the values of likelihood in distributions for data validation subset "
      ]
    },
    {
      "cell_type": "code",
      "metadata": {
        "id": "bUBLI8In7CR3",
        "colab_type": "code",
        "colab": {}
      },
      "source": [
        "c_0 = np.array(multivariate_normal.pdf(data_validation[['Glucose','BMI']], mean=mean_0, cov=np.sum(sigma_4),allow_singular=True)*p[0])\n",
        "c_1 = np.array(multivariate_normal.pdf(data_validation[['Glucose','BMI']], mean=mean_1, cov=np.sum(sigma_4),allow_singular=True)*p[1])\n"
      ],
      "execution_count": 0,
      "outputs": []
    },
    {
      "cell_type": "markdown",
      "metadata": {
        "id": "xki7gJMWPoBf",
        "colab_type": "text"
      },
      "source": [
        "Build a dataframe with values of features, calculated likelihood and Outcome"
      ]
    },
    {
      "cell_type": "code",
      "metadata": {
        "id": "tcErnhGdq8kM",
        "colab_type": "code",
        "colab": {}
      },
      "source": [
        "t = pd.concat([data_validation[['Glucose', 'BMI']], target_validation], axis=1, join='inner')\n",
        "t['c_0'] = c_0\n",
        "t['c_1'] = c_1"
      ],
      "execution_count": 0,
      "outputs": []
    },
    {
      "cell_type": "markdown",
      "metadata": {
        "id": "Twad_Y_aP9CS",
        "colab_type": "text"
      },
      "source": [
        "Add column of predicted label, based on functions showed in eq (3). Where the selected label criteria is based on selecting the value with the lowest risk"
      ]
    },
    {
      "cell_type": "code",
      "metadata": {
        "id": "K3ndEJS9sDUx",
        "colab_type": "code",
        "colab": {}
      },
      "source": [
        "predicted = []\n",
        "scores_risk = []\n",
        "for i in range(len(c_0)):\n",
        "  scores = [2 * c_1[i], c_0[i]]\n",
        "  #scores = [c_1[i], c_0[i]]\n",
        "  scores_risk.append(scores)\n",
        "  predicted.append(np.argmin(scores))\n",
        "t['predicted'] = predicted\n",
        "  "
      ],
      "execution_count": 0,
      "outputs": []
    },
    {
      "cell_type": "code",
      "metadata": {
        "id": "h4AWgbvFtXDX",
        "colab_type": "code",
        "outputId": "9957439c-31fe-44f7-b2eb-eee0f6b7bb07",
        "colab": {
          "base_uri": "https://localhost:8080/",
          "height": 204
        }
      },
      "source": [
        "t.head()"
      ],
      "execution_count": 0,
      "outputs": [
        {
          "output_type": "execute_result",
          "data": {
            "text/html": [
              "<div>\n",
              "<style scoped>\n",
              "    .dataframe tbody tr th:only-of-type {\n",
              "        vertical-align: middle;\n",
              "    }\n",
              "\n",
              "    .dataframe tbody tr th {\n",
              "        vertical-align: top;\n",
              "    }\n",
              "\n",
              "    .dataframe thead th {\n",
              "        text-align: right;\n",
              "    }\n",
              "</style>\n",
              "<table border=\"1\" class=\"dataframe\">\n",
              "  <thead>\n",
              "    <tr style=\"text-align: right;\">\n",
              "      <th></th>\n",
              "      <th>Glucose</th>\n",
              "      <th>BMI</th>\n",
              "      <th>Outcome</th>\n",
              "      <th>c_0</th>\n",
              "      <th>c_1</th>\n",
              "      <th>predicted</th>\n",
              "    </tr>\n",
              "  </thead>\n",
              "  <tbody>\n",
              "    <tr>\n",
              "      <th>668</th>\n",
              "      <td>98</td>\n",
              "      <td>34.0</td>\n",
              "      <td>0</td>\n",
              "      <td>0.000101</td>\n",
              "      <td>0.000021</td>\n",
              "      <td>0</td>\n",
              "    </tr>\n",
              "    <tr>\n",
              "      <th>324</th>\n",
              "      <td>112</td>\n",
              "      <td>35.7</td>\n",
              "      <td>0</td>\n",
              "      <td>0.000108</td>\n",
              "      <td>0.000037</td>\n",
              "      <td>0</td>\n",
              "    </tr>\n",
              "    <tr>\n",
              "      <th>624</th>\n",
              "      <td>108</td>\n",
              "      <td>30.8</td>\n",
              "      <td>0</td>\n",
              "      <td>0.000109</td>\n",
              "      <td>0.000032</td>\n",
              "      <td>0</td>\n",
              "    </tr>\n",
              "    <tr>\n",
              "      <th>690</th>\n",
              "      <td>107</td>\n",
              "      <td>24.6</td>\n",
              "      <td>0</td>\n",
              "      <td>0.000107</td>\n",
              "      <td>0.000029</td>\n",
              "      <td>0</td>\n",
              "    </tr>\n",
              "    <tr>\n",
              "      <th>473</th>\n",
              "      <td>136</td>\n",
              "      <td>29.9</td>\n",
              "      <td>0</td>\n",
              "      <td>0.000076</td>\n",
              "      <td>0.000058</td>\n",
              "      <td>1</td>\n",
              "    </tr>\n",
              "  </tbody>\n",
              "</table>\n",
              "</div>"
            ],
            "text/plain": [
              "     Glucose   BMI  Outcome       c_0       c_1  predicted\n",
              "668       98  34.0        0  0.000101  0.000021          0\n",
              "324      112  35.7        0  0.000108  0.000037          0\n",
              "624      108  30.8        0  0.000109  0.000032          0\n",
              "690      107  24.6        0  0.000107  0.000029          0\n",
              "473      136  29.9        0  0.000076  0.000058          1"
            ]
          },
          "metadata": {
            "tags": []
          },
          "execution_count": 89
        }
      ]
    },
    {
      "cell_type": "markdown",
      "metadata": {
        "id": "KL5BmSIuQlsi",
        "colab_type": "text"
      },
      "source": [
        "Calculate the confusion matrix values"
      ]
    },
    {
      "cell_type": "code",
      "metadata": {
        "id": "jDY3-aAN9rN1",
        "colab_type": "code",
        "colab": {}
      },
      "source": [
        "confussion = {\n",
        "    'TP': 0,\n",
        "    'FP': 0,\n",
        "    'TN': 0,\n",
        "    'FN': 0\n",
        "}\n",
        "\n",
        "for (index, row) in t.iterrows():\n",
        "  outcome = row['Outcome']\n",
        "  c = row['predicted']\n",
        "  if outcome == 1:\n",
        "    if c == 1:\n",
        "      confussion['TP'] += 1\n",
        "    else:\n",
        "      confussion['FN'] += 1\n",
        "  elif outcome == 0:\n",
        "    if c == 1:\n",
        "      confussion['FP'] += 1\n",
        "    else:\n",
        "      confussion['TN'] += 1\n",
        "\n",
        "accuracy_risk = (confussion['TP'] + confussion['TN'])/ len(target_validation)\n"
      ],
      "execution_count": 0,
      "outputs": []
    },
    {
      "cell_type": "code",
      "metadata": {
        "id": "55mQ7eKmBJvd",
        "colab_type": "code",
        "outputId": "b166afe0-762b-447b-82c2-859490855b49",
        "colab": {
          "base_uri": "https://localhost:8080/",
          "height": 34
        }
      },
      "source": [
        "confussion"
      ],
      "execution_count": 0,
      "outputs": [
        {
          "output_type": "execute_result",
          "data": {
            "text/plain": [
              "{'FN': 28, 'FP': 48, 'TN': 120, 'TP': 58}"
            ]
          },
          "metadata": {
            "tags": []
          },
          "execution_count": 91
        }
      ]
    },
    {
      "cell_type": "markdown",
      "metadata": {
        "id": "qRZ_-rnSRue0",
        "colab_type": "text"
      },
      "source": [
        "**Confusion Matrix for Test Validation**\n",
        "\n",
        "| | Predicted class| | |\n",
        "|---|:-:|:-:|:-:|\n",
        "|**True Class**   |Positive|Negative   |Total|\n",
        "|Positive|  58 |  28 | 86 |\n",
        "|Negative|  48 | 120  | 168 | \n",
        "|Total| 104  |  150 | 254 |\n",
        "\n",
        "\n",
        "Accuracy on validation set: $70.08\\%$"
      ]
    },
    {
      "cell_type": "code",
      "metadata": {
        "id": "QsOuRMq8arba",
        "colab_type": "code",
        "outputId": "260ae404-2abb-4dc2-815f-ebe139de39da",
        "colab": {
          "base_uri": "https://localhost:8080/",
          "height": 295
        }
      },
      "source": [
        "plot_line(1, 5, 937.203486, 'model risk')"
      ],
      "execution_count": 0,
      "outputs": [
        {
          "output_type": "display_data",
          "data": {
            "image/png": "[encoded data removed]",
            "text/plain": [
              "<Figure size 432x288 with 1 Axes>"
            ]
          },
          "metadata": {
            "tags": [],
            "needs_background": "light"
          }
        }
      ]
    },
    {
      "cell_type": "markdown",
      "metadata": {
        "id": "lJDJpR8vjgRi",
        "colab_type": "text"
      },
      "source": [
        "Conclusion\n",
        "\n",
        "For this problem we obtained,\n",
        "\n",
        "*   $\\sigma=937.20$\n",
        "*   Accuracy on test data 70.08%\n",
        "*   $\\vec{\\mu_1}$, $\\vec{\\mu_2}$ are the actual averages\n",
        "\n",
        "In comparison with problem 3, this model has less accuracy because of the risk actions. In this model there are more false positive(as shown in the boundary plot) in comparison with problem 1 and 2 because there is a cost 2 of not having diabetes. "
      ]
    },
    {
      "cell_type": "markdown",
      "metadata": {
        "id": "0PfRugeEUmVu",
        "colab_type": "text"
      },
      "source": [
        "### Problem 4(b) Version 2\n",
        "\n",
        "Calculate the ROC curve for this model and compare with the ROC curves from question 2. Discuss.\n"
      ]
    },
    {
      "cell_type": "code",
      "metadata": {
        "id": "oTtxhQt0Wbfu",
        "colab_type": "code",
        "colab": {}
      },
      "source": [
        "nt_risk = len(target_validation)\n",
        "score_risk = np.array(scores_risk) "
      ],
      "execution_count": 0,
      "outputs": []
    },
    {
      "cell_type": "code",
      "metadata": {
        "id": "C9qx74nGbWuS",
        "colab_type": "code",
        "colab": {}
      },
      "source": [
        "score_p_risk = score_risk/score_risk.sum(axis=1).reshape((nt_risk,1))"
      ],
      "execution_count": 0,
      "outputs": []
    },
    {
      "cell_type": "code",
      "metadata": {
        "id": "p215Mk5ZdAos",
        "colab_type": "code",
        "outputId": "492fb3ba-dcc1-4566-b066-23d317e87598",
        "colab": {
          "base_uri": "https://localhost:8080/",
          "height": 295
        }
      },
      "source": [
        "roc_estimation(testy, score_p_risk[:,0], title_roc='ROC curve: Model that minimizes the risk')"
      ],
      "execution_count": 0,
      "outputs": [
        {
          "output_type": "display_data",
          "data": {
            "image/png": "[encoded data removed]",
            "text/plain": [
              "<Figure size 432x288 with 1 Axes>"
            ]
          },
          "metadata": {
            "tags": [],
            "needs_background": "light"
          }
        }
      ]
    },
    {
      "cell_type": "markdown",
      "metadata": {
        "colab_type": "text",
        "id": "ZDSG-kDMTDUq"
      },
      "source": [
        "### Problem 2 Version 2\n"
      ]
    },
    {
      "cell_type": "markdown",
      "metadata": {
        "id": "6aEQeV90XkHb",
        "colab_type": "text"
      },
      "source": [
        "#### Model 2: OA Train"
      ]
    },
    {
      "cell_type": "markdown",
      "metadata": {
        "colab_type": "text",
        "id": "es93sEGYTDUt"
      },
      "source": [
        "In this model we look for the best pair of features which modeled by gaussians give the best accuracy. That is we optimize the accuracy.\n",
        "\n",
        "In contrast, in the first model we optimized the maximum log likelihood.\n",
        "\n",
        "In this model we look for the best $\\sigma$, but we assume that the $\\vec{\\mu_i}$ are the actual averages of the distribution. We may look further in this model and change the $\\vec{\\mu}$ but we did not do it."
      ]
    },
    {
      "cell_type": "code",
      "metadata": {
        "colab_type": "code",
        "id": "COLgsArOTDUx",
        "colab": {}
      },
      "source": [
        "# Find the mean and the variance of two features, assuming diagonal covariance. \n",
        "def fit_diag_gaussian(x, feature1, feature2):\n",
        "    features = [feature1, feature2]\n",
        "    mu = np.mean(x[:,features], axis=0)\n",
        "    covar = np.array([[np.var(x[:,feature1]), 0],[0, np.var(x[:,feature2])]])\n",
        "    return mu, covar"
      ],
      "execution_count": 0,
      "outputs": []
    },
    {
      "cell_type": "code",
      "metadata": {
        "colab_type": "code",
        "outputId": "9dc7a891-4bab-4946-eda8-8785a3d2c0f1",
        "id": "RLkNn-bnTDU_",
        "colab": {
          "base_uri": "https://localhost:8080/",
          "height": 102
        }
      },
      "source": [
        "f1 = 2\n",
        "f2 = 3\n",
        "label = 1\n",
        "mu, covar = fit_diag_gaussian(trainx[trainy==label,:], f1 , f2 )\n",
        "print(\"Mean:\\n\" + str(mu))\n",
        "print(\"Covariance matrix:\\n\" + str(covar))"
      ],
      "execution_count": 0,
      "outputs": [
        {
          "output_type": "stream",
          "text": [
            "Mean:\n",
            "[72.90659341 21.80769231]\n",
            "Covariance matrix:\n",
            "[[328.90885763   0.        ]\n",
            " [  0.         286.94653423]]\n"
          ],
          "name": "stdout"
        }
      ]
    },
    {
      "cell_type": "markdown",
      "metadata": {
        "colab_type": "text",
        "id": "VjNIb0FHTDVP"
      },
      "source": [
        "Define a function that will fit a Gaussian with only diagonal entries generative model to the two classes, restricted to a given list of two features. The function returns:\n",
        "* `mu`: the means of the Gaussians, one per row\n",
        "* `covar`: diagonal covariance matrices of each of the Gaussians\n",
        "* `pi`: list of two class weights summing to 1"
      ]
    },
    {
      "cell_type": "code",
      "metadata": {
        "colab_type": "code",
        "id": "nv3RRhKuTDVR",
        "colab": {}
      },
      "source": [
        "# Assumes y takes on values 0,1\n",
        "def fit_generative_model(x, y, feature1, feature2):\n",
        "    features = [feature1, feature2]\n",
        "    k = 2 # number of classes\n",
        "    d = len(features) # number of features\n",
        "    mu = np.zeros((k,d)) # list of means\n",
        "    covar = np.zeros((k,d,d)) # list of covariance matrices\n",
        "    pi = np.zeros(k) # list of class weights\n",
        "    for label in range(k):\n",
        "        indices = (y==label)\n",
        "        mu[label,:], covar[label,:,:] = fit_diag_gaussian(x[indices,:], feature1, feature2)\n",
        "        pi[label] = float(sum(indices))/float(len(y))\n",
        "    return mu, covar, pi"
      ],
      "execution_count": 0,
      "outputs": []
    },
    {
      "cell_type": "markdown",
      "metadata": {
        "colab_type": "text",
        "id": "DBW40a6lTDVe"
      },
      "source": [
        "We define the function train_model_3 which takes two features (f1, f2) and the num_points for the number of points in the training.\n",
        "\n",
        "The function takes the highest and the lowest value of the variances of two clases with the two features, and find the best value of $\\sigma$ between these two values.\n",
        "\n",
        "it returns the mu : the averages of the clases, sigma the optimized value, pi the weights of the classes, the accuracy in the training data set, and table points of the optimization"
      ]
    },
    {
      "cell_type": "code",
      "metadata": {
        "colab_type": "code",
        "id": "QrXp08uzTDVg",
        "colab": {}
      },
      "source": [
        "# Find the best values of variances which give best result for a diagonal \n",
        "# covariance matrix with the same diagonal elements\n",
        "\n",
        "def train_model_3(f1, f2, num_points=100):\n",
        "    if f1 == f2: # need f1 != f2\n",
        "        print(\"Please choose different features for f1 and f2.\")\n",
        "        return  \n",
        "    features= [f1,f2]\n",
        "    mu, covar, pi = fit_generative_model(trainx, trainy, f1, f2)\n",
        "    \n",
        "    # Find the highest number an the lowest number out of the covariance matrix\n",
        "    point_h = np.max(covar)\n",
        "    point_l = np.min(covar[np.nonzero(covar)])\n",
        "\n",
        "    # create a line of points between min and max\n",
        "    points_f1 = np.linspace(point_l, point_h, num = num_points)\n",
        "\n",
        "    errors_0 = len(trainy) + 1\n",
        "    covar_0 = np.zeros((2,2,2))\n",
        "    table_points = np.zeros((num_points, 2))\n",
        "    table_points[:,0] = np.arange(num_points)\n",
        "    j = 0\n",
        "\n",
        "    for p_i in points_f1:\n",
        "      \n",
        "      k = 2 # Labels 1,2,...,k\n",
        "      nt = len(trainy) # Number of train points\n",
        "      score = np.zeros((nt,k))\n",
        "      for i in range(0,nt):\n",
        "          for label in range(k):\n",
        "              score[i,label] = np.log(pi[label]) + \\\n",
        "              multivariate_normal.logpdf(trainx[i,features], mean=mu[label,:], cov=p_i, allow_singular=True)\n",
        "      predictions = np.argmax(score[:,0:2], axis=1)\n",
        "      # Finally, tally up score\n",
        "      errors = np.sum(predictions != trainy)\n",
        "      if errors < errors_0:\n",
        "        errors_0 = errors\n",
        "        covar_0 = p_i\n",
        "\n",
        "      accuracy_pi = 1-(errors/nt)\n",
        "      table_points[j,1] = accuracy_pi\n",
        "      j+=1\n",
        "\n",
        "    accuracy = 1-(errors_0/nt)\n",
        "    return mu, covar_0, pi, accuracy, table_points"
      ],
      "execution_count": 0,
      "outputs": []
    },
    {
      "cell_type": "code",
      "metadata": {
        "colab_type": "code",
        "id": "sxd2ucxaTDV5",
        "colab": {}
      },
      "source": [
        "# A function which creates the table of sigma and accuracy values for each\n",
        "# pair of features for the training data set\n",
        "\n",
        "def train_tables():\n",
        "  \n",
        "  accuracy_table = np.zeros((8,8))\n",
        "  sigma_table = np.zeros((8,8))\n",
        "  for i in range(8):\n",
        "    for j in range(i+1,8):\n",
        "      mu, sigma_ij, pi, accuracy_ij, table_ij = train_model_3(i, j)\n",
        "      sigma_table[i,j] = sigma_ij \n",
        "      accuracy_table[i,j] = accuracy_ij\n",
        "\n",
        "  # sigma table\n",
        "  datatable1 = pd.DataFrame(sigma_table)\n",
        "  # Change the column names \n",
        "  datatable1.columns = featurenames\n",
        "  # Change the row indexes \n",
        "  datatable1.index = featurenames\n",
        "  datatable1.replace(0, np.nan, inplace=True)\n",
        "  datatable1.columns.name = 'SIGMA'\n",
        "\n",
        "\n",
        "  # accuracy table\n",
        "  datatable2 = pd.DataFrame(accuracy_table)\n",
        "  # Change the column names \n",
        "  datatable2.columns = featurenames\n",
        "  # Change the row indexes \n",
        "  datatable2.index = featurenames\n",
        "  datatable2.replace(0, np.nan, inplace=True)\n",
        "  datatable2.columns.name = 'TRAINING ACCURACY'\n",
        "\n",
        "  return datatable1, datatable2, sigma_table"
      ],
      "execution_count": 0,
      "outputs": []
    },
    {
      "cell_type": "code",
      "metadata": {
        "colab_type": "code",
        "id": "WgS1wPbSTDWF",
        "colab": {}
      },
      "source": [
        "sigma_table, accuracy_table, sigma_table_np = train_tables()"
      ],
      "execution_count": 0,
      "outputs": []
    },
    {
      "cell_type": "code",
      "metadata": {
        "colab_type": "code",
        "outputId": "a5054b33-8e6d-4e70-99b3-983d9fce563b",
        "id": "gZNGId_STDWS",
        "colab": {
          "base_uri": "https://localhost:8080/",
          "height": 297
        }
      },
      "source": [
        "sigma_table"
      ],
      "execution_count": 0,
      "outputs": [
        {
          "output_type": "execute_result",
          "data": {
            "text/html": [
              "<div>\n",
              "<style scoped>\n",
              "    .dataframe tbody tr th:only-of-type {\n",
              "        vertical-align: middle;\n",
              "    }\n",
              "\n",
              "    .dataframe tbody tr th {\n",
              "        vertical-align: top;\n",
              "    }\n",
              "\n",
              "    .dataframe thead th {\n",
              "        text-align: right;\n",
              "    }\n",
              "</style>\n",
              "<table border=\"1\" class=\"dataframe\">\n",
              "  <thead>\n",
              "    <tr style=\"text-align: right;\">\n",
              "      <th>SIGMA</th>\n",
              "      <th>Pregnancies</th>\n",
              "      <th>Glucose</th>\n",
              "      <th>BloodPressure</th>\n",
              "      <th>SkinThickness</th>\n",
              "      <th>Insulin</th>\n",
              "      <th>BMI</th>\n",
              "      <th>DiabetesPedigreeFunction</th>\n",
              "      <th>Age</th>\n",
              "    </tr>\n",
              "  </thead>\n",
              "  <tbody>\n",
              "    <tr>\n",
              "      <th>Pregnancies</th>\n",
              "      <td>NaN</td>\n",
              "      <td>927.539192</td>\n",
              "      <td>151.172133</td>\n",
              "      <td>65.137052</td>\n",
              "      <td>3345.446164</td>\n",
              "      <td>44.052968</td>\n",
              "      <td>4.683127</td>\n",
              "      <td>99.392036</td>\n",
              "    </tr>\n",
              "    <tr>\n",
              "      <th>Glucose</th>\n",
              "      <td>NaN</td>\n",
              "      <td>NaN</td>\n",
              "      <td>1040.688150</td>\n",
              "      <td>951.437505</td>\n",
              "      <td>5285.669244</td>\n",
              "      <td>955.787724</td>\n",
              "      <td>926.103018</td>\n",
              "      <td>1094.694790</td>\n",
              "    </tr>\n",
              "    <tr>\n",
              "      <th>BloodPressure</th>\n",
              "      <td>NaN</td>\n",
              "      <td>NaN</td>\n",
              "      <td>NaN</td>\n",
              "      <td>217.303149</td>\n",
              "      <td>3395.357877</td>\n",
              "      <td>113.707974</td>\n",
              "      <td>132.949935</td>\n",
              "      <td>152.095744</td>\n",
              "    </tr>\n",
              "    <tr>\n",
              "      <th>SkinThickness</th>\n",
              "      <td>NaN</td>\n",
              "      <td>NaN</td>\n",
              "      <td>NaN</td>\n",
              "      <td>NaN</td>\n",
              "      <td>3309.686711</td>\n",
              "      <td>113.866833</td>\n",
              "      <td>63.840897</td>\n",
              "      <td>132.911339</td>\n",
              "    </tr>\n",
              "    <tr>\n",
              "      <th>Insulin</th>\n",
              "      <td>NaN</td>\n",
              "      <td>NaN</td>\n",
              "      <td>NaN</td>\n",
              "      <td>NaN</td>\n",
              "      <td>NaN</td>\n",
              "      <td>3797.881662</td>\n",
              "      <td>3337.996014</td>\n",
              "      <td>3233.636694</td>\n",
              "    </tr>\n",
              "    <tr>\n",
              "      <th>BMI</th>\n",
              "      <td>NaN</td>\n",
              "      <td>NaN</td>\n",
              "      <td>NaN</td>\n",
              "      <td>NaN</td>\n",
              "      <td>NaN</td>\n",
              "      <td>NaN</td>\n",
              "      <td>40.234957</td>\n",
              "      <td>53.759401</td>\n",
              "    </tr>\n",
              "    <tr>\n",
              "      <th>DiabetesPedigreeFunction</th>\n",
              "      <td>NaN</td>\n",
              "      <td>NaN</td>\n",
              "      <td>NaN</td>\n",
              "      <td>NaN</td>\n",
              "      <td>NaN</td>\n",
              "      <td>NaN</td>\n",
              "      <td>NaN</td>\n",
              "      <td>90.761685</td>\n",
              "    </tr>\n",
              "    <tr>\n",
              "      <th>Age</th>\n",
              "      <td>NaN</td>\n",
              "      <td>NaN</td>\n",
              "      <td>NaN</td>\n",
              "      <td>NaN</td>\n",
              "      <td>NaN</td>\n",
              "      <td>NaN</td>\n",
              "      <td>NaN</td>\n",
              "      <td>NaN</td>\n",
              "    </tr>\n",
              "  </tbody>\n",
              "</table>\n",
              "</div>"
            ],
            "text/plain": [
              "SIGMA                     Pregnancies  ...          Age\n",
              "Pregnancies                       NaN  ...    99.392036\n",
              "Glucose                           NaN  ...  1094.694790\n",
              "BloodPressure                     NaN  ...   152.095744\n",
              "SkinThickness                     NaN  ...   132.911339\n",
              "Insulin                           NaN  ...  3233.636694\n",
              "BMI                               NaN  ...    53.759401\n",
              "DiabetesPedigreeFunction          NaN  ...    90.761685\n",
              "Age                               NaN  ...          NaN\n",
              "\n",
              "[8 rows x 8 columns]"
            ]
          },
          "metadata": {
            "tags": []
          },
          "execution_count": 102
        }
      ]
    },
    {
      "cell_type": "code",
      "metadata": {
        "colab_type": "code",
        "outputId": "34e6ad55-e84c-4213-e868-880be162fcac",
        "id": "QgWwLwdpTDWk",
        "colab": {
          "base_uri": "https://localhost:8080/",
          "height": 297
        }
      },
      "source": [
        "accuracy_table"
      ],
      "execution_count": 0,
      "outputs": [
        {
          "output_type": "execute_result",
          "data": {
            "text/html": [
              "<div>\n",
              "<style scoped>\n",
              "    .dataframe tbody tr th:only-of-type {\n",
              "        vertical-align: middle;\n",
              "    }\n",
              "\n",
              "    .dataframe tbody tr th {\n",
              "        vertical-align: top;\n",
              "    }\n",
              "\n",
              "    .dataframe thead th {\n",
              "        text-align: right;\n",
              "    }\n",
              "</style>\n",
              "<table border=\"1\" class=\"dataframe\">\n",
              "  <thead>\n",
              "    <tr style=\"text-align: right;\">\n",
              "      <th>TRAINING ACCURACY</th>\n",
              "      <th>Pregnancies</th>\n",
              "      <th>Glucose</th>\n",
              "      <th>BloodPressure</th>\n",
              "      <th>SkinThickness</th>\n",
              "      <th>Insulin</th>\n",
              "      <th>BMI</th>\n",
              "      <th>DiabetesPedigreeFunction</th>\n",
              "      <th>Age</th>\n",
              "    </tr>\n",
              "  </thead>\n",
              "  <tbody>\n",
              "    <tr>\n",
              "      <th>Pregnancies</th>\n",
              "      <td>NaN</td>\n",
              "      <td>0.764591</td>\n",
              "      <td>0.655642</td>\n",
              "      <td>0.655642</td>\n",
              "      <td>0.667315</td>\n",
              "      <td>0.677043</td>\n",
              "      <td>0.671206</td>\n",
              "      <td>0.680934</td>\n",
              "    </tr>\n",
              "    <tr>\n",
              "      <th>Glucose</th>\n",
              "      <td>NaN</td>\n",
              "      <td>NaN</td>\n",
              "      <td>0.764591</td>\n",
              "      <td>0.764591</td>\n",
              "      <td>0.680934</td>\n",
              "      <td>0.764591</td>\n",
              "      <td>0.764591</td>\n",
              "      <td>0.762646</td>\n",
              "    </tr>\n",
              "    <tr>\n",
              "      <th>BloodPressure</th>\n",
              "      <td>NaN</td>\n",
              "      <td>NaN</td>\n",
              "      <td>NaN</td>\n",
              "      <td>0.655642</td>\n",
              "      <td>0.667315</td>\n",
              "      <td>0.673152</td>\n",
              "      <td>0.651751</td>\n",
              "      <td>0.669261</td>\n",
              "    </tr>\n",
              "    <tr>\n",
              "      <th>SkinThickness</th>\n",
              "      <td>NaN</td>\n",
              "      <td>NaN</td>\n",
              "      <td>NaN</td>\n",
              "      <td>NaN</td>\n",
              "      <td>0.665370</td>\n",
              "      <td>0.669261</td>\n",
              "      <td>0.651751</td>\n",
              "      <td>0.673152</td>\n",
              "    </tr>\n",
              "    <tr>\n",
              "      <th>Insulin</th>\n",
              "      <td>NaN</td>\n",
              "      <td>NaN</td>\n",
              "      <td>NaN</td>\n",
              "      <td>NaN</td>\n",
              "      <td>NaN</td>\n",
              "      <td>0.665370</td>\n",
              "      <td>0.667315</td>\n",
              "      <td>0.669261</td>\n",
              "    </tr>\n",
              "    <tr>\n",
              "      <th>BMI</th>\n",
              "      <td>NaN</td>\n",
              "      <td>NaN</td>\n",
              "      <td>NaN</td>\n",
              "      <td>NaN</td>\n",
              "      <td>NaN</td>\n",
              "      <td>NaN</td>\n",
              "      <td>0.667315</td>\n",
              "      <td>0.710117</td>\n",
              "    </tr>\n",
              "    <tr>\n",
              "      <th>DiabetesPedigreeFunction</th>\n",
              "      <td>NaN</td>\n",
              "      <td>NaN</td>\n",
              "      <td>NaN</td>\n",
              "      <td>NaN</td>\n",
              "      <td>NaN</td>\n",
              "      <td>NaN</td>\n",
              "      <td>NaN</td>\n",
              "      <td>0.678988</td>\n",
              "    </tr>\n",
              "    <tr>\n",
              "      <th>Age</th>\n",
              "      <td>NaN</td>\n",
              "      <td>NaN</td>\n",
              "      <td>NaN</td>\n",
              "      <td>NaN</td>\n",
              "      <td>NaN</td>\n",
              "      <td>NaN</td>\n",
              "      <td>NaN</td>\n",
              "      <td>NaN</td>\n",
              "    </tr>\n",
              "  </tbody>\n",
              "</table>\n",
              "</div>"
            ],
            "text/plain": [
              "TRAINING ACCURACY         Pregnancies  ...       Age\n",
              "Pregnancies                       NaN  ...  0.680934\n",
              "Glucose                           NaN  ...  0.762646\n",
              "BloodPressure                     NaN  ...  0.669261\n",
              "SkinThickness                     NaN  ...  0.673152\n",
              "Insulin                           NaN  ...  0.669261\n",
              "BMI                               NaN  ...  0.710117\n",
              "DiabetesPedigreeFunction          NaN  ...  0.678988\n",
              "Age                               NaN  ...       NaN\n",
              "\n",
              "[8 rows x 8 columns]"
            ]
          },
          "metadata": {
            "tags": []
          },
          "execution_count": 103
        }
      ]
    },
    {
      "cell_type": "code",
      "metadata": {
        "colab_type": "code",
        "id": "LOWkB4IITDXG",
        "colab": {}
      },
      "source": [
        "def train_plot():\n",
        "  colors = ['b', 'g', 'r', 'c', 'm', 'y']\n",
        "  labels = ['Pregnancies', 'BloodPressure',\t'SkinThickness', 'BMI', 'DiabetesPedigreeFunction']\n",
        "  j = 0\n",
        "  for i in [0, 2, 3, 5, 6]:\n",
        "  #for i in [0]:\n",
        "    mu, covar_0, pi, accuracy, table_points_i = train_model_3(1, i)\n",
        "    pl.plot(table_points_i[:,0], table_points_i[:,1], c=colors[j],label=labels[j])\n",
        "    j+=1\n",
        "  pl.xlabel('Number of points')\n",
        "  pl.title('Training of the accuracy for pairs (Glucose and parameters)')\n",
        "  pl.legend()"
      ],
      "execution_count": 0,
      "outputs": []
    },
    {
      "cell_type": "code",
      "metadata": {
        "colab_type": "code",
        "outputId": "93fba80b-358e-4da5-f6b2-3479e10c8cba",
        "id": "J-eCZN1wTDXV",
        "colab": {
          "base_uri": "https://localhost:8080/",
          "height": 295
        }
      },
      "source": [
        "train_plot()"
      ],
      "execution_count": 0,
      "outputs": [
        {
          "output_type": "display_data",
          "data": {
            "image/png": "[encoded data removed]",
            "text/plain": [
              "<Figure size 432x288 with 1 Axes>"
            ]
          },
          "metadata": {
            "tags": [],
            "needs_background": "light"
          }
        }
      ]
    },
    {
      "cell_type": "markdown",
      "metadata": {
        "colab_type": "text",
        "id": "ekhhV4qbTDXm"
      },
      "source": [
        "The pairs of features ('Glucose','Pregnancies' ), ('Glucose','BloodPressure' ), ('Glucose','SkinThickness' ), ('Glucose','BMI' ), ('Glucose','DiabetesPedigreeFunction' ) all with Glucose have the same accuracy for the training data set, the training is shown in the following graph.\n",
        "\n",
        "Given that there are five pairs we choose the pair (Glucose, BMI) once again.\n",
        "\n",
        "It is expected that this model performs better than the Maximum Likelihood, since the accuracy was optimized and it is our measure of performance"
      ]
    },
    {
      "cell_type": "markdown",
      "metadata": {
        "colab_type": "text",
        "id": "ra75hUbsS2Q1"
      },
      "source": [
        "In this model we look for the best pair of features which modeled by gaussians give the best accuracy. That is we optimize the accuracy.\n",
        "\n",
        "In contrast, in the first model we optimized the maximum log likelihood.\n",
        "\n",
        "In this model we look for the best $\\sigma$, but we assume that the $\\vec{\\mu_i}$ are the actual averages of the distribution. We may look further in this model and change the $\\vec{\\mu}$ but we did not do it."
      ]
    },
    {
      "cell_type": "code",
      "metadata": {
        "colab_type": "code",
        "id": "7yCKhBQxS2Q5",
        "colab": {}
      },
      "source": [
        "# Find the mean and the variance of two features, assuming diagonal covariance. \n",
        "def fit_diag_gaussian(x, feature1, feature2):\n",
        "    features = [feature1, feature2]\n",
        "    mu = np.mean(x[:,features], axis=0)\n",
        "    covar = np.array([[np.var(x[:,feature1]), 0],[0, np.var(x[:,feature2])]])\n",
        "    return mu, covar"
      ],
      "execution_count": 0,
      "outputs": []
    },
    {
      "cell_type": "code",
      "metadata": {
        "colab_type": "code",
        "outputId": "5b0c9e16-3f68-4809-ed2c-9bb8f417dfa1",
        "id": "pv_imKqsS2RZ",
        "colab": {
          "base_uri": "https://localhost:8080/",
          "height": 102
        }
      },
      "source": [
        "f1 = 2\n",
        "f2 = 3\n",
        "label = 1\n",
        "mu, covar = fit_diag_gaussian(trainx[trainy==label,:], f1 , f2 )\n",
        "print(\"Mean:\\n\" + str(mu))\n",
        "print(\"Covariance matrix:\\n\" + str(covar))"
      ],
      "execution_count": 0,
      "outputs": [
        {
          "output_type": "stream",
          "text": [
            "Mean:\n",
            "[72.90659341 21.80769231]\n",
            "Covariance matrix:\n",
            "[[328.90885763   0.        ]\n",
            " [  0.         286.94653423]]\n"
          ],
          "name": "stdout"
        }
      ]
    },
    {
      "cell_type": "markdown",
      "metadata": {
        "colab_type": "text",
        "id": "hk9Agae-S2Sm"
      },
      "source": [
        "Define a function that will fit a Gaussian with only diagonal entries generative model to the two classes, restricted to a given list of two features. The function returns:\n",
        "* `mu`: the means of the Gaussians, one per row\n",
        "* `covar`: diagonal covariance matrices of each of the Gaussians\n",
        "* `pi`: list of two class weights summing to 1"
      ]
    },
    {
      "cell_type": "code",
      "metadata": {
        "colab_type": "code",
        "id": "SvUuzayvS2TI",
        "colab": {}
      },
      "source": [
        "# Assumes y takes on values 0,1\n",
        "def fit_generative_model(x, y, feature1, feature2):\n",
        "    features = [feature1, feature2]\n",
        "    k = 2 # number of classes\n",
        "    d = len(features) # number of features\n",
        "    mu = np.zeros((k,d)) # list of means\n",
        "    covar = np.zeros((k,d,d)) # list of covariance matrices\n",
        "    pi = np.zeros(k) # list of class weights\n",
        "    for label in range(k):\n",
        "        indices = (y==label)\n",
        "        mu[label,:], covar[label,:,:] = fit_diag_gaussian(x[indices,:], feature1, feature2)\n",
        "        pi[label] = float(sum(indices))/float(len(y))\n",
        "    return mu, covar, pi"
      ],
      "execution_count": 0,
      "outputs": []
    },
    {
      "cell_type": "markdown",
      "metadata": {
        "colab_type": "text",
        "id": "s3_oGckOS2Ub"
      },
      "source": [
        "We define the function train_model_3 which takes two features (f1, f2) and the num_points for the number of points in the training.\n",
        "\n",
        "The function takes the highest and the lowest value of the variances of two clases with the two features, and find the best value of $\\sigma$ between these two values.\n",
        "\n",
        "it returns the mu : the averages of the clases, sigma the optimized value, pi the weights of the classes, the accuracy in the training data set, and table points of the optimization"
      ]
    },
    {
      "cell_type": "code",
      "metadata": {
        "colab_type": "code",
        "id": "qjB92_3vS2VA",
        "colab": {}
      },
      "source": [
        "# Find the best values of variances which give best result for a diagonal \n",
        "# covariance matrix with the same diagonal elements\n",
        "\n",
        "def train_model_3(f1, f2, num_points=100):\n",
        "    if f1 == f2: # need f1 != f2\n",
        "        print(\"Please choose different features for f1 and f2.\")\n",
        "        return  \n",
        "    features= [f1,f2]\n",
        "    mu, covar, pi = fit_generative_model(trainx, trainy, f1, f2)\n",
        "    \n",
        "    # Find the highest number an the lowest number out of the covariance matrix\n",
        "    point_h = np.max(covar)\n",
        "    point_l = np.min(covar[np.nonzero(covar)])\n",
        "\n",
        "    # create a line of points between min and max\n",
        "    points_f1 = np.linspace(point_l, point_h, num = num_points)\n",
        "\n",
        "    errors_0 = len(trainy) + 1\n",
        "    covar_0 = np.zeros((2,2,2))\n",
        "    table_points = np.zeros((num_points, 2))\n",
        "    table_points[:,0] = np.arange(num_points)\n",
        "    j = 0\n",
        "\n",
        "    for p_i in points_f1:\n",
        "      \n",
        "      k = 2 # Labels 1,2,...,k\n",
        "      nt = len(trainy) # Number of train points\n",
        "      score = np.zeros((nt,k))\n",
        "      for i in range(0,nt):\n",
        "          for label in range(k):\n",
        "              score[i,label] = np.log(pi[label]) + \\\n",
        "              multivariate_normal.logpdf(trainx[i,features], mean=mu[label,:], cov=p_i, allow_singular=True)\n",
        "      predictions = np.argmax(score[:,0:2], axis=1)\n",
        "      # Finally, tally up score\n",
        "      errors = np.sum(predictions != trainy)\n",
        "      if errors < errors_0:\n",
        "        errors_0 = errors\n",
        "        covar_0 = p_i\n",
        "\n",
        "      accuracy_pi = 1-(errors/nt)\n",
        "      table_points[j,1] = accuracy_pi\n",
        "      j+=1\n",
        "\n",
        "    accuracy = 1-(errors_0/nt)\n",
        "    return mu, covar_0, pi, accuracy, table_points"
      ],
      "execution_count": 0,
      "outputs": []
    },
    {
      "cell_type": "code",
      "metadata": {
        "colab_type": "code",
        "id": "uMfq6NYLS2V2",
        "colab": {}
      },
      "source": [
        "# A function which creates the table of sigma and accuracy values for each\n",
        "# pair of features for the training data set\n",
        "\n",
        "def train_tables():\n",
        "  \n",
        "  accuracy_table = np.zeros((8,8))\n",
        "  sigma_table = np.zeros((8,8))\n",
        "  for i in range(8):\n",
        "    for j in range(i+1,8):\n",
        "      mu, sigma_ij, pi, accuracy_ij, table_ij = train_model_3(i, j)\n",
        "      sigma_table[i,j] = sigma_ij \n",
        "      accuracy_table[i,j] = accuracy_ij\n",
        "\n",
        "  # sigma table\n",
        "  datatable1 = pd.DataFrame(sigma_table)\n",
        "  # Change the column names \n",
        "  datatable1.columns = featurenames\n",
        "  # Change the row indexes \n",
        "  datatable1.index = featurenames\n",
        "  datatable1.replace(0, np.nan, inplace=True)\n",
        "  datatable1.columns.name = 'SIGMA'\n",
        "\n",
        "\n",
        "  # accuracy table\n",
        "  datatable2 = pd.DataFrame(accuracy_table)\n",
        "  # Change the column names \n",
        "  datatable2.columns = featurenames\n",
        "  # Change the row indexes \n",
        "  datatable2.index = featurenames\n",
        "  datatable2.replace(0, np.nan, inplace=True)\n",
        "  datatable2.columns.name = 'TRAINING ACCURACY'\n",
        "\n",
        "  return datatable1, datatable2, sigma_table"
      ],
      "execution_count": 0,
      "outputs": []
    },
    {
      "cell_type": "code",
      "metadata": {
        "colab_type": "code",
        "id": "qrh-E_qJS2Wd",
        "colab": {}
      },
      "source": [
        "sigma_table, accuracy_table, sigma_table_np = train_tables()"
      ],
      "execution_count": 0,
      "outputs": []
    },
    {
      "cell_type": "code",
      "metadata": {
        "colab_type": "code",
        "outputId": "24d4f12b-d832-42ae-f9e3-5d36fb6c8cfe",
        "id": "T6qBaTvNS2XK",
        "colab": {
          "base_uri": "https://localhost:8080/",
          "height": 297
        }
      },
      "source": [
        "sigma_table"
      ],
      "execution_count": 0,
      "outputs": [
        {
          "output_type": "execute_result",
          "data": {
            "text/html": [
              "<div>\n",
              "<style scoped>\n",
              "    .dataframe tbody tr th:only-of-type {\n",
              "        vertical-align: middle;\n",
              "    }\n",
              "\n",
              "    .dataframe tbody tr th {\n",
              "        vertical-align: top;\n",
              "    }\n",
              "\n",
              "    .dataframe thead th {\n",
              "        text-align: right;\n",
              "    }\n",
              "</style>\n",
              "<table border=\"1\" class=\"dataframe\">\n",
              "  <thead>\n",
              "    <tr style=\"text-align: right;\">\n",
              "      <th>SIGMA</th>\n",
              "      <th>Pregnancies</th>\n",
              "      <th>Glucose</th>\n",
              "      <th>BloodPressure</th>\n",
              "      <th>SkinThickness</th>\n",
              "      <th>Insulin</th>\n",
              "      <th>BMI</th>\n",
              "      <th>DiabetesPedigreeFunction</th>\n",
              "      <th>Age</th>\n",
              "    </tr>\n",
              "  </thead>\n",
              "  <tbody>\n",
              "    <tr>\n",
              "      <th>Pregnancies</th>\n",
              "      <td>NaN</td>\n",
              "      <td>927.539192</td>\n",
              "      <td>151.172133</td>\n",
              "      <td>65.137052</td>\n",
              "      <td>3345.446164</td>\n",
              "      <td>44.052968</td>\n",
              "      <td>4.683127</td>\n",
              "      <td>99.392036</td>\n",
              "    </tr>\n",
              "    <tr>\n",
              "      <th>Glucose</th>\n",
              "      <td>NaN</td>\n",
              "      <td>NaN</td>\n",
              "      <td>1040.688150</td>\n",
              "      <td>951.437505</td>\n",
              "      <td>5285.669244</td>\n",
              "      <td>955.787724</td>\n",
              "      <td>926.103018</td>\n",
              "      <td>1094.694790</td>\n",
              "    </tr>\n",
              "    <tr>\n",
              "      <th>BloodPressure</th>\n",
              "      <td>NaN</td>\n",
              "      <td>NaN</td>\n",
              "      <td>NaN</td>\n",
              "      <td>217.303149</td>\n",
              "      <td>3395.357877</td>\n",
              "      <td>113.707974</td>\n",
              "      <td>132.949935</td>\n",
              "      <td>152.095744</td>\n",
              "    </tr>\n",
              "    <tr>\n",
              "      <th>SkinThickness</th>\n",
              "      <td>NaN</td>\n",
              "      <td>NaN</td>\n",
              "      <td>NaN</td>\n",
              "      <td>NaN</td>\n",
              "      <td>3309.686711</td>\n",
              "      <td>113.866833</td>\n",
              "      <td>63.840897</td>\n",
              "      <td>132.911339</td>\n",
              "    </tr>\n",
              "    <tr>\n",
              "      <th>Insulin</th>\n",
              "      <td>NaN</td>\n",
              "      <td>NaN</td>\n",
              "      <td>NaN</td>\n",
              "      <td>NaN</td>\n",
              "      <td>NaN</td>\n",
              "      <td>3797.881662</td>\n",
              "      <td>3337.996014</td>\n",
              "      <td>3233.636694</td>\n",
              "    </tr>\n",
              "    <tr>\n",
              "      <th>BMI</th>\n",
              "      <td>NaN</td>\n",
              "      <td>NaN</td>\n",
              "      <td>NaN</td>\n",
              "      <td>NaN</td>\n",
              "      <td>NaN</td>\n",
              "      <td>NaN</td>\n",
              "      <td>40.234957</td>\n",
              "      <td>53.759401</td>\n",
              "    </tr>\n",
              "    <tr>\n",
              "      <th>DiabetesPedigreeFunction</th>\n",
              "      <td>NaN</td>\n",
              "      <td>NaN</td>\n",
              "      <td>NaN</td>\n",
              "      <td>NaN</td>\n",
              "      <td>NaN</td>\n",
              "      <td>NaN</td>\n",
              "      <td>NaN</td>\n",
              "      <td>90.761685</td>\n",
              "    </tr>\n",
              "    <tr>\n",
              "      <th>Age</th>\n",
              "      <td>NaN</td>\n",
              "      <td>NaN</td>\n",
              "      <td>NaN</td>\n",
              "      <td>NaN</td>\n",
              "      <td>NaN</td>\n",
              "      <td>NaN</td>\n",
              "      <td>NaN</td>\n",
              "      <td>NaN</td>\n",
              "    </tr>\n",
              "  </tbody>\n",
              "</table>\n",
              "</div>"
            ],
            "text/plain": [
              "SIGMA                     Pregnancies  ...          Age\n",
              "Pregnancies                       NaN  ...    99.392036\n",
              "Glucose                           NaN  ...  1094.694790\n",
              "BloodPressure                     NaN  ...   152.095744\n",
              "SkinThickness                     NaN  ...   132.911339\n",
              "Insulin                           NaN  ...  3233.636694\n",
              "BMI                               NaN  ...    53.759401\n",
              "DiabetesPedigreeFunction          NaN  ...    90.761685\n",
              "Age                               NaN  ...          NaN\n",
              "\n",
              "[8 rows x 8 columns]"
            ]
          },
          "metadata": {
            "tags": []
          },
          "execution_count": 112
        }
      ]
    },
    {
      "cell_type": "code",
      "metadata": {
        "colab_type": "code",
        "outputId": "3a4cf1c0-c050-411e-f31d-6ec3b01d4c1f",
        "id": "Ikn59_LES2Zh",
        "colab": {
          "base_uri": "https://localhost:8080/",
          "height": 297
        }
      },
      "source": [
        "accuracy_table"
      ],
      "execution_count": 0,
      "outputs": [
        {
          "output_type": "execute_result",
          "data": {
            "text/html": [
              "<div>\n",
              "<style scoped>\n",
              "    .dataframe tbody tr th:only-of-type {\n",
              "        vertical-align: middle;\n",
              "    }\n",
              "\n",
              "    .dataframe tbody tr th {\n",
              "        vertical-align: top;\n",
              "    }\n",
              "\n",
              "    .dataframe thead th {\n",
              "        text-align: right;\n",
              "    }\n",
              "</style>\n",
              "<table border=\"1\" class=\"dataframe\">\n",
              "  <thead>\n",
              "    <tr style=\"text-align: right;\">\n",
              "      <th>TRAINING ACCURACY</th>\n",
              "      <th>Pregnancies</th>\n",
              "      <th>Glucose</th>\n",
              "      <th>BloodPressure</th>\n",
              "      <th>SkinThickness</th>\n",
              "      <th>Insulin</th>\n",
              "      <th>BMI</th>\n",
              "      <th>DiabetesPedigreeFunction</th>\n",
              "      <th>Age</th>\n",
              "    </tr>\n",
              "  </thead>\n",
              "  <tbody>\n",
              "    <tr>\n",
              "      <th>Pregnancies</th>\n",
              "      <td>NaN</td>\n",
              "      <td>0.764591</td>\n",
              "      <td>0.655642</td>\n",
              "      <td>0.655642</td>\n",
              "      <td>0.667315</td>\n",
              "      <td>0.677043</td>\n",
              "      <td>0.671206</td>\n",
              "      <td>0.680934</td>\n",
              "    </tr>\n",
              "    <tr>\n",
              "      <th>Glucose</th>\n",
              "      <td>NaN</td>\n",
              "      <td>NaN</td>\n",
              "      <td>0.764591</td>\n",
              "      <td>0.764591</td>\n",
              "      <td>0.680934</td>\n",
              "      <td>0.764591</td>\n",
              "      <td>0.764591</td>\n",
              "      <td>0.762646</td>\n",
              "    </tr>\n",
              "    <tr>\n",
              "      <th>BloodPressure</th>\n",
              "      <td>NaN</td>\n",
              "      <td>NaN</td>\n",
              "      <td>NaN</td>\n",
              "      <td>0.655642</td>\n",
              "      <td>0.667315</td>\n",
              "      <td>0.673152</td>\n",
              "      <td>0.651751</td>\n",
              "      <td>0.669261</td>\n",
              "    </tr>\n",
              "    <tr>\n",
              "      <th>SkinThickness</th>\n",
              "      <td>NaN</td>\n",
              "      <td>NaN</td>\n",
              "      <td>NaN</td>\n",
              "      <td>NaN</td>\n",
              "      <td>0.665370</td>\n",
              "      <td>0.669261</td>\n",
              "      <td>0.651751</td>\n",
              "      <td>0.673152</td>\n",
              "    </tr>\n",
              "    <tr>\n",
              "      <th>Insulin</th>\n",
              "      <td>NaN</td>\n",
              "      <td>NaN</td>\n",
              "      <td>NaN</td>\n",
              "      <td>NaN</td>\n",
              "      <td>NaN</td>\n",
              "      <td>0.665370</td>\n",
              "      <td>0.667315</td>\n",
              "      <td>0.669261</td>\n",
              "    </tr>\n",
              "    <tr>\n",
              "      <th>BMI</th>\n",
              "      <td>NaN</td>\n",
              "      <td>NaN</td>\n",
              "      <td>NaN</td>\n",
              "      <td>NaN</td>\n",
              "      <td>NaN</td>\n",
              "      <td>NaN</td>\n",
              "      <td>0.667315</td>\n",
              "      <td>0.710117</td>\n",
              "    </tr>\n",
              "    <tr>\n",
              "      <th>DiabetesPedigreeFunction</th>\n",
              "      <td>NaN</td>\n",
              "      <td>NaN</td>\n",
              "      <td>NaN</td>\n",
              "      <td>NaN</td>\n",
              "      <td>NaN</td>\n",
              "      <td>NaN</td>\n",
              "      <td>NaN</td>\n",
              "      <td>0.678988</td>\n",
              "    </tr>\n",
              "    <tr>\n",
              "      <th>Age</th>\n",
              "      <td>NaN</td>\n",
              "      <td>NaN</td>\n",
              "      <td>NaN</td>\n",
              "      <td>NaN</td>\n",
              "      <td>NaN</td>\n",
              "      <td>NaN</td>\n",
              "      <td>NaN</td>\n",
              "      <td>NaN</td>\n",
              "    </tr>\n",
              "  </tbody>\n",
              "</table>\n",
              "</div>"
            ],
            "text/plain": [
              "TRAINING ACCURACY         Pregnancies  ...       Age\n",
              "Pregnancies                       NaN  ...  0.680934\n",
              "Glucose                           NaN  ...  0.762646\n",
              "BloodPressure                     NaN  ...  0.669261\n",
              "SkinThickness                     NaN  ...  0.673152\n",
              "Insulin                           NaN  ...  0.669261\n",
              "BMI                               NaN  ...  0.710117\n",
              "DiabetesPedigreeFunction          NaN  ...  0.678988\n",
              "Age                               NaN  ...       NaN\n",
              "\n",
              "[8 rows x 8 columns]"
            ]
          },
          "metadata": {
            "tags": []
          },
          "execution_count": 113
        }
      ]
    },
    {
      "cell_type": "code",
      "metadata": {
        "colab_type": "code",
        "id": "s8EyUUf6S2aY",
        "colab": {}
      },
      "source": [
        "def train_plot():\n",
        "  colors = ['b', 'g', 'r', 'c', 'm', 'y']\n",
        "  labels = ['Pregnancies', 'BloodPressure',\t'SkinThickness', 'BMI', 'DiabetesPedigreeFunction']\n",
        "  j = 0\n",
        "  for i in [0, 2, 3, 5, 6]:\n",
        "  #for i in [0]:\n",
        "    mu, covar_0, pi, accuracy, table_points_i = train_model_3(1, i)\n",
        "    pl.plot(table_points_i[:,0], table_points_i[:,1], c=colors[j],label=labels[j])\n",
        "    j+=1\n",
        "  pl.xlabel('Number of points')\n",
        "  pl.title('Training of the accuracy for pairs (Glucose and parameters)')\n",
        "  pl.legend()"
      ],
      "execution_count": 0,
      "outputs": []
    },
    {
      "cell_type": "code",
      "metadata": {
        "colab_type": "code",
        "outputId": "0631d168-fcf3-4136-9c13-4d5477f0cc5f",
        "id": "_FdMsHwyS2a0",
        "colab": {
          "base_uri": "https://localhost:8080/",
          "height": 295
        }
      },
      "source": [
        "train_plot()"
      ],
      "execution_count": 0,
      "outputs": [
        {
          "output_type": "display_data",
          "data": {
            "image/png": "[encoded data removed]",
            "text/plain": [
              "<Figure size 432x288 with 1 Axes>"
            ]
          },
          "metadata": {
            "tags": [],
            "needs_background": "light"
          }
        }
      ]
    },
    {
      "cell_type": "markdown",
      "metadata": {
        "colab_type": "text",
        "id": "hHQz7Y96S2bn"
      },
      "source": [
        "The pairs of features ('Glucose','Pregnancies' ), ('Glucose','BloodPressure' ), ('Glucose','SkinThickness' ), ('Glucose','BMI' ), ('Glucose','DiabetesPedigreeFunction' ) all with Glucose have the same accuracy for the training data set, the training is shown in the following graph.\n",
        "\n",
        "Given that there are five pairs we choose the pair (Glucose, BMI) once again.\n",
        "\n",
        "It is expected that this model performs better than the Maximum Likelihood, since the accuracy was optimized and it is our measure of performance"
      ]
    },
    {
      "cell_type": "markdown",
      "metadata": {
        "id": "E4b7fm_M1OGi",
        "colab_type": "text"
      },
      "source": [
        "#### Model 2: OA Test"
      ]
    },
    {
      "cell_type": "code",
      "metadata": {
        "id": "E_fZYZj_Wp69",
        "colab_type": "code",
        "colab": {}
      },
      "source": [
        "# Now test the performance of a predictor based on a subset of features\n",
        "def test_model_2(f1, f2):\n",
        "    if f1 == f2: # need f1 != f2\n",
        "        print(\"Please choose different features for f1 and f2.\")\n",
        "        return  \n",
        "    features= [f1,f2]\n",
        "    mu, covar_0, pi, accuracy, table_points  = train_model_3(f1, f2)\n",
        "\n",
        "    errors_0 = len(testy) + 1\n",
        "    k = 2 # Labels 1,2,...,k\n",
        "    nt = len(testy) # Number of train points\n",
        "    score = np.zeros((nt,k))\n",
        "    for i in range(0,nt):\n",
        "        for label in range(k):\n",
        "            score[i,label] = np.log(pi[label]) + \\\n",
        "            multivariate_normal.logpdf(testx[i,features], mean=mu[label,:], cov=covar_0, allow_singular=True)\n",
        "    predictions = np.argmax(score[:,0:2], axis=1)\n",
        "    # Finally, tally up score\n",
        "    errors = np.sum(predictions != testy)\n",
        "    if errors < errors_0:\n",
        "      errors_0 = errors\n",
        "\n",
        "    accuracy = 1-(errors_0/nt)\n",
        "    return covar_0, accuracy"
      ],
      "execution_count": 0,
      "outputs": []
    },
    {
      "cell_type": "code",
      "metadata": {
        "id": "L-gBkUok9cIw",
        "colab_type": "code",
        "outputId": "ce78d285-1d02-4510-8ef1-91e90699bd6d",
        "colab": {
          "base_uri": "https://localhost:8080/",
          "height": 34
        }
      },
      "source": [
        "test_model_2(1, 5)"
      ],
      "execution_count": 0,
      "outputs": [
        {
          "output_type": "execute_result",
          "data": {
            "text/plain": [
              "(955.7877241477701, 0.7244094488188977)"
            ]
          },
          "metadata": {
            "tags": []
          },
          "execution_count": 117
        }
      ]
    },
    {
      "cell_type": "markdown",
      "metadata": {
        "id": "1KPwwIAC97H5",
        "colab_type": "text"
      },
      "source": [
        "Hence the Model 2: Optimizing the accuracy has the best pair of features (Glucouse, BMI) (between other 5 pairs)\n",
        "\n",
        "$$\\sigma_{\\text{OA}}=955.7877$$\n",
        "\n",
        "with accuracy over the test data of 72.44%\n"
      ]
    },
    {
      "cell_type": "markdown",
      "metadata": {
        "id": "T9O2hu_xlJgf",
        "colab_type": "text"
      },
      "source": [
        "Conclusion \n",
        "\n",
        "We have set two models: Model 1, optimizing maximum likelihood (MLE), model 2, optimizing accuracy (OA).\n",
        "\n",
        "For the maximum likelihood model the results are:\n",
        "\n",
        "*   best pair of features: (Glucouse, BMI)\n",
        "*   $\\sigma_{\\text{MLE}}=853.511689$\n",
        "*   Accuracy on (train, test) = (75.87%,72.83%) \n",
        "*   $\\mu = \\begin{bmatrix} \\mu_{\\text{glucose_0}} & \\mu_{\\text{bmi_0}} \\\\ \\mu_{\\text{glucose_1}} & \\mu_{\\text{bmi_1}} \\end{bmatrix} = \\begin{bmatrix} 109.73493976 &  30.13855422 \\\\ 142.38461538 &  35.31043956 \\end{bmatrix} $\n",
        "*   $\\vec{p}= (0.6459144, 0.3540856)$\n",
        "\n",
        "For the model 2 accuracy optimization the results are:\n",
        "\n",
        "*   best pair of features: (Glucouse, BMI)\n",
        "*   $\\sigma_{\\text{OA}}=955.7877$\n",
        "*   Accuracy on (train, test) = (76.45%,72.44%) \n",
        "\n",
        "Same $\\mu$ and $\\vec{p}$ as model 1.\n",
        "\n",
        "It is expected that the model 2 performs better on training data, because it optimizes accuracy, but on test data the MLE model outperforms. Hence we conclude that the best model is the model 1, of maximum likelihood estimation. And our final result for sigma is, \n",
        "\n",
        "$$\\sigma=853.511689$$"
      ]
    }
  ]
}