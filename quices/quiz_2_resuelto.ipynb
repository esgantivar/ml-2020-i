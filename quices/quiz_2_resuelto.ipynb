{
  "nbformat": 4,
  "nbformat_minor": 0,
  "metadata": {
    "kernelspec": {
      "display_name": "Python 3",
      "language": "python",
      "name": "python3"
    },
    "language_info": {
      "codemirror_mode": {
        "name": "ipython",
        "version": 3
      },
      "file_extension": ".py",
      "mimetype": "text/x-python",
      "name": "python",
      "nbconvert_exporter": "python",
      "pygments_lexer": "ipython3",
      "version": "3.8.2"
    },
    "colab": {
      "name": "Quiz_2_(Students) Resuelto.ipynb",
      "provenance": [],
      "collapsed_sections": []
    }
  },
  "cells": [
    {
      "cell_type": "markdown",
      "metadata": {
        "id": "EWi_AlpxjzbQ",
        "colab_type": "text"
      },
      "source": [
        "# Quiz 2\n",
        "# Machine Learning 2020-1"
      ]
    },
    {
      "cell_type": "markdown",
      "metadata": {
        "id": "zP1q4anpjzbS",
        "colab_type": "text"
      },
      "source": [
        "A logistic regression model is a statistical classification method that uses a generalized linear regression model to estimate $P(C=1 | \\mathbf{x})$, the probability of the sample $\\mathbf{x}\\in\\mathbb{R}^2$ belonging to class $C_1$. \n",
        "\n",
        "\\begin{equation}\n",
        "y=P(C=1|\\mathbf{x},\\mathbf{w})=\\sigma(w_0+w_1x_0 + w_2x_1)\n",
        "\\end{equation}\n",
        "where \n",
        "\\begin{equation}\n",
        "\\sigma(x)=\\frac{1}{1+e^{-x}}\n",
        "\\end{equation}\n",
        "\n",
        "The following function implements a logistic regression classifier:"
      ]
    },
    {
      "cell_type": "code",
      "metadata": {
        "id": "pi7h6xW6jzbU",
        "colab_type": "code",
        "outputId": "ef6d1e26-6638-4261-fb08-c32a6b2c7c35",
        "colab": {
          "base_uri": "https://localhost:8080/",
          "height": 34
        }
      },
      "source": [
        "import numpy as np\n",
        "\n",
        "def log_reg(w, x):\n",
        "    ''' \n",
        "     w: weight vector with shape (3,)\n",
        "     x: input sample with shape (2,)\n",
        "     returns: P(C=1|x,w)\n",
        "    '''\n",
        "    return  1 / (1 +  np.exp(-(x @ w[1:] + w[0])))\n",
        "\n",
        "x = np.array([2,3])\n",
        "w = np.array([-0.1,-3,2])\n",
        "\n",
        "print(log_reg(w,x))"
      ],
      "execution_count": 0,
      "outputs": [
        {
          "output_type": "stream",
          "text": [
            "0.47502081252106\n"
          ],
          "name": "stdout"
        }
      ]
    },
    {
      "cell_type": "markdown",
      "metadata": {
        "id": "Xy7wK442jzbd",
        "colab_type": "text"
      },
      "source": [
        "### 1. Implement function *f_1*:\n",
        "Assume a cost matrix $L$ where $L_{i,j}$ is the cost of predicting class $C_j$ when the real class is $C_i$. Write a function that calculates the risk of classifying a sample $\\mathbf{x}$ in class $y \\in \\{0,1\\}$.\n",
        "\n",
        "**Weight of point is 2.**"
      ]
    },
    {
      "cell_type": "code",
      "metadata": {
        "id": "woarmt1Zjzbe",
        "colab_type": "code",
        "colab": {}
      },
      "source": [
        "def f_1(w, L, x, y):\n",
        "    ''' \n",
        "     w: weight vector with shape (3,)\n",
        "     L: loss matrix with shape (2,2)\n",
        "     x: input sample with shape (2,)\n",
        "     y: class value {0, 1}\n",
        "     returns: R(y|x,w)\n",
        "    '''\n",
        "    p_1 = log_reg(w,x)\n",
        "    p_0 = 1 - p_1\n",
        "    return L[:,y]@np.array([p_0, p_1])\n",
        "    "
      ],
      "execution_count": 0,
      "outputs": []
    },
    {
      "cell_type": "code",
      "metadata": {
        "id": "fv2uzNi5HpCB",
        "colab_type": "code",
        "colab": {}
      },
      "source": [
        "# TEST YOUR CODE\n",
        "# print(f_1(w, L, x, 0))"
      ],
      "execution_count": 0,
      "outputs": []
    },
    {
      "cell_type": "markdown",
      "metadata": {
        "id": "78RQTU3Kjzbk",
        "colab_type": "text"
      },
      "source": [
        "### 2. Implement function f_2:\n",
        "Write a function that implements a classifier that makes the prediction that minimizes the risk.\n",
        "\n",
        "**Weight of point is 1.5**.\n"
      ]
    },
    {
      "cell_type": "code",
      "metadata": {
        "id": "O2UafPGZjzbl",
        "colab_type": "code",
        "colab": {}
      },
      "source": [
        "def f_2(w, L, x):\n",
        "    ''' \n",
        "     w: weight vector with shape (3,)\n",
        "     L: loss vector with shape (2, 2)\n",
        "     x: input sample with shape (2,)\n",
        "     returns: predicted class {0, 1} \n",
        "    '''\n",
        "    scores = []\n",
        "    for i in [0, 1]:\n",
        "      scores.append(f_1(w, L, x, i))\n",
        "    return np.argmin(scores)"
      ],
      "execution_count": 0,
      "outputs": []
    },
    {
      "cell_type": "code",
      "metadata": {
        "id": "xAG-zXy1Hhaa",
        "colab_type": "code",
        "outputId": "31d730ee-5788-4eb2-d3b5-2237af45e905",
        "colab": {
          "base_uri": "https://localhost:8080/",
          "height": 34
        }
      },
      "source": [
        "# TEST YOUR CODE\n",
        "x = np.array([2,3])\n",
        "w = np.array([0.1,-3,2])\n",
        "L = np.array([[10,7.5],[7, 0]])\n",
        "\n",
        "print(f_2(w, L, x))"
      ],
      "execution_count": 0,
      "outputs": [
        {
          "output_type": "stream",
          "text": [
            "1\n"
          ],
          "name": "stdout"
        }
      ]
    },
    {
      "cell_type": "markdown",
      "metadata": {
        "id": "SGLOK4fgjzbr",
        "colab_type": "text"
      },
      "source": [
        "### 3. Implement function f_3:\n",
        "Write a function that implements a classifier that makes the prediction that minimizes the risk, but that can also reject the sample. The cost of rejection is $\\lambda$.\n",
        "\n",
        "**Weight of point is 1.5.**"
      ]
    },
    {
      "cell_type": "code",
      "metadata": {
        "id": "S-0Vvhswjzbs",
        "colab_type": "code",
        "colab": {}
      },
      "source": [
        "def f_3(w, L, lamb, x):\n",
        "    ''' \n",
        "     w: weight vector with shape (3,)\n",
        "     L: loss vector with shape (3,)\n",
        "     x: input sample with shape (2,1)\n",
        "     lamb: a float, the cost of rejection\n",
        "     returns: predicted class {0, 1, 2}. Rejection is 2.\n",
        "    '''\n",
        "    r_0 = f_1(w, L, x, 0)\n",
        "    r_1 = f_1(w, L, x, 1)\n",
        "    print(r_0, r_1)\n",
        "    if r_0 < r_1 and r_0 < lamb:\n",
        "      return 0\n",
        "    elif r_1 < r_0 and r_1 < lamb:\n",
        "      return 1\n",
        "    else:\n",
        "      return 2"
      ],
      "execution_count": 0,
      "outputs": []
    },
    {
      "cell_type": "code",
      "metadata": {
        "id": "1PfP1oF0HYej",
        "colab_type": "code",
        "outputId": "4a3b95f9-e808-4451-9e4b-2862c33b9296",
        "colab": {
          "base_uri": "https://localhost:8080/",
          "height": 51
        }
      },
      "source": [
        "# Test your code\n",
        "x = np.array([2,3])\n",
        "w = np.array([0.1,-3,2])\n",
        "L = np.array([[0,7.5],[7, 0]])\n",
        "lamb = 8\n",
        "print(f_3(w, L, lamb, x))"
      ],
      "execution_count": 0,
      "outputs": [
        {
          "output_type": "stream",
          "text": [
            "3.67485431235258 3.56265609390795\n",
            "1\n"
          ],
          "name": "stdout"
        }
      ]
    }
  ]
}